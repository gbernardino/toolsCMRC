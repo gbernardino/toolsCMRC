{
 "cells": [
  {
   "cell_type": "markdown",
   "metadata": {
    "Collapsed": "false"
   },
   "source": [
    "# Database parsing"
   ]
  },
  {
   "cell_type": "code",
   "execution_count": 9,
   "metadata": {
    "Collapsed": "false"
   },
   "outputs": [],
   "source": [
    "import pandas\n",
    "import parsingDatabaseUtils, re\n",
    "import xml, itertools, xml.etree.ElementTree as ET\n",
    "import tqdm"
   ]
  },
  {
   "cell_type": "code",
   "execution_count": 2,
   "metadata": {
    "Collapsed": "false"
   },
   "outputs": [
    {
     "name": "stderr",
     "output_type": "stream",
     "text": [
      "/Users/gbernardino/opt/miniconda3/lib/python3.7/site-packages/IPython/core/interactiveshell.py:3051: DtypeWarning: Columns (6,27,55) have mixed types. Specify dtype option on import or set low_memory=False.\n",
      "  interactivity=interactivity, compiler=compiler, result=result)\n",
      "/Users/gbernardino/opt/miniconda3/lib/python3.7/site-packages/IPython/core/interactiveshell.py:3051: DtypeWarning: Columns (19) have mixed types. Specify dtype option on import or set low_memory=False.\n",
      "  interactivity=interactivity, compiler=compiler, result=result)\n"
     ]
    }
   ],
   "source": [
    "casos = pandas.read_csv('Venezolanas/casos.csv', index_col = 0)\n",
    "pacientes = pandas.read_csv('Venezolanas/pacientes.csv', index_col = 0)\n",
    "registros = pandas.read_csv('Venezolanas/registros.csv', index_col = 0)\n",
    "diagnosis = pandas.read_csv('Venezolanas/diagnosis.csv', index_col = 0)\n",
    "procedimientos = pandas.read_csv('Venezolanas/procedimientos.csv', index_col = 0)\n",
    "procedimientosDesc = pandas.read_csv('Venezolanas/procedimientosID.csv', index_col = 0)"
   ]
  },
  {
   "cell_type": "code",
   "execution_count": 3,
   "metadata": {
    "Collapsed": "false"
   },
   "outputs": [],
   "source": [
    "classificationProcedures = {'H0165': 'o', 'H0193': 'o', 'H2120': 'o', 'H2379': 'o', 'H2383': 'o', 'H2386': 'o', 'H2407': 'o', 'H2415': 'o', 'H2595': 'o', 'H2684': 'o', 'H2849': 'o', 'H2852': 'o', 'H2880': 'o', 'H2882': 'o', 'H2884': 'o', 'H2892': 'o', 'H2901': 'o', 'H2904': 'o', 'H2910': 'o', 'H2916': 'o', 'H2959': 'o', 'H2963': 'o', 'H2974': 'a', 'H2975': 'a', 'H3038': 'o', 'H3065': 'o', 'H3066': 'o', 'H3078': 'o', 'H3089': 'p', 'H3092': 'p', 'H3094': 'p', 'H3099': 'a', 'H3100': 'a', 'H3108': 'o', 'H3109': 'o', 'H3111': 'o', 'H3114': 'o', 'H3118': 'o', 'H4421': 'o', 'H4494': 'o', 'H4496': 'o', 'HE020': 'o'}"
   ]
  },
  {
   "cell_type": "markdown",
   "metadata": {
    "Collapsed": "false"
   },
   "source": [
    "## Select a case\n",
    "Identify all  cases with an associated procedure"
   ]
  },
  {
   "cell_type": "code",
   "execution_count": 4,
   "metadata": {
    "Collapsed": "false"
   },
   "outputs": [],
   "source": [
    "# Identify all  cases with an associated procedure"
   ]
  },
  {
   "cell_type": "code",
   "execution_count": 13,
   "metadata": {
    "Collapsed": "false"
   },
   "outputs": [
    {
     "data": {
      "application/vnd.jupyter.widget-view+json": {
       "model_id": "33b12fba3899439394aa106c255274c7",
       "version_major": 2,
       "version_minor": 0
      },
      "text/plain": [
       "HBox(children=(IntProgress(value=1, bar_style='info', max=1), HTML(value='')))"
      ]
     },
     "metadata": {},
     "output_type": "display_data"
    },
    {
     "name": "stdout",
     "output_type": "stream",
     "text": [
      "Error: two procedures in same case AD342920 H3094\n",
      "Error: two procedures in same case AD346540 H3089\n",
      "Error: two procedures in same case AD350190 H3094\n",
      "Error: two procedures in same case AD351571 H3094\n",
      "Error: two procedures in same case AD350755 H3094\n",
      "Error: two procedures in same case AD353436 H3094\n",
      "Error: two procedures in same case AD353902 H3089\n",
      "Error: two procedures in same case AD354284 H3089\n",
      "Error: two procedures in same case AD356781 H3089\n",
      "Error: two procedures in same case AD359075 H3094\n",
      "Error: two procedures in same case NN H3089\n",
      "Error: two procedures in same case NN H3089\n",
      "Error: two procedures in same case AD365893 H3094\n",
      "Error: two procedures in same case AD366060 H3089\n",
      "Error: two procedures in same case AD363741 H3089\n",
      "Error: two procedures in same case AD363741 H3089\n",
      "\n"
     ]
    }
   ],
   "source": [
    "interventionToCase = {}\n",
    "caseToProcedureBirths = {}\n",
    "for i,r  in tqdm.tqdm_notebook(registros.iterrows()):\n",
    "    if isinstance(r.RegistroXML, str) and '<row NombreCampo=\"IdDescripcion\"' in r.RegistroXML:\n",
    "        et = ET.fromstring(r.RegistroXML)\n",
    "        idDescripcionProcedimiento = int(et.find('.//row[@NombreCampo=\"IdDescripcion\"]').get('ValorCampo'))\n",
    "        interventionToCase[idDescripcionProcedimiento] = (r.Caso, r.NumeroHistoria, i)\n",
    "        procedureType = re.findall('<idProcedimiento>([a-zA-Z0-9]*)</idProcedimiento>', procedimientos.loc[idDescripcionProcedimiento].XmlDescripcion)[0]\n",
    "        if classificationProcedures[procedureType] == 'p':\n",
    "            if r.Caso in caseToProcedureBirths:\n",
    "                print('Error: two procedures in same case', r.Caso, procedureType)\n",
    "            caseToProcedureBirths[r.Caso] = procedimientos.loc[idDescripcionProcedimiento]"
   ]
  },
  {
   "cell_type": "code",
   "execution_count": null,
   "metadata": {
    "Collapsed": "false"
   },
   "outputs": [],
   "source": [
    "class BirthDataset:\n",
    "    \"\"\"\n",
    "    Data structure with the information regarding a case, including:\n",
    "    \n",
    "    - Procedure\n",
    "    - Epicrisis\n",
    "    - Registro de urgencias\n",
    "    - newborn registration / updates\n",
    "    - newborn discharge\n",
    "    \"\"\"\n",
    "    def __init__(self, caso, procedure, registros, procedimientos):\n",
    "        self.casoID = caso\n",
    "        self.procedure = procedure\n",
    "        #Split between mother and newborn\n",
    "        registersMother = []\n",
    "        registersNewborn = []\n",
    "        registersUnassigned = []\n",
    "        #Find epicrisis\n",
    "        for rId, reg in registros.iterrows():\n",
    "            \n",
    "        self.epicrisis\n",
    "        \n",
    "        #Find discharge of baby\n",
    "        self.newbornDischarge\n",
    "        self.\n",
    "        "
   ]
  },
  {
   "cell_type": "code",
   "execution_count": null,
   "metadata": {
    "Collapsed": "false"
   },
   "outputs": [],
   "source": [
    "# Split in newborn\n",
    "registrosByCaso = registros.groupby('Caso')\n",
    "for c, p in caseToProcedureBirths:"
   ]
  }
 ],
 "metadata": {
  "kernelspec": {
   "display_name": "Python 3",
   "language": "python",
   "name": "python3"
  },
  "language_info": {
   "codemirror_mode": {
    "name": "ipython",
    "version": 3
   },
   "file_extension": ".py",
   "mimetype": "text/x-python",
   "name": "python",
   "nbconvert_exporter": "python",
   "pygments_lexer": "ipython3",
   "version": "3.7.4"
  }
 },
 "nbformat": 4,
 "nbformat_minor": 4
}
