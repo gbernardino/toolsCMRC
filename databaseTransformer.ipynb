{
 "cells": [
  {
   "cell_type": "markdown",
   "metadata": {
    "Collapsed": "false"
   },
   "source": [
    "# Database parsing"
   ]
  },
  {
   "cell_type": "code",
   "execution_count": null,
   "metadata": {
    "Collapsed": "false"
   },
   "outputs": [],
   "source": [
    "import pandas, numpy as np\n",
    "import parsingDatabaseUtils, re, os\n",
    "import xml, itertools, collections, xml.etree.ElementTree as ET\n",
    "import tqdm, importlib, dateparser, dateparser.search\n",
    "import parseMeasurementsByDay"
   ]
  },
  {
   "cell_type": "code",
   "execution_count": null,
   "metadata": {
    "Collapsed": "false"
   },
   "outputs": [],
   "source": [
    "pathDataIds = 'Venezolanas'\n",
    "procedimientosDesc = pandas.read_csv(os.path.join(pathDataIds, 'procedimientosID.csv'), index_col = 0)\n",
    "registrosByCaso = registros.groupby('Caso')\n",
    "\n",
    "diagnosticos = pandas.read_csv(os.path.join(pathDataIds, 'diagnosis.csv'), index_col = 0)\n",
    "#medicamentos = pandas.read_csv(os.path.join(pathDataIds, 'medicamentos.csv'), index_col = 0)"
   ]
  },
  {
   "cell_type": "code",
   "execution_count": null,
   "metadata": {
    "Collapsed": "false"
   },
   "outputs": [],
   "source": [
    "pathFolder = 'Venezolanas'\n",
    "casos = pandas.read_csv(pathFolder + '/casos.csv', index_col = 0)\n",
    "pacientes = pandas.read_csv(pathFolder + '/pacientes.csv', index_col = 0)\n",
    "pacientes.index = pacientes.index.map(str)\n",
    "\n",
    "registros = pandas.read_csv(pathFolder + '/registros.csv', index_col = 0)\n",
    "registros.index = registros.index.map(str)\n",
    "\n",
    "#diagnosis = pandas.read_csv('Venezolanas2/diagnosis.csv', index_col = 0)\n",
    "procedimientos = pandas.read_csv(pathFolder + '/procedimientos.csv', index_col = 0)\n",
    "procedimientos.index = procedimientos.index.map(str)\n",
    "\n",
    "entriesInfirmery = pandas.read_csv(pathFolder + '/enfermeriaMedidas.csv', index_col = 0)\n",
    "entriesInfirmeryByCase = entriesInfirmery.groupby('IdAdmision')"
   ]
  },
  {
   "cell_type": "code",
   "execution_count": null,
   "metadata": {
    "Collapsed": "false"
   },
   "outputs": [],
   "source": [
    "classificationProcedures = {'H2968': 'o', 'H2123' : 'o', 'H0165': 'o', 'H0193': 'o', 'H2120': 'o', 'H2379': 'o', 'H2383': 'o', 'H2386': 'o', 'H2407': 'o', 'H2415': 'o', 'H2595': 'o', 'H2684': 'o', 'H2849': 'o', 'H2852': 'o', 'H2880': 'o', 'H2882': 'o', 'H2884': 'o', 'H2892': 'o', 'H2901': 'o', 'H2904': 'o', 'H2910': 'o', 'H2916': 'o', 'H2959': 'o', 'H2963': 'o', 'H2974': 'a', 'H2975': 'a', 'H3038': 'o', 'H3065': 'o', 'H3066': 'o', 'H3078': 'o', 'H3089': 'p', 'H3092': 'p', 'H3094': 'p', 'H3099': 'a', 'H3100': 'a', 'H3108': 'o', 'H3109': 'o', 'H3111': 'o', 'H3114': 'o', 'H3118': 'o', 'H4421': 'o', 'H4494': 'o', 'H4496': 'o', 'HE020': 'o'}\n",
    "classificationProcedures['H2962'] = 'o'\n",
    "classificationProcedures.update({'H2938': 'o', 'H2952': 'o', 'H3030': 'o', 'H2392': 'o', 'H3046': 'o', 'H2982': 'o', 'H2834': 'o', 'H2966': 'o', 'H2937': 'o', 'H2885': 'o', 'H2948': 'o', 'H2408': 'o', 'H2911': 'o', 'H4372': 'o', 'H3008': 'o', 'H2981': 'o', 'H2847': 'o', 'H2840': 'o', 'H2965': 'o', 'H0004': 'o', 'H2410': 'o', 'H2271': 'o', 'H2977': 'o', 'H3052': 'o', 'H2955': 'o', 'H2927': 'o', 'H3031': 'o', 'H2835': 'o', 'H3082': 'o', 'H2946': 'o', 'H3002': 'o', 'H2932': 'o', 'H2913': 'o', 'H3085': 'o', 'H2274': 'o', 'H2918': 'o', 'H3077': 'o', 'H1099': 'o', 'H2953': 'o', 'H4447': 'o', 'H3029': 'o', 'H2964': 'o', 'H3014': 'o', 'H3075': 'o', 'H2705': 'o', 'H3059': 'o', 'H2888': 'o', 'H6783': 'o', 'H2853': 'o', 'H2382': 'o', 'H3116': 'o', 'H2883': 'o', 'H4495': 'o', 'H3070': 'o', 'H2957': 'o', 'H2970': 'o', 'H2221': 'o', 'H3067': 'o', 'H3032': 'o', 'H2121': 'o', 'H3001': 'o', 'H3113': 'o', 'H2874': 'o', 'H2954': 'o', 'H4417': 'o', 'H2926': 'o', 'H2582': 'o', 'H2917': 'o'})"
   ]
  },
  {
   "cell_type": "markdown",
   "metadata": {
    "Collapsed": "false"
   },
   "source": [
    "## Select a case\n",
    "Identify all  cases with an associated procedure"
   ]
  },
  {
   "cell_type": "code",
   "execution_count": null,
   "metadata": {
    "Collapsed": "false"
   },
   "outputs": [],
   "source": [
    "# Identify all  cases with an associated procedure"
   ]
  },
  {
   "cell_type": "code",
   "execution_count": null,
   "metadata": {
    "Collapsed": "false"
   },
   "outputs": [],
   "source": [
    "interventionToCase = {}\n",
    "caseToProcedureBirths = {}\n",
    "checkSeveralProcedures = []\n",
    "unknownProc = []\n",
    "procsNotFound = []\n",
    "for i,r  in tqdm.tqdm_notebook(registros.iterrows()):\n",
    "    if isinstance(r.RegistroXML, str) and '<row NombreCampo=\"IdDescripcion\"' in r.RegistroXML:\n",
    "        et = ET.fromstring(r.RegistroXML)\n",
    "        idDescripcionProcedimiento = et.find('.//row[@NombreCampo=\"IdDescripcion\"]').get('ValorCampo')\n",
    "        if idDescripcionProcedimiento not in procedimientos.index:\n",
    "            print('Procedimiento asociado con caso %s no se encuentra (# %s)' % (r.Caso, idDescripcionProcedimiento))\n",
    "            continue\n",
    "        interventionToCase[idDescripcionProcedimiento] = (r.Caso, r.NumeroHistoria, i)\n",
    "        procedureType = re.findall('<idProcedimiento>([a-zA-Z0-9]*)</idProcedimiento>', procedimientos.loc[idDescripcionProcedimiento].XmlDescripcion)[0]\n",
    "        try:\n",
    "            typeProc = classificationProcedures[procedureType]\n",
    "        except:\n",
    "            typeProc = 'unknown'\n",
    "            unknownProc.append(procedureType)\n",
    "        if typeProc == 'p':\n",
    "            \n",
    "            #If it is the case that they need to stop labour because a c-section is needed\n",
    "            if '<postDiagnosticoPrincipal>O821 - PARTO POR CESAREA DE EMERGENCIA</postDiagnosticoPrincipal>' in \\\n",
    "                procedimientos.loc[idDescripcionProcedimiento].XmlDescripcion:\n",
    "                continue\n",
    "                \n",
    "            elif r.Caso in caseToProcedureBirths:\n",
    "                r1 = caseToProcedureBirths[r.Caso]\n",
    "                r2 =procedimientos.loc[idDescripcionProcedimiento]\n",
    "                if r1.XmlDescripcion == r2.XmlDescripcion:\n",
    "                    continue\n",
    "                else:\n",
    "                    checkSeveralProcedures.append(r.Caso)\n",
    "                    print('error, varios procedimientos en caso: ', r.Caso)\n",
    "                    if r1.FechaRegistro > r2.FechaRegistro:\n",
    "                        caseToProcedureBirths[r.Caso] = procedimientos.loc[idDescripcionProcedimiento]\n",
    "            else:\n",
    "                caseToProcedureBirths[r.Caso] = procedimientos.loc[idDescripcionProcedimiento]"
   ]
  },
  {
   "cell_type": "code",
   "execution_count": null,
   "metadata": {
    "Collapsed": "false"
   },
   "outputs": [],
   "source": [
    "import birthDatasetStructure\n",
    "importlib.reload(birthDatasetStructure)\n",
    "# Split in newborn\n",
    "registrosByCaso = registros.groupby('Caso')\n",
    "processedDatasets = {}\n",
    "countCaseNotFound = 0\n",
    "countPatientNotFound = 0\n",
    "\n",
    "for c, p in tqdm.tqdm_notebook(caseToProcedureBirths.items()):\n",
    "    if c not in casos.index:\n",
    "        print('ERROR! Caso no encontrado', c)\n",
    "        countCaseNotFound += 1\n",
    "        continue\n",
    "        \n",
    "    \n",
    "    if p.IdPaciente not in registrosByCaso.get_group(c).NumeroHistoria.values:\n",
    "        print('ERROR! Pacientes inconsistente en caso', c, p.IdPaciente)\n",
    "        countPatientNotFound += 1\n",
    "        continue\n",
    "\n",
    "    if str(p.IdPaciente) not in pacientes.index:\n",
    "        print('ERROR! Pacientes no encontrado', p.IdPaciente)\n",
    "        countPatientNotFound += 1\n",
    "        break\n",
    "        continue\n",
    "     \n",
    "    if c in entriesInfirmeryByCase.groups:\n",
    "        entriesInf = entriesInfirmeryByCase.get_group(c)\n",
    "    else:\n",
    "        entriesInf = pandas.DataFrame()\n",
    "    \n",
    "    data = birthDatasetStructure.BirthDataset(c, casos.loc[c], p, registrosByCaso.get_group(c), \n",
    "                                                              pacientes,entriesInf)\n",
    "    if data.epicrisis is not None:\n",
    "        processedDatasets[c] = data"
   ]
  },
  {
   "cell_type": "code",
   "execution_count": null,
   "metadata": {
    "Collapsed": "false"
   },
   "outputs": [],
   "source": [
    "def getAllDiagnosis(epicrisis):\n",
    "    xml = ET.fromstring(epicrisis.RegistroXML)\n",
    "    diagnosisEntrada = [parsingDatabaseUtils.findInXML('CodigoDiagnosticoRelacionado1',xml)]\n",
    "    diagnosisEntrada += [parsingDatabaseUtils.findInXML('CodigoDiagnosticoRelacionado2',xml)]\n",
    "    diagnosisEntrada += [parsingDatabaseUtils.findInXML('CodigoDiagnosticoRelacionado3',xml)]\n",
    "    diagnosisEntrada += [parsingDatabaseUtils.findInXML('CodigoDiagnosticoPrincipal',xml)]\n",
    "    \n",
    "    diagnosisSalida = [parsingDatabaseUtils.findInXML('CodigoDiagnosticoRelacionado1Salida',xml)]\n",
    "    diagnosisSalida += [parsingDatabaseUtils.findInXML('CodigoDiagnosticoRelacionado2Salida',xml)]\n",
    "    diagnosisSalida += [parsingDatabaseUtils.findInXML('CodigoDiagnosticoRelacionado3Salida',xml)]\n",
    "    diagnosisSalida += [parsingDatabaseUtils.findInXML('CodigoDiagnosticoPrincipalSalida',xml)]\n",
    "    return list(map(lambda s: s.strip(), filter(lambda s:  s, diagnosisSalida +  diagnosisEntrada)))"
   ]
  },
  {
   "cell_type": "code",
   "execution_count": null,
   "metadata": {
    "Collapsed": "false"
   },
   "outputs": [],
   "source": [
    "#Look for twins\n",
    "wrongRegisters = []\n",
    "print('Errors ! More than one register found')\n",
    "for c, p in processedDatasets.items():\n",
    "    if any((r  in getAllDiagnosis(p.epicrisis) for r in ['Z372', 'O300'])) :\n",
    "        continue\n",
    "    elif len(p.registrosRecienNacido) > 1 and  any((r  in getAllDiagnosis(p.epicrisis) for r in ['Z370'])) :\n",
    "        wrongRegisters.append(c)\n",
    "        print(c, getAllDiagnosis(p.epicrisis),  len(p.registrosRecienNacido))\n",
    "        continue\n",
    "    elif len(p.registrosRecienNacido) > 1:\n",
    "        for k in p.registrosRecienNacido:\n",
    "            if 'GEMEL' in parsingDatabaseUtils.findInXML('TexTarea_MotivoConsulta', p.registrosRecienNacido[k][k].RegistroXML):\n",
    "                continue\n",
    "        print(c, getAllDiagnosis(p.epicrisis),  len(p.registrosRecienNacido))        \n",
    "        wrongRegisters.append(c)\n"
   ]
  },
  {
   "cell_type": "code",
   "execution_count": null,
   "metadata": {
    "Collapsed": "false"
   },
   "outputs": [],
   "source": [
    "for c in wrongRegisters:\n",
    "    del processedDatasets[c]"
   ]
  },
  {
   "cell_type": "code",
   "execution_count": null,
   "metadata": {
    "Collapsed": "false"
   },
   "outputs": [],
   "source": [
    "import math\n",
    "def relErrorInLimits(v1, v2, th = .05):\n",
    "    try:\n",
    "        v1 = float(v1)\n",
    "        v2 = float(v2)\n",
    "        relErr =  2 * math.fabs(v1 - v2)/(v1 + v2)\n",
    "        return relErr < th\n",
    "    except:\n",
    "        return False\n",
    "def joinDicts(d1, d2):\n",
    "    d1 = d1.copy()\n",
    "    d2 = d2.copy()\n",
    "    for k in d1:\n",
    "        if k in d2 and d1[k] != d2[k]:\n",
    "            if relErrorInLimits(d1[k], d2[k]):\n",
    "                d1[k] = (float(d1[k]) + float(d2[k]))/2\n",
    "            else:\n",
    "                d2['error_key_%s' % str(k)] = (True, (d1[k], d2[k]))\n",
    "    d2.update(d1)\n",
    "    return d2"
   ]
  },
  {
   "cell_type": "code",
   "execution_count": null,
   "metadata": {
    "Collapsed": "false"
   },
   "outputs": [],
   "source": [
    "importlib.reload(parsingDatabaseUtils)\n",
    "resSIP = {}\n",
    "breakLoop = False\n",
    "count = 0\n",
    "for c, p in tqdm.tqdm_notebook(processedDatasets.items()):\n",
    "    if len(p.registrosRecienNacido) > 1:\n",
    "        print('Warning! I still cannot handle twins')\n",
    "        continue\n",
    "    resSIP[c] = parsingDatabaseUtils.getMotherData(p)\n",
    "    resSIP[c] = joinDicts(resSIP[c], parsingDatabaseUtils.getInformationFromProcedureDescription(p))\n",
    "    for k in p.registrosRecienNacido:\n",
    "        resSIP[c] = joinDicts(resSIP[c], parsingDatabaseUtils.getNewbornData(p, k))\n",
    "    if len(p.registrosRecienNacido) == 1:\n",
    "        resSIP[c]['VAR_0286'] = '0'\n",
    "        resSIP[c]['VAR_0285'] = 'A'\n",
    "df = pandas.DataFrame.from_dict(resSIP, orient = 'index')\n",
    "#l = list(df[(df.VAR_0294 != df.VAR_0294) & (df.VAR_0293 != df.VAR_0293)].index)\n",
    "#print(len(l))\n",
    "print(count)"
   ]
  },
  {
   "cell_type": "code",
   "execution_count": null,
   "metadata": {
    "Collapsed": "false"
   },
   "outputs": [],
   "source": [
    "import datetime\n",
    "def toInt(s, d = 1):\n",
    "    try:\n",
    "        s = str(int(s))\n",
    "        return addZeros(s, d)\n",
    "    except:\n",
    "        return \"X\"\n",
    "def addZeros(s, d):\n",
    "    s = str(s)\n",
    "    return '0' * (d - len(str(s))) + s "
   ]
  },
  {
   "cell_type": "code",
   "execution_count": null,
   "metadata": {
    "Collapsed": "false"
   },
   "outputs": [],
   "source": [
    "#Quality control\n",
    "n = len(df)\n",
    "for c in df.columns:\n",
    "    if sum(df[c] != df[c])/n > .01 and not c.startswith('error'):\n",
    "        print(c, sum(df[c] != df[c])/n )"
   ]
  },
  {
   "cell_type": "code",
   "execution_count": null,
   "metadata": {
    "Collapsed": "false"
   },
   "outputs": [],
   "source": [
    "import parseMeasurementsByDay\n",
    "importlib.reload(parseMeasurementsByDay)\n",
    "measurements = {}\n",
    "measurementsControlsPrenatal = {}\n",
    "for c, p in tqdm.tqdm_notebook(processedDatasets.items()):\n",
    "    measurements[c] = parseMeasurementsByDay.getParaClinicsHospitalisation(p) + parseMeasurementsByDay.getAllVitalSigns(p)\n",
    "    if p.epicrisis is not None:\n",
    "        measurementsControlsPrenatal[c] = parseMeasurementsByDay.parseParaclinicsBeforeHospitalisation(p.epicrisis)"
   ]
  },
  {
   "cell_type": "code",
   "execution_count": null,
   "metadata": {
    "Collapsed": "false"
   },
   "outputs": [],
   "source": [
    "for c, p in tqdm.tqdm_notebook(processedDatasets.items()):\n",
    "    if len(p.registrosRecienNacido) > 1:\n",
    "        print('Warning! I still cannot handle twins')\n",
    "        continue\n",
    "\n",
    "    res = {}\n",
    "    dfMeasurements = pandas.DataFrame(data = measurements[c], columns =['Campo', 'Fecha', 'Valor'])\n",
    "    dfMeasurements.Valor = dfMeasurements.Valor.map(lambda s: s.replace(',', '.') if isinstance(s, str) else s)\n",
    "    dfMeasurements.Valor = dfMeasurements.Valor.astype(float)\n",
    "    dfValues =dfMeasurements.groupby('Campo')['Valor'].agg(['median', 'max', 'min'])\n",
    "    for var, row in dfValues.iterrows():\n",
    "        res[var + '_median'] = row.median()\n",
    "        res[var + '_max'] = row.max()\n",
    "        res[var + '_min'] = row.min()\n",
    "    resSIP[c].update(res)"
   ]
  },
  {
   "cell_type": "code",
   "execution_count": null,
   "metadata": {
    "Collapsed": "false"
   },
   "outputs": [],
   "source": [
    "import parseDiagnosis\n",
    "importlib.reload(parseDiagnosis)\n",
    "for c, p in tqdm.tqdm_notebook(processedDatasets.items()):\n",
    "    if len(p.registrosRecienNacido) > 1:\n",
    "        print('Warning! I still cannot handle twins')\n",
    "        continue\n",
    "    s = getAllDiagnosis(p.epicrisis)\n",
    "    resSIP[c].update(parseDiagnosis.parseDiagnosis(s))"
   ]
  },
  {
   "cell_type": "code",
   "execution_count": null,
   "metadata": {
    "Collapsed": "false"
   },
   "outputs": [],
   "source": [
    "dfResSIP = pandas.DataFrame.from_dict(resSIP, orient = 'index')\n",
    "\n",
    "#Add SIP information\n",
    "placeId = '806001061-8'\n",
    "placeId = addZeros(placeId, 20)\n",
    "dfResSIP['ID01'] = placeId + dfResSIP['VAR_0019'].map(lambda s: addZeros(s,20))  \\\n",
    "                                          + dfResSIP['VAR_0040'].map(lambda s: toInt(s, 2)) + \\\n",
    "                                        dfResSIP['VAR_0286'].map(toInt)\n",
    "dfResSIP['VAR_0198'] = df['VAR_0198'].map(lambda s: str(int(s)) if s == s and s else s)\n",
    "dfResSIP['VERSION'] = '4.1.2'\n",
    "dfResSIP['FECHA'] = datetime.datetime.now().strftime(\"%Y-%m-%d\")\n",
    "dfResSIP['HORA'] = datetime.datetime.now().strftime(\"%H:%M:%S\")\n",
    "dfResSIP['USUARIO'] = 'CMRC-AUTO'\n",
    "\n",
    "dfResSIP.to_csv('resultsVenezolanas.csv')"
   ]
  },
  {
   "cell_type": "markdown",
   "metadata": {
    "Collapsed": "false"
   },
   "source": [
    "# Tests\n",
    "\n",
    "From here on, it is "
   ]
  },
  {
   "cell_type": "code",
   "execution_count": null,
   "metadata": {
    "Collapsed": "false"
   },
   "outputs": [],
   "source": [
    "allDiagnosis = set()\n",
    "for c, p in tqdm.tqdm_notebook(processedDatasets.items()):\n",
    "    allDiagnosis.update(set(getAllDiagnosis(p.epicrisis)))\n"
   ]
  },
  {
   "cell_type": "code",
   "execution_count": null,
   "metadata": {
    "Collapsed": "false"
   },
   "outputs": [],
   "source": [
    "allDiagnosis = set(list(allDiagnosis) + list(parseDiagnosis.actionsDiagnosis.keys()))"
   ]
  },
  {
   "cell_type": "code",
   "execution_count": null,
   "metadata": {
    "Collapsed": "false"
   },
   "outputs": [],
   "source": [
    "import parseDiagnosis"
   ]
  },
  {
   "cell_type": "code",
   "execution_count": null,
   "metadata": {
    "Collapsed": "false"
   },
   "outputs": [],
   "source": [
    "for a in sorted(allDiagnosis):\n",
    "    #if a in actionsDiagnosis:\n",
    "    #    pass\n",
    "    if a not in diagnosticos.index:\n",
    "        continue \n",
    "    if a in parseDiagnosis.actionsDiagnosis:\n",
    "        print(\"actionsDiagnosis['%s'] = '%s' #%s\"% (a,parseDiagnosis.actionsDiagnosis[a], diagnosticos.loc[a, 'dfg']))\n",
    "    else: \n",
    "        print(\"actionsDiagnosis['%s'] = '' #%s\"% (a,diagnosticos.loc[a, 'dfg']))\n"
   ]
  },
  {
   "cell_type": "code",
   "execution_count": null,
   "metadata": {
    "Collapsed": "false"
   },
   "outputs": [],
   "source": [
    "parsingDatabaseUtils.prettyPrintXML(p.epicrisis.RegistroXML)"
   ]
  },
  {
   "cell_type": "code",
   "execution_count": null,
   "metadata": {
    "Collapsed": "false"
   },
   "outputs": [],
   "source": [
    "[p.epicrisis.Diagnostico, p.epicrisis.CodigoDiagnosticoRelacionado1,  p.epicrisis.CodigoDiagnosticoRelacionado2, p.epicrisis.CodigoDiagnosticoRelacionado3] "
   ]
  },
  {
   "cell_type": "code",
   "execution_count": null,
   "metadata": {
    "Collapsed": "false"
   },
   "outputs": [],
   "source": [
    "for c,  _ in df[df['sufrimientoFetal'] == 'SI'].iterrows():\n",
    "    et = ET.fromstring(processedDatasets[c].epicrisis.RegistroXML)\n",
    "    print(parsingDatabaseUtils.findInXML('MedicamentosAdministrado', et ))"
   ]
  },
  {
   "cell_type": "code",
   "execution_count": null,
   "metadata": {
    "Collapsed": "false"
   },
   "outputs": [],
   "source": [
    "noEpicrsis = []\n",
    "noIngreso = []\n",
    "\n",
    "noDischarge = []\n",
    "for c, p in processedDatasets.items():\n",
    "    if p.epicrisis is None:\n",
    "        noDischarge.append(c)\n",
    "    if p.ingreso is None:\n",
    "        noIngreso.append(c)\n",
    "print('no emergency' , len(noIngreso), 'no epi', len(noDischarge), len(processedDatasets))"
   ]
  },
  {
   "cell_type": "code",
   "execution_count": null,
   "metadata": {
    "Collapsed": "false"
   },
   "outputs": [],
   "source": [
    "pacientes.loc[str(casos.loc[noIngreso[0], 'Paciente'])], noIngreso[0], casos.loc[noIngreso[0]]"
   ]
  },
  {
   "cell_type": "code",
   "execution_count": null,
   "metadata": {
    "Collapsed": "false"
   },
   "outputs": [],
   "source": [
    "#count = 0\n",
    "#for c, p in processedDatasets.items():\n",
    "#    if p.epicrisis is None:\n",
    "#        continue\n",
    "#    et = ET.fromstring(p.epicrisis.RegistroXML)\n",
    "#    ant = parsingDatabaseUtils.fullCleanTxt(parsingDatabaseUtils.findInXML('AntecedentesHTML', et))\n",
    "#    if not 'paracli' in ant:\n",
    "#        count += 1\n",
    "#    else:\n",
    "#        print(ant)"
   ]
  },
  {
   "cell_type": "code",
   "execution_count": null,
   "metadata": {
    "Collapsed": "false"
   },
   "outputs": [],
   "source": []
  },
  {
   "cell_type": "code",
   "execution_count": null,
   "metadata": {
    "Collapsed": "false"
   },
   "outputs": [],
   "source": [
    "c = 'AD284225'\n",
    "k = next(iter(processedDatasets[c].registrosRecienNacido.keys()))\n",
    "parsingDatabaseUtils.prettyPrintXML(processedDatasets[c].registrosRecienNacido[k][k].RegistroXML)\n"
   ]
  },
  {
   "cell_type": "code",
   "execution_count": null,
   "metadata": {
    "Collapsed": "false"
   },
   "outputs": [],
   "source": [
    "c = list(processedDatasets.keys())[884]\n",
    "count = 0\n",
    "for c in processedDatasets.keys():\n",
    "    try:\n",
    "        if 'ECLAMPS' in processedDatasets[c].epicrisis.RegistroXML:\n",
    "            count += 1\n",
    "            #parsingDatabaseUtils.prettyPrintXML(processedDatasets[c].epicrisis.RegistroXML)\n",
    "    except:\n",
    "        pass"
   ]
  },
  {
   "cell_type": "code",
   "execution_count": null,
   "metadata": {
    "Collapsed": "false"
   },
   "outputs": [],
   "source": [
    "df.to_csv('test.csv')"
   ]
  },
  {
   "cell_type": "code",
   "execution_count": null,
   "metadata": {
    "Collapsed": "false"
   },
   "outputs": [],
   "source": [
    "c = list(processedDatasets.keys())[244]\n",
    "parsingDatabaseUtils.prettyPrintXML(processedDatasets[c].epicrisis.RegistroXML)"
   ]
  },
  {
   "cell_type": "code",
   "execution_count": null,
   "metadata": {
    "Collapsed": "false"
   },
   "outputs": [],
   "source": [
    "import cProfile"
   ]
  },
  {
   "cell_type": "code",
   "execution_count": null,
   "metadata": {
    "Collapsed": "false"
   },
   "outputs": [],
   "source": [
    "paraClinics = {}\n",
    "for c, p in tqdm.tqdm_notebook(processedDatasets.items()):\n",
    "    if p.epicrisis is None:\n",
    "        continue\n",
    "    d =parseParaclinics(p.epicrisis)\n",
    "    paraClinics[c] = paraclinicsToDF(parseParaclinics(p.epicrisis))\n"
   ]
  },
  {
   "cell_type": "code",
   "execution_count": null,
   "metadata": {
    "Collapsed": "false"
   },
   "outputs": [],
   "source": [
    "dfParaClinics.noParaclinicalTestsConfirmed.value_counts()"
   ]
  },
  {
   "cell_type": "code",
   "execution_count": null,
   "metadata": {
    "Collapsed": "false"
   },
   "outputs": [],
   "source": [
    "dfParaClinics = pandas.DataFrame.from_dict(paraClinics, orient = 'index')\n",
    "dfParaClinics = dfParaClinics[sorted(dfParaClinics.columns)]\n",
    "dfParaClinics.to_csv('paraclinics.csv')"
   ]
  },
  {
   "cell_type": "code",
   "execution_count": null,
   "metadata": {
    "Collapsed": "false"
   },
   "outputs": [],
   "source": [
    "for p, d in processedDatasets.items():\n",
    "    break"
   ]
  },
  {
   "cell_type": "code",
   "execution_count": null,
   "metadata": {
    "Collapsed": "false"
   },
   "outputs": [],
   "source": [
    "getMedicamentsAndpProcedures(d.epicrisis)"
   ]
  },
  {
   "cell_type": "code",
   "execution_count": null,
   "metadata": {
    "Collapsed": "false"
   },
   "outputs": [],
   "source": [
    "from html.parser import HTMLParser\n",
    "pars =HTMLParser()\n",
    "\n",
    "def splitByDate(txt):\n",
    "    txt = pars.unescape(txt)\n",
    "    txtByDate = txt.split('Fecha:')\n",
    "    txtByDate = map(lambda s: s.strip(), txtByDate)\n",
    "    txtByDate = {m.split()[0] : m for m in txtByDate if m}\n",
    "            print(m)\n",
    "\n",
    "    processedByDate = {}\n",
    "    for v,m in txtByDate.items():\n",
    "        processedByDate[v] =  re.findall('-([0-9a-zA-Z\\- ]+) - (.+?)- Cantidad: ([0-9]+)', m, re.MULTILINE)\n",
    "    return processedByDate\n",
    "def getMedicamentsAndpProcedures(epicrisis):\n",
    "    et = ET.fromstring(epicrisis.RegistroXML)\n",
    "    medicamentos = parsingDatabaseUtils.findInXML('MedicamentosAdministrado' , et)\n",
    "    procedimientos = parsingDatabaseUtils.findInXML('ProcedimientosAsociados' , et)\n",
    "    #return medicamentos, procedimientos\n",
    "    return splitByDate(medicamentos), splitByDate(procedimientos)"
   ]
  },
  {
   "cell_type": "code",
   "execution_count": null,
   "metadata": {
    "Collapsed": "false"
   },
   "outputs": [],
   "source": [
    "parsingDatabaseUtils.prettyPrintXML(d.epicrisis.RegistroXML)"
   ]
  },
  {
   "cell_type": "code",
   "execution_count": null,
   "metadata": {
    "Collapsed": "false"
   },
   "outputs": [],
   "source": [
    "for c, p in paraClinics.items():\n",
    "    if len(p) != 1:\n",
    "        print(paraClinics[c]['text'])\n",
    "        print('-----------------')\n",
    "        for k in p:\n",
    "            if k != 'text':\n",
    "                print(k, p[k])\n",
    "        print('-----------------')"
   ]
  },
  {
   "cell_type": "code",
   "execution_count": null,
   "metadata": {
    "Collapsed": "false"
   },
   "outputs": [],
   "source": [
    "def merge2DF(df1, df2):\n",
    "    \"\"\"\n",
    "    Returns the merge of 2 df with the same index (1 to 1)\n",
    "    In case of columns with the same name, check if the values are the same (or one of them is NA)\n",
    "    Creates new error column to see where there has been problems\n",
    "    \"\"\"\n",
    "    pass"
   ]
  }
 ],
 "metadata": {
  "kernelspec": {
   "display_name": "Python 3",
   "language": "python",
   "name": "python3"
  },
  "language_info": {
   "codemirror_mode": {
    "name": "ipython",
    "version": 3
   },
   "file_extension": ".py",
   "mimetype": "text/x-python",
   "name": "python",
   "nbconvert_exporter": "python",
   "pygments_lexer": "ipython3",
   "version": "3.7.4"
  }
 },
 "nbformat": 4,
 "nbformat_minor": 4
}
