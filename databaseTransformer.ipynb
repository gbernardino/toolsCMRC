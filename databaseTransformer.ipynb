{
 "cells": [
  {
   "cell_type": "markdown",
   "metadata": {},
   "source": [
    "# Database parsing"
   ]
  },
  {
   "cell_type": "code",
   "execution_count": null,
   "metadata": {},
   "outputs": [],
   "source": [
    "import pandas, numpy as np\n",
    "import parsingDatabaseUtils, re, os\n",
    "import xml, itertools, collections, xml.etree.ElementTree as ET\n",
    "import tqdm, importlib, dateparser, dateparser.search\n",
    "import parseMeasurementsByDay\n",
    "import pickle"
   ]
  },
  {
   "cell_type": "code",
   "execution_count": null,
   "metadata": {},
   "outputs": [],
   "source": [
    "pathDataIds = 'Venezolanas2'\n",
    "#procedimientosDesc = pandas.read_csv(os.path.join(pathDataIds, 'procedimientosID.csv'), index_col = 0)\n",
    "#diagnosticos = pandas.read_csv(os.path.join(pathDataIds, 'diagnosis.csv'), index_col = 0)\n",
    "#medicamentos = pandas.read_csv(os.path.join(pathDataIds, 'medicamentos.csv'), index_col = 0)"
   ]
  },
  {
   "cell_type": "code",
   "execution_count": null,
   "metadata": {},
   "outputs": [],
   "source": [
    "pathFolder = 'Casos2019'\n",
    "casos = pandas.read_csv(pathFolder + '/casos.csv', index_col = 0)\n",
    "pacientes = pandas.read_csv(pathFolder + '/pacientes.csv', index_col = 0)\n",
    "pacientes.index = pacientes.index.map(str)\n",
    "\n",
    "registros = pandas.read_csv(pathFolder + '/registros.csv', index_col = 0)\n",
    "registros.index = registros.index.map(str)\n",
    "\n",
    "#diagnosis = pandas.read_csv('Venezolanas2/diagnosis.csv', index_col = 0)\n",
    "procedimientos = pandas.read_csv(pathFolder + '/procedimientos.csv', index_col = 0)\n",
    "procedimientos.index = procedimientos.index.map(str)\n",
    "registrosByCaso = registros.groupby('Caso')\n",
    "\n",
    "entriesInfirmery = pandas.read_csv(pathFolder + '/enfermeriaMedidas.csv', index_col = 0)\n",
    "entriesInfirmeryByCase = entriesInfirmery.groupby('IdAdmision')"
   ]
  },
  {
   "cell_type": "code",
   "execution_count": null,
   "metadata": {},
   "outputs": [],
   "source": [
    "from parsingData.procedures import classificationProcedures"
   ]
  },
  {
   "cell_type": "code",
   "execution_count": null,
   "metadata": {},
   "outputs": [],
   "source": [
    "with open('Data/notFoundInAutomatic.pkl', 'rb') as file:\n",
    "    errors = pickle.load(file)"
   ]
  },
  {
   "cell_type": "markdown",
   "metadata": {},
   "source": [
    "## Select a case\n",
    "Identify all  cases with an associated procedure"
   ]
  },
  {
   "cell_type": "code",
   "execution_count": null,
   "metadata": {},
   "outputs": [],
   "source": [
    "# Identify all  cases with an associated procedure\n",
    "import difflib\n",
    "def sameField(et1, et2, field, equal = lambda i, j: i == j):\n",
    "    return equal(str(et1.find(field).text), str(et2.find(field).text))\n",
    "\n",
    "def similarTexts(s1, s2, th = .80):\n",
    "    d =difflib.SequenceMatcher(a = s1, b = s2)\n",
    "    r = sum((i.size for i in d.get_matching_blocks())) / min(len(s1), len(s2))\n",
    "    return r > th\n",
    "\n",
    "def areSameIntervention(r1, r2):\n",
    "    \"\"\"\n",
    "    Decides if they are the same based on the type\n",
    "    \"\"\"\n",
    "    r1ET = ET.fromstring(r1.XmlDescripcion)\n",
    "    r2ET = ET.fromstring(r2.XmlDescripcion)\n",
    "\n",
    "    #Date is the same / similar\n",
    "    isDateSame = sameField(r1ET, r2ET, './/cabecera//fechaCirugia')\n",
    "    # Type of intervention is the same\n",
    "    isInterventionSame = sameField(r1ET, r2ET, './/idProcedimiento')\n",
    "\n",
    "    # Description\n",
    "    isDescriptionSame = sameField(r1ET, r2ET, './/descripcion', equal = similarTexts)\n",
    "    field = './/descripcion'\n",
    "    return isInterventionSame and (isDateSame or  isDescriptionSame)"
   ]
  },
  {
   "cell_type": "code",
   "execution_count": null,
   "metadata": {},
   "outputs": [],
   "source": [
    "interventionToCase = {}\n",
    "caseToProcedureBirths = {}\n",
    "checkSeveralProcedures = []\n",
    "unknownProc = []\n",
    "procsNotFound = []\n",
    "for i,r  in  tqdm.tqdm_notebook(registros.loc[registros.CodigoRegistro == 145].iterrows(), total = len(registros)):\n",
    "    if r.Caso not in casos.index:\n",
    "        continue\n",
    "        \n",
    "    if isinstance(r.RegistroXML, str) and '<row NombreCampo=\"IdDescripcion\"' in r.RegistroXML:\n",
    "        et = ET.fromstring(r.RegistroXML)\n",
    "        idDescripcionProcedimiento = et.find('.//row[@NombreCampo=\"IdDescripcion\"]').get('ValorCampo')\n",
    "        if idDescripcionProcedimiento not in procedimientos.index:\n",
    "            print('Procedimiento asociado con caso %s no se encuentra (# %s)' % (r.Caso, idDescripcionProcedimiento))\n",
    "            continue\n",
    "        interventionToCase[idDescripcionProcedimiento] = (r.Caso, r.NumeroHistoria, i)\n",
    "        procedureType = re.findall('<idProcedimiento>([a-zA-Z0-9]*)</idProcedimiento>', procedimientos.loc[idDescripcionProcedimiento].XmlDescripcion)[0]\n",
    "        try:\n",
    "            typeProc = classificationProcedures[procedureType]\n",
    "        except:\n",
    "            typeProc = 'unknown'\n",
    "            unknownProc.append(procedureType)\n",
    "        if typeProc == 'p':\n",
    "            \n",
    "            #If it is the case that they need to stop labour because a c-section is needed\n",
    "            #if '<postDiagnosticoPrincipal>O821 - PARTO POR CESAREA DE EMERGENCIA</postDiagnosticoPrincipal>' in \\\n",
    "            #    procedimientos.loc[idDescripcionProcedimiento].XmlDescripcion:\n",
    "            #    print('continue')\n",
    "            #    continue\n",
    "                \n",
    "            if r.Caso in caseToProcedureBirths:\n",
    "                r1 = caseToProcedureBirths[r.Caso]\n",
    "                r2 =procedimientos.loc[idDescripcionProcedimiento]\n",
    "                if areSameIntervention(r1, r2):\n",
    "                    if r1.FechaDescripcion < r2.FechaDescripcion:\n",
    "                        caseToProcedureBirths[r.Caso] = r2\n",
    "                else:\n",
    "                    checkSeveralProcedures.append((r.Caso, caseToProcedureBirths[r.Caso],procedimientos.loc[idDescripcionProcedimiento] ))\n",
    "                    procedureType2 = re.findall('<idProcedimiento>([a-zA-Z0-9]*)</idProcedimiento>', caseToProcedureBirths[r.Caso].XmlDescripcion)[0]\n",
    "\n",
    "                    print('error, varios procedimientos en caso: ', r.Caso, procedureType, procedureType2)\n",
    "                    if r1.FechaRegistro > r2.FechaRegistro:\n",
    "                        caseToProcedureBirths[r.Caso] = procedimientos.loc[idDescripcionProcedimiento]\n",
    "            else:\n",
    "                caseToProcedureBirths[r.Caso] = procedimientos.loc[idDescripcionProcedimiento]"
   ]
  },
  {
   "cell_type": "code",
   "execution_count": null,
   "metadata": {},
   "outputs": [],
   "source": [
    "import datetime\n",
    "birthCases = casos.loc[caseToProcedureBirths.keys()]\n",
    "birthCases['dayOperation'] = birthCases.FechaHora.map(lambda s: datetime.datetime.strptime(s.split()[0], '%Y-%m-%d') if s == s else s)\n",
    "birthCasesByDay = birthCases.groupby('dayOperation')"
   ]
  },
  {
   "cell_type": "code",
   "execution_count": null,
   "metadata": {},
   "outputs": [],
   "source": [
    "res = {}\n",
    "for c in caseToProcedureBirths:\n",
    "    if c in casos.index and str(casos.loc[c].Paciente) in pacientes.index:\n",
    "        res[c] =  pacientes.loc[str(casos.loc[c].Paciente)].Identificacion\n"
   ]
  },
  {
   "cell_type": "code",
   "execution_count": null,
   "metadata": {},
   "outputs": [],
   "source": [
    "cF = 0\n",
    "cNF  = 0\n",
    "incorrectId = []\n",
    "for id, i, date in errors:\n",
    "    i = i.strip()\n",
    "    if id[-1] != '0':\n",
    "        continue\n",
    "    if i  in res.values() or 'VEN' + i  in res.values() or 'V' + i  in res.values():\n",
    "        cF += 1\n",
    "    elif i.replace('V', 'VEN') in res.values()  or i.replace('VEN', \"V\") in res.values():\n",
    "        cF += 1\n",
    "    elif i not in pacientes.index:\n",
    "        if date in birthCasesByDay.groups:\n",
    "            incorrectId.append((i, date))\n",
    "    else:\n",
    "        print(i)\n",
    "        cNF += 1\n",
    "print(cF, cNF)"
   ]
  },
  {
   "cell_type": "code",
   "execution_count": null,
   "metadata": {},
   "outputs": [],
   "source": [
    "cor = 0\n",
    "incor = 0\n",
    "for i, date in incorrectId:\n",
    "    for p in pacientes.loc[map(lambda i: str(int(i)),birthCasesByDay.get_group(date).Paciente)].Identificacion:\n",
    "        if similarTexts(i, p, th= .75):\n",
    "            cor += 1\n",
    "            print(i, p)\n",
    "            break\n",
    "    else:\n",
    "        incor += 1\n",
    "print(cor, incor)"
   ]
  },
  {
   "cell_type": "code",
   "execution_count": null,
   "metadata": {},
   "outputs": [],
   "source": [
    "for c, r1, r2 in checkSeveralProcedures:\n",
    "    if areSameIntervention(r1, r2):\n",
    "        print (c, 'same')\n",
    "    else:\n",
    "        print(c, 'Different')\n"
   ]
  },
  {
   "cell_type": "code",
   "execution_count": null,
   "metadata": {},
   "outputs": [],
   "source": [
    "import birthDatasetStructure\n",
    "importlib.reload(birthDatasetStructure)\n",
    "# Split in newborn\n",
    "registrosByCaso = registros.groupby('Caso')\n",
    "registrosByPatient = registros.groupby('NumeroHistoria')\n",
    "\n",
    "twins = {}\n",
    "processedDatasets = {}\n",
    "countCaseNotFound = 0\n",
    "countPatientNotFound = 0\n",
    "\n",
    "for c, p in tqdm.tqdm_notebook(caseToProcedureBirths.items()):\n",
    "    if c not in casos.index:\n",
    "        print('ERROR! Caso no encontrado', c)\n",
    "        countCaseNotFound += 1\n",
    "        continue\n",
    "        \n",
    "    \n",
    "    if p.IdPaciente not in registrosByCaso.get_group(c).NumeroHistoria.values:\n",
    "        print('ERROR! Pacientes inconsistente en caso', c, p.IdPaciente)\n",
    "        countPatientNotFound += 1\n",
    "        continue\n",
    "\n",
    "    if str(p.IdPaciente) not in pacientes.index:\n",
    "        print('ERROR! Pacientes no encontrado', p.IdPaciente)\n",
    "        countPatientNotFound += 1\n",
    "        break\n",
    "        continue\n",
    "     \n",
    "    if c in entriesInfirmeryByCase.groups:\n",
    "        entriesInf = entriesInfirmeryByCase.get_group(c)\n",
    "    else:\n",
    "        entriesInf = pandas.DataFrame()\n",
    "    \n",
    "    data = birthDatasetStructure.BirthDataset(c, casos.loc[c], p, registrosByCaso.get_group(c), \n",
    "                                                              pacientes,entriesInf)\n",
    "    if data.epicrisis is None:\n",
    "        continue\n",
    "    for i, r in registrosByPatient.get_group(data.motherData.name if 'v' in data.motherData.name .lower() else int(data.motherData.name)).iterrows():\n",
    "        inRange = lambda d1, d2: (datetime.datetime.strptime(d1, '%Y-%m-%d %H:%M:%S.%f') - datetime.datetime.strptime(d2, '%Y-%m-%d %H:%M:%S.%f')) < datetime.timedelta(days = 7)\n",
    "        if r.CodigoRegistro == 20:\n",
    "            if r.FechaAsignacionRegistro < data.epicrisis.FechaAsignacionRegistro and inRange(data.epicrisis.FechaAsignacionRegistro, r.FechaAsignacionRegistro):\n",
    "                data.registersMother.append(r)\n",
    "    #Discard twins:\n",
    "    #if len(data.registrosRecienNacido) > 1:\n",
    "    #    twins[c] = data\n",
    "    #    continue\n",
    "    processedDatasets[c] = data"
   ]
  },
  {
   "cell_type": "code",
   "execution_count": null,
   "metadata": {},
   "outputs": [],
   "source": [
    "#Look for twins\n",
    "wrongRegisters = []\n",
    "twins = {}\n",
    "print('Errors ! More than one register found')\n",
    "for c, p in processedDatasets.items():\n",
    "    if any((r  in getAllDiagnosis(p.epicrisis) for r in ['Z372', 'O300'])) :\n",
    "        #Twins  / \n",
    "        #print(len(p.registrosRecienNacido), getAllDiagnosis(p.epicrisis))\n",
    "        twins[c] = p\n",
    "        continue\n",
    "    elif len(p.registrosRecienNacido) > 1 and  any((r  in getAllDiagnosis(p.epicrisis) for r in ['Z370'])) :\n",
    "        wrongRegisters.append(c)\n",
    "        print(c, getAllDiagnosis(p.epicrisis),  len(p.registrosRecienNacido))\n",
    "        continue\n",
    "    elif len(p.registrosRecienNacido) > 1:\n",
    "        for k in p.registrosRecienNacido:\n",
    "            if 'GEMEL' in parsingDatabaseUtils.findInXML('TexTarea_MotivoConsulta', p.registrosRecienNacido[k][k].RegistroXML):\n",
    "                twins[c] = p\n",
    "                break\n",
    "        else:\n",
    "            print(c, getAllDiagnosis(p.epicrisis),  len(p.registrosRecienNacido))        \n",
    "            wrongRegisters.append(c)\n"
   ]
  },
  {
   "cell_type": "code",
   "execution_count": null,
   "metadata": {},
   "outputs": [],
   "source": [
    "for c,data in twins.items():\n",
    "    if len(data.registrosRecienNacido) != 2:\n",
    "        continue\n",
    "    for i, v  in enumerate(data.splitTwins()):\n",
    "        processedDatasets[c + '-%d' % i] = v\n"
   ]
  },
  {
   "cell_type": "code",
   "execution_count": null,
   "metadata": {},
   "outputs": [],
   "source": [
    "for c in wrongRegisters:\n",
    "    del processedDatasets[c]\n",
    "for c in twins:\n",
    "    del processedDatasets[c]"
   ]
  },
  {
   "cell_type": "code",
   "execution_count": null,
   "metadata": {},
   "outputs": [],
   "source": [
    "import caseTransformer\n",
    "importlib.reload(caseTransformer)\n",
    "importlib.reload(caseTransformer.parseNewbornRegister)\n",
    "importlib.reload(caseTransformer.parseEpicrisis)\n",
    "importlib.reload(caseTransformer.parseEchos)\n",
    "importlib.reload(caseTransformer.parsingDatabaseUtils)\n",
    "importlib.reload(caseTransformer.parseMeasurementsByDay)\n",
    "importlib.reload(caseTransformer.parseInterventions)\n",
    "importlib.reload(caseTransformer.parseDiagnosis)\n",
    "importlib.reload(caseTransformer.parseMedicaments)"
   ]
  },
  {
   "cell_type": "code",
   "execution_count": null,
   "metadata": {},
   "outputs": [],
   "source": [
    "resSIP = {}\n"
   ]
  },
  {
   "cell_type": "code",
   "execution_count": null,
   "metadata": {},
   "outputs": [],
   "source": [
    "pp(d.epicrisis.RegistroXML)"
   ]
  },
  {
   "cell_type": "code",
   "execution_count": null,
   "metadata": {},
   "outputs": [],
   "source": [
    "for c, d in tqdm.notebook.tqdm(processedDatasets.items()):\n",
    "    if c in resSIP:\n",
    "        continue\n",
    "    cT = caseTransformer.CaseTransformer(data = d)    \n",
    "    resSIP[c] = cT.processAll()"
   ]
  },
  {
   "cell_type": "code",
   "execution_count": null,
   "metadata": {},
   "outputs": [],
   "source": []
  },
  {
   "cell_type": "code",
   "execution_count": null,
   "metadata": {},
   "outputs": [],
   "source": [
    "%debug"
   ]
  },
  {
   "cell_type": "code",
   "execution_count": null,
   "metadata": {},
   "outputs": [],
   "source": [
    "pp = parsingDatabaseUtils.prettyPrintXML\n",
    "pp(list(processedDatasets.values())[500].procedure.XmlDescripcion)"
   ]
  },
  {
   "cell_type": "code",
   "execution_count": null,
   "metadata": {},
   "outputs": [],
   "source": [
    "data = list(processedDatasets.values())[660]"
   ]
  },
  {
   "cell_type": "code",
   "execution_count": null,
   "metadata": {},
   "outputs": [],
   "source": [
    "pp(data.getNewbornRegister(0).RegistroXML)"
   ]
  },
  {
   "cell_type": "code",
   "execution_count": null,
   "metadata": {},
   "outputs": [],
   "source": [
    "import math\n",
    "def relErrorInLimits(v1, v2, th = .05):\n",
    "    try:\n",
    "        v1 = float(v1)\n",
    "        v2 = float(v2)\n",
    "        relErr =  2 * math.fabs(v1 - v2)/(v1 + v2)\n",
    "        return relErr < th\n",
    "    except:\n",
    "        return False\n",
    "def joinDicts(d1, d2):\n",
    "    d1 = d1.copy()\n",
    "    d2 = d2.copy()\n",
    "    for k in d1:\n",
    "        if k in d2 and d1[k] != d2[k]:\n",
    "            if relErrorInLimits(d1[k], d2[k]):\n",
    "                d1[k] = (float(d1[k]) + float(d2[k]))/2\n",
    "            else:\n",
    "                d2['error_key_%s' % str(k)] = (True, (d1[k], d2[k]))\n",
    "    d2.update(d1)\n",
    "    return d2"
   ]
  },
  {
   "cell_type": "code",
   "execution_count": null,
   "metadata": {},
   "outputs": [],
   "source": [
    "def dateDifferenceDays(d1, d2):\n",
    "    p1 = parsingDatabaseUtils.parseDate(d1, ''datetime) if isinstance(d1, str) else d1\n",
    "    p2 = parsingDatabaseUtils.parseDate(d2, 'datetime') if isinstance(d2, str) else d2\n",
    "    return (p1 - p2).days\n",
    "\n",
    "def egByEcho(date, res):\n",
    "    bestDiff = 365\n",
    "    bestEg  = 0\n",
    "    date =parsingDatabaseUtils.parseDate(date, True)\n",
    "    for i in range(10):\n",
    "        if 'echo_%d_eg' % i in res:\n",
    "            eg = res['echo_%d_eg' % i] \n",
    "            dateEcho = parsingDatabaseUtils.parseDate(res['echo_%d_date' % i], True)\n",
    "            \n",
    "            if np.abs(dateDifferenceDays(date, dateEcho)) < bestDiff:\n",
    "                bestDiff = np.abs(dateDifferenceDays(date, dateEcho))\n",
    "                bestEg = float(eg) * 7 + dateDifferenceDays(date, dateEcho)\n",
    "        else:\n",
    "            break\n",
    "    return bestEg\n",
    " \n",
    "def dateToGestationDays(date, res):\n",
    "    \"\"\"\n",
    "    Checks wether the event is before or after labour.\n",
    "    \n",
    "    - If it is before, return the number of gestation days\n",
    "    - Otherwise, the time before.\n",
    "    \"\"\"\n",
    "    #If FUM\n",
    "    \n",
    "    #Otherwise, use the closest echo\n",
    "    if True:\n",
    "        pass\n",
    "    else:\n",
    "        days = egByEcho(date, res)\n",
    "    return days"
   ]
  },
  {
   "cell_type": "code",
   "execution_count": null,
   "metadata": {},
   "outputs": [],
   "source": [
    "for c, p in tqdm.notebook.tqdm(processedDatasets.items()):\n",
    "    if p.epicrisis is not None and len(p.registrosRecienNacido) == 0:\n",
    "        print(c)\n",
    "        \n"
   ]
  },
  {
   "cell_type": "code",
   "execution_count": null,
   "metadata": {},
   "outputs": [],
   "source": [
    "registros.FechaAsignacionRegistro"
   ]
  },
  {
   "cell_type": "code",
   "execution_count": null,
   "metadata": {},
   "outputs": [],
   "source": [
    "import parseEpicrisis\n",
    "importlib.reload(parsingDatabaseUtils)\n",
    "importlib.reload(parseEpicrisis)\n",
    "\n",
    "\n",
    "\n",
    "\n",
    "resSIP = {}\n",
    "breakLoop = False\n",
    "count = 0\n",
    "for c, p in tqdm.notebook.tqdm(processedDatasets.items()):\n",
    "    if len(p.registrosRecienNacido) > 1:\n",
    "        print(c, 'Warning! I still cannot handle twins')\n",
    "        continue\n",
    "    resSIP[c] = parseEpicrisis.getMotherData(p)\n",
    "    resSIP[c] = joinDicts(resSIP[c], parseEpicrisis.getDataFromHospitalAdmision(p))\n",
    "    resSIP[c] = joinDicts(resSIP[c], parsingDatabaseUtils.getInformationFromProcedureDescription(p))\n",
    "    for k in p.registrosRecienNacido:\n",
    "        resSIP[c] = joinDicts(resSIP[c], parsingDatabaseUtils.getNewbornData(p, k))\n",
    "    if len(p.registrosRecienNacido) == 1:\n",
    "        resSIP[c]['VAR_0286'] = '0'\n",
    "        resSIP[c]['VAR_0285'] = 'A'\n",
    "df = pandas.DataFrame.from_dict(resSIP, orient = 'index')\n",
    "#l = list(df[(df.VAR_0294 != df.VAR_0294) & (df.VAR_0293 != df.VAR_0293)].index)\n",
    "#print(len(l))\n",
    "print(count)"
   ]
  },
  {
   "cell_type": "code",
   "execution_count": null,
   "metadata": {},
   "outputs": [],
   "source": [
    "importlib.reload(parseEpicrisis)\n",
    "antececedentesText = parsingDatabaseUtils.findInXML('AntecedentesHTML', processedDatasets[k].epicrisis.RegistroXML)\n",
    "\n",
    "parseEpicrisis.parseEchographies(antececedentesText, cleanText = True)"
   ]
  },
  {
   "cell_type": "code",
   "execution_count": null,
   "metadata": {},
   "outputs": [],
   "source": [
    "import datetime\n",
    "def toInt(s, d = 1):\n",
    "    try:\n",
    "        s = str(int(s))\n",
    "        return addZeros(s, d)\n",
    "    except:\n",
    "        return \"X\"\n",
    "def addZeros(s, d):\n",
    "    s = str(s)\n",
    "    return '0' * (d - len(str(s))) + s "
   ]
  },
  {
   "cell_type": "code",
   "execution_count": null,
   "metadata": {},
   "outputs": [],
   "source": [
    "preanestesico, without = 0,0\n",
    "anesthesia = []\n",
    "registrosPreanestesico = registros.loc[registros.CodigoRegistro ==20]\n",
    "for c, p in processedDatasets.items():\n",
    "    if p.ingreso is None or True:\n",
    "        hClinica = p.epicrisis.NumeroHistoria\n",
    "        if len(registrosPreanestesico.loc[registrosPreanestesico.NumeroHistoria == hClinica]):\n",
    "            preanestesico += 1\n",
    "            anesthesia.append(registrosPreanestesico.loc[registrosPreanestesico.NumeroHistoria == hClinica].iloc[0])\n",
    "        else:\n",
    "            without += 1\n",
    "preanestesico, without"
   ]
  },
  {
   "cell_type": "code",
   "execution_count": null,
   "metadata": {},
   "outputs": [],
   "source": [
    "keys = list(processedDatasets.keys())\n",
    "parsingDatabaseUtils.prettyPrintXML(getNewbornRegister(processedDatasets[keys[240]], 0).RegistroXML)"
   ]
  },
  {
   "cell_type": "code",
   "execution_count": null,
   "metadata": {},
   "outputs": [],
   "source": [
    "parseEpicrisis.parseGPCA_and_fum(getNewbornRegister(processedDatasets[c], 0).RegistroXML.lower())"
   ]
  },
  {
   "cell_type": "code",
   "execution_count": null,
   "metadata": {},
   "outputs": [],
   "source": []
  },
  {
   "cell_type": "code",
   "execution_count": null,
   "metadata": {},
   "outputs": [],
   "source": [
    "import parseMeasurementsByDay\n",
    "importlib.reload(parseMeasurementsByDay)\n",
    "importlib.reload(parsingDatabaseUtils)\n",
    "measurements = {}\n",
    "measurementsControlsPrenatal = {}\n",
    "\n",
    "def dateDifferenceDays(d1, d2):\n",
    "    p1 = parsingDatabaseUtils.parseDate(d1, ''datetime) if isinstance(d1, str) else d1\n",
    "    p2 = parsingDatabaseUtils.parseDate(d2, 'datetime') if isinstance(d2, str) else d2\n",
    "    return (p1 - p2).days\n",
    "\n",
    "def processPrenatalMeasurements(measurementsControlsPrenatal, fum):\n",
    "    res = {}\n",
    "    for test, date, value, _ in measurementsControlsPrenatal[c]:\n",
    "        if test in ['vdrl', 'HB', 'prt']:\n",
    "            weeks = dateDifferenceDays(date, fum)//7\n",
    "            if weeks < 0:\n",
    "                raise ValueError('Inconsistent!')\n",
    "\n",
    "            elif weeks <= 20:\n",
    "                if test == 'vdrl':\n",
    "                    #no treponemica\n",
    "                    res['VAR_0112'] = 'A' if not value else 'B'\n",
    "                    res['VAR_0412'] = weeks # Weeks\n",
    "\n",
    "                elif test == 'prt':\n",
    "                    #treponemica\n",
    "                    res['VAR_0415'] = 'A' if not value else 'B'\n",
    "                    res['VAR_0413'] = weeks # Weeks\n",
    "\n",
    "                elif test == 'HB':\n",
    "                    resSIP[c]['VAR_0095'] = value\n",
    "\n",
    "            elif weeks > 20 and weeks < 60:\n",
    "                if test == 'vdrl':\n",
    "                    res['VAR_0114'] = 'A' if not value else 'B'\n",
    "                    res['VAR_0419'] = weeks # Weeks\n",
    "\n",
    "                elif test == 'prt':\n",
    "                    res['VAR_0421'] = 'A' if not value else 'B'\n",
    "                    res['VAR_0420'] = weeks # Weeks\n",
    "\n",
    "                elif test == 'HB':\n",
    "                    res'VAR_0099'] = value\n",
    "    return res\n",
    "\n",
    "for c, p in tqdm.tqdm_notebook(processedDatasets.items()):\n",
    "    measurements[c] = parseMeasurementsByDay.getParaClinicsHospitalisation(p) + parseMeasurementsByDay.getAllVitalSigns(p)\n",
    "    if p.epicrisis is not None:\n",
    "        measurementsControlsPrenatal[c] = parseMeasurementsByDay.parseParaclinicsBeforeHospitalisation(p.epicrisis)\n",
    "        fum = resSIP[c]['VAR_0057']\n",
    "        \n",
    "        for test, date, value, _ in measurementsControlsPrenatal[c]:\n",
    "            if test in ['vdrl', 'HB', 'prt']:\n",
    "                weeks = dateDifferenceDays(date, fum)//7\n",
    "                if weeks < 0:\n",
    "                    raise ValueError('Inconsistent!')\n",
    "\n",
    "                elif weeks <= 20:\n",
    "                    if test == 'vdrl':\n",
    "                        #no treponemica\n",
    "                        resSIP[c]['VAR_0112'] = 'A' if not value else 'B'\n",
    "                        resSIP[c]['VAR_0412'] = weeks # Weeks\n",
    "\n",
    "                    elif test == 'prt':\n",
    "                        #treponemica\n",
    "                        resSIP[c]['VAR_0415'] = 'A' if not value else 'B'\n",
    "                        resSIP[c]['VAR_0413'] = weeks # Weeks\n",
    "\n",
    "                    elif test == 'HB':\n",
    "                        resSIP[c]['VAR_0095'] = value\n",
    "\n",
    "                elif weeks > 20:\n",
    "                    if test == 'vdrl':\n",
    "                        resSIP[c]['VAR_0114'] = 'A' if not value else 'B'\n",
    "                        resSIP[c]['VAR_0419'] = weeks # Weeks\n",
    "\n",
    "                    elif test == 'prt':\n",
    "                        resSIP[c]['VAR_0421'] = 'A' if not value else 'B'\n",
    "                        resSIP[c]['VAR_0420'] = weeks # Weeks\n",
    "\n",
    "                    elif test == 'HB':\n",
    "                        resSIP[c]['VAR_0099'] = value\n"
   ]
  },
  {
   "cell_type": "code",
   "execution_count": null,
   "metadata": {},
   "outputs": [],
   "source": [
    "for c, p in tqdm.tqdm_notebook(processedDatasets.items()):\n",
    "    if len(p.registrosRecienNacido) > 1:\n",
    "        print('Warning! I still cannot handle twins')\n",
    "        continue\n",
    "\n",
    "    res = {}\n",
    "    dfMeasurements = pandas.DataFrame(data = measurements[c], columns =['Campo', 'Fecha', 'Valor'])\n",
    "    dfMeasurements.Valor = dfMeasurements.Valor.map(lambda s: s.replace(',', '.') if isinstance(s, str) else s)\n",
    "    dfMeasurements.Valor = dfMeasurements.Valor.astype(float)\n",
    "    dfMeasurementsByDate = dfMeasurements.groupby('Fecha')\n",
    "    for i, d in enumerate(dfMeasurementsByDate.groups):\n",
    "        dfValues =dfMeasurementsByDate.get_group(d).groupby('Campo')['Valor'].agg(['median', 'max', 'min'])\n",
    "        res['day_%d' % i] = d\n",
    "        for var, row in dfValues.iterrows():\n",
    "            res[var + '_median_day_%d' % i] = row.median()\n",
    "            res[var + '_max_day_%d' % i] = row.max()\n",
    "            res[var + '_min_day_%d' % i] = row.min()\n",
    "    resSIP[c].update(res)"
   ]
  },
  {
   "cell_type": "code",
   "execution_count": null,
   "metadata": {},
   "outputs": [],
   "source": [
    "from parsingData import parseDiagnosis\n",
    "from parsingData import parseInterventions, parseMedicaments, parseWithDictionary\n",
    "\n",
    "importlib.reload(parseDiagnosis)\n",
    "for c, p in tqdm.tqdm_notebook(processedDatasets.items()):\n",
    "    if len(p.registrosRecienNacido) > 1:\n",
    "        print('Warning! I still cannot handle twins')\n",
    "        continue\n",
    "    s = getAllDiagnosis(p.epicrisis)\n",
    "    s = [parsingDatabaseUtils.remove_diacritics(pars.unescape(ss)) for ss in s]\n",
    "    resSIP[c].update(parseWithDictionary.parseWithDictionary(s, parseDiagnosis.actionsDiagnosis))"
   ]
  },
  {
   "cell_type": "code",
   "execution_count": null,
   "metadata": {},
   "outputs": [],
   "source": [
    "from parsingData import parseInterventions, parseMedicaments, parseWithDictionary\n",
    "importlib.reload(parseMedicaments)\n",
    "importlib.reload(parseInterventions)\n",
    "\n",
    "#Parse medicaments and interventions\n",
    "for c, p in tqdm.tqdm_notebook(processedDatasets.items()):\n",
    "    if len(p.registrosRecienNacido) > 1:\n",
    "        print('Warning! I still cannot handle twins')\n",
    "        continue\n",
    "    m, i = getMedicamentsInterventionsFromEpicrisis(p.epicrisis)\n",
    "    for k, v in m.items():\n",
    "        v = [vv[0] for vv in v]\n",
    "        resSIP[c].update(parseWithDictionary.parseWithDictionary(v, parseMedicaments.actionMedicament))\n",
    "        \n",
    "    for k, v in i.items():\n",
    "        v = [vv[0] for vv in v]\n",
    "        resSIP[c].update(parseWithDictionary.parseWithDictionary(v, parseInterventions.actionIntervention))"
   ]
  },
  {
   "cell_type": "code",
   "execution_count": null,
   "metadata": {},
   "outputs": [],
   "source": [
    "dfResSIP = pandas.DataFrame.from_dict(resSIP, orient = 'index')\n",
    "\n",
    "#Quality control\n",
    "n = len(dfResSIP)\n",
    "for c in dfResSIP.columns:\n",
    "    if sum(dfResSIP[c] != dfResSIP[c])/n > .01 and not c.startswith('error'):\n",
    "        print(c, sum(dfResSIP[c] != dfResSIP[c])/n )"
   ]
  },
  {
   "cell_type": "code",
   "execution_count": null,
   "metadata": {},
   "outputs": [],
   "source": [
    "dfResSIP = pandas.DataFrame.from_dict(resSIP, orient = 'index')\n",
    "\n",
    "#Add SIP information\n",
    "placeId = '806001061-8'\n",
    "placeId = addZeros(placeId, 20)\n",
    "dfResSIP['ID01'] = placeId + dfResSIP['VAR_0019'].map(lambda s: addZeros(s,20))  \\\n",
    "                                          + dfResSIP['VAR_0040'].map(lambda s: toInt(s, 2)) + \\\n",
    "                                        dfResSIP['VAR_0286'].map(toInt)\n",
    "dfResSIP['VAR_0198'] = df['VAR_0198'].map(lambda s: str(int(s)) if s == s and s else s)\n",
    "dfResSIP['VERSION'] = '4.1.2'\n",
    "dfResSIP['FECHA'] = datetime.datetime.now().strftime(\"%Y-%m-%d\")\n",
    "dfResSIP['HORA'] = datetime.datetime.now().strftime(\"%H:%M:%S\")\n",
    "dfResSIP['USUARIO'] = 'CMRC-AUTO'\n",
    "\n",
    "dfResSIP.to_csv('Output/results.csv')"
   ]
  },
  {
   "cell_type": "code",
   "execution_count": null,
   "metadata": {},
   "outputs": [],
   "source": [
    "dfResSIP.columns"
   ]
  },
  {
   "cell_type": "code",
   "execution_count": null,
   "metadata": {},
   "outputs": [],
   "source": [
    "dfNamesVars = pandas.read_excel('parsingData/variables_sip.xlsx')\n",
    "renameDict = {k : v for  k, v in zip(dfNamesVars['Unnamed: 2'].values, dfNamesVars['Unnamed: 3'].values)}\n",
    "\n",
    "dfResSIP.columns = dfResSIP.columns.map(lambda s: s if s not in renameDict else renameDict[s])"
   ]
  },
  {
   "cell_type": "code",
   "execution_count": null,
   "metadata": {},
   "outputs": [],
   "source": [
    "groupedBy = dfNamesVars.groupby('Unnamed: 2')\n",
    "for g in groupedBy.groups:\n",
    "    if len(groupedBy.get_group(g)) == 1 or renameDict[g] not in dfResSIP:\n",
    "        continue\n",
    "    colname = renameDict[g]\n",
    "    for (_, r) in groupedBy.get_group(g)[['Unnamed: 4', 'Unnamed: 5']].iterrows():\n",
    "        option = r['Unnamed: 4']\n",
    "        value = r['Unnamed: 5']\n",
    "        dfResSIP.loc[dfResSIP[colname] == option, colname] = value"
   ]
  },
  {
   "cell_type": "code",
   "execution_count": null,
   "metadata": {},
   "outputs": [],
   "source": [
    "dfResSIP.to_csv('Output/resultsPrettyName.csv')"
   ]
  },
  {
   "cell_type": "markdown",
   "metadata": {},
   "source": [
    "# Tests\n",
    "\n",
    "From here on, it is "
   ]
  },
  {
   "cell_type": "code",
   "execution_count": null,
   "metadata": {},
   "outputs": [],
   "source": [
    "allMedicaments = {}\n",
    "allInterventions = {}\n",
    "for c, p in tqdm.tqdm_notebook(processedDatasets.items()):\n",
    "    m, i = getMedicamentsInterventionsFromEpicrisis(p.epicrisis)\n",
    "    \n",
    "    for _, v in m.items():\n",
    "        for c, desc, _ in v:\n",
    "            allMedicaments[c] = desc\n",
    "            \n",
    "    for _, v in i.items():\n",
    "        for c, desc, _ in v:\n",
    "            allInterventions[c] = desc"
   ]
  },
  {
   "cell_type": "code",
   "execution_count": null,
   "metadata": {},
   "outputs": [],
   "source": [
    "for k, v in allInterventions.items():\n",
    "    if k not in parseInterventions.actionIntervention:\n",
    "        print('actionIntervention[\"%s\"] = \"\" #%s' % (k, parsingDatabaseUtils.remove_diacritics(v)))\n"
   ]
  },
  {
   "cell_type": "code",
   "execution_count": null,
   "metadata": {},
   "outputs": [],
   "source": [
    "with open('parseMedicaments.py', 'w') as f:\n",
    "    f.write('actionMedicament = {} \\n')\n",
    "    for k, v in allMedicaments.items():\n",
    "        f.write('actionMedicament[\"%s\"] = \"\" #%s\\n' % (k, parsingDatabaseUtils.remove_diacritics(v)))\n",
    "        \n",
    "with open('parseInterventions.py', 'w') as f:\n",
    "    f.write('actionIntervention = {} \\n')\n",
    "    for k, v in allInterventions.items():\n",
    "        f.write('actionIntervention[\"%s\"] = \"\" #%s\\n' % (k, parsingDatabaseUtils.remove_diacritics(v)))"
   ]
  },
  {
   "cell_type": "code",
   "execution_count": null,
   "metadata": {},
   "outputs": [],
   "source": [
    "parseMedicamentsInterventionsByDay(parsingDatabaseUtils.findInXML('MedicamentosAdministrado', et))"
   ]
  },
  {
   "cell_type": "code",
   "execution_count": null,
   "metadata": {},
   "outputs": [],
   "source": [
    "et = ET.fromstring(p.epicrisis.RegistroXML)\n",
    "parsingDatabaseUtils.findInXML('MedicamentosAdministrado', et)\n",
    "print(parsingDatabaseUtils.findInXML('ProcedimientosAsociados', et))"
   ]
  },
  {
   "cell_type": "code",
   "execution_count": null,
   "metadata": {},
   "outputs": [],
   "source": [
    "import parseDiagnosis"
   ]
  },
  {
   "cell_type": "code",
   "execution_count": null,
   "metadata": {},
   "outputs": [],
   "source": [
    "allDiagnosis = set()\n",
    "for c, p in tqdm.tqdm_notebook(processedDatasets.items()):\n",
    "    allDiagnosis.update(set(getAllDiagnosis(p.epicrisis)))\n"
   ]
  },
  {
   "cell_type": "code",
   "execution_count": null,
   "metadata": {},
   "outputs": [],
   "source": [
    "allDiagnosis = set(list(allDiagnosis) + list(parseDiagnosis.actionsDiagnosis.keys()))"
   ]
  },
  {
   "cell_type": "code",
   "execution_count": null,
   "metadata": {},
   "outputs": [],
   "source": [
    "for a in sorted(allDiagnosis):\n",
    "    #if a in actionsDiagnosis:\n",
    "    #    pass\n",
    "    if a not in diagnosticos.index:\n",
    "        continue \n",
    "    if False and a in parseDiagnosis.actionsDiagnosis:\n",
    "        print(\"actionsDiagnosis['%s'] = '%s' #%s\"% (a,parseDiagnosis.actionsDiagnosis[a], diagnosticos.loc[a, 'dfg']))\n",
    "    else: \n",
    "        print(\"actionsDiagnosis['%s'] = '' #%s\"% (a,diagnosticos.loc[a, 'dfg']))\n"
   ]
  },
  {
   "cell_type": "code",
   "execution_count": null,
   "metadata": {},
   "outputs": [],
   "source": [
    "parsingDatabaseUtils.prettyPrintXML(p.epicrisis.RegistroXML)"
   ]
  },
  {
   "cell_type": "code",
   "execution_count": null,
   "metadata": {},
   "outputs": [],
   "source": [
    "[p.epicrisis.Diagnostico, p.epicrisis.CodigoDiagnosticoRelacionado1,  p.epicrisis.CodigoDiagnosticoRelacionado2, p.epicrisis.CodigoDiagnosticoRelacionado3] "
   ]
  },
  {
   "cell_type": "code",
   "execution_count": null,
   "metadata": {},
   "outputs": [],
   "source": [
    "for c,  _ in df[df['sufrimientoFetal'] == 'SI'].iterrows():\n",
    "    et = ET.fromstring(processedDatasets[c].epicrisis.RegistroXML)\n",
    "    print(parsingDatabaseUtils.findInXML('MedicamentosAdministrado', et ))"
   ]
  },
  {
   "cell_type": "code",
   "execution_count": null,
   "metadata": {},
   "outputs": [],
   "source": [
    "noEpicrsis = []\n",
    "noIngreso = []\n",
    "\n",
    "noDischarge = []\n",
    "for c, p in processedDatasets.items():\n",
    "    if p.epicrisis is None:\n",
    "        noDischarge.append(c)\n",
    "    if p.ingreso is None:\n",
    "        noIngreso.append(c)\n",
    "print('no emergency' , len(noIngreso), 'no epi', len(noDischarge), len(processedDatasets))"
   ]
  },
  {
   "cell_type": "code",
   "execution_count": null,
   "metadata": {},
   "outputs": [],
   "source": [
    "pacientes.loc[str(casos.loc[noIngreso[0], 'Paciente'])], noIngreso[0], casos.loc[noIngreso[0]]"
   ]
  },
  {
   "cell_type": "code",
   "execution_count": null,
   "metadata": {},
   "outputs": [],
   "source": [
    "#count = 0\n",
    "#for c, p in processedDatasets.items():\n",
    "#    if p.epicrisis is None:\n",
    "#        continue\n",
    "#    et = ET.fromstring(p.epicrisis.RegistroXML)\n",
    "#    ant = parsingDatabaseUtils.fullCleanTxt(parsingDatabaseUtils.findInXML('AntecedentesHTML', et))\n",
    "#    if not 'paracli' in ant:\n",
    "#        count += 1\n",
    "#    else:\n",
    "#        print(ant)"
   ]
  },
  {
   "cell_type": "code",
   "execution_count": null,
   "metadata": {},
   "outputs": [],
   "source": [
    "\n",
    "(dateparser.parse('6/1/20') - dateparser.parse('4/11/19')).days // 7, (dateparser.parse('6/1/20') - dateparser.parse('4/11/19')).days %7"
   ]
  },
  {
   "cell_type": "code",
   "execution_count": null,
   "metadata": {},
   "outputs": [],
   "source": [
    "def dateDifferenceDays(d1, d2):\n",
    "    p1 = dateparser.parse(d1) if isinstance(d1, str) else d1\n",
    "    p2 = dateparser.parse(d2) if isinstance(d2, str) else d2\n",
    "    return (p1 - p2).days\n",
    "\n",
    "def egByEcho(date, res):\n",
    "    bestDiff = 365\n",
    "    bestEg  = 0\n",
    "    date =dateparser.parse(date)\n",
    "    for i in range(10):\n",
    "        if 'echo_%d_eg' in res:\n",
    "            eg = res['echo_%d_eg' % i] \n",
    "            dateEcho = dateparser.parse(res['echo_%d_date' % i])\n",
    "            \n",
    "            if np.abs(dateDifferenceDays(date, dateEcho)) < bestDiff:\n",
    "                bestDiff = np.abs(dateDifferenceDays(date, dateEcho))\n",
    "                bestEg = float(eg) * 7 + dateDifferenceDays(date, dateEcho)\n",
    "    return bestEg\n",
    " \n",
    "def dateToGestationDays(date, res):\n",
    "    \"\"\"\n",
    "    Checks wether the event is before or after labour.\n",
    "    \n",
    "    - If it is before, return the number of gestation days\n",
    "    - Otherwise, the time before.\n",
    "    \"\"\"\n",
    "    #If FUM\n",
    "\n",
    "    #Otherwise, use the closest echo\n",
    "    else:\n",
    "        days = egByEcho(date, res)\n",
    "    return days"
   ]
  },
  {
   "cell_type": "code",
   "execution_count": null,
   "metadata": {},
   "outputs": [],
   "source": [
    "c = 'AD284225'\n",
    "k = next(iter(processedDatasets[c].registrosRecienNacido.keys()))\n",
    "parsingDatabaseUtils.prettyPrintXML(processedDatasets[c].registrosRecienNacido[k][k].RegistroXML)\n"
   ]
  },
  {
   "cell_type": "code",
   "execution_count": null,
   "metadata": {},
   "outputs": [],
   "source": [
    "c = list(processedDatasets.keys())[884]\n",
    "count = 0\n",
    "for c in processedDatasets.keys():\n",
    "    try:\n",
    "        if 'ECLAMPS' in processedDatasets[c].epicrisis.RegistroXML:\n",
    "            count += 1\n",
    "            #parsingDatabaseUtils.prettyPrintXML(processedDatasets[c].epicrisis.RegistroXML)\n",
    "    except:\n",
    "        pass"
   ]
  },
  {
   "cell_type": "code",
   "execution_count": null,
   "metadata": {},
   "outputs": [],
   "source": [
    "df.to_csv('test.csv')"
   ]
  },
  {
   "cell_type": "code",
   "execution_count": null,
   "metadata": {},
   "outputs": [],
   "source": [
    "c = list(processedDatasets.keys())[244]\n",
    "parsingDatabaseUtils.prettyPrintXML(processedDatasets[c].epicrisis.RegistroXML)"
   ]
  },
  {
   "cell_type": "code",
   "execution_count": null,
   "metadata": {},
   "outputs": [],
   "source": [
    "import cProfile"
   ]
  },
  {
   "cell_type": "code",
   "execution_count": null,
   "metadata": {},
   "outputs": [],
   "source": [
    "paraClinics = {}\n",
    "for c, p in tqdm.tqdm_notebook(processedDatasets.items()):\n",
    "    if p.epicrisis is None:\n",
    "        continue\n",
    "    d =parseParaclinics(p.epicrisis)\n",
    "    paraClinics[c] = paraclinicsToDF(parseParaclinics(p.epicrisis))\n"
   ]
  },
  {
   "cell_type": "code",
   "execution_count": null,
   "metadata": {},
   "outputs": [],
   "source": [
    "dfParaClinics.noParaclinicalTestsConfirmed.value_counts()"
   ]
  },
  {
   "cell_type": "code",
   "execution_count": null,
   "metadata": {},
   "outputs": [],
   "source": [
    "dfParaClinics = pandas.DataFrame.from_dict(paraClinics, orient = 'index')\n",
    "dfParaClinics = dfParaClinics[sorted(dfParaClinics.columns)]\n",
    "dfParaClinics.to_csv('paraclinics.csv')"
   ]
  },
  {
   "cell_type": "code",
   "execution_count": null,
   "metadata": {},
   "outputs": [],
   "source": [
    "for p, d in processedDatasets.items():\n",
    "    break"
   ]
  },
  {
   "cell_type": "code",
   "execution_count": null,
   "metadata": {},
   "outputs": [],
   "source": [
    "getMedicamentsAndpProcedures(d.epicrisis)"
   ]
  },
  {
   "cell_type": "code",
   "execution_count": null,
   "metadata": {},
   "outputs": [],
   "source": [
    "from html.parser import HTMLParser\n",
    "pars =HTMLParser()\n",
    "\n",
    "def splitByDate(txt):\n",
    "    txt = pars.unescape(txt)\n",
    "    txtByDate = txt.split('Fecha:')\n",
    "    txtByDate = map(lambda s: s.strip(), txtByDate)\n",
    "    txtByDate = {m.split()[0] : m for m in txtByDate if m}\n",
    "            print(m)\n",
    "\n",
    "    processedByDate = {}\n",
    "    for v,m in txtByDate.items():\n",
    "        processedByDate[v] =  re.findall('-([0-9a-zA-Z\\- ]+) - (.+?)- Cantidad: ([0-9]+)', m, re.MULTILINE)\n",
    "    return processedByDate\n",
    "def getMedicamentsAndpProcedures(epicrisis):\n",
    "    et = ET.fromstring(epicrisis.RegistroXML)\n",
    "    medicamentos = parsingDatabaseUtils.findInXML('MedicamentosAdministrado' , et)\n",
    "    procedimientos = parsingDatabaseUtils.findInXML('ProcedimientosAsociados' , et)\n",
    "    #return medicamentos, procedimientos\n",
    "    return splitByDate(medicamentos), splitByDate(procedimientos)"
   ]
  },
  {
   "cell_type": "code",
   "execution_count": null,
   "metadata": {},
   "outputs": [],
   "source": [
    "parsingDatabaseUtils.prettyPrintXML(d.epicrisis.RegistroXML)"
   ]
  },
  {
   "cell_type": "code",
   "execution_count": null,
   "metadata": {},
   "outputs": [],
   "source": [
    "for c, p in paraClinics.items():\n",
    "    if len(p) != 1:\n",
    "        print(paraClinics[c]['text'])\n",
    "        print('-----------------')\n",
    "        for k in p:\n",
    "            if k != 'text':\n",
    "                print(k, p[k])\n",
    "        print('-----------------')"
   ]
  },
  {
   "cell_type": "code",
   "execution_count": null,
   "metadata": {},
   "outputs": [],
   "source": [
    "def merge2DF(df1, df2):\n",
    "    \"\"\"\n",
    "    Returns the merge of 2 df with the same index (1 to 1)\n",
    "    In case of columns with the same name, check if the values are the same (or one of them is NA)\n",
    "    Creates new error column to see where there has been problems\n",
    "    \"\"\"\n",
    "    pass"
   ]
  },
  {
   "cell_type": "markdown",
   "metadata": {},
   "source": [
    "# Check failures"
   ]
  },
  {
   "cell_type": "code",
   "execution_count": null,
   "metadata": {},
   "outputs": [],
   "source": [
    "import dateparser"
   ]
  },
  {
   "cell_type": "code",
   "execution_count": null,
   "metadata": {},
   "outputs": [],
   "source": [
    "str(dateparser.parse('4/4/17'))"
   ]
  },
  {
   "cell_type": "code",
   "execution_count": null,
   "metadata": {},
   "outputs": [],
   "source": [
    "epi = processedDatasets[list(processedDatasets.keys())[672]].epicrisis"
   ]
  },
  {
   "cell_type": "code",
   "execution_count": null,
   "metadata": {},
   "outputs": [],
   "source": [
    "antecedentes = parsingDatabaseUtils.findInXML('AntecedentesHTML', epi.RegistroXML)"
   ]
  },
  {
   "cell_type": "code",
   "execution_count": null,
   "metadata": {},
   "outputs": [],
   "source": [
    "importlib.reload(parsingDatabaseUtils)\n",
    "parsingDatabaseUtils.parseEchographies(antecedentes, cleanText=True)"
   ]
  },
  {
   "cell_type": "code",
   "execution_count": null,
   "metadata": {},
   "outputs": [],
   "source": [
    "re.findall(parsingDatabaseUtils.date, '6 de marzo de 1995', re.IGNORECASE)"
   ]
  },
  {
   "cell_type": "code",
   "execution_count": null,
   "metadata": {},
   "outputs": [],
   "source": [
    "import importlib\n",
    "importlib.reload(parsingDatabaseUtils)\n",
    "pp = parsingDatabaseUtils.prettyPrintXML"
   ]
  },
  {
   "cell_type": "code",
   "execution_count": null,
   "metadata": {},
   "outputs": [],
   "source": []
  },
  {
   "cell_type": "code",
   "execution_count": null,
   "metadata": {},
   "outputs": [],
   "source": [
    "registros.loc[registros.Caso == 'AD348509']"
   ]
  },
  {
   "cell_type": "code",
   "execution_count": null,
   "metadata": {},
   "outputs": [],
   "source": []
  }
 ],
 "metadata": {
  "kernelspec": {
   "display_name": "Python 3",
   "language": "python",
   "name": "python3"
  },
  "language_info": {
   "codemirror_mode": {
    "name": "ipython",
    "version": 3
   },
   "file_extension": ".py",
   "mimetype": "text/x-python",
   "name": "python",
   "nbconvert_exporter": "python",
   "pygments_lexer": "ipython3",
   "version": "3.6.10"
  }
 },
 "nbformat": 4,
 "nbformat_minor": 4
}
