{
 "cells": [
  {
   "cell_type": "code",
   "execution_count": null,
   "metadata": {
    "Collapsed": "false"
   },
   "outputs": [],
   "source": [
    "import pandas, numpy as np,re\n",
    "import tqdm\n",
    "import collections\n",
    "import xml, itertools, re, xml.etree.ElementTree as ET\n",
    "from html.parser import HTMLParser\n",
    "floatParse = '[0-9]*[\\.,]?[0-9]+'\n",
    "\n",
    "import datetime, tqdm\n",
    "pars =HTMLParser()\n",
    "def findInXML(s, et): \n",
    "    if isinstance(et, str):\n",
    "        raise ValueError('et should be a tree, not a string')\n",
    "    r =et.find('.//row[@NombreCampo=\"%s\"]' % s)\n",
    "    if r is not None:\n",
    "        return r.get('ValorCampo')\n",
    "    return None\n",
    "def prettyPrintXML(s):\n",
    "    r = xml.dom.minidom.parseString(s) #r.RegistroXML)\n",
    "    print(pars.unescape(r.toprettyxml()))\n",
    "    \n",
    "import re\n",
    "# Maybe I should start tokenizing\n",
    "cleanWhites = re.compile(\"[^\\S\\n]+\")\n",
    "import unicodedata\n",
    "def remove_diacritics(text):\n",
    "    \"\"\"\n",
    "    Returns a string with all diacritics (aka non-spacing marks) removed.\n",
    "    For example \"Héllô\" will become \"Hello\".\n",
    "    Useful for comparing strings in an accent-insensitive fashion.\n",
    "    \"\"\"\n",
    "    normalized = unicodedata.normalize(\"NFKD\", text)\n",
    "    return \"\".join(c for c in normalized if unicodedata.category(c) != \"Mn\")\n",
    "\n",
    "def cleanString(text, removeChars = '-:,;', removeWords = []):\n",
    "    for c in removeChars:\n",
    "        text = re.sub('(?<![0-9])\\%s' %c, ' ',  text)\n",
    "        text = re.sub('\\%s(?![0-9])' %c, ' ',  text)\n",
    "\n",
    "    text = cleanWhites.sub(' ', text)\n",
    "    for w in removeWords:\n",
    "        text = text.replace(' ' + w + ' ', ' ')\n",
    "    return text.strip()"
   ]
  },
  {
   "cell_type": "markdown",
   "metadata": {
    "Collapsed": "false"
   },
   "source": [
    "# Read\n",
    "- FC \n",
    "- FR\n",
    "- T"
   ]
  },
  {
   "cell_type": "code",
   "execution_count": null,
   "metadata": {
    "Collapsed": "false"
   },
   "outputs": [],
   "source": [
    "casos = pandas.read_csv('casos2019/casos.csv', index_col = 0)\n",
    "pacientes = pandas.read_csv('casos2019/pacientes.csv', index_col = 0)\n",
    "registros = pandas.read_csv('casos2019/registros.csv', index_col = 0)\n",
    "diagnosis = pandas.read_csv('Venezolanas/diagnosis.csv', index_col = 0)\n",
    "procedimientos = pandas.read_csv('casos2019/procedimientos.csv', index_col = 0)\n",
    "procedimientosDesc = pandas.read_csv('Venezolanas/procedimientosID.csv', index_col = 0)\n",
    "medidas = pandas.read_csv('casos2019/enfermeriaMedidas.csv', index_col = 0)"
   ]
  },
  {
   "cell_type": "code",
   "execution_count": null,
   "metadata": {
    "Collapsed": "false"
   },
   "outputs": [],
   "source": [
    "registrosByCasos = registros.groupby('Caso')"
   ]
  },
  {
   "cell_type": "code",
   "execution_count": null,
   "metadata": {
    "Collapsed": "false"
   },
   "outputs": [],
   "source": [
    "def identifyPressureInText(text):\n",
    "    text = cleanString(text).upper()\n",
    "    return re.findall('(?:TA|PA|TENSION|PRESION)\\s*([0-9]+)[-/]([0-9]+)\\s*MMHG', text )\n",
    "    \n",
    "def identifyHRInText(text):\n",
    "    text = cleanString(text).upper()\n",
    "    return re.findall('(?:FC)\\s*([0-9]+)', text )\n",
    "\n",
    "def identifyRRInText(text):\n",
    "    text = cleanString(text).upper()\n",
    "    return re.findall('(?:FR)\\s*([0-9]+)', text )\n",
    "\n",
    "def identifyTInText(text):\n",
    "    text = cleanString(text).upper()\n",
    "    return re.findall('(?:T)\\s*(%s)' % floatParse, text )\n"
   ]
  },
  {
   "cell_type": "code",
   "execution_count": null,
   "metadata": {
    "Collapsed": "false"
   },
   "outputs": [],
   "source": [
    "for c in registrosByCasos.groups.keys():\n",
    "    if c.startswith('TRI'):\n",
    "        continue\n",
    "    print(c)"
   ]
  },
  {
   "cell_type": "code",
   "execution_count": null,
   "metadata": {
    "Collapsed": "false"
   },
   "outputs": [],
   "source": [
    "def isMaternal(c, registers, raiseError = False):\n",
    "    \"\"\"\n",
    "    Gets whether the record is of the mother or the newborn\n",
    "    \n",
    "    TODO: double check\n",
    "    \"\"\"\n",
    "    asunto = remove_diacritics(str(c.Asunto)).lower()\n",
    "    try:\n",
    "        if 'neonato' in asunto or 'nacido' in asunto: \n",
    "            return  False\n",
    "        elif 'Registro del recién nacido' == registros.loc[int(c.Padre)].Asunto:\n",
    "            return False\n",
    "        else:\n",
    "            return True\n",
    "    except KeyError as e:\n",
    "        if raiseError:\n",
    "            raise(e)\n",
    "        else:\n",
    "            return True"
   ]
  },
  {
   "cell_type": "code",
   "execution_count": null,
   "metadata": {
    "Collapsed": "false"
   },
   "outputs": [],
   "source": [
    "def identifyPressureInText(text):\n",
    "    text = cleanString(text).upper()\n",
    "    return re.findall('(?:TA|PA|TENSION|PRESION)\\s*([0-9]+)[-/]([0-9]+)\\s*MMHG', text )\n",
    "    \n",
    "def identifyHRInText(text):\n",
    "    text = cleanString(text).upper()\n",
    "    return re.findall('(?:FC)\\s*([0-9]+)', text )\n",
    "\n",
    "def identifyRRInText(text):\n",
    "    text = cleanString(text).upper()\n",
    "    return re.findall('(?:FR)\\s*([0-9]+)', text )\n",
    "\n",
    "def identifyTInText(text):\n",
    "    text = cleanString(text).upper()\n",
    "    return re.findall('(?:T)\\s*(%s)' % floatParse, text )\n",
    "\n",
    "\n",
    "def parseVitalSignsFromRegister(r):\n",
    "    res = {}\n",
    "    et = ET.fromstring(r.RegistroXML)\n",
    "    fecha = r.FechaAsignacionRegistro\n",
    "    txt = fullCleanTxt(findInXML('DescripcionNota', et))\n",
    "\n",
    "    # Pressure\n",
    "    pressure = findInXML('Presion', et)\n",
    "    if not pressure or pressure == '/':\n",
    "        if txt:\n",
    "            pressure = identifyPressureInText(txt)\n",
    "            if pressure:\n",
    "                pressure = '/'.join(pressure[0])\n",
    "    if pressure:\n",
    "        res['P'[ = (fecha, pressure)\n",
    "\n",
    "    # FC\n",
    "    fc = findInXML('FrecuenciaCardiaca', et)\n",
    "    if not fc:\n",
    "        if txt:\n",
    "            fc = identifyHRInText(txt)\n",
    "            if fc:\n",
    "                fc = fc[0]\n",
    "    if fc:\n",
    "        res['hr'] = (fecha, fc)\n",
    "\n",
    "    # RR\n",
    "    rr = findInXML('FrecuenciaRespiratoria', et)\n",
    "    if not rr:\n",
    "        if txt:\n",
    "            rr = identifyRRInText(txt)\n",
    "            if rr:\n",
    "                rr = rr[0]\n",
    "    if rr:\n",
    "        res['rr'] = (fecha, fc)\n",
    "\n",
    "    # T    \n",
    "    temperature = findInXML('Temperatura', et)\n",
    "    if not temperature or temperature == '/':\n",
    "        if txt:\n",
    "            temperature = identifyTInText(txt)\n",
    "            if temperature:\n",
    "                temperature = temperature[0]\n",
    "    if temperature:\n",
    "        res['T'] = (fecha, temperatureture)\n",
    "    return res\n"
   ]
  },
  {
   "cell_type": "code",
   "execution_count": null,
   "metadata": {
    "Collapsed": "false"
   },
   "outputs": [],
   "source": [
    "c = 'AD348292'\n",
    "allPressuresAllCases = collections.defaultdict(list)\n",
    "allHRAllCases = collections.defaultdict(list)\n",
    "allRRAllCases = collections.defaultdict(list)\n",
    "allTAllCases = collections.defaultdict(list)\n",
    "\n",
    "for c in tqdm.tqdm_notebook(registrosByCasos.groups.keys()):\n",
    "    if c.startswith('TRI'):\n",
    "        continue\n",
    "    allPressures = []\n",
    "    allTs = []\n",
    "    allRR = []\n",
    "    allHR = []\n",
    "\n",
    "    for _, row in registrosByCasos.get_group(c).iterrows():\n",
    "        #Check whether report is of newborn or of the mother\n",
    "        if not isMaternal(row, registros):\n",
    "            continue\n",
    "        r = row.RegistroXML\n",
    "        et = ET.fromstring(r)\n",
    "        fecha = row.FechaAsignacionRegistro\n",
    "        txt = remove_diacritics(findInXML('DescripcionNota', et))\n",
    "\n",
    "        # Pressure\n",
    "        pressure = findInXML('Presion', et)\n",
    "        if not pressure or pressure == '/':\n",
    "            if txt:\n",
    "                pressure = identifyPressureInText(txt)\n",
    "                if pressure:\n",
    "                    pressure = '/'.join(pressure[0])\n",
    "        if pressure:\n",
    "            allPressures.append([fecha, pressure])\n",
    "            \n",
    "        # FC\n",
    "        fc = findInXML('FrecuenciaCardiaca', et)\n",
    "        if not fc:\n",
    "            if txt:\n",
    "                fc = identifyHRInText(txt)\n",
    "                if fc:\n",
    "                    fc = fc[0]\n",
    "        if fc:\n",
    "            allHR.append([fecha, fc])\n",
    "\n",
    "        # RR\n",
    "        rr = findInXML('FrecuenciaRespiratoria', et)\n",
    "        if not rr:\n",
    "            if txt:\n",
    "                rr = identifyRRInText(txt)\n",
    "                if rr:\n",
    "                    rr = rr[0]\n",
    "        if rr:\n",
    "            allRR.append([fecha, rr])\n",
    "\n",
    "        # T    \n",
    "        temperature = findInXML('Temperatura', et)\n",
    "        if not temperature or temperature == '/':\n",
    "            if txt:\n",
    "                temperature = identifyTInText(txt)\n",
    "                if temperature:\n",
    "                    temperature = temperature[0]\n",
    "        if temperature:\n",
    "            allTs.append([fecha, temperature])\n",
    "\n",
    "    allPressuresAllCases[c] = allPressures\n",
    "    allTAllCases[c] = allTs\n",
    "    allHRAllCases[c] = allHR    \n",
    "    allRRAllCases[c] = allRR"
   ]
  },
  {
   "cell_type": "code",
   "execution_count": null,
   "metadata": {
    "Collapsed": "false"
   },
   "outputs": [],
   "source": [
    "for p in allHRAllCases:\n",
    "    if len(allRRAllCases[c]) != len(allPressuresAllCases[c]):\n",
    "        print(p)"
   ]
  },
  {
   "cell_type": "code",
   "execution_count": null,
   "metadata": {
    "Collapsed": "false"
   },
   "outputs": [],
   "source": [
    "medidasGrouped = medidas.groupby(['IdAdmision', 'Fecha'])\n"
   ]
  },
  {
   "cell_type": "code",
   "execution_count": null,
   "metadata": {
    "Collapsed": "false"
   },
   "outputs": [],
   "source": [
    "for (c, date) in tqdm.tqdm_notebook(medidasGrouped.groups.keys()):\n",
    "    if date != date:\n",
    "        continue\n",
    "    m = medidasGrouped.get_group((c, date))\n",
    "    if any(m.CodSignoVitalTipo == 'PRSI') and  any(m.CodSignoVitalTipo == 'PRDI'):\n",
    "        tas = m[m.CodSignoVitalTipo == 'PRSI'].iloc[0].Valor\n",
    "        tad = m[m.CodSignoVitalTipo == 'PRDI'].iloc[0].Valor\n",
    "    elif any(m.CodSignoVitalTipo == 'PAS') and  any(m.CodSignoVitalTipo == 'PAS'):\n",
    "        tas = m[m.CodSignoVitalTipo == 'PAS'].iloc[0].Valor\n",
    "        tad = m[m.CodSignoVitalTipo == 'PAD'].iloc[0].Valor\n",
    "    else:\n",
    "        tas, tad = None, None\n",
    "    if tas and tad:\n",
    "        allPressuresAllCases[c].append([date, '%d/%d' % (tas, tad)])\n",
    "\n",
    "    # FC\n",
    "    if any(m.CodSignoVitalTipo == 'FRCA'):\n",
    "        fc = m[m.CodSignoVitalTipo == 'FRCA'].iloc[0].Valor\n",
    "    elif any(m.CodSignoVitalTipo == 'FC'):\n",
    "        fc = m[m.CodSignoVitalTipo == 'FC'].iloc[0].Valor\n",
    "    else:\n",
    "        fc = None\n",
    "    \n",
    "    if fc:\n",
    "        allHRAllCases[c].append([date, '%d' % (fc)])\n",
    "        \n",
    "    # RR\n",
    "    if any(m.CodSignoVitalTipo == 'FRRE'):\n",
    "        rr = m[m.CodSignoVitalTipo == 'FRRE'].iloc[0].Valor\n",
    "    elif any(m.CodSignoVitalTipo == 'FR'):\n",
    "        rr = m[m.CodSignoVitalTipo == 'FR'].iloc[0].Valor\n",
    "    else:\n",
    "        rr = None\n",
    "        \n",
    "    if rr:\n",
    "        allRRAllCases[c].append([date, rr])\n",
    "\n",
    "    # T\n",
    "    if any(m.CodSignoVitalTipo == 'T'):\n",
    "        t = m[m.CodSignoVitalTipo == 'T'].iloc[0].Valor\n",
    "    else:\n",
    "        t = None\n",
    "    if t:\n",
    "        allTAllCases[c].append([date, '%f' % t])\n"
   ]
  },
  {
   "cell_type": "code",
   "execution_count": null,
   "metadata": {
    "Collapsed": "false"
   },
   "outputs": [],
   "source": [
    "class MeasurementsByDay():\n",
    "    def __init__(self, name = 'pressure'):\n",
    "        self.maxVals = collections.defaultdict(lambda: 0) \n",
    "        self.minVals = collections.defaultdict(lambda: 1000) \n",
    "        self.name = name\n",
    "    def addMeasurement(self, date, p):\n",
    "        date =  datetime.datetime.strptime(date.split()[0], '%Y-%m-%d')\n",
    "        if  not isinstance(p, str) or '/' not in p:\n",
    "            p = '%s/%s' % (p, p)\n",
    "        maxVal, minVal = p.split('/')\n",
    "        maxVal, minVal = float(maxVal.replace(',','')), float(minVal.replace(',',''))\n",
    "        if maxVal and minVal:\n",
    "            self.maxVals[date] = max(self.maxVals[date], maxVal)\n",
    "            self.minVals[date] = min(self.minVals[date], minVal)\n",
    "    def toDict(self):\n",
    "        res = {}\n",
    "        for i, d in enumerate(sorted(self.maxVals.keys())):\n",
    "            res['day_%03d_%s' % (i, self.name)] = str(self.maxVals[d]) + '/' +  str(self.minVals[d])\n",
    "            res['day_%03d' % i] = d\n",
    "\n",
    "        return res"
   ]
  },
  {
   "cell_type": "code",
   "execution_count": null,
   "metadata": {
    "Collapsed": "false"
   },
   "outputs": [],
   "source": [
    "import datetime\n",
    "measurements = {}\n",
    "for c, v in tqdm.tqdm_notebook(allPressuresAllCases.items()):\n",
    "    pdP = MeasurementsByDay('Presion')\n",
    "    pdT = MeasurementsByDay('Temperatura')\n",
    "    pdHR = MeasurementsByDay('Frec. Cardi.')\n",
    "    pdRR = MeasurementsByDay('Frec. resp.')\n",
    "    for (d, p) in v:\n",
    "        if p == '/':\n",
    "            continue\n",
    "        pdP.addMeasurement(d, p)\n",
    "        \n",
    "    for (d, p) in allTAllCases[c]:\n",
    "        pdT.addMeasurement(d, p)\n",
    "        \n",
    "    for (d, p) in allHRAllCases[c]:\n",
    "        pdHR.addMeasurement(d, p)\n",
    "        \n",
    "    for (d, p) in allRRAllCases[c]:\n",
    "        pdRR.addMeasurement(d, p)\n",
    "\n",
    "    measurements[c] = pdP.toDict()\n",
    "    measurements[c].update(pdT.toDict())\n",
    "    measurements[c].update(pdHR.toDict())\n",
    "    measurements[c].update(pdRR.toDict())\n"
   ]
  },
  {
   "cell_type": "code",
   "execution_count": null,
   "metadata": {
    "Collapsed": "false"
   },
   "outputs": [],
   "source": [
    "df = pandas.DataFrame.from_dict({ k:v  for k, v in measurements.items()} , orient = 'index').sort_index(axis = 1)\n",
    "df.to_csv('maxMinMeasurements.csv')"
   ]
  },
  {
   "cell_type": "code",
   "execution_count": null,
   "metadata": {
    "Collapsed": "false"
   },
   "outputs": [],
   "source": [
    "import parsingDatabaseUtils, importlib\n",
    "importlib.reload(parsingDatabaseUtils)\n",
    "r = registros.loc[1365341]\n",
    "rET = ET.fromstring(r.RegistroXML)\n",
    "rTxt = parsingDatabaseUtils.fullCleanTxt(parsingDatabaseUtils.findInXML('AntecedentesHTML', rET))\n",
    "rTxt = parsingDatabaseUtils.removeWords(rTxt, ['de', 'y', 'a', 'el', 'los'])\n",
    "\n",
    "print(rTxt)"
   ]
  },
  {
   "cell_type": "code",
   "execution_count": null,
   "metadata": {
    "Collapsed": "false"
   },
   "outputs": [],
   "source": [
    "import parsingDatabaseUtils\n",
    "\n",
    "date =  '\\(?' +  '((?:[0-9]+)'+ sep + separadorFecha + sep + '(?:[0-9]+|%s)'%  '|'.join(meses) + \\\n",
    "                       sep + separadorFecha + sep + '(?:[0-9]+))' + '\\)?' \n",
    "\n",
    "# read paraclinics. Assume that the date is just before them, or in the same line\n",
    "\n",
    "pos = ['pos', '\\+', 'reac']\n",
    "neg = ['neg', '-', 'no']\n",
    "vih1  = 'vih\\s*[1i]'\n",
    "vih2 = 'vih\\s*(:?2|ii)'\n",
    "vih12 = 'vih\\s*[1i]\\s*(:?2|ii)'\n",
    "prt = '(:?PRUEBA RAPIDA TREPONEMICA|PRT)'\n",
    "vdrl = '(:?VDRL)'\n",
    "\n",
    "hematology = {\n",
    "'HCT' : '(HCT|HTO|HEMATO[A-Z]*)',\n",
    "'HB' : '(HB|HEMOGLOB[A-Z]*)',\n",
    "'LEU' : '(LEU[A-Z]*)',\n",
    "'NEU' : '(NEU[A-Z]*)',\n",
    "'LIN' : '(LIN[A-Z]*)',\n",
    "'MONO' : '(MONO[A-Z]*)',\n",
    "'PLAQ' : '(PL[A-Z]*)'}"
   ]
  },
  {
   "cell_type": "code",
   "execution_count": null,
   "metadata": {
    "Collapsed": "false"
   },
   "outputs": [],
   "source": [
    "date =  '\\(?' +  '((?:[0-9]+)'+ sep + separadorFecha + sep + '(?:[0-9]+|%s)'%  '|'.join(meses) + \\\n",
    "                       sep + separadorFecha + sep + '(?:[0-9]+))' + '\\)?' \n",
    "\n",
    "# read paraclinics. Assume that the date is just before them, or in the same line\n",
    "\n",
    "pos = ['pos', '\\+', 'reac']\n",
    "neg = ['neg', '-', 'no']\n",
    "vih1  = 'vih\\s*[1i]'\n",
    "vih2 = 'vih\\s*(:?2|ii)'\n",
    "vih12 = 'vih\\s*[1i]\\s*(:?2|ii)'\n",
    "prt = '(:?PRUEBA RAPIDA TREPONEMICA|PRT)'\n",
    "vdrl = '(:?VDRL)'\n",
    "\n",
    "hematology = {\n",
    "'HCT' : '(HCT|HTO|HEMATO[A-Z]*)',\n",
    "'HB' : '(HB|HEMOGLOB[A-Z]*)',\n",
    "'LEU' : '(LEU[A-Z]*)',\n",
    "'NEU' : '(NEU[A-Z]*)',\n",
    "'LIN' : '(LIN[A-Z]*)',\n",
    "'MONO' : '(MONO[A-Z]*)',\n",
    "'PLAQ' : '(PL[A-Z]*)'}\n",
    "\n",
    "meses = ['ENERO', 'FEBRERO', 'MARZO', 'ABRIL', 'MAYO', 'JUNIO', 'JULIO', 'AGOSTO', 'SEPTIEMBRE', 'OCTUBRE', 'NOVIEMBRE', 'DICIEMBRE']\n",
    "meses = meses + list(map(lambda s: s[:3], meses))\n",
    "sep= '\\s*[,;:]?\\s*'\n",
    "separadorFecha = '(?:[\\.\\\\/-]|DE|DEL|\\s)'\n",
    "date =  '\\(?' +  '((?:[0-9]+)'+ sep + separadorFecha + sep + '(?:[0-9]+|%s)'%  '|'.join(meses) + \\\n",
    "                       sep + separadorFecha + sep + '(?:[0-9]+))' + '\\)?' \n",
    "\n",
    "def parseParaclinics(r):\n",
    "    if isinstance(r, str):\n",
    "        rET = ET.fromstring(r.RegistroXML)\n",
    "        rTxt = parsingDatabaseUtils.fullCleanTxt(parsingDatabaseUtils.findInXML('AntecedentesHTML', rET))\n",
    "        rTxt = parsingDatabaseUtils.removeWords(rTxt, ['de', 'y', 'a', 'el', 'los'])\n",
    "    else:\n",
    "        rTxt = r\n",
    "    results = collections.defaultdict(dict)\n",
    "    for i, l in enumerate(rTxt.splitlines()):\n",
    "        d = re.findall(date, l)\n",
    "        if len(d) == 1.:\n",
    "            lastDate = d[0]\n",
    "        elif len(d):\n",
    "            lastDate = None\n",
    "        if len(d) <= 1:\n",
    "            #Hematology\n",
    "            for p, v in hematology.items():\n",
    "                hematologyRes = re.findall('%s (%s)' % (v, floatParse), l, re.IGNORECASE)\n",
    "                if hematologyRes:\n",
    "                    results[lastDate][p] = hematologyRes[0][1]\n",
    "\n",
    "            #sifilis\n",
    "            sif1 = vdrl + \" (%s)\" % '|'.join(pos + neg)\n",
    "            searchSif1 = re.findall(sif1, l, re.IGNORECASE)\n",
    "            sif2 = prt + \" (%s)\" % '|'.join(pos + neg)    \n",
    "            searchSif2 = re.findall(sif2, l, re.IGNORECASE)\n",
    "            if searchSif1:\n",
    "                results[lastDate]['vdrl'] =searchSif1[0][1]\n",
    "            if searchSif2:\n",
    "                results[lastDate]['prt'] =searchSif2[0][1]\n",
    "            # TODO: vih\n",
    "    return results"
   ]
  },
  {
   "cell_type": "code",
   "execution_count": null,
   "metadata": {
    "Collapsed": "false"
   },
   "outputs": [],
   "source": [
    "for p, m in "
   ]
  },
  {
   "cell_type": "code",
   "execution_count": null,
   "metadata": {
    "Collapsed": "false"
   },
   "outputs": [],
   "source": [
    "df"
   ]
  },
  {
   "cell_type": "code",
   "execution_count": null,
   "metadata": {
    "Collapsed": "false"
   },
   "outputs": [],
   "source": []
  }
 ],
 "metadata": {
  "kernelspec": {
   "display_name": "Python 3",
   "language": "python",
   "name": "python3"
  },
  "language_info": {
   "codemirror_mode": {
    "name": "ipython",
    "version": 3
   },
   "file_extension": ".py",
   "mimetype": "text/x-python",
   "name": "python",
   "nbconvert_exporter": "python",
   "pygments_lexer": "ipython3",
   "version": "3.7.4"
  }
 },
 "nbformat": 4,
 "nbformat_minor": 4
}
