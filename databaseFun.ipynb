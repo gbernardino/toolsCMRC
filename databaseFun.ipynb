{
 "cells": [
  {
   "cell_type": "code",
   "execution_count": 1,
   "metadata": {},
   "outputs": [],
   "source": [
    "import sys, os, io\n",
    "import pyodbc, pandas\n",
    "import datetime"
   ]
  },
  {
   "cell_type": "code",
   "execution_count": 2,
   "metadata": {},
   "outputs": [],
   "source": [
    "def writeInChunks(path, sql, cnxn, chunksize = 10000):\n",
    "    \"\"\"\n",
    "    Writes an sql in chunk to avoid memory problems\n",
    "    \"\"\" \n",
    "    with io.open(path, \"w\", encoding=\"utf-8\") as fh:\n",
    "        chunks = pandas.read_sql_query(sql, cnxn, chunksize=chunksize)\n",
    "        next(chunks).to_csv(fh, index=False)  # write the first chunk with the column names,\n",
    "                                              # but ignore the index (which will be screwed up anyway due to the chunking)\n",
    "       \n",
    "        for chunk in chunks:\n",
    "            print('Chunk written')\n",
    "            chunk.to_csv(fh, index=False, header=False) # skip the column names from now on\n"
   ]
  },
  {
   "cell_type": "code",
   "execution_count": 3,
   "metadata": {},
   "outputs": [],
   "source": [
    "cnxn = pyodbc.connect(driver='{SQL Server}',\n",
    "                      server= '192.168.27.210\\CMRC',\n",
    "                      database='SIOS1',\n",
    "                      uid='CI',\n",
    "                      pwd='123')\n",
    "cur = cnxn.cursor()"
   ]
  },
  {
   "cell_type": "code",
   "execution_count": 4,
   "metadata": {},
   "outputs": [],
   "source": [
    "sql = \"SELECT * FROM Casos WHERE Paciente IN ( SELECT Id FROM Pacientes WHERE Identificacion LIKE 'VEN%')\"\n"
   ]
  },
  {
   "cell_type": "code",
   "execution_count": 4,
   "metadata": {},
   "outputs": [
    {
     "name": "stdout",
     "output_type": "stream",
     "text": [
      "Chunk written\n"
     ]
    }
   ],
   "source": [
    "sqlVenezolanas = \"SELECT Id FROM Pacientes WHERE Identificacion LIKE 'VEN%'\"\n",
    "def downloadPatientsAndRegistersFromPatients(cnxn, sqlPatients, pathWriteFolder):\n",
    "    \"\"\"\n",
    "    Downloads  all the cases, registers and operations between two dates, plus/minus a certain slack to ensure all registers are fully recovered\n",
    "    \"\"\"\n",
    "    try:\n",
    "        os.mkdir(pathWriteFolder)\n",
    "    except:\n",
    "        pass\n",
    "    sqlRegistros =\"\"\"SELECT * FROM RegistrosHistoria where NumeroHistoria in (%s)  \"\"\" % (sqlPatients)\n",
    "    sqlCasos =\"\"\"SELECT * FROM Casos where Paciente in (%s) \"\"\" % (sqlPatients)\n",
    "    sqlProcedimientos =\"\"\"SELECT * FROM ProgramacionQx.DescripcionQuirurgica where IdPaciente  in (%s)\"\"\" % (sqlPatients)\n",
    "    sqlPacientes = \"\"\"SELECT * FROM PACIENTES WHERE Id in (%s)\"\"\" %  sqlPatients\n",
    "    \n",
    "    sqlCasosID =\"\"\"SELECT Caso FROM Casos where Paciente in (%s) \"\"\" % (sqlPatients)\n",
    "    sqlDatosEnfermeria = \"\"\"SELECT * FROM Enfermeria.SignosVitalesControl WHERE IdAdmision IN (%s)\"\"\" % (sqlCasosID)\n",
    "\n",
    "    \n",
    "    writeInChunks(os.path.join(pathWriteFolder,'registros.csv'), sqlRegistros, cnxn)\n",
    "    writeInChunks(os.path.join(pathWriteFolder,'casos.csv'), sqlCasos, cnxn)\n",
    "    writeInChunks(os.path.join(pathWriteFolder,'procedimientos.csv'), sqlProcedimientos, cnxn)\n",
    "    writeInChunks(os.path.join(pathWriteFolder,'pacientes.csv'), sqlPacientes, cnxn)\n",
    "    writeInChunks(os.path.join(pathWriteFolder,'enfermeriaMedidas.csv'), sqlDatosEnfermeria, cnxn)\n",
    "downloadPatientsAndRegistersFromPatients(cnxn, sqlVenezolanas, 'Venezolanas2')"
   ]
  },
  {
   "cell_type": "code",
   "execution_count": 14,
   "metadata": {},
   "outputs": [],
   "source": [
    "def downloadPatientsAndRegistersFromDate(cnxn, startDate, endDate, pathWriteFolder,  slackDays = 15):\n",
    "    \"\"\"\n",
    "    Downloads  all the cases, registers and operations between two dates, plus/minus a certain slack to ensure all registers are fully recovered\n",
    "    \"\"\"\n",
    "    try:\n",
    "        os.mkdir(pathWriteFolder)\n",
    "    except:\n",
    "        pass\n",
    "    slackDaysDT = datetime.timedelta(days = slackDays)\n",
    "    startDateDT = datetime.datetime.strptime(startDate, '%d/%m/%Y') + slackDaysDT\n",
    "    endDateDT = datetime.datetime.strptime(endDate, '%d/%m/%Y') + slackDaysDT\n",
    "    \n",
    "    startDateStr =  startDateDT.strftime(\"%Y-%d-%m\")\n",
    "    endDateStr =endDateDT.strftime(\"%Y-%d-%m\")\n",
    "    sqlRegistros =\"\"\"SELECT * FROM RegistrosHistoria where FechaAsignacionRegistro < '%s' AND FechaAsignacionRegistro > '%s' \"\"\" % (endDateStr, startDateStr)\n",
    "    sqlCasos =\"\"\"SELECT * FROM Casos where FechaHora < '%s' AND FechaHora > '%s' \"\"\" % (endDateStr, startDateStr)\n",
    "    sqlProcedimientos =\"\"\"SELECT * FROM ProgramacionQx.DescripcionQuirurgica where FechaDescripcion < '%s' AND FechaDescripcion > '%s' \"\"\" % (endDateStr, startDateStr)\n",
    "    sqlProcedimientosIDs = \"\"\"SELECT DISTINCT IdPaciente FROM ProgramacionQx.DescripcionQuirurgica where FechaDescripcion < '%s' AND FechaDescripcion > '%s' \"\"\" % (endDateStr, startDateStr)\n",
    "    sqlPacientes = \"\"\"SELECT * FROM PACIENTES WHERE Id in (%s)\"\"\" %  sqlProcedimientosIDs\n",
    "    \n",
    "    sqlCasosID =\"\"\"SELECT Caso FROM Casos where FechaHora < '%s' AND FechaHora > '%s' \"\"\" % (endDateStr, startDateStr)\n",
    "    sqlDatosEnfermeria = \"\"\"SELECT * FROM Enfermeria.SignosVitalesControl WHERE IdAdmision IN (%s)\"\"\" % (sqlCasosID)\n",
    "\n",
    "    \n",
    "    writeInChunks(os.path.join(pathWriteFolder,'registros.csv'), sqlRegistros, cnxn)\n",
    "    writeInChunks(os.path.join(pathWriteFolder,'casos.csv'), sqlCasos, cnxn)\n",
    "    writeInChunks(os.path.join(pathWriteFolder,'procedimientos.csv'), sqlProcedimientos, cnxn)\n",
    "    writeInChunks(os.path.join(pathWriteFolder,'pacientes.csv'), sqlPacientes, cnxn)\n",
    "    writeInChunks(os.path.join(pathWriteFolder,'enfermeriaMedidas.csv'), sqlDatosEnfermeria, cnxn)\n"
   ]
  },
  {
   "cell_type": "code",
   "execution_count": 15,
   "metadata": {
    "scrolled": true
   },
   "outputs": [
    {
     "name": "stdout",
     "output_type": "stream",
     "text": [
      "Chunk written\n",
      "Chunk written\n",
      "Chunk written\n",
      "Chunk written\n",
      "Chunk written\n",
      "Chunk written\n",
      "Chunk written\n",
      "Chunk written\n",
      "Chunk written\n",
      "Chunk written\n",
      "Chunk written\n",
      "Chunk written\n",
      "Chunk written\n",
      "Chunk written\n",
      "Chunk written\n",
      "Chunk written\n",
      "Chunk written\n",
      "Chunk written\n",
      "Chunk written\n",
      "Chunk written\n",
      "Chunk written\n",
      "Chunk written\n",
      "Chunk written\n",
      "Chunk written\n",
      "Chunk written\n",
      "Chunk written\n",
      "Chunk written\n",
      "Chunk written\n",
      "Chunk written\n",
      "Chunk written\n",
      "Chunk written\n",
      "Chunk written\n",
      "Chunk written\n",
      "Chunk written\n",
      "Chunk written\n",
      "Chunk written\n",
      "Chunk written\n",
      "Chunk written\n",
      "Chunk written\n",
      "Chunk written\n",
      "Chunk written\n",
      "Chunk written\n",
      "Chunk written\n",
      "Chunk written\n",
      "Chunk written\n",
      "Chunk written\n",
      "Chunk written\n",
      "Chunk written\n",
      "Chunk written\n",
      "Chunk written\n",
      "Chunk written\n",
      "Chunk written\n",
      "Chunk written\n",
      "Chunk written\n",
      "Chunk written\n",
      "Chunk written\n",
      "Chunk written\n",
      "Chunk written\n",
      "Chunk written\n",
      "Chunk written\n",
      "Chunk written\n",
      "Chunk written\n",
      "Chunk written\n",
      "Chunk written\n",
      "Chunk written\n"
     ]
    }
   ],
   "source": [
    "downloadPatientsAndRegistersFromDate(cnxn, '01/01/2019', '01/01/2020', 'casos2019')"
   ]
  },
  {
   "cell_type": "code",
   "execution_count": 101,
   "metadata": {},
   "outputs": [],
   "source": [
    "cnxn = pyodbc.connect('Driver={Microsoft Access Driver (*.mdb, *.accdb)};'+ \\\n",
    "                      'DBQ=C:\\\\sip\\\\SIP_Respaldo\\\\sip20200302.mdb;')"
   ]
  },
  {
   "cell_type": "code",
   "execution_count": 186,
   "metadata": {},
   "outputs": [],
   "source": [
    "df = pandas.read_csv('resultsSIP.csv', index_col = 0)\n",
    "df['ID01'] = df['VAR_0019'].map(lambda s: '000000000008060061-80000000000' + s)\n",
    "df['VAR_0198'] = df['VAR_0198'].map(lambda s: str(int(s)) if s == s else s)"
   ]
  },
  {
   "cell_type": "code",
   "execution_count": 187,
   "metadata": {},
   "outputs": [],
   "source": [
    "fullCols = list(map(lambda s: s, cursor.columns(table='nivel_N1')))\n",
    "colNames = list(map(lambda s: s[3], cursor.columns(table='nivel_N1')))\n",
    "cols = []\n",
    "values = []\n",
    "i = 0\n",
    "for c in colNames:\n",
    "    \n",
    "    if c in df and df.iloc[i][c] == df.iloc[i][c]:\n",
    "        cols.append(c)\n",
    "        values.append(df.iloc[i][c])"
   ]
  },
  {
   "cell_type": "code",
   "execution_count": 188,
   "metadata": {},
   "outputs": [
    {
     "data": {
      "text/plain": [
       "\"insert into nivel_N1(ID01,VAR_0006,VAR_0012,VAR_0013,VAR_0015,VAR_0018,VAR_0019,VAR_0020,VAR_0022,VAR_0024,VAR_0026,VAR_0028,VAR_0030,VAR_0032,VAR_0040,VAR_0041,VAR_0046,VAR_0047,VAR_0055,VAR_0056,VAR_0057,VAR_0059,VAR_0183,VAR_0198,VAR_0282,VAR_0283,VAR_0284,VAR_0287,VAR_0293,VAR_0297,VAR_0298,VAR_0310,VAR_0311,VAR_0313,VAR_0314,VAR_0321,VAR_0322,VAR_0343,VAR_0425) values ('000000000008060061-80000000000VEN25322789','1996-03-28 00:00:00','B','C','D','CMRC','VEN25322789','A','A','B','A','A','A','A','2.0','0.0','2.0','0.0','65.0','60.0','07/06/1954','A','2016-08-27 22:59:00','39','A','02:25 a.m.','28/08/2016','A','X','B','A','B','2100.0','31.0','43.0','6.0','9.0','A','2016-08-30')\""
      ]
     },
     "execution_count": 188,
     "metadata": {},
     "output_type": "execute_result"
    }
   ],
   "source": [
    "\"insert into nivel_N1(%s) values (\\'%s\\')\" % ( ','.join(cols), '\\',\\''.join(map(str,values)))"
   ]
  },
  {
   "cell_type": "code",
   "execution_count": 184,
   "metadata": {},
   "outputs": [],
   "source": [
    "v = \"insert into nivel_N1(ID01,VAR_0006,VAR_0012,VAR_0013,VAR_0015,VAR_0018,VAR_0019,VAR_0020,VAR_0022,VAR_0024,VAR_0026,VAR_0028,VAR_0030,VAR_0032,VAR_0040,VAR_0041,VAR_0046,VAR_0047,VAR_0055,VAR_0056,VAR_0057,VAR_0059,VAR_0183) values ('000000000008060061-80000000000VEN25322789','1996-03-28 00:00:00','B','C','D','CMRC','VEN25322789','A','A','B','A','A','A','A','2.0','0.0','2.0','0.0','65.0','60.0','07/06/1954','A','2016-08-27 22:59:00')\""
   ]
  },
  {
   "cell_type": "code",
   "execution_count": 185,
   "metadata": {},
   "outputs": [
    {
     "data": {
      "text/plain": [
       "<function Cursor.execute>"
      ]
     },
     "execution_count": 185,
     "metadata": {},
     "output_type": "execute_result"
    }
   ],
   "source": [
    "cursor.execute(\"delete from nivel_N1 where ID01='%s'\" % values[0])\n",
    "#cursor.execute(\"insert into nivel_N1(%s) values (\\'%s\\')\" % ( ','.join(cols[:23]), '\\',\\''.join(map(str,values[:23]))))\n",
    "cursor.execute"
   ]
  },
  {
   "cell_type": "code",
   "execution_count": 28,
   "metadata": {},
   "outputs": [],
   "source": [
    "cnxn = pyodbc.connect('Driver={Microsoft Access Driver (*.mdb, *.accdb)};'+ \\\n",
    "                      'DBQ=C:\\\\sip\\\\SIP_Respaldo\\\\sip20200302.mdb;')\n",
    "cursor = cnxn.cursor()\n",
    "for row in cursor.tables():\n",
    "    print (row.table_name)\n"
   ]
  },
  {
   "cell_type": "code",
   "execution_count": null,
   "metadata": {},
   "outputs": [],
   "source": [
    "cursor.execute(\"insert into nivel_N1(id, name) values ('pyodbc', 'awesome library')\")\n",
    "cnxn.commit()\n"
   ]
  },
  {
   "cell_type": "code",
   "execution_count": 5,
   "metadata": {},
   "outputs": [],
   "source": [
    "diagnosis =  pandas.read_sql_query('SELECT * FROM Procedimientos ', cnxn)\n",
    "diagnosis.to_csv('procedimientosID.csv', index=False)\n",
    "\n"
   ]
  },
  {
   "cell_type": "code",
   "execution_count": 4,
   "metadata": {},
   "outputs": [],
   "source": [
    "diagnosis =  pandas.read_sql_query('SELECT * FROM Diagnosticos ', cnxn)\n",
    "diagnosis.to_csv('diagnosis.csv', index=False) # skip the column names from now on\n"
   ]
  },
  {
   "cell_type": "code",
   "execution_count": null,
   "metadata": {},
   "outputs": [],
   "source": [
    "diagnosis =  pandas.read_sql_query('SELECT * FROM Diagnosticos ', cnxn)\n",
    "diagnosis.to_csv('diagnosis.csv', index=False) # skip the column names from now on\n"
   ]
  },
  {
   "cell_type": "code",
   "execution_count": 40,
   "metadata": {},
   "outputs": [
    {
     "data": {
      "text/html": [
       "<div>\n",
       "<style scoped>\n",
       "    .dataframe tbody tr th:only-of-type {\n",
       "        vertical-align: middle;\n",
       "    }\n",
       "\n",
       "    .dataframe tbody tr th {\n",
       "        vertical-align: top;\n",
       "    }\n",
       "\n",
       "    .dataframe thead th {\n",
       "        text-align: right;\n",
       "    }\n",
       "</style>\n",
       "<table border=\"1\" class=\"dataframe\">\n",
       "  <thead>\n",
       "    <tr style=\"text-align: right;\">\n",
       "      <th></th>\n",
       "      <th>CodDiag</th>\n",
       "      <th>Simbolo</th>\n",
       "      <th>Descrip</th>\n",
       "      <th>Sexo</th>\n",
       "      <th>LimInf</th>\n",
       "      <th>LimSup</th>\n",
       "      <th>NoAfeccion</th>\n",
       "      <th>Observacion</th>\n",
       "      <th>Clasificacion</th>\n",
       "    </tr>\n",
       "  </thead>\n",
       "  <tbody>\n",
       "    <tr>\n",
       "      <th>11989</th>\n",
       "      <td>Z370</td>\n",
       "      <td>None</td>\n",
       "      <td>NACIDO VIVO, UNICO</td>\n",
       "      <td>A</td>\n",
       "      <td>NaN</td>\n",
       "      <td>227.0</td>\n",
       "      <td>None</td>\n",
       "      <td>None</td>\n",
       "      <td>CIE10</td>\n",
       "    </tr>\n",
       "  </tbody>\n",
       "</table>\n",
       "</div>"
      ],
      "text/plain": [
       "      CodDiag Simbolo             Descrip Sexo  LimInf  LimSup NoAfeccion  \\\n",
       "11989    Z370    None  NACIDO VIVO, UNICO    A     NaN   227.0       None   \n",
       "\n",
       "      Observacion Clasificacion  \n",
       "11989        None         CIE10  "
      ]
     },
     "execution_count": 40,
     "metadata": {},
     "output_type": "execute_result"
    }
   ],
   "source": [
    "diagnosis.loc[diagnosis['CodDiag'] == 'Z370']"
   ]
  },
  {
   "cell_type": "code",
   "execution_count": 37,
   "metadata": {},
   "outputs": [
    {
     "name": "stdout",
     "output_type": "stream",
     "text": [
      "<?xml version=\"1.0\" ?>\n",
      "<C Asunto=\"Evoluci&amp;#243;n\" Caso=\"AD236491\" CentroA=\"01\" CodigoDiagnosticoRelacionado1=\"\" CodigoDiagnosticoRelacionado2=\"\" CodigoDiagnosticoRelacionado3=\"\" Diagnostico=\"O623\" IdPaciente=\"170478\" Modulo=\"01\" Padre=\"860231\" PlanAdm=\"480110\" Prestador=\"73102778\" Raiz=\"94\" Registro=\"106\">\n",
      "\t<row NombreCampo=\"DescripcionNota\" NombreTabla=\"CamposMemo\" ValorCampo=\"SE TRASLADA A SALA DE PARTO #1 PARA REALIZACION DE AMNIOTOMIA.&amp;lt;BR&amp;gt;EN POSICION DE LITOTOMIA PREVIA ASEPSIA, ANTISEPSIA CON PRESENCIA DE FRECUENCIA CARDIACA FETAL PREAMNIOTOMIA DE 142 LPM SE REALIZA AMNIOTOMIA OBTENIENDO LIQUIDO CLARO, EUTERMICO, NO FETIDO, EN ABUNDANTE CANTIDAD, SE VERICA FRECUENCIA CARDIACA FETAL POSTERIOR A LA AMNIOTOMIA EN 144LPM. CONTINUAR CON VIGILANCIA DE TRABAJO DE PARTO.\"/>\n",
      "\t<row NombreCampo=\"FechaNota\" NombreTabla=\"CamposFecha\" ValorCampo=\"06/07/2017 13:37\"/>\n",
      "\t<row NombreCampo=\"FechaEgreso\" NombreTabla=\"CamposFecha\" ValorCampo=\"\"/>\n",
      "\t<row NombreCampo=\"Autorizacion\" NombreTabla=\"CamposTexto\" ValorCampo=\"\"/>\n",
      "\t<row NombreCampo=\"CausaExterna\" NombreTabla=\"CamposTexto\" ValorCampo=\"\"/>\n",
      "\t<row NombreCampo=\"DiagnosticoPrincipal\" NombreTabla=\"CamposTexto\" ValorCampo=\"TRABAJO DE PARTO PRECIPITADO\"/>\n",
      "\t<row NombreCampo=\"DiagnosticoRelacionado1\" NombreTabla=\"CamposTexto\" ValorCampo=\"\"/>\n",
      "\t<row NombreCampo=\"DiagnosticoRealcionado2\" NombreTabla=\"CamposTexto\" ValorCampo=\"\"/>\n",
      "\t<row NombreCampo=\"DiagnosticoRealcionado3\" NombreTabla=\"CamposTexto\" ValorCampo=\"\"/>\n",
      "\t<row NombreCampo=\"CodigoCausaExterna\" NombreTabla=\"CamposTexto\" ValorCampo=\"\"/>\n",
      "\t<row NombreCampo=\"CodigoDiagnosticoPrincipal\" NombreTabla=\"CamposTexto\" ValorCampo=\"O623\"/>\n",
      "\t<row NombreCampo=\"CodigoDiagnosticoRelacionado1\" NombreTabla=\"CamposTexto\" ValorCampo=\"\"/>\n",
      "\t<row NombreCampo=\"CodigoDiagnosticoRealcionado2\" NombreTabla=\"CamposTexto\" ValorCampo=\"\"/>\n",
      "\t<row NombreCampo=\"CodigoDiagnosticoRealcionado3\" NombreTabla=\"CamposTexto\" ValorCampo=\"\"/>\n",
      "\t<row NombreCampo=\"EstadoSalida\" NombreTabla=\"CamposTexto\" ValorCampo=\"\"/>\n",
      "\t<row NombreCampo=\"DestinoPaciente\" NombreTabla=\"CamposTexto\" ValorCampo=\"\"/>\n",
      "\t<row NombreCampo=\"SigueObservacion\" NombreTabla=\"CamposBoolean\" ValorCampo=\"true\"/>\n",
      "\t<row NombreCampo=\"CodigoEstadoSalida\" NombreTabla=\"CamposTexto\" ValorCampo=\"\"/>\n",
      "\t<row NombreCampo=\"CodigoDestinoPaciente\" NombreTabla=\"CamposTexto\" ValorCampo=\"\"/>\n",
      "\t<row NombreCampo=\"CodigoPlanAdministradora\" NombreTabla=\"CamposTexto\" ValorCampo=\"480110|61\"/>\n",
      "\t<row NombreCampo=\"PlanAdministradora\" NombreTabla=\"CamposTexto\" ValorCampo=\"COMFAMILIAR CARTAGENA / COMFAMILIAR\"/>\n",
      "\t<row NombreCampo=\"FechaIngreso\" NombreTabla=\"CamposFecha\" ValorCampo=\"\"/>\n",
      "\t<row NombreCampo=\"Observacion\" NombreTabla=\"CamposTexto\" ValorCampo=\"\"/>\n",
      "\t<row NombreCampo=\"CodigoMuerte\" NombreTabla=\"CamposTexto\" ValorCampo=\"\"/>\n",
      "\t<row NombreCampo=\"DescripcionMuerte\" NombreTabla=\"CamposTexto\" ValorCampo=\"\"/>\n",
      "\t<row NombreCampo=\"Historico\" NombreTabla=\"CamposMemo\" ValorCampo=\"\n",
      "\n",
      "-Fecha: 06/07/2017 13:37     Prestador:FRANCISCO SALCEDO RAMOS\n",
      "Descripci&amp;#243;n: SE TRASLADA A SALA DE PARTO #1 PARA REALIZACION DE AMNIOTOMIA.&amp;lt;BR&amp;gt;EN POSICION DE LITOTOMIA PREVIA ASEPSIA, ANTISEPSIA CON PRESENCIA DE FRECUENCIA CARDIACA FETAL PREAMNIOTOMIA DE 142 LPM SE REALIZA AMNIOTOMIA OBTENIENDO LIQUIDO CLARO, EUTERMICO, NO FETIDO, EN ABUNDANTE CANTIDAD, SE VERICA FRECUENCIA CARDIACA FETAL POSTERIOR A LA AMNIOTOMIA EN 144LPM. CONTINUAR CON VIGILANCIA DE TRABAJO DE PARTO.\n",
      "Diagn&amp;#243;stico Principal: O623:TRABAJO DE PARTO PRECIPITADO\n",
      "\n",
      "\n",
      "\"/>\n",
      "\t<row NombreCampo=\"Bandera\" NombreTabla=\"CamposTexto\" ValorCampo=\"Primero\"/>\n",
      "\t<row NombreCampo=\"AltaMedica\" NombreTabla=\"CamposBoolean\" ValorCampo=\"0\"/>\n",
      "\t<row NombreCampo=\"SeguimientoCondicion\" NombreTabla=\"CamposBoolean\" ValorCampo=\"false\"/>\n",
      "\t<row NombreCampo=\"SeguimientoValorCondicion\" NombreTabla=\"CamposTexto\" ValorCampo=\"\"/>\n",
      "\t<row NombreCampo=\"IntensidadSintomatica\" NombreTabla=\"CamposBoolean\" ValorCampo=\"false\"/>\n",
      "\t<row NombreCampo=\"EscalaAnaloga\" NombreTabla=\"CamposTexto\" ValorCampo=\"\"/>\n",
      "\t<row NombreCampo=\"NivelDolor\" NombreTabla=\"CamposTexto\" ValorCampo=\"\"/>\n",
      "\t<row NombreCampo=\"NumCertificadoDefuncion\" NombreTabla=\"CamposTexto\" ValorCampo=\"\"/>\n",
      "</C>\n",
      "\n"
     ]
    }
   ],
   "source": [
    "import xml.dom.minidom\n",
    "\n",
    "dom = xml.dom.minidom.parseString(registers.loc[8, 'RegistroXML']) # or xml.dom.minidom.parseString(xml_string)\n",
    "pretty_xml_as_string = dom.toprettyxml()\n",
    "print(pretty_xml_as_string)"
   ]
  },
  {
   "cell_type": "code",
   "execution_count": 26,
   "metadata": {},
   "outputs": [
    {
     "name": "stdout",
     "output_type": "stream",
     "text": [
      "0 None\n",
      "1 Z014\n",
      "2 Z014\n",
      "3 None\n",
      "4 \n",
      "5 \n",
      "6 \n",
      "7 None\n",
      "8 \n",
      "9 None\n",
      "10 Z370\n",
      "11 None\n",
      "12 None\n",
      "13 \n",
      "14 R104\n",
      "15 None\n",
      "16 Z488\n",
      "17 D509\n"
     ]
    }
   ],
   "source": [
    "for i,p in enumerate(registers['CodigoDiagnosticoRelacionado1']):\n",
    "    print(i,  p)"
   ]
  },
  {
   "cell_type": "code",
   "execution_count": 44,
   "metadata": {},
   "outputs": [],
   "source": [
    "import pandas\n",
    "DF = pandas.read_sql_query(\"SELECT TOP 5 * FROM RegistrosHistoria\", cnxn)\n"
   ]
  },
  {
   "cell_type": "code",
   "execution_count": 45,
   "metadata": {},
   "outputs": [
    {
     "data": {
      "text/html": [
       "<div>\n",
       "<style scoped>\n",
       "    .dataframe tbody tr th:only-of-type {\n",
       "        vertical-align: middle;\n",
       "    }\n",
       "\n",
       "    .dataframe tbody tr th {\n",
       "        vertical-align: top;\n",
       "    }\n",
       "\n",
       "    .dataframe thead th {\n",
       "        text-align: right;\n",
       "    }\n",
       "</style>\n",
       "<table border=\"1\" class=\"dataframe\">\n",
       "  <thead>\n",
       "    <tr style=\"text-align: right;\">\n",
       "      <th></th>\n",
       "      <th>Id</th>\n",
       "      <th>NumeroHistoria</th>\n",
       "      <th>Caso</th>\n",
       "      <th>CodigoRegistro</th>\n",
       "      <th>Asunto</th>\n",
       "      <th>FechaAsignacionRegistro</th>\n",
       "      <th>Raiz</th>\n",
       "      <th>Padre</th>\n",
       "      <th>Usuario</th>\n",
       "      <th>Prestador</th>\n",
       "      <th>...</th>\n",
       "      <th>AltaMedica</th>\n",
       "      <th>IdRegistroPreanestesico</th>\n",
       "      <th>IdRegistroIntraOperatorio</th>\n",
       "      <th>IdRegistroPostOperatorio</th>\n",
       "      <th>Modulo</th>\n",
       "      <th>ProgramaPyP</th>\n",
       "      <th>FechaInicioAtencion</th>\n",
       "      <th>UnidadFuncional</th>\n",
       "      <th>ConfirmacionGuardado</th>\n",
       "      <th>Sincronizado</th>\n",
       "    </tr>\n",
       "  </thead>\n",
       "  <tbody>\n",
       "    <tr>\n",
       "      <th>0</th>\n",
       "      <td>2625</td>\n",
       "      <td>68909</td>\n",
       "      <td>AD0004</td>\n",
       "      <td>07</td>\n",
       "      <td>Ingreso de Urgencias</td>\n",
       "      <td>2013-09-20 09:14:12.747</td>\n",
       "      <td>NULL</td>\n",
       "      <td>NULL</td>\n",
       "      <td>sa</td>\n",
       "      <td>73083700</td>\n",
       "      <td>...</td>\n",
       "      <td>False</td>\n",
       "      <td>None</td>\n",
       "      <td>None</td>\n",
       "      <td>None</td>\n",
       "      <td>03</td>\n",
       "      <td>None</td>\n",
       "      <td>None</td>\n",
       "      <td>None</td>\n",
       "      <td>False</td>\n",
       "      <td>None</td>\n",
       "    </tr>\n",
       "    <tr>\n",
       "      <th>1</th>\n",
       "      <td>2626</td>\n",
       "      <td>68909</td>\n",
       "      <td>TRI001</td>\n",
       "      <td>25</td>\n",
       "      <td></td>\n",
       "      <td>2013-09-20 09:14:13.147</td>\n",
       "      <td>None</td>\n",
       "      <td>None</td>\n",
       "      <td>sa</td>\n",
       "      <td>73083700</td>\n",
       "      <td>...</td>\n",
       "      <td>False</td>\n",
       "      <td>None</td>\n",
       "      <td>None</td>\n",
       "      <td>None</td>\n",
       "      <td>None</td>\n",
       "      <td>None</td>\n",
       "      <td>None</td>\n",
       "      <td>None</td>\n",
       "      <td>False</td>\n",
       "      <td>None</td>\n",
       "    </tr>\n",
       "    <tr>\n",
       "      <th>2</th>\n",
       "      <td>2627</td>\n",
       "      <td>68909</td>\n",
       "      <td>AD0004</td>\n",
       "      <td>02</td>\n",
       "      <td>MOTIVACION PARA CESAREA</td>\n",
       "      <td>2013-09-20 10:04:44.483</td>\n",
       "      <td>NULL</td>\n",
       "      <td>NULL</td>\n",
       "      <td>sa</td>\n",
       "      <td>73083700</td>\n",
       "      <td>...</td>\n",
       "      <td>False</td>\n",
       "      <td>None</td>\n",
       "      <td>None</td>\n",
       "      <td>None</td>\n",
       "      <td>03</td>\n",
       "      <td>None</td>\n",
       "      <td>None</td>\n",
       "      <td>None</td>\n",
       "      <td>False</td>\n",
       "      <td>None</td>\n",
       "    </tr>\n",
       "    <tr>\n",
       "      <th>3</th>\n",
       "      <td>2628</td>\n",
       "      <td>68909</td>\n",
       "      <td>AD0004</td>\n",
       "      <td>14</td>\n",
       "      <td>EVOLUCION</td>\n",
       "      <td>2013-09-20 11:06:56.620</td>\n",
       "      <td>07</td>\n",
       "      <td>2625</td>\n",
       "      <td>sa</td>\n",
       "      <td>73083700</td>\n",
       "      <td>...</td>\n",
       "      <td>False</td>\n",
       "      <td>None</td>\n",
       "      <td>None</td>\n",
       "      <td>None</td>\n",
       "      <td>03</td>\n",
       "      <td>None</td>\n",
       "      <td>None</td>\n",
       "      <td>None</td>\n",
       "      <td>False</td>\n",
       "      <td>None</td>\n",
       "    </tr>\n",
       "    <tr>\n",
       "      <th>4</th>\n",
       "      <td>2629</td>\n",
       "      <td>68930</td>\n",
       "      <td>AD0012</td>\n",
       "      <td>02</td>\n",
       "      <td>SDEW</td>\n",
       "      <td>2013-09-20 16:52:21.880</td>\n",
       "      <td>NULL</td>\n",
       "      <td>NULL</td>\n",
       "      <td>sa</td>\n",
       "      <td>73080532</td>\n",
       "      <td>...</td>\n",
       "      <td>False</td>\n",
       "      <td>None</td>\n",
       "      <td>None</td>\n",
       "      <td>None</td>\n",
       "      <td>01</td>\n",
       "      <td>None</td>\n",
       "      <td>None</td>\n",
       "      <td>None</td>\n",
       "      <td>False</td>\n",
       "      <td>None</td>\n",
       "    </tr>\n",
       "  </tbody>\n",
       "</table>\n",
       "<p>5 rows × 36 columns</p>\n",
       "</div>"
      ],
      "text/plain": [
       "     Id NumeroHistoria    Caso CodigoRegistro                   Asunto  \\\n",
       "0  2625          68909  AD0004             07     Ingreso de Urgencias   \n",
       "1  2626          68909  TRI001             25                            \n",
       "2  2627          68909  AD0004             02  MOTIVACION PARA CESAREA   \n",
       "3  2628          68909  AD0004             14                EVOLUCION   \n",
       "4  2629          68930  AD0012             02                     SDEW   \n",
       "\n",
       "  FechaAsignacionRegistro  Raiz Padre Usuario Prestador  ...  AltaMedica  \\\n",
       "0 2013-09-20 09:14:12.747  NULL  NULL      sa  73083700  ...       False   \n",
       "1 2013-09-20 09:14:13.147  None  None      sa  73083700  ...       False   \n",
       "2 2013-09-20 10:04:44.483  NULL  NULL      sa  73083700  ...       False   \n",
       "3 2013-09-20 11:06:56.620    07  2625      sa  73083700  ...       False   \n",
       "4 2013-09-20 16:52:21.880  NULL  NULL      sa  73080532  ...       False   \n",
       "\n",
       "  IdRegistroPreanestesico IdRegistroIntraOperatorio IdRegistroPostOperatorio  \\\n",
       "0                    None                      None                     None   \n",
       "1                    None                      None                     None   \n",
       "2                    None                      None                     None   \n",
       "3                    None                      None                     None   \n",
       "4                    None                      None                     None   \n",
       "\n",
       "  Modulo ProgramaPyP FechaInicioAtencion UnidadFuncional ConfirmacionGuardado  \\\n",
       "0     03        None                None            None                False   \n",
       "1   None        None                None            None                False   \n",
       "2     03        None                None            None                False   \n",
       "3     03        None                None            None                False   \n",
       "4     01        None                None            None                False   \n",
       "\n",
       "  Sincronizado  \n",
       "0         None  \n",
       "1         None  \n",
       "2         None  \n",
       "3         None  \n",
       "4         None  \n",
       "\n",
       "[5 rows x 36 columns]"
      ]
     },
     "execution_count": 45,
     "metadata": {},
     "output_type": "execute_result"
    }
   ],
   "source": [
    "DF"
   ]
  },
  {
   "cell_type": "code",
   "execution_count": null,
   "metadata": {},
   "outputs": [],
   "source": [
    "columns = [column[0] for column in cur.description]"
   ]
  },
  {
   "cell_type": "code",
   "execution_count": null,
   "metadata": {},
   "outputs": [],
   "source": [
    "columns"
   ]
  },
  {
   "cell_type": "code",
   "execution_count": null,
   "metadata": {},
   "outputs": [],
   "source": [
    "conn = pyodbc.connect(r'Driver={Microsoft Access Driver (*.mdb, *.accdb)};DBQ=C:\\sip\\SIP_respaldo\\sip20200207.mdb;')\n"
   ]
  },
  {
   "cell_type": "code",
   "execution_count": null,
   "metadata": {},
   "outputs": [],
   "source": [
    "os.path.exists(MDB)"
   ]
  },
  {
   "cell_type": "code",
   "execution_count": null,
   "metadata": {},
   "outputs": [],
   "source": [
    "cnxn = pyodbc.connect(driver='{SQL Server}', host=SRV, database=MDB,\n",
    "                      trusted_connection=True)\n"
   ]
  },
  {
   "cell_type": "code",
   "execution_count": null,
   "metadata": {},
   "outputs": [],
   "source": [
    "import subprocess\n",
    "pathMDBTools = 'C:\\\\Users\\\\Public\\\\Gabriel\\\\mdbtools-win-master\\\\mdbtools-win-master'\n",
    "DATABASE = 'C:\\\\sip\\\\SIP_respaldo\\\\sip20200207.mdb'\n",
    "#!/usr/bin/env python\n",
    "#\n",
    "# AccessDump.py\n",
    "# A simple script to dump the contents of a Microsoft Access Database.\n",
    "# It depends upon the mdbtools suite:\n",
    "#   http://sourceforge.net/projects/mdbtools/\n",
    "\n",
    "import sys, subprocess # the subprocess module is new in python v 2.4\n",
    "\n",
    "# Get the list of table names with \"mdb-tables\"\n",
    "table_names = subprocess.Popen([os.path.join(pathMDBTools,\"mdb-tables.exe\"), \"-1\", DATABASE], \n",
    "                               stdout=subprocess.PIPE).communicate()[0]\n",
    "tables = table_names.split(b'\\n')\n",
    "\n",
    "# Dump each table as a CSV file using \"mdb-export\",\n",
    "# converting \" \" in table names to \"_\" for the CSV filenames.\n",
    "for table in tables[1:]:\n",
    "    if table != '':\n",
    "        table = table.decode(\"utf-8\").replace('\\r', '')\n",
    "        filename = table.replace(\" \",\"_\") + \".csv\"\n",
    "        file = open(filename.replace('\\r', ''), 'w')\n",
    "        print(\"Dumping \" + table)\n",
    "        contents = subprocess.Popen([os.path.join(pathMDBTools, \"mdb-export\"), DATABASE, table],\n",
    "                                    stdout=subprocess.PIPE).communicate()[0]\n",
    "        file.write(contents.decode(\"utf-8\"))\n",
    "        file.close()"
   ]
  },
  {
   "cell_type": "code",
   "execution_count": null,
   "metadata": {},
   "outputs": [],
   "source": [
    "print(os.path.join(pathMDBTools,\"mdb-tables.exe\"), \"-1\", DATABASE)"
   ]
  },
  {
   "cell_type": "code",
   "execution_count": null,
   "metadata": {},
   "outputs": [],
   "source": [
    "contents"
   ]
  },
  {
   "cell_type": "code",
   "execution_count": null,
   "metadata": {},
   "outputs": [],
   "source": []
  }
 ],
 "metadata": {
  "kernelspec": {
   "display_name": "Python 3",
   "language": "python",
   "name": "python3"
  },
  "language_info": {
   "codemirror_mode": {
    "name": "ipython",
    "version": 3
   },
   "file_extension": ".py",
   "mimetype": "text/x-python",
   "name": "python",
   "nbconvert_exporter": "python",
   "pygments_lexer": "ipython3",
   "version": "3.7.1"
  }
 },
 "nbformat": 4,
 "nbformat_minor": 4
}
