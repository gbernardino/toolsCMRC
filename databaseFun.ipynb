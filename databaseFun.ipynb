{
 "cells": [
  {
   "cell_type": "code",
   "execution_count": null,
   "metadata": {},
   "outputs": [],
   "source": [
    "import sys, os, io\n",
    "import pyodbc, pandas\n",
    "import datetime, tqdm"
   ]
  },
  {
   "cell_type": "code",
   "execution_count": null,
   "metadata": {},
   "outputs": [],
   "source": [
    "def writeInChunks(path, sql, cnxn, chunksize = 10000):\n",
    "    \"\"\"\n",
    "    Writes an sql in chunk to avoid memory problems\n",
    "    \"\"\" \n",
    "    with io.open(path, \"w\", encoding=\"utf-8\") as fh:\n",
    "        chunks = pandas.read_sql_query(sql, cnxn, chunksize=chunksize)\n",
    "        next(chunks).to_csv(fh, index=False)  # write the first chunk with the column names,\n",
    "                                              # but ignore the index (which will be screwed up anyway due to the chunking)\n",
    "       \n",
    "        for chunk in chunks:\n",
    "            print('Chunk written')\n",
    "            chunk.to_csv(fh, index=False, header=False) # skip the column names from now on\n"
   ]
  },
  {
   "cell_type": "code",
   "execution_count": null,
   "metadata": {},
   "outputs": [],
   "source": [
    "cnxn = pyodbc.connect(driver='{SQL Server}',\n",
    "                      server= '192.168.27.210\\CMRC',\n",
    "                      database='SIOS1',\n",
    "                      uid='CI',\n",
    "                      pwd='123')\n",
    "cur = cnxn.cursor()"
   ]
  },
  {
   "cell_type": "code",
   "execution_count": null,
   "metadata": {},
   "outputs": [],
   "source": [
    "sql = \"SELECT * FROM Casos WHERE Paciente IN ( SELECT Id FROM Pacientes WHERE Identificacion LIKE 'VEN%')\"\n"
   ]
  },
  {
   "cell_type": "code",
   "execution_count": null,
   "metadata": {},
   "outputs": [],
   "source": [
    "sqlVenezolanas = \"SELECT Id FROM Pacientes WHERE Identificacion LIKE 'VEN%'\"\n",
    "def downloadPatientsAndRegistersFromPatients(cnxn, sqlPatients, pathWriteFolder):\n",
    "    \"\"\"\n",
    "    Downloads  all the cases, registers and operations between two dates, plus/minus a certain slack to ensure all registers are fully recovered\n",
    "    \"\"\"\n",
    "    try:\n",
    "        os.mkdir(pathWriteFolder)\n",
    "    except:\n",
    "        pass\n",
    "    sqlRegistros =\"\"\"SELECT * FROM RegistrosHistoria where NumeroHistoria in (%s)  \"\"\" % (sqlPatients)\n",
    "    sqlCasos =\"\"\"SELECT * FROM Casos where Paciente in (%s) \"\"\" % (sqlPatients)\n",
    "    sqlProcedimientos =\"\"\"SELECT * FROM ProgramacionQx.DescripcionQuirurgica where IdPaciente  in (%s)\"\"\" % (sqlPatients)\n",
    "    sqlPacientes = \"\"\"SELECT * FROM PACIENTES WHERE Id in (%s)\"\"\" %  sqlPatients\n",
    "    \n",
    "    sqlCasosID =\"\"\"SELECT Caso FROM Casos where Paciente in (%s) \"\"\" % (sqlPatients)\n",
    "    sqlDatosEnfermeria = \"\"\"SELECT * FROM Enfermeria.SignosVitalesControl WHERE IdAdmision IN (%s)\"\"\" % (sqlCasosID)\n",
    "\n",
    "    \n",
    "    writeInChunks(os.path.join(pathWriteFolder,'registros.csv'), sqlRegistros, cnxn)\n",
    "    writeInChunks(os.path.join(pathWriteFolder,'casos.csv'), sqlCasos, cnxn)\n",
    "    writeInChunks(os.path.join(pathWriteFolder,'procedimientos.csv'), sqlProcedimientos, cnxn)\n",
    "    writeInChunks(os.path.join(pathWriteFolder,'pacientes.csv'), sqlPacientes, cnxn)\n",
    "    writeInChunks(os.path.join(pathWriteFolder,'enfermeriaMedidas.csv'), sqlDatosEnfermeria, cnxn)\n",
    "downloadPatientsAndRegistersFromPatients(cnxn, sqlVenezolanas, 'Venezolanas2')"
   ]
  },
  {
   "cell_type": "code",
   "execution_count": null,
   "metadata": {},
   "outputs": [],
   "source": [
    "def downloadPatientsAndRegistersFromDate(cnxn, startDate, endDate, pathWriteFolder,  slackDays = 15):\n",
    "    \"\"\"\n",
    "    Downloads  all the cases, registers and operations between two dates, plus/minus a certain slack to ensure all registers are fully recovered\n",
    "    \"\"\"\n",
    "    try:\n",
    "        os.mkdir(pathWriteFolder)\n",
    "    except:\n",
    "        pass\n",
    "    slackDaysDT = datetime.timedelta(days = slackDays)\n",
    "    startDateDT = datetime.datetime.strptime(startDate, '%d/%m/%Y') + slackDaysDT\n",
    "    endDateDT = datetime.datetime.strptime(endDate, '%d/%m/%Y') + slackDaysDT\n",
    "    \n",
    "    startDateStr =  startDateDT.strftime(\"%Y-%d-%m\")\n",
    "    endDateStr =endDateDT.strftime(\"%Y-%d-%m\")\n",
    "    sqlRegistros =\"\"\"SELECT * FROM RegistrosHistoria where FechaAsignacionRegistro < '%s' AND FechaAsignacionRegistro > '%s' \"\"\" % (endDateStr, startDateStr)\n",
    "    sqlCasos =\"\"\"SELECT * FROM Casos where FechaHora < '%s' AND FechaHora > '%s' \"\"\" % (endDateStr, startDateStr)\n",
    "    sqlProcedimientos =\"\"\"SELECT * FROM ProgramacionQx.DescripcionQuirurgica where FechaDescripcion < '%s' AND FechaDescripcion > '%s' \"\"\" % (endDateStr, startDateStr)\n",
    "    sqlProcedimientosIDs = \"\"\"SELECT DISTINCT IdPaciente FROM ProgramacionQx.DescripcionQuirurgica where FechaDescripcion < '%s' AND FechaDescripcion > '%s' \"\"\" % (endDateStr, startDateStr)\n",
    "    sqlPacientes = \"\"\"SELECT * FROM PACIENTES WHERE Id in (%s)\"\"\" %  sqlProcedimientosIDs\n",
    "    \n",
    "    sqlCasosID =\"\"\"SELECT Caso FROM Casos where FechaHora < '%s' AND FechaHora > '%s' \"\"\" % (endDateStr, startDateStr)\n",
    "    sqlDatosEnfermeria = \"\"\"SELECT * FROM Enfermeria.SignosVitalesControl WHERE IdAdmision IN (%s)\"\"\" % (sqlCasosID)\n",
    "\n",
    "    \n",
    "    writeInChunks(os.path.join(pathWriteFolder,'registros.csv'), sqlRegistros, cnxn)\n",
    "    writeInChunks(os.path.join(pathWriteFolder,'casos.csv'), sqlCasos, cnxn)\n",
    "    writeInChunks(os.path.join(pathWriteFolder,'procedimientos.csv'), sqlProcedimientos, cnxn)\n",
    "    writeInChunks(os.path.join(pathWriteFolder,'pacientes.csv'), sqlPacientes, cnxn)\n",
    "    writeInChunks(os.path.join(pathWriteFolder,'enfermeriaMedidas.csv'), sqlDatosEnfermeria, cnxn)\n"
   ]
  },
  {
   "cell_type": "code",
   "execution_count": null,
   "metadata": {},
   "outputs": [],
   "source": [
    "downloadPatientsAndRegistersFromDate(cnxn, '01/01/2019', '01/01/2020', 'casos2019')"
   ]
  },
  {
   "cell_type": "code",
   "execution_count": null,
   "metadata": {},
   "outputs": [],
   "source": [
    "cnxn = pyodbc.connect('Driver={Microsoft Access Driver (*.mdb, *.accdb)};'+ \\\n",
    "                      'DBQ=C:\\\\sip\\\\SIP_Respaldo\\\\sip20200302.mdb;')\n",
    "cursor = cnxn.cursor()"
   ]
  },
  {
   "cell_type": "code",
   "execution_count": null,
   "metadata": {},
   "outputs": [],
   "source": [
    "df = pandas.read_csv('resultsSIP.csv', index_col = 0)\n",
    "df['ID01'] = df['VAR_0019'].map(lambda s: '000000000008060061-80000000000' + s)\n",
    "df['VAR_0198'] = df['VAR_0198'].map(lambda s: str(int(s)) if s == s else s)"
   ]
  },
  {
   "cell_type": "code",
   "execution_count": null,
   "metadata": {},
   "outputs": [],
   "source": [
    "fullCols = list(map(lambda s: s, cursor.columns(table='nivel_N1')))\n",
    "colNames = list(map(lambda s: s[3], cursor.columns(table='nivel_N1')))\n",
    "cols = []\n",
    "values = []\n",
    "i = 0\n",
    "for i in tqdm.tqdm_notebook(range(len(df))):\n",
    "    for c in colNames:\n",
    "\n",
    "        if c in df and df.iloc[i][c] == df.iloc[i][c]:\n",
    "            cols.append(c)\n",
    "            values.append(df.iloc[i][c])\n",
    "    try:\n",
    "        cursor.execute(\"insert into nivel_N1(%s) values (\\'%s\\')\" % ( ','.join(cols), '\\',\\''.join(map(str,values))))\n",
    "    except:\n",
    "        pass\n",
    "    if i == 1000:\n",
    "        break\n",
    "cnxn.commit()"
   ]
  },
  {
   "cell_type": "code",
   "execution_count": null,
   "metadata": {},
   "outputs": [],
   "source": [
    "pandas.read_sql_query(\"select TOP 5 * from Nivel_N1 where VAR_0019 = 'VEN25322789' \", cnxn)"
   ]
  },
  {
   "cell_type": "code",
   "execution_count": null,
   "metadata": {},
   "outputs": [],
   "source": [
    "df.iloc[0].VAR_0019"
   ]
  },
  {
   "cell_type": "code",
   "execution_count": null,
   "metadata": {},
   "outputs": [],
   "source": [
    "VEN25322789"
   ]
  }
 ],
 "metadata": {
  "kernelspec": {
   "display_name": "Python 3",
   "language": "python",
   "name": "python3"
  },
  "language_info": {
   "codemirror_mode": {
    "name": "ipython",
    "version": 3
   },
   "file_extension": ".py",
   "mimetype": "text/x-python",
   "name": "python",
   "nbconvert_exporter": "python",
   "pygments_lexer": "ipython3",
   "version": "3.7.1"
  }
 },
 "nbformat": 4,
 "nbformat_minor": 4
}
