{
 "cells": [
  {
   "cell_type": "code",
   "execution_count": null,
   "metadata": {
    "Collapsed": "false"
   },
   "outputs": [],
   "source": [
    "import numpy as np\n",
    "\n",
    "from skimage.transform import hough_line, hough_line_peaks\n",
    "from skimage.feature import canny\n",
    "from skimage import data\n",
    "import PIL\n",
    "from PIL import Image\n",
    "import matplotlib.pyplot as plt\n",
    "import cv2\n",
    "import sys, subprocess"
   ]
  },
  {
   "cell_type": "code",
   "execution_count": null,
   "metadata": {
    "Collapsed": "false"
   },
   "outputs": [],
   "source": [
    "import cv2\n",
    "file_path = 'Data/20200212_150024.jpg'\n",
    "img = cv2.imread(file_path)\n",
    "gray = cv2.cvtColor(img,cv2.COLOR_BGR2GRAY)"
   ]
  },
  {
   "cell_type": "code",
   "execution_count": null,
   "metadata": {
    "Collapsed": "false"
   },
   "outputs": [],
   "source": [
    "plt.figure(figsize = (20,20))\n",
    "plt.imshow(gray , cmap = 'gray')"
   ]
  },
  {
   "cell_type": "code",
   "execution_count": null,
   "metadata": {
    "Collapsed": "false",
    "scrolled": true
   },
   "outputs": [],
   "source": [
    "import skimage\n",
    "from skimage.measure import label, regionprops\n",
    "from skimage.color import label2rgb\n",
    "im = Image.open('Data/20200212_150024.jpg')\n",
    "gray = skimage.color.rgb2gray(np.array(im))\n",
    "imageTH = gray < .4\n",
    "selem = skimage.morphology.disk(5)\n",
    "openImage = skimage.morphology.opening(imageTH, selem)\n",
    "imageTHCorr = np.logical_and( np.logical_not(openImage), imageTH)\n",
    "label_image = label(imageTHCorr)"
   ]
  },
  {
   "cell_type": "code",
   "execution_count": null,
   "metadata": {
    "Collapsed": "false"
   },
   "outputs": [],
   "source": [
    "plt.imshow(imageTHCorr, cmap = 'gray')"
   ]
  },
  {
   "cell_type": "code",
   "execution_count": null,
   "metadata": {
    "Collapsed": "false"
   },
   "outputs": [],
   "source": [
    "lines = skimage.transform.probabilistic_hough_line(imageTHCorr, threshold=1, line_length=150,\n",
    "                                 line_gap=5)"
   ]
  },
  {
   "cell_type": "code",
   "execution_count": null,
   "metadata": {
    "Collapsed": "false"
   },
   "outputs": [],
   "source": [
    "# Generating figure 2\n",
    "fig, axes = plt.subplots(1, 3, figsize=(15, 5), sharex=True, sharey=True)\n",
    "ax = axes.ravel()\n",
    "\n",
    "ax[0].imshow(gray, cmap='gray')\n",
    "ax[0].set_title('Input image')\n",
    "\n",
    "ax[1].imshow(imageTHCorr, cmap='gray')\n",
    "ax[1].set_title('Canny edges')\n",
    "\n",
    "ax[2].imshow(imageTHCorr * 0)\n",
    "for line in lines:\n",
    "    p0, p1 = line\n",
    "    ax[2].plot((p0[0], p1[0]), (p0[1], p1[1]))\n",
    "ax[2].set_xlim((0, imageTHCorr.shape[1]))\n",
    "ax[2].set_ylim((imageTHCorr.shape[0], 0))\n",
    "ax[2].set_title('Probabilistic Hough')\n",
    "\n",
    "for a in ax:\n",
    "    a.set_axis_off()\n",
    "\n",
    "plt.tight_layout()"
   ]
  },
  {
   "cell_type": "code",
   "execution_count": null,
   "metadata": {
    "Collapsed": "false"
   },
   "outputs": [],
   "source": [
    "plt.figure(figsize = (20, 20))\n",
    "plt.imshow(imageTHCorr * 0)\n",
    "for line in lines:\n",
    "    p0, p1 = line\n",
    "    plt.plot((p0[0], p1[0]), (p0[1], p1[1]))\n",
    "plt.gca().set_xlim((0, imageTHCorr.shape[1]))\n",
    "plt.gca().set_ylim((imageTHCorr.shape[0], 0))\n",
    "plt.gca().set_title('Probabilistic Hough')\n"
   ]
  },
  {
   "cell_type": "code",
   "execution_count": null,
   "metadata": {
    "Collapsed": "false"
   },
   "outputs": [],
   "source": [
    "def distAngle(theta, theta_ref):\n",
    "    v = [np.abs(theta - theta_ref), np.abs(- 2 *np.pi +  theta - theta_ref), np.abs(2 *np.pi +  theta - theta_ref)]\n",
    "    return min(v)"
   ]
  },
  {
   "cell_type": "code",
   "execution_count": null,
   "metadata": {
    "Collapsed": "false"
   },
   "outputs": [],
   "source": [
    "#Assume they are relatively near 0 and pi/2m\n",
    "rhos0 = []\n",
    "rhospiHalfs = []\n",
    "for l in lines:\n",
    "    v = np.array(l[0]) - np.array(l[1])\n",
    "    angle = np.angle(v[0] + 1j * v[1])\n",
    "    if distAngle(angle, 0) < 0.1: \n",
    "        rhos0.append(angle if angle < np.pi else angle - 2 * np.pi)\n",
    "    elif distAngle(angle, np.pi) < 0.1:\n",
    "        rhos0.append(angle - np.pi)\n",
    "        \n",
    "    if distAngle(angle, np.pi/2) < 0.1: \n",
    "        rhospiHalfs.append(angle)\n",
    "    elif distAngle(angle, np.pi *3/2) < 0.1:\n",
    "        rhospiHalfs.append(angle - np.pi)\n",
    "r0 = np.mean(rhos0)\n",
    "v0 = np.array([np.cos(r0), np.sin(r0)])\n",
    "rpiHalf = np.mean(rhospiHalfs)\n",
    "vpiHalf = np.array([np.cos(rpiHalf), np.sin(rpiHalf)])\n"
   ]
  },
  {
   "cell_type": "code",
   "execution_count": null,
   "metadata": {
    "Collapsed": "false"
   },
   "outputs": [],
   "source": [
    "def _line2line(line1, line2):\n",
    "\n",
    "    \"\"\"\n",
    "    - line1 is a list of two xy tuples\n",
    "    - line2 is a list of two xy tuples\n",
    "    References consulted:\n",
    "    http://mathforum.org/library/drmath/view/51980.html\n",
    "    and http://mathforum.org/library/drmath/view/51926.html\n",
    "    and https://answers.yahoo.com/question/index?qid=20110507163534AAgvfQF\n",
    "    \"\"\"\n",
    "\n",
    "    import math\n",
    "    #step1: cross prod the two lines to find common perp vector\n",
    "    (L1x1,L1y1),(L1x2,L1y2) = line1\n",
    "    (L2x1,L2y1),(L2x2,L2y2) = line2\n",
    "    L1dx,L1dy = L1x2-L1x1,L1y2-L1y1\n",
    "    L2dx,L2dy = L2x2-L2x1,L2y2-L2y1\n",
    "    commonperp_dx,commonperp_dy = (L1dy - L2dy, L2dx-L1dx)\n",
    "\n",
    "    #step2: normalized_perp = perp vector / distance of common perp\n",
    "    commonperp_length = math.hypot(commonperp_dx,commonperp_dy)\n",
    "    commonperp_normalized_dx = commonperp_dx/float(commonperp_length)\n",
    "    commonperp_normalized_dy = commonperp_dy/float(commonperp_length)\n",
    "\n",
    "    #step3: length of (pointonline1-pointonline2 dotprod normalized_perp).\n",
    "    # Note: According to the first link above, it's sufficient to\n",
    "    #    \"Take any point m on line 1 and any point n on line 2.\"\n",
    "    #    Here I chose the startpoint of both lines\n",
    "    shortestvector_dx = (L1x1-L2x1)*commonperp_normalized_dx\n",
    "    shortestvector_dy = (L1y1-L2y1)*commonperp_normalized_dy\n",
    "    mindist = math.hypot(shortestvector_dx,shortestvector_dy)\n",
    "\n",
    "    #return results\n",
    "    result = mindist\n",
    "    return result"
   ]
  },
  {
   "cell_type": "code",
   "execution_count": null,
   "metadata": {
    "Collapsed": "false"
   },
   "outputs": [],
   "source": [
    "def _line2line(line1, line2, v):\n",
    "    a, b, c, d = line1[0].dot(v), line1[1].dot(v), line2[0].dot(v), line2[1].dot(v)\n",
    "    if a > b:\n",
    "        a,b = b, a\n",
    "    if c > d:\n",
    "        c, d = d, c\n",
    "    return max(max(a,c) -min(b,d), 0)"
   ]
  },
  {
   "cell_type": "code",
   "execution_count": null,
   "metadata": {
    "Collapsed": "false"
   },
   "outputs": [],
   "source": [
    "np.dot(v0, vpiHalf)\n",
    "#TODO: projective transform, using a chessboard"
   ]
  },
  {
   "cell_type": "code",
   "execution_count": null,
   "metadata": {
    "Collapsed": "false"
   },
   "outputs": [],
   "source": [
    "l"
   ]
  },
  {
   "cell_type": "code",
   "execution_count": null,
   "metadata": {
    "Collapsed": "false"
   },
   "outputs": [],
   "source": [
    "plt.figure(figsize = (20, 20))\n",
    "#For each line, check if they are approximately r0 or piHalf\n",
    "#Repetitive step, could reuse previous information\n",
    "horizontalLines = []\n",
    "verticalLines = []\n",
    "for l in lines:\n",
    "    p0, p1 = np.array(l[0]), np.array(l[1])\n",
    "    v = (np.array(l[0]) - np.array(l[1])).astype(float)\n",
    "    v /= np.linalg.norm(v)\n",
    "    \n",
    "    #manual crop\n",
    "    if p0[0] < 500 or p0[0] > 3500:\n",
    "        continue\n",
    "\n",
    "    if np.abs(np.dot(v, v0)) > 1 -1e-2:\n",
    "        b = np.dot(vpiHalf, p0/2 + p1/2)\n",
    "        horizontalLines.append([p0, p1, b])\n",
    "    elif np.abs(np.dot(v, vpiHalf)) > 1- 1e-2:\n",
    "        b = np.dot(v0, p0/2 + p1/2)\n",
    "        verticalLines.append([p0, p1, b])\n",
    "\n",
    "    else:\n",
    "        continue\n",
    "    plt.plot((p0[0], p1[0]), (p0[1], p1[1]))\n",
    "plt.gca().set_xlim((0, imageTHCorr.shape[1]))\n",
    "plt.gca().set_ylim((imageTHCorr.shape[0], 0))\n",
    "plt.gca().set_title('Probabilistic Hough cropped')\n"
   ]
  },
  {
   "cell_type": "code",
   "execution_count": null,
   "metadata": {
    "Collapsed": "false"
   },
   "outputs": [],
   "source": [
    "class Labels:\n",
    "    def __init__(self, n):\n",
    "        self.labels = {i : [i] for i in range(n)}\n",
    "        self.labelIds = {i : i for i in range(n)}\n",
    "    def mergeLabels(self, i, j):\n",
    "        li_old = self.labelIds[i]\n",
    "        lj = self.labelIds[j]\n",
    "        if li_old == lj:\n",
    "            return\n",
    "        for k in self.labels[li_old]:\n",
    "            self.labelIds[k] = self.labelIds[j]\n",
    "        self.labels[lj] += self.labels[li_old]\n",
    "        del self.labels[li_old]"
   ]
  },
  {
   "cell_type": "code",
   "execution_count": null,
   "metadata": {
    "Collapsed": "false",
    "scrolled": true
   },
   "outputs": [],
   "source": [
    "v = [174, 261, 57, 27, 167, 231, 476, 496, 513, 530, 544, 564, 581, 645]\n",
    "#Join lines if b difference is small, and in axis is smaller than 300 pixels (to adjust)\n",
    "horizontalLines = np.array(horizontalLines)\n",
    "labelsHorizontal = Labels(len(horizontalLines))\n",
    "#Force that any can have only one neighbour\n",
    "for i,j in itertools.product(range(len(horizontalLines)), repeat = 2):\n",
    "    if i <= j:\n",
    "        continue\n",
    "    if np.abs(horizontalLines[i][2] - horizontalLines[j][2]) < 10 and  \\\n",
    "            _line2line(horizontalLines[i][:2], horizontalLines[j][:2], v0) < 50:\n",
    "        labelsHorizontal.mergeLabels(i,j)\n"
   ]
  },
  {
   "cell_type": "code",
   "execution_count": null,
   "metadata": {
    "Collapsed": "false",
    "scrolled": true
   },
   "outputs": [],
   "source": [
    "def flatten2(v):\n",
    "    vRes = np.zeros((len(v) * 2, 2))\n",
    "    for i,vv in enumerate(v):\n",
    "        vRes[2* i, :] = vv[0]\n",
    "        vRes[2* i + 1, :] = vv[1]\n",
    "    return vRes"
   ]
  },
  {
   "cell_type": "code",
   "execution_count": null,
   "metadata": {
    "Collapsed": "false"
   },
   "outputs": [],
   "source": [
    "plt.figure(figsize = (20, 20))\n",
    "for l in verticalLines:\n",
    "    p0, p1, _ = l\n",
    "    plt.plot((p0[0], p1[0]), (p0[1], p1[1]))\n",
    "for l,v  in labelsHorizontal.labels.items():\n",
    "    points = flatten2(horizontalLines[np.array(v)][:, :2])\n",
    "    pointsDotV = points.dot(v0)\n",
    "    i,j = np.argmin(pointsDotV), np.argmax(pointsDotV) #Substitute by a curve fitting -> more stable\n",
    "    plt.plot((points[i,0], points[j,0]), (points[i,1], points[j,1]), alpha = .5)\n",
    "    #plt.scatter(points[:,0], points[:,1])\n",
    "\n",
    "plt.gca().set_xlim((0, imageTHCorr.shape[1]))\n",
    "plt.gca().set_ylim((imageTHCorr.shape[0], 0))\n"
   ]
  },
  {
   "cell_type": "code",
   "execution_count": null,
   "metadata": {
    "Collapsed": "false"
   },
   "outputs": [],
   "source": [
    "print(horizontalLines[261])"
   ]
  },
  {
   "cell_type": "code",
   "execution_count": null,
   "metadata": {
    "Collapsed": "false"
   },
   "outputs": [],
   "source": [
    "print(horizontalLines[174])"
   ]
  },
  {
   "cell_type": "code",
   "execution_count": null,
   "metadata": {
    "Collapsed": "false"
   },
   "outputs": [],
   "source": []
  }
 ],
 "metadata": {
  "kernelspec": {
   "display_name": "Python 3",
   "language": "python",
   "name": "python3"
  },
  "language_info": {
   "codemirror_mode": {
    "name": "ipython",
    "version": 3
   },
   "file_extension": ".py",
   "mimetype": "text/x-python",
   "name": "python",
   "nbconvert_exporter": "python",
   "pygments_lexer": "ipython3",
   "version": "3.7.4"
  }
 },
 "nbformat": 4,
 "nbformat_minor": 4
}
