{
 "cells": [
  {
   "cell_type": "code",
   "execution_count": 1,
   "metadata": {
    "Collapsed": "false"
   },
   "outputs": [],
   "source": [
    "import pandas, numpy as np,re\n",
    "import xml, itertools, re, xml.etree.ElementTree as ET\n",
    "from html.parser import HTMLParser\n",
    "import datetime, tqdm\n",
    "pars =HTMLParser()\n",
    "def findInXML(s, et): \n",
    "    r =et.find('.//row[@NombreCampo=\"%s\"]' % s)\n",
    "    if r is not None:\n",
    "        return r.get('ValorCampo')\n",
    "    return None\n",
    "def prettyPrintXML(s):\n",
    "    r = xml.dom.minidom.parseString(s) #r.RegistroXML)\n",
    "    print(r.toprettyxml())\n",
    "    \n",
    "#from datetime import datetime as dt\n",
    "#import locale\n",
    "#locale.setlocale(locale.LC_ALL, 'es_es')\n",
    "#spanishDateToPandas = lambda s: pandas.to_datetime(dt.strptime(s, '%d %b %Y %H:%M:%S'))"
   ]
  },
  {
   "cell_type": "code",
   "execution_count": 2,
   "metadata": {},
   "outputs": [],
   "source": [
    "import re\n",
    "# Maybe I should start tokenizing\n",
    "cleanWhites = re.compile(\"[^\\S\\n]+\")\n",
    "import unicodedata\n",
    "def remove_diacritics(text):\n",
    "    \"\"\"\n",
    "    Returns a string with all diacritics (aka non-spacing marks) removed.\n",
    "    For example \"Héllô\" will become \"Hello\".\n",
    "    Useful for comparing strings in an accent-insensitive fashion.\n",
    "    \"\"\"\n",
    "    normalized = unicodedata.normalize(\"NFKD\", text)\n",
    "    return \"\".join(c for c in normalized if unicodedata.category(c) != \"Mn\")\n",
    "\n",
    "def cleanString(text, removeChars = '-:,;', removeWords = []):\n",
    "    for c in removeChars:\n",
    "        text = re.sub('(?<![0-9])\\%s' %c, ' ',  text)\n",
    "        text = re.sub('\\%s(?![0-9])' %c, ' ',  text)\n",
    "\n",
    "    text = cleanWhites.sub(' ', text)\n",
    "    for w in removeWords:\n",
    "        text = text.replace(' ' + w + ' ', ' ')\n",
    "    return text.strip()"
   ]
  },
  {
   "cell_type": "markdown",
   "metadata": {
    "Collapsed": "false"
   },
   "source": [
    "# Data reading and basic cleaning\n",
    "\n",
    "- Find candidates of repeated pateints\n",
    "- Find the used codes for diagnosis and procedures"
   ]
  },
  {
   "cell_type": "code",
   "execution_count": 3,
   "metadata": {
    "Collapsed": "false"
   },
   "outputs": [
    {
     "name": "stderr",
     "output_type": "stream",
     "text": [
      "C:\\Users\\CMRC\\Miniconda3\\lib\\site-packages\\IPython\\core\\interactiveshell.py:3063: DtypeWarning: Columns (6,27,55) have mixed types.Specify dtype option on import or set low_memory=False.\n",
      "  interactivity=interactivity, compiler=compiler, result=result)\n",
      "C:\\Users\\CMRC\\Miniconda3\\lib\\site-packages\\IPython\\core\\interactiveshell.py:3063: DtypeWarning: Columns (19) have mixed types.Specify dtype option on import or set low_memory=False.\n",
      "  interactivity=interactivity, compiler=compiler, result=result)\n"
     ]
    }
   ],
   "source": [
    "casos = pandas.read_csv('Venezolanas/casos.csv', index_col = 0)\n",
    "pacientes = pandas.read_csv('Venezolanas/pacientes.csv', index_col = 0)\n",
    "registros = pandas.read_csv('Venezolanas/registros.csv', index_col = 0)\n",
    "diagnosis = pandas.read_csv('Venezolanas/diagnosis.csv', index_col = 0)\n",
    "procedimientos = pandas.read_csv('Venezolanas/procedimientos.csv', index_col = 0)\n",
    "procedimientosDesc = pandas.read_csv('Venezolanas/procedimientosID.csv', index_col = 0)\n",
    "\n",
    "#str2Date = lambda s:datetime.datetime.strptime(s, '%Y-%m-%d %H:%M:%S.%f') if isinstance(s, str) \\\n",
    "#           else datetime.datetime(1, 1, 1)\n",
    "registros.FechaInicioAtencion = registros.FechaInicioAtencion.map(pandas.to_datetime) #registros.FechaInicioAtencion.map(str2Date)\n",
    "procedimientos.FechaDescripcion  = procedimientos.FechaDescripcion.map(pandas.to_datetime)\n",
    "from html.parser import HTMLParser\n",
    "pars =HTMLParser()\n",
    "#pars.unescape\n",
    "registersByCase = registros.groupby('Caso')\n"
   ]
  },
  {
   "cell_type": "code",
   "execution_count": 4,
   "metadata": {
    "Collapsed": "false"
   },
   "outputs": [],
   "source": [
    "procedureIDFound = set()\n",
    "abortions = []\n",
    "def getProcFromXMLString(s):\n",
    "    s = re.findall('<idProcedimiento>([a-zA-Z0-9]*)</idProcedimiento>', s)\n",
    "    return s[0]\n",
    "\n",
    "for k, p in procedimientos.iterrows():\n",
    "    et = xml.etree.ElementTree.fromstring(p.XmlDescripcion)\n",
    "    s = re.findall('<idProcedimiento>([a-zA-Z0-9]*)</idProcedimiento>', p.XmlDescripcion)\n",
    "    for ss in s:\n",
    "        procedureIDFound.add(ss)\n",
    "    if 'H3094' in p.XmlDescripcion:\n",
    "        abortions.append(k)\n",
    "procedureIDFound = list(sorted(procedureIDFound))"
   ]
  },
  {
   "cell_type": "code",
   "execution_count": 5,
   "metadata": {
    "Collapsed": "false"
   },
   "outputs": [],
   "source": [
    "procedimientosDesc.loc[procedureIDFound].to_excel('procedimientosFiltered.xlsx')\n",
    "procedimientosDesc.loc[procedureIDFound].to_csv('procedimientosFiltered.csv')"
   ]
  },
  {
   "cell_type": "code",
   "execution_count": 6,
   "metadata": {
    "Collapsed": "false",
    "scrolled": true
   },
   "outputs": [
    {
     "name": "stdout",
     "output_type": "stream",
     "text": [
      "0800\n"
     ]
    }
   ],
   "source": [
    "unique = registros.Diagnostico.unique()\n",
    "unique = [u for u in unique if isinstance(u, str)]\n",
    "for u in unique:\n",
    "    if u.upper() not in diagnosis.index:\n",
    "        print(u)"
   ]
  },
  {
   "cell_type": "code",
   "execution_count": 7,
   "metadata": {
    "Collapsed": "false"
   },
   "outputs": [],
   "source": [
    "#Check duplicates by birthData\n",
    "def candidateToRepeated(p1, p2):\n",
    "    \"\"\"\n",
    "    Selects as candidate if they were born in the same name:\n",
    "    - they have the same 1st surname\n",
    "    - [TODO] they have similar height (~2cm), as found in the cases\n",
    "    \n",
    "    TODO: beware the case of twins!\n",
    "    \"\"\"\n",
    "    #First surname criterio\n",
    "    if p1[1].Ape1Afil.strip().lower() == p2[1].Ape1Afil.strip().lower():\n",
    "        return True\n",
    "    #TODO: Search height and see it's similar\n",
    "    if False:\n",
    "        return True\n",
    "    #Otherwise return False\n",
    "    return False\n",
    "    \n",
    "\n",
    "#Beware\n",
    "candidates = []\n",
    "threshold = '2010'\n",
    "for c in pacientes.groupby('FechaNac'):\n",
    "    #Arbitrary threshold for separating between mothers and borns\n",
    "    if len(c[1]) >= 2 and c[0][:4] < threshold:\n",
    "        for p1, p2 in itertools.combinations(c[1].iterrows(), r = 2):\n",
    "            if p1[0] != p2[0] and candidateToRepeated(p1, p2):\n",
    "                candidates.append([p1[0], p2[0]])\n",
    "pandas.DataFrame.from_records(candidates).to_csv('repeatedCandidates.csv')"
   ]
  },
  {
   "cell_type": "markdown",
   "metadata": {
    "Collapsed": "false"
   },
   "source": [
    "# Select the cases by procedure\n",
    "\n",
    "- Based on the procedure, select the history register associated.\n",
    "- TODO: Check that diagnosis and procedure are compatible"
   ]
  },
  {
   "cell_type": "code",
   "execution_count": 8,
   "metadata": {
    "Collapsed": "false"
   },
   "outputs": [],
   "source": [
    "registersByPatient = registros.groupby('NumeroHistoria')"
   ]
  },
  {
   "cell_type": "code",
   "execution_count": 9,
   "metadata": {
    "Collapsed": "false"
   },
   "outputs": [
    {
     "data": {
      "application/vnd.jupyter.widget-view+json": {
       "model_id": "b9f0286b96ef4907be50388cb51b77cc",
       "version_major": 2,
       "version_minor": 0
      },
      "text/plain": [
       "HBox(children=(IntProgress(value=1, bar_style='info', max=1), HTML(value='')))"
      ]
     },
     "metadata": {},
     "output_type": "display_data"
    },
    {
     "name": "stdout",
     "output_type": "stream",
     "text": [
      "\n"
     ]
    }
   ],
   "source": [
    "interventionToCase = {}\n",
    "caseToProcedure = {}\n",
    "for i,r  in tqdm.tqdm_notebook(registros.iterrows()):\n",
    "    if isinstance(r.RegistroXML, str) and '<row NombreCampo=\"IdDescripcion\"' in r.RegistroXML:\n",
    "        et = ET.fromstring(r.RegistroXML)\n",
    "        idDescripcion = int(et.find('.//row[@NombreCampo=\"IdDescripcion\"]').get('ValorCampo'))\n",
    "        interventionToCase[idDescripcion] = (r.Caso, r.NumeroHistoria, i)\n",
    "        caseToProcedure[idDescripcion] = getProcFromXMLString(procedimientos.loc[idDescripcion].XmlDescripcion)"
   ]
  },
  {
   "cell_type": "code",
   "execution_count": 10,
   "metadata": {
    "Collapsed": "false"
   },
   "outputs": [
    {
     "name": "stdout",
     "output_type": "stream",
     "text": [
      "ERROR: Patient name does not coincides 61066 1356698\n"
     ]
    }
   ],
   "source": [
    "errors = []\n",
    "for i, (_, k, k2) in interventionToCase.items():\n",
    "    if procedimientos.loc[i].IdPaciente != k:\n",
    "        print('ERROR: Patient name does not coincides', i, k2)\n",
    "        errors.append(i)\n",
    "for i in errors:\n",
    "    del interventionToCase[i]"
   ]
  },
  {
   "cell_type": "markdown",
   "metadata": {
    "Collapsed": "false"
   },
   "source": [
    "# Parse information from cases\n",
    "Now we need to parse the information from the cases"
   ]
  },
  {
   "cell_type": "code",
   "execution_count": 11,
   "metadata": {
    "Collapsed": "false"
   },
   "outputs": [],
   "source": [
    "def getStateDataFromCase(case):\n",
    "    \"\"\"\n",
    "    Get some information from the case.\n",
    "    \"\"\"\n",
    "    data = {}\n",
    "    r = ET.fromstring(case.RegistroXML)\n",
    "    try:\n",
    "        data['FC']=r.find('.//row[@NombreCampo=\"FrecuenciaCardiaca\"]').get('ValorCampo')\n",
    "        data['FR']=r.find('.//row[@NombreCampo=\"FrecuenciaRespiratoria\"]').get('ValorCampo')\n",
    "        data['Presion']=r.find('.//row[@NombreCampo=\"Presion\"]').get('ValorCampo')\n",
    "        data['Temperatura']=r.find('.//row[@NombreCampo=\"Temperatura\"]').get('ValorCampo')\n",
    "        data['Talla']=r.find('.//row[@NombreCampo=\"Talla\"]').get('ValorCampo')\n",
    "        data['Peso']=r.find('.//row[@NombreCampo=\"Peso\"]').get('ValorCampo')\n",
    "        return data\n",
    "    except:\n",
    "        return {}"
   ]
  },
  {
   "cell_type": "code",
   "execution_count": 12,
   "metadata": {
    "Collapsed": "false"
   },
   "outputs": [],
   "source": [
    "floatParse = '[0-9]*[\\.,]?[0-9]+'\n",
    "compareGPCA = lambda s1, s2: all([i == j or not i or not j for i, j in zip(s1, s2)])\n",
    "allEqual = lambda s: all([compareGPCA(i, j) for i, j in  itertools.combinations(s, r = 2)])\n",
    "sep= '\\s*[,;:]?\\s*'\n",
    " #In some cases there is only G\n",
    "patternGPAC = 'G%s(?P<G>[0-9]+)' %sep + sep + 'P%s(?P<P>[0-9]+)'  %sep + sep + '(?:'\n",
    "patternGPAC += 'A%s(?P<A>[0-9]+)' %sep  + sep + 'C%s(?P<C>[0-9]+)'  %sep\n",
    "patternGPAC += '|'\n",
    "patternGPAC += 'C%s(?P<C2>[0-9]+)' %sep  + sep + 'A%s(?P<A2>[0-9]+)' %sep\n",
    "patternGPAC += '|' # C and A can be missing, or in other order\n",
    "patternGPAC += ')'\n",
    "searchGPAC = re.compile(patternGPAC, flags=0)\n",
    "\n",
    "meses = ['ENERO', 'FEBRERO', 'MARZO', 'ABRIL', 'MAYO', 'JUNIO', 'JULIO', 'AGOSTO', 'SEPTIEMBRE', 'OCTUBRE', 'NOVIEMBRE', 'DICIEMBRE']\n",
    "meses = meses + list(map(lambda s: s[:3], meses))\n",
    "noRecuerda = ['NO', '\\?']\n",
    "separadorFecha = '(?:[\\.\\\\/-]|DE|DEL|\\s)'\n",
    "date =  '\\(?' +  '((?:[0-9]+)'+ sep + separadorFecha + sep + '(?:[0-9]+|%s)'%  '|'.join(meses) + \\\n",
    "                       sep + separadorFecha + sep + '(?:[0-9]+))' + '\\)?' \n",
    "\n",
    "searchFUM = re.compile('FUM'+ sep + '(?::|.)?'+ sep +'(' +  date + '|%s)' % ('|'.join(noRecuerda)), flags = re.IGNORECASE)\n",
    "errors = []\n",
    "def parseGPCA_and_fum(s):\n",
    "    \"\"\"\n",
    "    Gets the GPCA and FUM from the Triage or epicrisis.\n",
    "    \n",
    "    NOTE: some of the cases are incorrect, double check\n",
    "    TODO: actually, registro del recien nacido has it as a field.\n",
    "    \"\"\"\n",
    "    r = list(filter(lambda S: S.attrib ['NombreCampo'] == \"AntecedentesHTML\" or S.attrib['NombreCampo'] == 'AntecedentesPersonales',ET.fromstring(s).findall('row')))\n",
    "    if len(r) == 0:\n",
    "         return {}\n",
    "    text = pars.unescape(r[0].attrib['ValorCampo'])\n",
    "    \n",
    "    allowedStarts = ['7-&gt;', '-', '- ANTECEDENTES']\n",
    "    line = re.findall('^%s(?:%s)?%s' % (sep, '|'.join(allowedStarts), sep) + 'G' + sep + '[0-9]+.*$', text, re.M)\n",
    "    if len(line) != 1:\n",
    "        #If it doesn't find it, search brutally\n",
    "        search = searchGPAC.findall(s)\n",
    "        searchCleaned = [(s[0], s[1], s[2] + s[-1], s[3] + s[-2]) for s in search]\n",
    "        if search and allEqual(search):\n",
    "            GPCA_OK = True\n",
    "            parsedGPCA = search[0]\n",
    "        else:\n",
    "            GPCA_OK = False\n",
    "            parsedGPCA = []\n",
    "\n",
    "    else:\n",
    "        f = lambda s: s[0] if s else ''\n",
    "        G = f(re.findall('G' + sep + '([0-9]+)', line[0]))\n",
    "        A = f(re.findall('A' + sep + '([0-9]+)', line[0]))\n",
    "        C = f(re.findall('C' + sep + '([0-9]+)', line[0]))\n",
    "        P = f(re.findall('P' + sep + '([0-9]+)', line[0])) \n",
    "        parsedGPCA = [G, P, A, C]\n",
    "        GPCA_OK = True\n",
    "    #Prob athere is a better way...\n",
    "    parsedFUM = searchFUM.findall(s)\n",
    "    return {'fum' : len(parsedFUM) > 0,\n",
    "            'fum_OK' : len(parsedFUM) ,\n",
    "            'GPCA_OK' : GPCA_OK,\n",
    "            'fum_Data' : parsedFUM,\n",
    "            'parsedGPCA' : parsedGPCA}"
   ]
  },
  {
   "cell_type": "code",
   "execution_count": 13,
   "metadata": {
    "Collapsed": "false"
   },
   "outputs": [],
   "source": [
    "from IPython.display import display\n",
    "\n",
    "def getBackgroundRegister(casoID, registrosByCase):\n",
    "    \"\"\"\n",
    "    Gets a register that includes the personal background in order Epicrisis / Triage / Ingreso a urgencias\n",
    "    \"\"\"\n",
    "    #\n",
    "    epicrisis = registrosByCase[(registrosByCase.Caso == casoID) & \n",
    "                     (registrosByCase.Asunto.str.contains('Epicrisis', case = False) == True)]\n",
    "    if epicrisis is not None and len(epicrisis):\n",
    "        return epicrisis, 'epi'\n",
    "    \n",
    "    triage = registrosByCase[(registrosByCase.Caso == casoID) & \n",
    "                     (registrosByCase.Asunto.str.contains('Triage', case = False) == True)]\n",
    "    if triage is not None and len(triage):\n",
    "        return triage, 'tri'\n",
    "\n",
    "    urgencias = registrosByCase[(registrosByCase.Caso == casoID) & \n",
    "                     (registrosByCase.Asunto.str.contains('Ingreso de Urgencias', case = False) == True)]\n",
    "    if urgencias is not None:\n",
    "        return urgencias, 'ur'\n"
   ]
  },
  {
   "cell_type": "code",
   "execution_count": 14,
   "metadata": {
    "Collapsed": "false"
   },
   "outputs": [
    {
     "data": {
      "application/vnd.jupyter.widget-view+json": {
       "model_id": "7544fda2e3294ce28a962989574218c3",
       "version_major": 2,
       "version_minor": 0
      },
      "text/plain": [
       "HBox(children=(IntProgress(value=0, max=2572), HTML(value='')))"
      ]
     },
     "metadata": {},
     "output_type": "display_data"
    },
    {
     "name": "stderr",
     "output_type": "stream",
     "text": [
      "C:\\Users\\CMRC\\Miniconda3\\lib\\site-packages\\ipykernel_launcher.py:33: DeprecationWarning: The unescape method is deprecated and will be removed in 3.5, use html.unescape() instead.\n"
     ]
    },
    {
     "name": "stdout",
     "output_type": "stream",
     "text": [
      "\n",
      "No background 5\n"
     ]
    }
   ],
   "source": [
    "errorsBackgroundRegister = []\n",
    "backgroundByCase = {}\n",
    "dataGPAC_fum = {}\n",
    "typeCases = {}\n",
    "for k, (case, pId, _) in tqdm.tqdm_notebook(interventionToCase.items()):\n",
    "    if case is False:\n",
    "        continue\n",
    "        \n",
    "    backgroundByCase[case], typeCases[case] = getBackgroundRegister(case, registersByPatient.get_group(pId))\n",
    "    if len(backgroundByCase[case]) == 0:\n",
    "        errorsBackgroundRegister.append(case)\n",
    "    else: \n",
    "        dataGPAC_fum[case] = parseGPCA_and_fum(backgroundByCase[case].iloc[0].RegistroXML)\n",
    "        c = getProcFromXMLString(procedimientos.loc[k].XmlDescripcion)\n",
    "        #dataGPAC_fum[case] ['ProcCode'] = c\n",
    "        #dataGPAC_fum[case] ['ProcDesc'] = procedimientosDesc.loc[c].DESCRIP\n",
    "    \n",
    "print('No background', len(errorsBackgroundRegister))"
   ]
  },
  {
   "cell_type": "code",
   "execution_count": 15,
   "metadata": {
    "Collapsed": "false"
   },
   "outputs": [
    {
     "data": {
      "application/vnd.jupyter.widget-view+json": {
       "model_id": "da2782e4c1c1463daee7d3aee4658dff",
       "version_major": 2,
       "version_minor": 0
      },
      "text/plain": [
       "HBox(children=(IntProgress(value=0, max=2572), HTML(value='')))"
      ]
     },
     "metadata": {},
     "output_type": "display_data"
    },
    {
     "name": "stdout",
     "output_type": "stream",
     "text": [
      "\n"
     ]
    }
   ],
   "source": [
    "def getAllProceduresAndMedicamentsFromCase(registros, Caso):\n",
    "    procedimientos = []\n",
    "    medicamentos = []\n",
    "    for r,v in registros[registros.Caso == Caso].iterrows():\n",
    "        et = ET.fromstring(v.RegistroXML)\n",
    "        p = findInXML('ProcedimientosAsociados', et)\n",
    "        m = findInXML('MedicamentosAdministrado', et)\n",
    "        if p:\n",
    "            procedimientos += [p]\n",
    "        if m:\n",
    "            medicamentos += [m]\n",
    "    return procedimientos, medicamentos\n",
    "\n",
    "medicationByCase = {}\n",
    "proceduresByCase = {}\n",
    "for k, (case, pId, _) in tqdm.tqdm_notebook(interventionToCase.items()):\n",
    "    proceduresByCase[case], medicationByCase[case] = getAllProceduresAndMedicamentsFromCase(registros, case)"
   ]
  },
  {
   "cell_type": "code",
   "execution_count": 16,
   "metadata": {
    "Collapsed": "false"
   },
   "outputs": [],
   "source": [
    "from __future__ import print_function\n",
    "from ipywidgets import interact, interactive, fixed, interact_manual\n",
    "import ipywidgets as widgets"
   ]
  },
  {
   "cell_type": "code",
   "execution_count": 17,
   "metadata": {
    "Collapsed": "false"
   },
   "outputs": [],
   "source": [
    "patientsWithPeniciline = []\n",
    "for c, v in medicationByCase.items():\n",
    "    if 'PENI' in ''.join(v):\n",
    "        patientsWithPeniciline.append(c)\n",
    "        "
   ]
  },
  {
   "cell_type": "code",
   "execution_count": 18,
   "metadata": {
    "Collapsed": "false"
   },
   "outputs": [
    {
     "data": {
      "text/plain": [
       "96"
      ]
     },
     "execution_count": 18,
     "metadata": {},
     "output_type": "execute_result"
    }
   ],
   "source": [
    "len(patientsWithPeniciline)"
   ]
  },
  {
   "cell_type": "code",
   "execution_count": 19,
   "metadata": {
    "Collapsed": "false"
   },
   "outputs": [],
   "source": [
    "testSifilis = '906039 - TREPONEMA PALLIDUM, ANTICUERPOS PARA SIFILIS, PRUEBAS RAPIDAS  POR INMUNOCROMATOGRAFIA'\n",
    "vdrl = '906916' #Prueba no treponemica a sifilis\n",
    "vih1 = '906249'\n",
    "vih2 = '906249'"
   ]
  },
  {
   "cell_type": "code",
   "execution_count": 20,
   "metadata": {
    "Collapsed": "false"
   },
   "outputs": [],
   "source": [
    "patientsTestedForSifilis = []\n",
    "patientsTestedForVIH = []\n",
    "for c, v in proceduresByCase.items():\n",
    "    v = ''.join(v)\n",
    "    if vih1 in v:\n",
    "        patientsTestedForVIH.append(c)  \n",
    "    if testSifilis in v or vdrl in v:\n",
    "        patientsTestedForSifilis.append(c)  "
   ]
  },
  {
   "cell_type": "code",
   "execution_count": 21,
   "metadata": {
    "Collapsed": "false"
   },
   "outputs": [
    {
     "data": {
      "text/plain": [
       "2210"
      ]
     },
     "execution_count": 21,
     "metadata": {},
     "output_type": "execute_result"
    }
   ],
   "source": [
    "len(patientsTestedForSifilis)"
   ]
  },
  {
   "cell_type": "code",
   "execution_count": 22,
   "metadata": {
    "Collapsed": "false"
   },
   "outputs": [
    {
     "data": {
      "application/vnd.jupyter.widget-view+json": {
       "model_id": "15cf2866f34c457fa7a8a094a5bee47a",
       "version_major": 2,
       "version_minor": 0
      },
      "text/plain": [
       "interactive(children=(IntSlider(value=1232, description='i', max=2464), Output()), _dom_classes=('widget-inter…"
      ]
     },
     "metadata": {},
     "output_type": "display_data"
    },
    {
     "data": {
      "text/plain": [
       "<function __main__.<lambda>(i)>"
      ]
     },
     "execution_count": 22,
     "metadata": {},
     "output_type": "execute_result"
    }
   ],
   "source": [
    "casesIdx = list(proceduresByCase.keys())\n",
    "def printMedication(c):\n",
    "    print(''.join(medicationByCase[c]))\n",
    "interact(lambda i: printMedication(casesIdx[i]), i = (0, len(casesIdx)))"
   ]
  },
  {
   "cell_type": "code",
   "execution_count": 23,
   "metadata": {
    "Collapsed": "false"
   },
   "outputs": [
    {
     "name": "stdout",
     "output_type": "stream",
     "text": [
      "AD362553 True Vivo\n"
     ]
    }
   ],
   "source": [
    "for c, v in casos.iterrows():\n",
    "    if v.Reingreso:\n",
    "        print(c, v.Reingreso, v.EstadoSalida)"
   ]
  },
  {
   "cell_type": "code",
   "execution_count": 24,
   "metadata": {
    "Collapsed": "false"
   },
   "outputs": [
    {
     "name": "stdout",
     "output_type": "stream",
     "text": [
      "NN\n"
     ]
    }
   ],
   "source": [
    "for c, v in proceduresByCase.items():\n",
    "    if c not in casos.index:\n",
    "        print(c)"
   ]
  },
  {
   "cell_type": "markdown",
   "metadata": {},
   "source": [
    "# Check for sifilis in diagnosis"
   ]
  },
  {
   "cell_type": "code",
   "execution_count": 33,
   "metadata": {},
   "outputs": [],
   "source": [
    "for i, v in backgroundByCase.items():\n",
    "    #prettyPrintXML(v.iloc[0].RegistroXML)\n",
    "    break"
   ]
  },
  {
   "cell_type": "markdown",
   "metadata": {
    "Collapsed": "false"
   },
   "source": [
    "## Quality check\n",
    "- See how many have epicrisis"
   ]
  },
  {
   "cell_type": "code",
   "execution_count": 61,
   "metadata": {
    "Collapsed": "false"
   },
   "outputs": [],
   "source": [
    "findInXML = lambda  s, et: et.find('.//row[@NombreCampo=\"%s\"]' % s).get('ValorCampo')\n",
    "\n",
    "def ProcessRecienNacido(text):\n",
    "    et = ET.fromstring(text)\n",
    "    findInXML = lambda  s: et.find('.//row[@NombreCampo=\"%s\"]' % s).get('ValorCampo')\n",
    "    fecha = findInXML('InputText_FechaHoraNacimiento')\n",
    "    hora = findInXML('ASPxTimeEdit_HoraNacimiento')\n",
    "    EG = findInXML('EdadGestacapuroo')\n",
    "    EG2 = findInXML('InputText_EdadGestacDubowitzModificado')\n",
    "    partoVag = findInXML('TexTarea_PartoVaginal')\n",
    "    partoC = findInXML('TexTarea_PartoCesaria')\n",
    "    APGAR = findInXML('InputText_APGAR')\n",
    "    sexo = findInXML('ASPxComboBox_Sexo')\n",
    "    vivo = findInXML('InputRadio_VM')\n",
    "    #Antrhopometrics\n",
    "    weight = findInXML('InputText_Peso')\n",
    "    height = findInXML('InputText_Talla')\n",
    "    cc = findInXML('InputText_CC')\n",
    "    \n",
    "    #As a check GAPC\n",
    "    G = findInXML('InputText_ObtetricosGestaciones')\n",
    "    A = findInXML('InputText_ObtetricosAbortos')\n",
    "    P = findInXML('InputText_ObtetricosPartos')\n",
    "    C = findInXML('InputText_ObtetricosCesarias')\n",
    "    \n",
    "    #If exposed to sifilis/VIH, it should be here \n",
    "    "
   ]
  },
  {
   "cell_type": "code",
   "execution_count": 165,
   "metadata": {
    "Collapsed": "false"
   },
   "outputs": [
    {
     "data": {
      "text/plain": [
       "2056"
      ]
     },
     "execution_count": 165,
     "metadata": {},
     "output_type": "execute_result"
    }
   ],
   "source": [
    "len(registros[registros.Asunto == 'Registro del recién nacido'].Caso.unique())"
   ]
  },
  {
   "cell_type": "code",
   "execution_count": 170,
   "metadata": {
    "Collapsed": "false",
    "scrolled": true
   },
   "outputs": [
    {
     "name": "stdout",
     "output_type": "stream",
     "text": [
      "found\n",
      "1251 8 0.006354249404289118\n"
     ]
    }
   ],
   "source": [
    "vivos, muertos = 0, 0\n",
    "\n",
    "for k, p in registros[registros.Asunto == 'Registro del recién nacido'].iterrows():\n",
    "    k\n",
    "    et = ET.fromstring(p.RegistroXML)\n",
    "    if findInXML('InputRadio_VM', et) == 'Muerto':\n",
    "        muertos += 1\n",
    "    else:\n",
    "        vivos += 1\n",
    "    if 'desgarros' in p.RegistroXML.lower():\n",
    "        print('found')\n",
    "        break\n",
    "print(vivos, muertos, muertos/(vivos + muertos))"
   ]
  },
  {
   "cell_type": "code",
   "execution_count": null,
   "metadata": {
    "Collapsed": "false"
   },
   "outputs": [],
   "source": [
    "AD213297 -> caso de nacimiento"
   ]
  },
  {
   "cell_type": "code",
   "execution_count": 48,
   "metadata": {
    "Collapsed": "false",
    "scrolled": true
   },
   "outputs": [
    {
     "name": "stdout",
     "output_type": "stream",
     "text": [
      "No epicrisis AD272492\n",
      "No epicrisis AD319654\n",
      "No epicrisis NN\n",
      "No epicrisis AD323989\n",
      "No epicrisis AD360024\n",
      "No epicrisis AD365813\n",
      "No epicrisis AD367750\n",
      "No epicrisis AD364854\n",
      "No epicrisis AD368780\n",
      "No epicrisis AD368000\n",
      "No epicrisis AD368860\n",
      "No epicrisis AD366291\n",
      "No epicrisis AD368709\n",
      "No epicrisis AD368734\n",
      "No epicrisis AD368548\n",
      "No epicrisis AD368822\n",
      "No epicrisis AD368769\n"
     ]
    }
   ],
   "source": [
    "import re\n",
    "pos = []\n",
    "for p, k in backgroundByCase.items():\n",
    "    try:\n",
    "        xmlET = ET.fromstring(k.iloc[0].RegistroXML)\n",
    "        evoluciones = cleanString(xmlET.find('.//row[@NombreCampo=\"Evoluciones\"]').get('ValorCampo').upper())\n",
    "\n",
    "        if re.search('VDRL (REACT|POS)', evoluciones):\n",
    "            pos.append(k)\n",
    "    except:\n",
    "        print('No epicrisis', p)"
   ]
  },
  {
   "cell_type": "code",
   "execution_count": 67,
   "metadata": {},
   "outputs": [
    {
     "name": "stdout",
     "output_type": "stream",
     "text": [
      "AD335893\n",
      "AD343806\n",
      "AD345564\n",
      "AD348197\n",
      "AD350907\n",
      "AD351441\n",
      "AD353731\n",
      "AD355277\n",
      "AD357864\n",
      "AD359272\n",
      "AD361296\n",
      "AD362770\n"
     ]
    }
   ],
   "source": [
    "for n in pos:\n",
    "    if n.iloc[0].Caso not in patientsWithPeniciline:\n",
    "        print(n.iloc[0].Caso)\n",
    "        if n.iloc[0].Caso == 'AD362770':\n",
    "            break"
   ]
  },
  {
   "cell_type": "markdown",
   "metadata": {},
   "source": [
    "## Some of the ones with sifilis reactive are without penilicine\n",
    "\n",
    "Probably some of the ones with previous treated sifilis"
   ]
  },
  {
   "cell_type": "code",
   "execution_count": 69,
   "metadata": {
    "Collapsed": "false"
   },
   "outputs": [
    {
     "name": "stdout",
     "output_type": "stream",
     "text": [
      "0 2462\n"
     ]
    }
   ],
   "source": [
    "alta = 0\n",
    "noAlta = 0\n",
    "for k, b in backgroundByCase.items():\n",
    "    if len(b) == 0:\n",
    "        continue\n",
    "    if all(b.AltaMedica):\n",
    "        alta += 1\n",
    "    else: \n",
    "        noAlta += 1\n",
    "print(alta, noAlta)"
   ]
  },
  {
   "cell_type": "code",
   "execution_count": 71,
   "metadata": {},
   "outputs": [
    {
     "data": {
      "text/plain": [
       "Index(['NumeroHistoria', 'Caso', 'CodigoRegistro', 'Asunto',\n",
       "       'FechaAsignacionRegistro', 'Raiz', 'Padre', 'Usuario', 'Prestador',\n",
       "       'AdmPlan', 'Protocolo', 'Ciclo', 'Diagnostico', 'CAtencion',\n",
       "       'RegistroXML', 'Fluorosis', 'TipoFluorosis', 'RipsXML', 'InfopathXml',\n",
       "       'CodigoDiagnosticoRelacionado1', 'CodigoDiagnosticoRelacionado2',\n",
       "       'CodigoDiagnosticoRelacionado3', 'NumeroAdjuntos',\n",
       "       'idSolProcedimientosQx', 'AproboValoracion', 'AltaMedica',\n",
       "       'IdRegistroPreanestesico', 'IdRegistroIntraOperatorio',\n",
       "       'IdRegistroPostOperatorio', 'Modulo', 'ProgramaPyP',\n",
       "       'FechaInicioAtencion', 'UnidadFuncional', 'ConfirmacionGuardado',\n",
       "       'Sincronizado'],\n",
       "      dtype='object')"
      ]
     },
     "execution_count": 71,
     "metadata": {},
     "output_type": "execute_result"
    }
   ],
   "source": [
    "b.columns"
   ]
  },
  {
   "cell_type": "code",
   "execution_count": null,
   "metadata": {
    "Collapsed": "false"
   },
   "outputs": [],
   "source": [
    "def caseToBackground(case, backgroundByCase):\n",
    "    p = backgroundByCase[case]\n",
    "    if len(p) != 0:  \n",
    "        text = p.iloc[0].RegistroXML\n",
    "    #prettyPrintXML(text)\n",
    "    r = list(filter(\n",
    "        lambda S: S.attrib ['NombreCampo'] == \"AntecedentesHTML\" or S.attrib['NombreCampo'] == 'AntecedentesPersonales',\n",
    "        ET.fromstring(text).findall('row')))\n",
    "    text = remove_diacritics(pars.unescape(r[0].attrib['ValorCampo']))\n",
    "    return text"
   ]
  },
  {
   "cell_type": "code",
   "execution_count": 75,
   "metadata": {
    "Collapsed": "false",
    "scrolled": true
   },
   "outputs": [
    {
     "name": "stdout",
     "output_type": "stream",
     "text": [
      "AD337645\n",
      "- PERSONALES:\n",
      "  7-&gt; MENARQUIA: 9ANOS \n",
      "\n",
      "\n",
      "VIDA MARITAL: 17 OS\n",
      "VIDA OBSTETRICA: 18NOS\n",
      "G3P2 \n",
      "FUM: NO CONFIABLE \n",
      "PLANIFICACION: NIEGA \n",
      "GRUPO SANGUINEO: O+ \n",
      "CONTROLES PRENATALES: 0 \n",
      "\n",
      "PARACLINICOS NO TRAE\n",
      "ECOGRAFIA: NO TRAE\n",
      "- FAMILIARES:\n",
      "  NIEGA\n",
      "- ALERGICOS:\n",
      "  \n",
      "- QUIRURGICOS:\n"
     ]
    },
    {
     "name": "stderr",
     "output_type": "stream",
     "text": [
      "/Users/gbernardino/opt/miniconda3/lib/python3.7/site-packages/ipykernel_launcher.py:21: DeprecationWarning: The unescape method is deprecated and will be removed in 3.5, use html.unescape() instead.\n"
     ]
    }
   ],
   "source": [
    "import unicodedata\n",
    "def remove_diacritics(text):\n",
    "    \"\"\"\n",
    "    Returns a string with all diacritics (aka non-spacing marks) removed.\n",
    "    For example \"Héllô\" will become \"Hello\".\n",
    "    Useful for comparing strings in an accent-insensitive fashion.\n",
    "    \"\"\"\n",
    "    normalized = unicodedata.normalize(\"NFKD\", text)\n",
    "    return \"\".join(c for c in normalized if unicodedata.category(c) != \"Mn\")\n",
    "\n",
    "\n",
    "case, _, _ = list(interventionToCase.values())[423]\n",
    "print(case)\n",
    "p = backgroundByCase[case]\n",
    "if len(p) != 0:  \n",
    "    text = p.iloc[0].RegistroXML\n",
    "    #prettyPrintXML(text)\n",
    "    r = list(filter(\n",
    "        lambda S: S.attrib ['NombreCampo'] == \"AntecedentesHTML\" or S.attrib['NombreCampo'] == 'AntecedentesPersonales',\n",
    "        ET.fromstring(text).findall('row')))\n",
    "    textClean = remove_diacritics(pars.unescape(r[0].attrib['ValorCampo']))\n",
    "    print(textClean)\n",
    "else:\n",
    "    print('Error')"
   ]
  },
  {
   "cell_type": "markdown",
   "metadata": {
    "Collapsed": "false"
   },
   "source": [
    "# Background\n",
    "\n",
    "Check from the yes / no form. \n",
    "\n",
    "The ones that have, try to get the most common. The rest note for manual"
   ]
  },
  {
   "cell_type": "code",
   "execution_count": null,
   "metadata": {
    "Collapsed": "false"
   },
   "outputs": [],
   "source": [
    "prettyPrintXML(registros[(registros.Caso == case) & registros.Asunto.str.contains('Ingreso de Urgencias')].iloc[0].RegistroXML)"
   ]
  },
  {
   "cell_type": "markdown",
   "metadata": {
    "Collapsed": "false"
   },
   "source": [
    "# Paraclinics and background familiar\n",
    "\n",
    "- From the antecedentes? There are many without anything in the venezuelans. Are hey applied during labour?\n",
    "- Much variability -> need to clean manually, but it might be too costly\n",
    "\n",
    "See what are the tests done (in orders, and the medication)"
   ]
  },
  {
   "cell_type": "code",
   "execution_count": null,
   "metadata": {
    "Collapsed": "false"
   },
   "outputs": [],
   "source": [
    "#Parse paraclinics\n",
    "#VIH\n",
    "#VDRL -\n",
    "# PRUEBA RAPIDA DE SIFILIS\n",
    "dict = {}\n",
    "for (case, _, _) in interventionToCase.values():\n",
    "    p = backgroundByCase[case]\n",
    "    if len(p) == 0:\n",
    "        continue\n",
    "    text = p.iloc[0].RegistroXML\n",
    "    #prettyPrintXML(text)\n",
    "    r = list(filter(\n",
    "        lambda S: S.attrib ['NombreCampo'] == \"AntecedentesHTML\" or S.attrib['NombreCampo'] == 'AntecedentesPersonales',\n",
    "        ET.fromstring(text).findall('row')))\n",
    "    if len(r) == 0:\n",
    "        continue\n",
    "       # text = remove_diacritics(pars.unescape(r[0].attrib['ValorCampo']))\n",
    "    dict[case] = {'VIH': 'VIH' in text, 'VDRL' : 'VDRL' in text, 'PARACLINICOS' :  'PARACLINICOS' in text, 'SIF' : 'PRUEBA RAPIDA DE SIFILIS' in text}"
   ]
  },
  {
   "cell_type": "code",
   "execution_count": null,
   "metadata": {
    "Collapsed": "false"
   },
   "outputs": [],
   "source": [
    "paraclinics = pandas.DataFrame.from_dict(dict, orient = 'index')\n",
    "paraclinics.sum(), len(paraclinics)"
   ]
  },
  {
   "cell_type": "code",
   "execution_count": null,
   "metadata": {
    "Collapsed": "false"
   },
   "outputs": [],
   "source": [
    "def parseAntecedentes(t):\n",
    "    t = t.upper()\n",
    "    antecedentes = []\n",
    "    negative = ['NO', 'NIEG', 'SIN DATOS', 'NEGATIVO', 'NO REFIERE', 'SIN']\n",
    "    if 'HIPERTEN' in t or 'HTA' in t:\n",
    "        antecedentes.append('HTA')\n",
    "    if any([n in t for n in negative]):\n",
    "        antecedentes.append('None')\n",
    "    if 'DIAB' in t or 'DM' in t:\n",
    "        antecedentes.append('Diabetes')\n",
    "    if 'ASMA' in t:\n",
    "        antecedentes.append('Asma')\n",
    "    if 'CARDIO' in t:\n",
    "        antecedentes.append('Cardo')\n",
    "    if 'PREECLAMPSIA' in t:\n",
    "        antecedentes.append('Preclampsia')\n",
    "\n",
    "    return antecedentes"
   ]
  },
  {
   "cell_type": "code",
   "execution_count": null,
   "metadata": {
    "Collapsed": "false"
   },
   "outputs": [],
   "source": []
  },
  {
   "cell_type": "code",
   "execution_count": null,
   "metadata": {
    "Collapsed": "false",
    "scrolled": true
   },
   "outputs": [],
   "source": [
    "j  = 0\n",
    "noFam, noPara = 0, 0\n",
    "fam = {}\n",
    "para = {}\n",
    "for k, r in paraclinics.iterrows(): \n",
    "    text = caseToBackground(k, backgroundByCase)\n",
    "    paraclinicos = re.findall('PARACLINICOS(.*)FAMILIARES', text, re.DOTALL)\n",
    "    familiares = re.findall('FAMILIARES(.*)ALERGICOS', text, re.DOTALL)\n",
    "    if not paraclinicos:\n",
    "        noPara += 1\n",
    "    else: \n",
    "        \n",
    "    else:\n",
    "        para[k] = cleanString(paraclinicos[0])\n",
    "    if not familiares:\n",
    "        noFam += 1\n",
    "    else:\n",
    "        print(cleanString(familiares[0]))\n",
    "        fam[k] = parseAntecedentes(cleanString(familiares[0]))\n",
    "print(noFam, noPara, len(paraclinics))"
   ]
  },
  {
   "cell_type": "code",
   "execution_count": null,
   "metadata": {
    "Collapsed": "false",
    "scrolled": true
   },
   "outputs": [],
   "source": [
    "for c in any.values():\n",
    "    print(c)"
   ]
  },
  {
   "cell_type": "markdown",
   "metadata": {
    "Collapsed": "false"
   },
   "source": [
    "# Echographies:\n",
    "\n",
    "- There is a lot of variability that makes it difficult to get all of them.\n",
    "- In most cases I should be able to get at least one.\n",
    "- Do-able: GA. If there is something more, do it manually"
   ]
  },
  {
   "cell_type": "code",
   "execution_count": null,
   "metadata": {
    "Collapsed": "false"
   },
   "outputs": [],
   "source": [
    "noEchos = ['no trae ecografia', 'ni ecografia']"
   ]
  },
  {
   "cell_type": "code",
   "execution_count": null,
   "metadata": {
    "Collapsed": "false",
    "scrolled": true
   },
   "outputs": [],
   "source": [
    "\n",
    "embarazo = ['embarazo de', 'emb de', 'embarazo', 'emb', 'QUE REPORTA EMBARAZO DE']\n",
    "query = 'Ecografi[a]?[s]?' + sep +  '(' + sep +  date + sep + '(?:%s)' % '|'.join(embarazo) + blanks + '(%s)' % floatParse  + blanks + semanas \\\n",
    "+ blanks  + '(:?'+ paraHoy + floatParse +  ')?' + ')+'\n",
    "re.findall(query, text, re.IGNORECASE)"
   ]
  },
  {
   "cell_type": "code",
   "execution_count": null,
   "metadata": {
    "Collapsed": "false"
   },
   "outputs": [],
   "source": [
    "blanks = '\\s*'\n",
    "paraHoyPossibilities = ['Para hoy', 'hoy', 'a hoy', 'para el dia de hoy']\n",
    "paraHoy = '(?:%s)' % '|'.join(paraHoyPossibilities)\n",
    "semanas = '(?:%s)' % '|'.join(['semanas', 'sem', 'sems'])\n",
    "\n",
    "echoLine =  sep +  date +  sep + '(?:%s)' % '|'.join(embarazo) + blanks + '(' + '(%s)' % floatParse  + blanks + semanas  + '[,]?'\\\n",
    "+ blanks + paraHoy + blanks + floatParse + blanks + '(:?%s)?' % semanas + ')?'\n",
    "\n",
    "queryEchos = '(Eco[g]?[r]?[a]?[f]?[i]?[a]?[s]?' + sep +  '(' + echoLine  + ')+)'\n",
    "def searchEchos(text):\n",
    "    for t in re.findall(query, text, re.IGNORECASE):\n",
    "        print(t)\n",
    "    #TODO: afterwards parse all echographies from the result"
   ]
  },
  {
   "cell_type": "code",
   "execution_count": null,
   "metadata": {
    "Collapsed": "false"
   },
   "outputs": [],
   "source": [
    "from ipywidgets import interact, interactive, fixed, interact_manual\n",
    "import ipywidgets as widgets\n"
   ]
  },
  {
   "cell_type": "code",
   "execution_count": null,
   "metadata": {
    "Collapsed": "false"
   },
   "outputs": [],
   "source": [
    "backgroundByCase['AD301211'] = getBackgroundRegister(case, registersByPatient.get_group(pId))"
   ]
  },
  {
   "cell_type": "code",
   "execution_count": null,
   "metadata": {
    "Collapsed": "false"
   },
   "outputs": [],
   "source": [
    "registros[registros.NumeroHistoria == 216835]"
   ]
  },
  {
   "cell_type": "code",
   "execution_count": null,
   "metadata": {
    "Collapsed": "false"
   },
   "outputs": [],
   "source": [
    "#TODO: check that operation and diagnosis are compatible."
   ]
  },
  {
   "cell_type": "code",
   "execution_count": null,
   "metadata": {
    "Collapsed": "false",
    "scrolled": true
   },
   "outputs": [],
   "source": [
    "getprocID(i.XmlDescripcion)\n",
    "for k,c in interventionToCase[k].iterrows():\n",
    "    prettyPrintXML(c.RegistroXML)"
   ]
  },
  {
   "cell_type": "markdown",
   "metadata": {
    "Collapsed": "false"
   },
   "source": [
    "# Patient information"
   ]
  },
  {
   "cell_type": "code",
   "execution_count": null,
   "metadata": {
    "Collapsed": "false"
   },
   "outputs": [],
   "source": [
    "def getDataFromPatient(p):\n",
    "    \"\"\"\n",
    "    Get the patient data\n",
    "    \"\"\"\n",
    "    r = {}\n",
    "    r['id'] = r.Identificacion\n",
    "    r['marital'] = p.EstadoCivil\n",
    "    r['etnia'] = p.Etnia #Map from id to string\n",
    "    r['estudios'] = p.Escolaridad #Map from id to string\n",
    "    r['nacimiento'] = p.FechaNac #Map from id to string"
   ]
  },
  {
   "cell_type": "markdown",
   "metadata": {
    "Collapsed": "false"
   },
   "source": [
    "# Classify intervention"
   ]
  },
  {
   "cell_type": "code",
   "execution_count": 31,
   "metadata": {
    "Collapsed": "false"
   },
   "outputs": [
    {
     "name": "stdout",
     "output_type": "stream",
     "text": [
      "17640 ('AD152124', 139326, 550963)\n"
     ]
    }
   ],
   "source": [
    "for c, v in interventionToCase.items():\n",
    "    interventionID = getProcFromXMLString(procedimientos.loc[c].XmlDescripcion)\n",
    "    break"
   ]
  },
  {
   "cell_type": "markdown",
   "metadata": {
    "Collapsed": "false"
   },
   "source": [
    "# New born information and birth\n",
    "\n",
    "- New born anthropometrics\n",
    "- Birth details (quirurgic)\n",
    "- Life  /dead, and also of the mum\n",
    "- Whether there was a single one, or many\n",
    "- C- section"
   ]
  },
  {
   "cell_type": "code",
   "execution_count": 72,
   "metadata": {
    "Collapsed": "false",
    "scrolled": true
   },
   "outputs": [],
   "source": [
    "classificationProcedures = {'H0165': 'o', 'H0193': 'o', 'H2120': 'o', 'H2379': 'o', 'H2383': 'o', 'H2386': 'o', 'H2407': 'o', 'H2415': 'o', 'H2595': 'o', 'H2684': 'o', 'H2849': 'o', 'H2852': 'o', 'H2880': 'o', 'H2882': 'o', 'H2884': 'o', 'H2892': 'o', 'H2901': 'o', 'H2904': 'o', 'H2910': 'o', 'H2916': 'o', 'H2959': 'o', 'H2963': 'o', 'H2974': 'a', 'H2975': 'a', 'H3038': 'o', 'H3065': 'o', 'H3066': 'o', 'H3078': 'o', 'H3089': 'p', 'H3092': 'p', 'H3094': 'p', 'H3099': 'a', 'H3100': 'a', 'H3108': 'o', 'H3109': 'o', 'H3111': 'o', 'H3114': 'o', 'H3118': 'o', 'H4421': 'o', 'H4494': 'o', 'H4496': 'o', 'HE020': 'o'}"
   ]
  },
  {
   "cell_type": "code",
   "execution_count": 76,
   "metadata": {
    "Collapsed": "false"
   },
   "outputs": [],
   "source": [
    "def findDesgarros(text):\n",
    "    text = text.replace(' de ', ' ').replace(' se ', ' ')\n",
    "    \n",
    "    removeWords = ['lateral', 'izquierda', 'derecha', 'superior', 'inferior', 'medial']\n",
    "    for w in removeWords:\n",
    "        text = text.replace(' %s ' % w, ' ')\n",
    "\n",
    "    #Perdida de sangre\n",
    "    bloodLost = re.findall('perdida estimada sangre(?::)? ([0-9]+) (?:cc|ml)', text)\n",
    "    ver = '(?:eviden[a-z]*|observ[a-z]*|vis[a-z]*|encont[a-z]*|presen[a-z]*)'   #diferentes manaeras de escribir ver\n",
    "    negative = ['(?:sin|no) (?:%s )?desgar' % ver]\n",
    "    positive = 'desgar[a-z]* (?:[a-z]* |(:?pared )?vag[a-z]* )?(?:sangr[a-z]* |no sangrant[a-z]* )?grado (i|ii|ii|1|2|3)'\n",
    "    positiveUnidentified = '(?:%s )?desgar' % ver\n",
    "\n",
    "    if re.findall('(%s)' % '|'.join(negative), text) or ('desgarro' not in text): #and 'sin complicaciones' in text):\n",
    "        desgarro = 'no'\n",
    "    elif re.findall(positive, text):\n",
    "        desgarro = 'yes'\n",
    "    elif re.findall(positiveUnidentified, text):\n",
    "        desgarro = 'yes-NoGrade'\n",
    "    else:\n",
    "        desgarro = text\n",
    "    return bloodLost, desgarro"
   ]
  },
  {
   "cell_type": "code",
   "execution_count": null,
   "metadata": {},
   "outputs": [],
   "source": []
  },
  {
   "cell_type": "code",
   "execution_count": 102,
   "metadata": {
    "Collapsed": "false",
    "scrolled": true
   },
   "outputs": [
    {
     "name": "stdout",
     "output_type": "stream",
     "text": [
      "('AD182404', 152609, 661880)\n"
     ]
    }
   ],
   "source": [
    "wrongParse = 0\n",
    "for c,v in interventionToCase.items():\n",
    "    xmlDesc = procedimientos.loc[c].XmlDescripcion\n",
    "    idProc = getProcFromXMLString(procedimientos.loc[c].XmlDescripcion)\n",
    "    if classificationProcedures[idProc] == 'p':\n",
    "        et = ET.fromstring(xmlDesc)\n",
    "        r =  findDesgarros(remove_diacritics(cleanString(et.find('detalle/procedimientos/procedimiento/descripcion').text.lower())))\n",
    "        wrongParse += r[1] not in ['yes', 'no', 'yes-NoGrade']\n",
    "        print(v)\n",
    "        casos = registersByCase.get_group(v[0])[registersByCase.get_group(v[0]).Asunto.str.contains('ALTA') == True]\n",
    "        if casos:\n",
    "            alta += 1\n",
    "        else:\n",
    "            noAlta += 1"
   ]
  },
  {
   "cell_type": "code",
   "execution_count": 101,
   "metadata": {},
   "outputs": [
    {
     "data": {
      "text/html": [
       "<div>\n",
       "<style scoped>\n",
       "    .dataframe tbody tr th:only-of-type {\n",
       "        vertical-align: middle;\n",
       "    }\n",
       "\n",
       "    .dataframe tbody tr th {\n",
       "        vertical-align: top;\n",
       "    }\n",
       "\n",
       "    .dataframe thead th {\n",
       "        text-align: right;\n",
       "    }\n",
       "</style>\n",
       "<table border=\"1\" class=\"dataframe\">\n",
       "  <thead>\n",
       "    <tr style=\"text-align: right;\">\n",
       "      <th></th>\n",
       "      <th>NumeroHistoria</th>\n",
       "      <th>Caso</th>\n",
       "      <th>CodigoRegistro</th>\n",
       "      <th>Asunto</th>\n",
       "      <th>FechaAsignacionRegistro</th>\n",
       "      <th>Raiz</th>\n",
       "      <th>Padre</th>\n",
       "      <th>Usuario</th>\n",
       "      <th>Prestador</th>\n",
       "      <th>AdmPlan</th>\n",
       "      <th>...</th>\n",
       "      <th>AltaMedica</th>\n",
       "      <th>IdRegistroPreanestesico</th>\n",
       "      <th>IdRegistroIntraOperatorio</th>\n",
       "      <th>IdRegistroPostOperatorio</th>\n",
       "      <th>Modulo</th>\n",
       "      <th>ProgramaPyP</th>\n",
       "      <th>FechaInicioAtencion</th>\n",
       "      <th>UnidadFuncional</th>\n",
       "      <th>ConfirmacionGuardado</th>\n",
       "      <th>Sincronizado</th>\n",
       "    </tr>\n",
       "    <tr>\n",
       "      <th>Id</th>\n",
       "      <th></th>\n",
       "      <th></th>\n",
       "      <th></th>\n",
       "      <th></th>\n",
       "      <th></th>\n",
       "      <th></th>\n",
       "      <th></th>\n",
       "      <th></th>\n",
       "      <th></th>\n",
       "      <th></th>\n",
       "      <th></th>\n",
       "      <th></th>\n",
       "      <th></th>\n",
       "      <th></th>\n",
       "      <th></th>\n",
       "      <th></th>\n",
       "      <th></th>\n",
       "      <th></th>\n",
       "      <th></th>\n",
       "      <th></th>\n",
       "      <th></th>\n",
       "    </tr>\n",
       "  </thead>\n",
       "  <tbody>\n",
       "    <tr>\n",
       "      <th>661826</th>\n",
       "      <td>152609</td>\n",
       "      <td>AD182404</td>\n",
       "      <td>7</td>\n",
       "      <td>Ingreso de Urgencias</td>\n",
       "      <td>2016-08-27 23:24:26.690</td>\n",
       "      <td>NaN</td>\n",
       "      <td>NaN</td>\n",
       "      <td>MDELTORO</td>\n",
       "      <td>73572518</td>\n",
       "      <td>118</td>\n",
       "      <td>...</td>\n",
       "      <td>False</td>\n",
       "      <td>NaN</td>\n",
       "      <td>NaN</td>\n",
       "      <td>NaN</td>\n",
       "      <td>3.0</td>\n",
       "      <td>NaN</td>\n",
       "      <td>2016-08-27 23:17:00</td>\n",
       "      <td>NaN</td>\n",
       "      <td>False</td>\n",
       "      <td>NaN</td>\n",
       "    </tr>\n",
       "    <tr>\n",
       "      <th>661860</th>\n",
       "      <td>152609</td>\n",
       "      <td>AD182404</td>\n",
       "      <td>14</td>\n",
       "      <td>TRASLADO A SALA DE PARTO</td>\n",
       "      <td>2016-08-28 01:59:39.620</td>\n",
       "      <td>7.0</td>\n",
       "      <td>661826</td>\n",
       "      <td>MDELTORO</td>\n",
       "      <td>73572518</td>\n",
       "      <td>118</td>\n",
       "      <td>...</td>\n",
       "      <td>False</td>\n",
       "      <td>NaN</td>\n",
       "      <td>NaN</td>\n",
       "      <td>NaN</td>\n",
       "      <td>3.0</td>\n",
       "      <td>NaN</td>\n",
       "      <td>2016-08-28 01:47:00</td>\n",
       "      <td>NaN</td>\n",
       "      <td>False</td>\n",
       "      <td>NaN</td>\n",
       "    </tr>\n",
       "    <tr>\n",
       "      <th>661880</th>\n",
       "      <td>152609</td>\n",
       "      <td>AD182404</td>\n",
       "      <td>145</td>\n",
       "      <td>NaN</td>\n",
       "      <td>2016-08-28 04:32:01.143</td>\n",
       "      <td>NaN</td>\n",
       "      <td>NaN</td>\n",
       "      <td>LPGONZALEZ</td>\n",
       "      <td>73140620</td>\n",
       "      <td>9</td>\n",
       "      <td>...</td>\n",
       "      <td>False</td>\n",
       "      <td>NaN</td>\n",
       "      <td>NaN</td>\n",
       "      <td>NaN</td>\n",
       "      <td>1.0</td>\n",
       "      <td>NaN</td>\n",
       "      <td>NaT</td>\n",
       "      <td>NaN</td>\n",
       "      <td>False</td>\n",
       "      <td>NaN</td>\n",
       "    </tr>\n",
       "    <tr>\n",
       "      <th>661889</th>\n",
       "      <td>152609</td>\n",
       "      <td>AD182404</td>\n",
       "      <td>94</td>\n",
       "      <td>Notas de Ingreso a Piso</td>\n",
       "      <td>2016-08-28 05:39:17.787</td>\n",
       "      <td>NaN</td>\n",
       "      <td>NaN</td>\n",
       "      <td>LCABALLERO</td>\n",
       "      <td>1047441492</td>\n",
       "      <td>118</td>\n",
       "      <td>...</td>\n",
       "      <td>False</td>\n",
       "      <td>NaN</td>\n",
       "      <td>NaN</td>\n",
       "      <td>NaN</td>\n",
       "      <td>1.0</td>\n",
       "      <td>NaN</td>\n",
       "      <td>2016-08-28 05:33:00</td>\n",
       "      <td>NaN</td>\n",
       "      <td>False</td>\n",
       "      <td>NaN</td>\n",
       "    </tr>\n",
       "    <tr>\n",
       "      <th>663501</th>\n",
       "      <td>152609</td>\n",
       "      <td>AD182404</td>\n",
       "      <td>166</td>\n",
       "      <td>EVOLUCION</td>\n",
       "      <td>2016-08-30 12:25:29.950</td>\n",
       "      <td>165.0</td>\n",
       "      <td>661905</td>\n",
       "      <td>HARGOZ7</td>\n",
       "      <td>73086292</td>\n",
       "      <td>100</td>\n",
       "      <td>...</td>\n",
       "      <td>False</td>\n",
       "      <td>NaN</td>\n",
       "      <td>NaN</td>\n",
       "      <td>NaN</td>\n",
       "      <td>1.0</td>\n",
       "      <td>NaN</td>\n",
       "      <td>2016-08-30 12:17:00</td>\n",
       "      <td>NaN</td>\n",
       "      <td>False</td>\n",
       "      <td>NaN</td>\n",
       "    </tr>\n",
       "    <tr>\n",
       "      <th>663587</th>\n",
       "      <td>152609</td>\n",
       "      <td>AD182404</td>\n",
       "      <td>166</td>\n",
       "      <td>EVOLUCION SALIDA</td>\n",
       "      <td>2016-08-30 14:33:25.750</td>\n",
       "      <td>165.0</td>\n",
       "      <td>661905</td>\n",
       "      <td>HARGOZ7</td>\n",
       "      <td>73086292</td>\n",
       "      <td>100</td>\n",
       "      <td>...</td>\n",
       "      <td>False</td>\n",
       "      <td>NaN</td>\n",
       "      <td>NaN</td>\n",
       "      <td>NaN</td>\n",
       "      <td>1.0</td>\n",
       "      <td>NaN</td>\n",
       "      <td>2016-08-30 14:28:00</td>\n",
       "      <td>NaN</td>\n",
       "      <td>False</td>\n",
       "      <td>NaN</td>\n",
       "    </tr>\n",
       "    <tr>\n",
       "      <th>661829</th>\n",
       "      <td>152609</td>\n",
       "      <td>AD182404</td>\n",
       "      <td>14</td>\n",
       "      <td>NOTA ACLARATORIA DEL EXAMEN FISICO</td>\n",
       "      <td>2016-08-27 23:28:37.077</td>\n",
       "      <td>7.0</td>\n",
       "      <td>661826</td>\n",
       "      <td>MDELTORO</td>\n",
       "      <td>73572518</td>\n",
       "      <td>118</td>\n",
       "      <td>...</td>\n",
       "      <td>False</td>\n",
       "      <td>NaN</td>\n",
       "      <td>NaN</td>\n",
       "      <td>NaN</td>\n",
       "      <td>3.0</td>\n",
       "      <td>NaN</td>\n",
       "      <td>2016-08-27 23:27:00</td>\n",
       "      <td>NaN</td>\n",
       "      <td>False</td>\n",
       "      <td>NaN</td>\n",
       "    </tr>\n",
       "    <tr>\n",
       "      <th>662453</th>\n",
       "      <td>152609</td>\n",
       "      <td>AD182404</td>\n",
       "      <td>106</td>\n",
       "      <td>Evoluci&amp;#243;nALTA</td>\n",
       "      <td>2016-08-29 08:30:03.060</td>\n",
       "      <td>94.0</td>\n",
       "      <td>661889</td>\n",
       "      <td>JRAMIREZ</td>\n",
       "      <td>9068204</td>\n",
       "      <td>118</td>\n",
       "      <td>...</td>\n",
       "      <td>False</td>\n",
       "      <td>NaN</td>\n",
       "      <td>NaN</td>\n",
       "      <td>NaN</td>\n",
       "      <td>1.0</td>\n",
       "      <td>NaN</td>\n",
       "      <td>2016-08-29 08:24:00</td>\n",
       "      <td>NaN</td>\n",
       "      <td>False</td>\n",
       "      <td>NaN</td>\n",
       "    </tr>\n",
       "    <tr>\n",
       "      <th>662457</th>\n",
       "      <td>152609</td>\n",
       "      <td>AD182404</td>\n",
       "      <td>450</td>\n",
       "      <td>Epicrisis de la Historia Ingreso de Urgencias</td>\n",
       "      <td>2016-08-29 08:33:25.907</td>\n",
       "      <td>1.0</td>\n",
       "      <td>AD182404</td>\n",
       "      <td>JRAMIREZ</td>\n",
       "      <td>9068204</td>\n",
       "      <td>118</td>\n",
       "      <td>...</td>\n",
       "      <td>False</td>\n",
       "      <td>NaN</td>\n",
       "      <td>NaN</td>\n",
       "      <td>NaN</td>\n",
       "      <td>1.0</td>\n",
       "      <td>NaN</td>\n",
       "      <td>NaT</td>\n",
       "      <td>NaN</td>\n",
       "      <td>False</td>\n",
       "      <td>NaN</td>\n",
       "    </tr>\n",
       "    <tr>\n",
       "      <th>662627</th>\n",
       "      <td>152609</td>\n",
       "      <td>AD182404</td>\n",
       "      <td>166</td>\n",
       "      <td>EVOLUCION RECIEN NACIDO</td>\n",
       "      <td>2016-08-29 10:43:29.963</td>\n",
       "      <td>165.0</td>\n",
       "      <td>661905</td>\n",
       "      <td>HARGOZ7</td>\n",
       "      <td>73086292</td>\n",
       "      <td>118</td>\n",
       "      <td>...</td>\n",
       "      <td>False</td>\n",
       "      <td>NaN</td>\n",
       "      <td>NaN</td>\n",
       "      <td>NaN</td>\n",
       "      <td>1.0</td>\n",
       "      <td>NaN</td>\n",
       "      <td>2016-08-29 10:37:00</td>\n",
       "      <td>NaN</td>\n",
       "      <td>False</td>\n",
       "      <td>NaN</td>\n",
       "    </tr>\n",
       "    <tr>\n",
       "      <th>661863</th>\n",
       "      <td>152609</td>\n",
       "      <td>AD182404</td>\n",
       "      <td>94</td>\n",
       "      <td>Notas de Ingreso a Piso</td>\n",
       "      <td>2016-08-28 02:24:56.037</td>\n",
       "      <td>NaN</td>\n",
       "      <td>NaN</td>\n",
       "      <td>LPGONZALEZ</td>\n",
       "      <td>73140620</td>\n",
       "      <td>118</td>\n",
       "      <td>...</td>\n",
       "      <td>False</td>\n",
       "      <td>NaN</td>\n",
       "      <td>NaN</td>\n",
       "      <td>NaN</td>\n",
       "      <td>1.0</td>\n",
       "      <td>NaN</td>\n",
       "      <td>2016-08-28 02:00:00</td>\n",
       "      <td>NaN</td>\n",
       "      <td>False</td>\n",
       "      <td>NaN</td>\n",
       "    </tr>\n",
       "    <tr>\n",
       "      <th>662033</th>\n",
       "      <td>152609</td>\n",
       "      <td>AD182404</td>\n",
       "      <td>106</td>\n",
       "      <td>Evoluci&amp;#243;n</td>\n",
       "      <td>2016-08-28 10:56:20.173</td>\n",
       "      <td>94.0</td>\n",
       "      <td>661889</td>\n",
       "      <td>MDELTORO</td>\n",
       "      <td>73572518</td>\n",
       "      <td>118</td>\n",
       "      <td>...</td>\n",
       "      <td>False</td>\n",
       "      <td>NaN</td>\n",
       "      <td>NaN</td>\n",
       "      <td>NaN</td>\n",
       "      <td>1.0</td>\n",
       "      <td>NaN</td>\n",
       "      <td>2016-08-28 10:54:00</td>\n",
       "      <td>NaN</td>\n",
       "      <td>False</td>\n",
       "      <td>NaN</td>\n",
       "    </tr>\n",
       "    <tr>\n",
       "      <th>662170</th>\n",
       "      <td>152609</td>\n",
       "      <td>AD182404</td>\n",
       "      <td>166</td>\n",
       "      <td>28-08-2016 EVOLUCION DE RECIEN NACIDO</td>\n",
       "      <td>2016-08-28 15:38:58.963</td>\n",
       "      <td>165.0</td>\n",
       "      <td>661905</td>\n",
       "      <td>alcarabalo</td>\n",
       "      <td>73167413</td>\n",
       "      <td>118</td>\n",
       "      <td>...</td>\n",
       "      <td>False</td>\n",
       "      <td>NaN</td>\n",
       "      <td>NaN</td>\n",
       "      <td>NaN</td>\n",
       "      <td>1.0</td>\n",
       "      <td>NaN</td>\n",
       "      <td>2016-08-28 15:34:00</td>\n",
       "      <td>NaN</td>\n",
       "      <td>False</td>\n",
       "      <td>NaN</td>\n",
       "    </tr>\n",
       "    <tr>\n",
       "      <th>662828</th>\n",
       "      <td>152609</td>\n",
       "      <td>AD182404</td>\n",
       "      <td>166</td>\n",
       "      <td>REPORTE DE PARACLINICOS</td>\n",
       "      <td>2016-08-29 15:21:54.023</td>\n",
       "      <td>165.0</td>\n",
       "      <td>661905</td>\n",
       "      <td>HARGOZ7</td>\n",
       "      <td>73086292</td>\n",
       "      <td>100</td>\n",
       "      <td>...</td>\n",
       "      <td>False</td>\n",
       "      <td>NaN</td>\n",
       "      <td>NaN</td>\n",
       "      <td>NaN</td>\n",
       "      <td>1.0</td>\n",
       "      <td>NaN</td>\n",
       "      <td>2016-08-29 15:17:00</td>\n",
       "      <td>NaN</td>\n",
       "      <td>False</td>\n",
       "      <td>NaN</td>\n",
       "    </tr>\n",
       "    <tr>\n",
       "      <th>661905</th>\n",
       "      <td>152609</td>\n",
       "      <td>AD182404</td>\n",
       "      <td>165</td>\n",
       "      <td>Registro del recién nacido</td>\n",
       "      <td>2016-08-28 06:48:54.600</td>\n",
       "      <td>NaN</td>\n",
       "      <td>Padre</td>\n",
       "      <td>sa</td>\n",
       "      <td>32936501</td>\n",
       "      <td>118</td>\n",
       "      <td>...</td>\n",
       "      <td>False</td>\n",
       "      <td>NaN</td>\n",
       "      <td>NaN</td>\n",
       "      <td>NaN</td>\n",
       "      <td>3.0</td>\n",
       "      <td>NaN</td>\n",
       "      <td>NaT</td>\n",
       "      <td>NaN</td>\n",
       "      <td>False</td>\n",
       "      <td>NaN</td>\n",
       "    </tr>\n",
       "  </tbody>\n",
       "</table>\n",
       "<p>15 rows × 35 columns</p>\n",
       "</div>"
      ],
      "text/plain": [
       "        NumeroHistoria      Caso  CodigoRegistro  \\\n",
       "Id                                                 \n",
       "661826          152609  AD182404               7   \n",
       "661860          152609  AD182404              14   \n",
       "661880          152609  AD182404             145   \n",
       "661889          152609  AD182404              94   \n",
       "663501          152609  AD182404             166   \n",
       "663587          152609  AD182404             166   \n",
       "661829          152609  AD182404              14   \n",
       "662453          152609  AD182404             106   \n",
       "662457          152609  AD182404             450   \n",
       "662627          152609  AD182404             166   \n",
       "661863          152609  AD182404              94   \n",
       "662033          152609  AD182404             106   \n",
       "662170          152609  AD182404             166   \n",
       "662828          152609  AD182404             166   \n",
       "661905          152609  AD182404             165   \n",
       "\n",
       "                                               Asunto  \\\n",
       "Id                                                      \n",
       "661826                           Ingreso de Urgencias   \n",
       "661860                       TRASLADO A SALA DE PARTO   \n",
       "661880                                            NaN   \n",
       "661889                        Notas de Ingreso a Piso   \n",
       "663501                                      EVOLUCION   \n",
       "663587                               EVOLUCION SALIDA   \n",
       "661829             NOTA ACLARATORIA DEL EXAMEN FISICO   \n",
       "662453                             Evoluci&#243;nALTA   \n",
       "662457  Epicrisis de la Historia Ingreso de Urgencias   \n",
       "662627                        EVOLUCION RECIEN NACIDO   \n",
       "661863                        Notas de Ingreso a Piso   \n",
       "662033                                 Evoluci&#243;n   \n",
       "662170          28-08-2016 EVOLUCION DE RECIEN NACIDO   \n",
       "662828                        REPORTE DE PARACLINICOS   \n",
       "661905                     Registro del recién nacido   \n",
       "\n",
       "        FechaAsignacionRegistro   Raiz     Padre     Usuario   Prestador  \\\n",
       "Id                                                                         \n",
       "661826  2016-08-27 23:24:26.690    NaN       NaN    MDELTORO    73572518   \n",
       "661860  2016-08-28 01:59:39.620    7.0    661826    MDELTORO    73572518   \n",
       "661880  2016-08-28 04:32:01.143    NaN       NaN  LPGONZALEZ    73140620   \n",
       "661889  2016-08-28 05:39:17.787    NaN       NaN  LCABALLERO  1047441492   \n",
       "663501  2016-08-30 12:25:29.950  165.0    661905     HARGOZ7    73086292   \n",
       "663587  2016-08-30 14:33:25.750  165.0    661905     HARGOZ7    73086292   \n",
       "661829  2016-08-27 23:28:37.077    7.0    661826    MDELTORO    73572518   \n",
       "662453  2016-08-29 08:30:03.060   94.0    661889    JRAMIREZ     9068204   \n",
       "662457  2016-08-29 08:33:25.907    1.0  AD182404    JRAMIREZ     9068204   \n",
       "662627  2016-08-29 10:43:29.963  165.0    661905     HARGOZ7    73086292   \n",
       "661863  2016-08-28 02:24:56.037    NaN       NaN  LPGONZALEZ    73140620   \n",
       "662033  2016-08-28 10:56:20.173   94.0    661889    MDELTORO    73572518   \n",
       "662170  2016-08-28 15:38:58.963  165.0    661905  alcarabalo    73167413   \n",
       "662828  2016-08-29 15:21:54.023  165.0    661905     HARGOZ7    73086292   \n",
       "661905  2016-08-28 06:48:54.600    NaN     Padre          sa    32936501   \n",
       "\n",
       "        AdmPlan  ...  AltaMedica  IdRegistroPreanestesico  \\\n",
       "Id               ...                                        \n",
       "661826      118  ...       False                      NaN   \n",
       "661860      118  ...       False                      NaN   \n",
       "661880        9  ...       False                      NaN   \n",
       "661889      118  ...       False                      NaN   \n",
       "663501      100  ...       False                      NaN   \n",
       "663587      100  ...       False                      NaN   \n",
       "661829      118  ...       False                      NaN   \n",
       "662453      118  ...       False                      NaN   \n",
       "662457      118  ...       False                      NaN   \n",
       "662627      118  ...       False                      NaN   \n",
       "661863      118  ...       False                      NaN   \n",
       "662033      118  ...       False                      NaN   \n",
       "662170      118  ...       False                      NaN   \n",
       "662828      100  ...       False                      NaN   \n",
       "661905      118  ...       False                      NaN   \n",
       "\n",
       "       IdRegistroIntraOperatorio  IdRegistroPostOperatorio Modulo  \\\n",
       "Id                                                                  \n",
       "661826                       NaN                       NaN    3.0   \n",
       "661860                       NaN                       NaN    3.0   \n",
       "661880                       NaN                       NaN    1.0   \n",
       "661889                       NaN                       NaN    1.0   \n",
       "663501                       NaN                       NaN    1.0   \n",
       "663587                       NaN                       NaN    1.0   \n",
       "661829                       NaN                       NaN    3.0   \n",
       "662453                       NaN                       NaN    1.0   \n",
       "662457                       NaN                       NaN    1.0   \n",
       "662627                       NaN                       NaN    1.0   \n",
       "661863                       NaN                       NaN    1.0   \n",
       "662033                       NaN                       NaN    1.0   \n",
       "662170                       NaN                       NaN    1.0   \n",
       "662828                       NaN                       NaN    1.0   \n",
       "661905                       NaN                       NaN    3.0   \n",
       "\n",
       "        ProgramaPyP  FechaInicioAtencion  UnidadFuncional  \\\n",
       "Id                                                          \n",
       "661826          NaN  2016-08-27 23:17:00              NaN   \n",
       "661860          NaN  2016-08-28 01:47:00              NaN   \n",
       "661880          NaN                  NaT              NaN   \n",
       "661889          NaN  2016-08-28 05:33:00              NaN   \n",
       "663501          NaN  2016-08-30 12:17:00              NaN   \n",
       "663587          NaN  2016-08-30 14:28:00              NaN   \n",
       "661829          NaN  2016-08-27 23:27:00              NaN   \n",
       "662453          NaN  2016-08-29 08:24:00              NaN   \n",
       "662457          NaN                  NaT              NaN   \n",
       "662627          NaN  2016-08-29 10:37:00              NaN   \n",
       "661863          NaN  2016-08-28 02:00:00              NaN   \n",
       "662033          NaN  2016-08-28 10:54:00              NaN   \n",
       "662170          NaN  2016-08-28 15:34:00              NaN   \n",
       "662828          NaN  2016-08-29 15:17:00              NaN   \n",
       "661905          NaN                  NaT              NaN   \n",
       "\n",
       "       ConfirmacionGuardado Sincronizado  \n",
       "Id                                        \n",
       "661826                False          NaN  \n",
       "661860                False          NaN  \n",
       "661880                False          NaN  \n",
       "661889                False          NaN  \n",
       "663501                False          NaN  \n",
       "663587                False          NaN  \n",
       "661829                False          NaN  \n",
       "662453                False          NaN  \n",
       "662457                False          NaN  \n",
       "662627                False          NaN  \n",
       "661863                False          NaN  \n",
       "662033                False          NaN  \n",
       "662170                False          NaN  \n",
       "662828                False          NaN  \n",
       "661905                False          NaN  \n",
       "\n",
       "[15 rows x 35 columns]"
      ]
     },
     "execution_count": 101,
     "metadata": {},
     "output_type": "execute_result"
    }
   ],
   "source": [
    "registersByCase.get_group(v[0])"
   ]
  },
  {
   "cell_type": "code",
   "execution_count": 103,
   "metadata": {
    "Collapsed": "false"
   },
   "outputs": [
    {
     "name": "stdout",
     "output_type": "stream",
     "text": [
      "<?xml version=\"1.0\" ?>\n",
      "<C Asunto=\"Evoluci&amp;#243;nALTA\" Caso=\"AD182404\" CentroA=\"01\" CodigoDiagnosticoRelacionado1=\"Z370\" CodigoDiagnosticoRelacionado2=\"\" CodigoDiagnosticoRelacionado3=\"\" Diagnostico=\"O800\" IdPaciente=\"152609\" Modulo=\"01\" Padre=\"661889\" PlanAdm=\"118\" Prestador=\"9068204\" Raiz=\"94\" Registro=\"106\">\n",
      "\t<row NombreCampo=\"DescripcionNota\" NombreTabla=\"CamposMemo\" ValorCampo=\"&amp;lt;DIV style=&amp;quot;LINE-HEIGHT: normal&amp;quot;&amp;gt;&amp;lt;SPAN style=&amp;quot;FONT-SIZE: 9pt&amp;quot;&amp;gt;PACIENTE DE20 A&amp;#209;OS DE EDAD CON DIAGNOSTICO DE:&amp;lt;BR&amp;gt;&amp;lt;BR&amp;gt;1. POSPARTO VAGINAL ASISTIDO 28/08/2016: 02:30 AM&amp;lt;BR&amp;gt;2. RNUV&amp;lt;BR&amp;gt;&amp;lt;BR&amp;gt;SUBJETIVO:&amp;lt;/SPAN&amp;gt;&amp;lt;/DIV&amp;gt;\n",
      "&amp;lt;P&amp;gt;&amp;lt;SPAN style=&amp;quot;FONT-SIZE: 9pt&amp;quot;&amp;gt;PACIENTE REFIERE SENTIRSE BIEN, NIEGA FIEBRE, NIEGA CEFALEA, NAUSEAS, VOMITO U OTRA SINTOMATOLOGIA. &amp;lt;BR&amp;gt;&amp;lt;BR&amp;gt;OBJETIVO:&amp;lt;/SPAN&amp;gt;&amp;lt;/P&amp;gt;\n",
      "&amp;lt;P&amp;gt;&amp;lt;SPAN style=&amp;quot;FONT-SIZE: 9pt&amp;quot;&amp;gt;SIGNOS VITALES&amp;lt;/SPAN&amp;gt;&amp;lt;/P&amp;gt;\n",
      "&amp;lt;DIV style=&amp;quot;LINE-HEIGHT: normal&amp;quot;&amp;gt;&amp;lt;SPAN style=&amp;quot;FONT-SIZE: 9pt&amp;quot;&amp;gt;TA: 110/70mmHg FC:&amp;amp;nbsp;78 lpm FR: 18 rpm T: 36.5&amp;#176;C&amp;lt;/SPAN&amp;gt;&amp;lt;/DIV&amp;gt;\n",
      "&amp;lt;P&amp;gt;&amp;lt;SPAN style=&amp;quot;FONT-SIZE: 9pt&amp;quot;&amp;gt;NORMOCEFALO, PUPILAS ISOCORICAS NORMOREACTIVAS A LA LUZ, MUCOSAS HUMEDAD SIN LESIONES. CUELLOS MOVIL, SIMETRICO, NO SE PALPAN MASAS NI ADENOPATIAS. TORAX SIMETRICO, EXPANSIBLE, MURMULLO UNIVERSAL EN AMBOS CAMPOS,NO MASTALGIA, RUIDOS CARDIACOS RITMICOS, BIEN TIMBRADOS, NO SE AUSCULTAN SOPLOS NI AGREGADOS, ABDOMEN BLANDO DEPRESIBLE, LEVE DOLOR A LA PALPACION PROFUNDA, UTERO NORMOTONICO, INVOLUCIONADO, ADECUADO BOLO DE SEGURIDAD DE PINARD INFRAUMBILICAL. GENITALES NORMOCONFIGURADOS,&amp;amp;nbsp;LOQUIOS&amp;lt;/SPAN&amp;gt;&amp;lt;SPAN style=&amp;quot;FONT-SIZE: 9pt&amp;quot;&amp;gt; GENITALES ESCASO&amp;lt;/SPAN&amp;gt;&amp;lt;SPAN style=&amp;quot;FONT-SIZE: 9pt&amp;quot;&amp;gt;, NO FETIDO. EXTREMIDADES EUTROFICAS, SIMETRICAS, SIN EDEMA, PULSOS PERIFERICOS PRESENTES, LLENADO CAPILAR MENOR DE 2 SEGUNDO. SNC: NO FOCALIZACION NEUROLOGICA APARENTE GLASGOW: 15/15&amp;lt;BR&amp;gt;&amp;lt;BR&amp;gt;ANALISIS:&amp;lt;BR&amp;gt;PACIENTE DE&amp;amp;nbsp; A&amp;#209;OS EN CONTEXTO DE POSTPARTO VAGINAL + DIAGNOSTICOS ANOTADOS ACTUALMENTE HEMODINAMICAMENTE ESTABLE, CON SIGNOS VITALES DENTRO DE PARAMETROS NORMALES, NI SIGNOS DE IRRITACION PERITONEAL, CON BUEN PATRON RESPIRATORIO, CON BOLO DE SEGURIDAD DE PINARD NORMOTONICO, PACIENTE CON BUENA EVOLUCION Y QUE CUMPLE TIEMPO DE VIGILANCIA HOSPITARIA&amp;amp;nbsp; POSPARTO,&amp;amp;nbsp; POR LO QUE SE DECIDE ALTA MEDICA CON FORMULA MEDICA, CITA CONTROL POR GINECOLOGIA, SE EXPLICA A PACIENTE&amp;amp;nbsp; CONDUCTA QUE ENTIENDE Y ACEPTA. SE DAN RECOMENDACIONES Y SIGNOS DE ALARMA: LACTANCIA MATERNA EXCLUSIVA MINIMO 6 MESES ASISTIR A LA URGENCIA SI PRESENTA DOLOR ABDOMINAL INTENSO, SANGRADO ABUNDANTE POR GENITALES, FIEBRE 38.0, CONVULSINES, VOMITOS RECURRENTES.&amp;lt;/SPAN&amp;gt;&amp;lt;/P&amp;gt;\n",
      "&amp;lt;P&amp;gt;&amp;lt;SPAN style=&amp;quot;FONT-SIZE: 9pt&amp;quot;&amp;gt;PLAN:&amp;lt;BR&amp;gt;-ALTA MEDICA &amp;lt;BR&amp;gt;-CEFRADINA TAB 500 MG. DAR 1 TAB VO CADA 6 HORAS POR 7 DIAS.&amp;lt;BR&amp;gt;-ACETAMINOF&amp;#201;N TAB 500 MG. DAR 1 TAB VO CADA 6 HORAS POR 5 DIAS. &amp;lt;BR&amp;gt;-CITA CONTROL POR GINECOLOGIA EN 7 DIAS &amp;lt;BR&amp;gt;-RECOMENDACIONES Y SIGNOS DE ALARMA: LACTANCIA MATERNA EXCLUSIVA MINIMO 6 MESES ASISTIR A LA URGENCIA SI PRESENTA DOLOR ABDOMINAL INTENSO, SANGRADO ABUNDANTE POR GENITALES, FIEBRE 38.2, CONVULSINES, VOMITOS RECURRENTES.&amp;lt;/SPAN&amp;gt;&amp;lt;/P&amp;gt;\"/>\n",
      "\t<row NombreCampo=\"FechaNota\" NombreTabla=\"CamposFecha\" ValorCampo=\"29/08/2016 08:24\"/>\n",
      "\t<row NombreCampo=\"FechaEgreso\" NombreTabla=\"CamposFecha\" ValorCampo=\"\"/>\n",
      "\t<row NombreCampo=\"Autorizacion\" NombreTabla=\"CamposTexto\" ValorCampo=\"\"/>\n",
      "\t<row NombreCampo=\"CausaExterna\" NombreTabla=\"CamposTexto\" ValorCampo=\"\"/>\n",
      "\t<row NombreCampo=\"DiagnosticoPrincipal\" NombreTabla=\"CamposTexto\" ValorCampo=\"PARTO UNICO ESPONTANEO, PRESENTACION CEFALICA DE VERTICE\"/>\n",
      "\t<row NombreCampo=\"DiagnosticoRelacionado1\" NombreTabla=\"CamposTexto\" ValorCampo=\"NACIDO VIVO, UNICO\"/>\n",
      "\t<row NombreCampo=\"DiagnosticoRealcionado2\" NombreTabla=\"CamposTexto\" ValorCampo=\"\"/>\n",
      "\t<row NombreCampo=\"DiagnosticoRealcionado3\" NombreTabla=\"CamposTexto\" ValorCampo=\"\"/>\n",
      "\t<row NombreCampo=\"CodigoCausaExterna\" NombreTabla=\"CamposTexto\" ValorCampo=\"\"/>\n",
      "\t<row NombreCampo=\"CodigoDiagnosticoPrincipal\" NombreTabla=\"CamposTexto\" ValorCampo=\"O800\"/>\n",
      "\t<row NombreCampo=\"CodigoDiagnosticoRelacionado1\" NombreTabla=\"CamposTexto\" ValorCampo=\"Z370\"/>\n",
      "\t<row NombreCampo=\"CodigoDiagnosticoRealcionado2\" NombreTabla=\"CamposTexto\" ValorCampo=\"\"/>\n",
      "\t<row NombreCampo=\"CodigoDiagnosticoRealcionado3\" NombreTabla=\"CamposTexto\" ValorCampo=\"\"/>\n",
      "\t<row NombreCampo=\"EstadoSalida\" NombreTabla=\"CamposTexto\" ValorCampo=\"\"/>\n",
      "\t<row NombreCampo=\"DestinoPaciente\" NombreTabla=\"CamposTexto\" ValorCampo=\"\"/>\n",
      "\t<row NombreCampo=\"SigueObservacion\" NombreTabla=\"CamposBoolean\" ValorCampo=\"true\"/>\n",
      "\t<row NombreCampo=\"CodigoEstadoSalida\" NombreTabla=\"CamposTexto\" ValorCampo=\"\"/>\n",
      "\t<row NombreCampo=\"CodigoDestinoPaciente\" NombreTabla=\"CamposTexto\" ValorCampo=\"\"/>\n",
      "\t<row NombreCampo=\"CodigoPlanAdministradora\" NombreTabla=\"CamposTexto\" ValorCampo=\"118|8060\"/>\n",
      "\t<row NombreCampo=\"PlanAdministradora\" NombreTabla=\"CamposTexto\" ValorCampo=\"PARTICULAR / PARTICULARES\"/>\n",
      "\t<row NombreCampo=\"FechaIngreso\" NombreTabla=\"CamposFecha\" ValorCampo=\"\"/>\n",
      "\t<row NombreCampo=\"Observacion\" NombreTabla=\"CamposTexto\" ValorCampo=\"\"/>\n",
      "\t<row NombreCampo=\"CodigoMuerte\" NombreTabla=\"CamposTexto\" ValorCampo=\"\"/>\n",
      "\t<row NombreCampo=\"DescripcionMuerte\" NombreTabla=\"CamposTexto\" ValorCampo=\"\"/>\n",
      "\t<row NombreCampo=\"Historico\" NombreTabla=\"CamposMemo\" ValorCampo=\"\n",
      "\n",
      "-Fecha: 29/08/2016 08:24     Prestador:JORGE ELIECER RAMIREZ MERLANO\n",
      "Descripci&amp;#243;n: &amp;lt;DIV style=&amp;quot;LINE-HEIGHT: normal&amp;quot;&amp;gt;&amp;lt;SPAN style=&amp;quot;FONT-SIZE: 9pt&amp;quot;&amp;gt;PACIENTE DE20 A&amp;#209;OS DE EDAD CON DIAGNOSTICO DE:&amp;lt;BR&amp;gt;&amp;lt;BR&amp;gt;1. POSPARTO VAGINAL ASISTIDO 28/08/2016: 02:30 AM&amp;lt;BR&amp;gt;2. RNUV&amp;lt;BR&amp;gt;&amp;lt;BR&amp;gt;SUBJETIVO:&amp;lt;/SPAN&amp;gt;&amp;lt;/DIV&amp;gt;\n",
      "&amp;lt;P&amp;gt;&amp;lt;SPAN style=&amp;quot;FONT-SIZE: 9pt&amp;quot;&amp;gt;PACIENTE REFIERE SENTIRSE BIEN, NIEGA FIEBRE, NIEGA CEFALEA, NAUSEAS, VOMITO U OTRA SINTOMATOLOGIA. &amp;lt;BR&amp;gt;&amp;lt;BR&amp;gt;OBJETIVO:&amp;lt;/SPAN&amp;gt;&amp;lt;/P&amp;gt;\n",
      "&amp;lt;P&amp;gt;&amp;lt;SPAN style=&amp;quot;FONT-SIZE: 9pt&amp;quot;&amp;gt;SIGNOS VITALES&amp;lt;/SPAN&amp;gt;&amp;lt;/P&amp;gt;\n",
      "&amp;lt;DIV style=&amp;quot;LINE-HEIGHT: normal&amp;quot;&amp;gt;&amp;lt;SPAN style=&amp;quot;FONT-SIZE: 9pt&amp;quot;&amp;gt;TA: 110/70mmHg FC:&amp;amp;nbsp;78 lpm FR: 18 rpm T: 36.5&amp;#176;C&amp;lt;/SPAN&amp;gt;&amp;lt;/DIV&amp;gt;\n",
      "&amp;lt;P&amp;gt;&amp;lt;SPAN style=&amp;quot;FONT-SIZE: 9pt&amp;quot;&amp;gt;NORMOCEFALO, PUPILAS ISOCORICAS NORMOREACTIVAS A LA LUZ, MUCOSAS HUMEDAD SIN LESIONES. CUELLOS MOVIL, SIMETRICO, NO SE PALPAN MASAS NI ADENOPATIAS. TORAX SIMETRICO, EXPANSIBLE, MURMULLO UNIVERSAL EN AMBOS CAMPOS,NO MASTALGIA, RUIDOS CARDIACOS RITMICOS, BIEN TIMBRADOS, NO SE AUSCULTAN SOPLOS NI AGREGADOS, ABDOMEN BLANDO DEPRESIBLE, LEVE DOLOR A LA PALPACION PROFUNDA, UTERO NORMOTONICO, INVOLUCIONADO, ADECUADO BOLO DE SEGURIDAD DE PINARD INFRAUMBILICAL. GENITALES NORMOCONFIGURADOS,&amp;amp;nbsp;LOQUIOS&amp;lt;/SPAN&amp;gt;&amp;lt;SPAN style=&amp;quot;FONT-SIZE: 9pt&amp;quot;&amp;gt; GENITALES ESCASO&amp;lt;/SPAN&amp;gt;&amp;lt;SPAN style=&amp;quot;FONT-SIZE: 9pt&amp;quot;&amp;gt;, NO FETIDO. EXTREMIDADES EUTROFICAS, SIMETRICAS, SIN EDEMA, PULSOS PERIFERICOS PRESENTES, LLENADO CAPILAR MENOR DE 2 SEGUNDO. SNC: NO FOCALIZACION NEUROLOGICA APARENTE GLASGOW: 15/15&amp;lt;BR&amp;gt;&amp;lt;BR&amp;gt;ANALISIS:&amp;lt;BR&amp;gt;PACIENTE DE&amp;amp;nbsp; A&amp;#209;OS EN CONTEXTO DE POSTPARTO VAGINAL + DIAGNOSTICOS ANOTADOS ACTUALMENTE HEMODINAMICAMENTE ESTABLE, CON SIGNOS VITALES DENTRO DE PARAMETROS NORMALES, NI SIGNOS DE IRRITACION PERITONEAL, CON BUEN PATRON RESPIRATORIO, CON BOLO DE SEGURIDAD DE PINARD NORMOTONICO, PACIENTE CON BUENA EVOLUCION Y QUE CUMPLE TIEMPO DE VIGILANCIA HOSPITARIA&amp;amp;nbsp; POSPARTO,&amp;amp;nbsp; POR LO QUE SE DECIDE ALTA MEDICA CON FORMULA MEDICA, CITA CONTROL POR GINECOLOGIA, SE EXPLICA A PACIENTE&amp;amp;nbsp; CONDUCTA QUE ENTIENDE Y ACEPTA. SE DAN RECOMENDACIONES Y SIGNOS DE ALARMA: LACTANCIA MATERNA EXCLUSIVA MINIMO 6 MESES ASISTIR A LA URGENCIA SI PRESENTA DOLOR ABDOMINAL INTENSO, SANGRADO ABUNDANTE POR GENITALES, FIEBRE 38.0, CONVULSINES, VOMITOS RECURRENTES.&amp;lt;/SPAN&amp;gt;&amp;lt;/P&amp;gt;\n",
      "&amp;lt;P&amp;gt;&amp;lt;SPAN style=&amp;quot;FONT-SIZE: 9pt&amp;quot;&amp;gt;PLAN:&amp;lt;BR&amp;gt;-ALTA MEDICA &amp;lt;BR&amp;gt;-CEFRADINA TAB 500 MG. DAR 1 TAB VO CADA 6 HORAS POR 7 DIAS.&amp;lt;BR&amp;gt;-ACETAMINOF&amp;#201;N TAB 500 MG. DAR 1 TAB VO CADA 6 HORAS POR 5 DIAS. &amp;lt;BR&amp;gt;-CITA CONTROL POR GINECOLOGIA EN 7 DIAS &amp;lt;BR&amp;gt;-RECOMENDACIONES Y SIGNOS DE ALARMA: LACTANCIA MATERNA EXCLUSIVA MINIMO 6 MESES ASISTIR A LA URGENCIA SI PRESENTA DOLOR ABDOMINAL INTENSO, SANGRADO ABUNDANTE POR GENITALES, FIEBRE 38.2, CONVULSINES, VOMITOS RECURRENTES.&amp;lt;/SPAN&amp;gt;&amp;lt;/P&amp;gt;\n",
      "Diagn&amp;#243;stico Principal: O800:PARTO UNICO ESPONTANEO, PRESENTACION CEFALICA DE VERTICE\n",
      "Diagn&amp;#243;stico Relacionado 1: Z370:NACIDO VIVO, UNICO\n",
      "\n",
      "\n",
      "\n",
      "\n",
      "-Fecha: 28/08/2016 10:54     Prestador:MARLON DEL TORO HERRERA\n",
      "Descripci&amp;#243;n: PACIENTE DE20 A&amp;#209;OS DE EDAD CON DIAGNOSTICO DE:1. POSPARTO VAGINAL ASISTIDO 28/08/2016: 02:30 AM2. RNUV3. PUERPERIO INMEDIATOSUBJETIVO:PACIENTE REFIERE SENTIRSE BIEN, NIEGA FIEBRE, NIEGA CEFALEA, NAUSEAS, VOMITO U OTRA SINTOMATOLOGIA. OBJETIVO:SIGNOS VITALESTA: 110/70mmHg FC: 82 lpm FR: 17 rpm T: 36.5&amp;#176;CNORMOCEFALO, PUPILAS ISOCORICAS NORMOREACTIVAS A LA LUZ, MUCOSAS HUMEDAD SIN LESIONES. CUELLOS MOVIL, SIMETRICO, NO SE PALPAN MASAS NI ADENOPATIAS. TORAX SIMETRICO, EXPANSIBLE, MURMULLO UNIVERSAL EN AMBOS CAMPOS,NO MASTALGIA, RUIDOS CARDIACOS RITMICOS, BIEN TIMBRADOS, NO SE AUSCULTAN SOPLOS NI AGREGADOS, ABDOMEN BLANDO DEPRESIBLE, LEVE DOLOR A LA PALPACION, UTERO NORMOTONICO, INVOLUCIONADO, ADECUADO BOLO DE SEGURIDAD DE PINARD INFRAUMBILICAL. GENITALES NORMOCONFIGURADOS, SANGRADO POR GENITALES ESCASO, NO FETIDO. EXTREMIDADES EUTROFICAS, SIMETRICAS, SIN EDEMA, PULSOS PERIFERICOS PRESENTES, LLENADO CAPILAR MENOR DE 2 SEGUNDO. SNC: NO FOCALIZACION NEUROLOGICA APARENTE GLASGOW: 15/15ANALISIS:PACIENTE DE20 A&amp;#209;OS DE EDAD CON DIAGNOSTICOS ANOTADOS, BUEN ESTADO GENERAL, ALERTA, CONSCIENTE, ORIENTADA, ESTABLE HEMODINAMICAMENTE, TOLERANDO LA DEAMBULACION, SIN DATOS DE SIRS, SIGNOS VITALES EN PARAMETROS NORMALES, AFEBRIL, HIDRATADA, TOLERANDO VIA ORAL. SE CONSIDERA EN EL MOMENTO PACIENTE CON ESTABILIDAD CLINICA, CON BUENA EVOLUCION POSTPARTO, CONTINUA HOSPITALIZADA CUMPLIENDO TIEMPO PROTOCOLARIOPLAN:1. HOSPITALIZADA EN PUERPERIO2. DIETA NORMAL3. ACETAMINOFEN 500 MG CADA 6 HORAS4. CEFRADINA 500 MG CADA 6 HORAS5.CSV Y AC\n",
      "Diagn&amp;#243;stico Principal: O809:PARTO UNICO ESPONTANEO, SIN OTRA ESPECIFICACION\n",
      "Diagn&amp;#243;stico Relacionado 1: Z370:NACIDO VIVO, UNICO\n",
      "\n",
      "\n",
      "\"/>\n",
      "\t<row NombreCampo=\"Bandera\" NombreTabla=\"CamposTexto\" ValorCampo=\"\"/>\n",
      "\t<row NombreCampo=\"AltaMedica\" NombreTabla=\"CamposBoolean\" ValorCampo=\"0\"/>\n",
      "\t<row NombreCampo=\"SeguimientoCondicion\" NombreTabla=\"CamposBoolean\" ValorCampo=\"false\"/>\n",
      "\t<row NombreCampo=\"SeguimientoValorCondicion\" NombreTabla=\"CamposTexto\" ValorCampo=\"\"/>\n",
      "\t<row NombreCampo=\"IntensidadSintomatica\" NombreTabla=\"CamposBoolean\" ValorCampo=\"false\"/>\n",
      "\t<row NombreCampo=\"EscalaAnaloga\" NombreTabla=\"CamposTexto\" ValorCampo=\"\"/>\n",
      "\t<row NombreCampo=\"NivelDolor\" NombreTabla=\"CamposTexto\" ValorCampo=\"\"/>\n",
      "\t<row NombreCampo=\"NumCertificadoDefuncion\" NombreTabla=\"CamposTexto\" ValorCampo=\"\"/>\n",
      "</C>\n",
      "\n"
     ]
    }
   ],
   "source": [
    "prettyPrintXML(casos.iloc[0].RegistroXML)"
   ]
  },
  {
   "cell_type": "markdown",
   "metadata": {
    "Collapsed": "false"
   },
   "source": [
    "# Abortion"
   ]
  },
  {
   "cell_type": "code",
   "execution_count": 40,
   "metadata": {
    "Collapsed": "false"
   },
   "outputs": [
    {
     "data": {
      "text/plain": [
       "'H3100'"
      ]
     },
     "execution_count": 40,
     "metadata": {},
     "output_type": "execute_result"
    }
   ],
   "source": [
    "getProcFromXMLString(procedimientos.loc[17640].XmlDescripcion)"
   ]
  },
  {
   "cell_type": "code",
   "execution_count": 39,
   "metadata": {
    "Collapsed": "false"
   },
   "outputs": [
    {
     "data": {
      "text/plain": [
       "FechaRegistro                                 2016-03-03 13:43:27.833\n",
       "FechaDescripcion                                  2016-03-03 01:41:00\n",
       "ActoQuirurgico                                                CP23726\n",
       "IdPaciente                                                     139326\n",
       "Usuario                          CEACBACD-0BBE-4709-9803-4AD990D5A45E\n",
       "XmlDescripcion      <descripcionQuirurgica><cabecera><quirofano>04...\n",
       "Xslt                <?xml version=\"1.0\" encoding=\"utf-8\"?><xsl:sty...\n",
       "Name: 17640, dtype: object"
      ]
     },
     "execution_count": 39,
     "metadata": {},
     "output_type": "execute_result"
    }
   ],
   "source": [
    "procedimientos.loc[17640]"
   ]
  },
  {
   "cell_type": "code",
   "execution_count": null,
   "metadata": {
    "Collapsed": "false"
   },
   "outputs": [],
   "source": []
  },
  {
   "cell_type": "markdown",
   "metadata": {},
   "source": [
    "# Leaving the hospital\n",
    "Search when they left the hospital, and in which state"
   ]
  },
  {
   "cell_type": "code",
   "execution_count": 33,
   "metadata": {},
   "outputs": [],
   "source": [
    "for c, r in registersByCase.groups.items():\n",
    "    break"
   ]
  },
  {
   "cell_type": "code",
   "execution_count": 32,
   "metadata": {},
   "outputs": [
    {
     "ename": "TypeError",
     "evalue": "'dict' object is not callable",
     "output_type": "error",
     "traceback": [
      "\u001b[1;31m---------------------------------------------------------------------------\u001b[0m",
      "\u001b[1;31mTypeError\u001b[0m                                 Traceback (most recent call last)",
      "\u001b[1;32m<ipython-input-32-e8de3c550794>\u001b[0m in \u001b[0;36m<module>\u001b[1;34m\u001b[0m\n\u001b[1;32m----> 1\u001b[1;33m \u001b[0mregistersByCase\u001b[0m\u001b[1;33m.\u001b[0m\u001b[0mgroups\u001b[0m\u001b[1;33m(\u001b[0m\u001b[1;33m)\u001b[0m\u001b[1;33m\u001b[0m\u001b[1;33m\u001b[0m\u001b[0m\n\u001b[0m",
      "\u001b[1;31mTypeError\u001b[0m: 'dict' object is not callable"
     ]
    }
   ],
   "source": [
    "registersByCase.groups()"
   ]
  },
  {
   "cell_type": "code",
   "execution_count": null,
   "metadata": {},
   "outputs": [],
   "source": []
  }
 ],
 "metadata": {
  "kernelspec": {
   "display_name": "Python 3",
   "language": "python",
   "name": "python3"
  },
  "language_info": {
   "codemirror_mode": {
    "name": "ipython",
    "version": 3
   },
   "file_extension": ".py",
   "mimetype": "text/x-python",
   "name": "python",
   "nbconvert_exporter": "python",
   "pygments_lexer": "ipython3",
   "version": "3.7.1"
  }
 },
 "nbformat": 4,
 "nbformat_minor": 4
}
