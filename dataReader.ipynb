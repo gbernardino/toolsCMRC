{
 "cells": [
  {
   "cell_type": "code",
   "execution_count": 1,
   "metadata": {
    "Collapsed": "false"
   },
   "outputs": [],
   "source": [
    "import pandas, numpy as np,re\n",
    "import xml, itertools, re, xml.etree.ElementTree as ET\n",
    "from html.parser import HTMLParser\n",
    "import datetime, tqdm\n",
    "pars =HTMLParser()\n",
    "\n",
    "def prettyPrintXML(s):\n",
    "    r = xml.dom.minidom.parseString(s) #r.RegistroXML)\n",
    "    print(r.toprettyxml())\n",
    "    \n",
    "#from datetime import datetime as dt\n",
    "#import locale\n",
    "#locale.setlocale(locale.LC_ALL, 'es_es')\n",
    "#spanishDateToPandas = lambda s: pandas.to_datetime(dt.strptime(s, '%d %b %Y %H:%M:%S'))"
   ]
  },
  {
   "cell_type": "markdown",
   "metadata": {
    "Collapsed": "false"
   },
   "source": [
    "# Data reading and basic cleaning\n",
    "\n",
    "- Find candidates of repeated pateints\n",
    "- Find the used codes for diagnosis and procedures"
   ]
  },
  {
   "cell_type": "code",
   "execution_count": 2,
   "metadata": {
    "Collapsed": "false"
   },
   "outputs": [
    {
     "name": "stderr",
     "output_type": "stream",
     "text": [
      "/Users/gbernardino/opt/miniconda3/lib/python3.7/site-packages/IPython/core/interactiveshell.py:3051: DtypeWarning: Columns (6,27,55) have mixed types. Specify dtype option on import or set low_memory=False.\n",
      "  interactivity=interactivity, compiler=compiler, result=result)\n",
      "/Users/gbernardino/opt/miniconda3/lib/python3.7/site-packages/IPython/core/interactiveshell.py:3051: DtypeWarning: Columns (19) have mixed types. Specify dtype option on import or set low_memory=False.\n",
      "  interactivity=interactivity, compiler=compiler, result=result)\n"
     ]
    }
   ],
   "source": [
    "casos = pandas.read_csv('Venezolanas/casos.csv', index_col = 0)\n",
    "pacientes = pandas.read_csv('Venezolanas/pacientes.csv', index_col = 0)\n",
    "registros = pandas.read_csv('Venezolanas/registros.csv', index_col = 0)\n",
    "diagnosis = pandas.read_csv('Venezolanas/diagnosis.csv', index_col = 0)\n",
    "procedimientos = pandas.read_csv('Venezolanas/procedimientos.csv', index_col = 0)\n",
    "procedimientosDesc = pandas.read_csv('Venezolanas/procedimientosID.csv', index_col = 0)\n",
    "\n",
    "#str2Date = lambda s:datetime.datetime.strptime(s, '%Y-%m-%d %H:%M:%S.%f') if isinstance(s, str) \\\n",
    "#           else datetime.datetime(1, 1, 1)\n",
    "registros.FechaInicioAtencion = registros.FechaInicioAtencion.map(pandas.to_datetime) #registros.FechaInicioAtencion.map(str2Date)\n",
    "procedimientos.FechaDescripcion  = procedimientos.FechaDescripcion.map(pandas.to_datetime)\n",
    "from html.parser import HTMLParser\n",
    "pars =HTMLParser()\n",
    "#pars.unescape"
   ]
  },
  {
   "cell_type": "code",
   "execution_count": 3,
   "metadata": {
    "Collapsed": "false"
   },
   "outputs": [],
   "source": [
    "procedureIDFound = set()\n",
    "abortions = []\n",
    "def getProcFromXMLString(s):\n",
    "    s = re.findall('<idProcedimiento>([a-zA-Z0-9]*)</idProcedimiento>', s)\n",
    "    return s[0]\n",
    "\n",
    "for k, p in procedimientos.iterrows():\n",
    "    et = xml.etree.ElementTree.fromstring(p.XmlDescripcion)\n",
    "    s = re.findall('<idProcedimiento>([a-zA-Z0-9]*)</idProcedimiento>', p.XmlDescripcion)\n",
    "    for ss in s:\n",
    "        procedureIDFound.add(ss)\n",
    "    if 'H3094' in p.XmlDescripcion:\n",
    "        abortions.append(k)\n",
    "procedureIDFound = list(sorted(procedureIDFound))"
   ]
  },
  {
   "cell_type": "code",
   "execution_count": 4,
   "metadata": {
    "Collapsed": "false"
   },
   "outputs": [],
   "source": [
    "procedimientosDesc.loc[procedureIDFound].to_excel('procedimientosFiltered.xlsx')\n",
    "procedimientosDesc.loc[procedureIDFound].to_csv('procedimientosFiltered.csv')"
   ]
  },
  {
   "cell_type": "code",
   "execution_count": 5,
   "metadata": {
    "Collapsed": "false",
    "scrolled": true
   },
   "outputs": [
    {
     "name": "stdout",
     "output_type": "stream",
     "text": [
      "0800\n"
     ]
    }
   ],
   "source": [
    "unique = registros.Diagnostico.unique()\n",
    "unique = [u for u in unique if isinstance(u, str)]\n",
    "for u in unique:\n",
    "    if u.upper() not in diagnosis.index:\n",
    "        print(u)"
   ]
  },
  {
   "cell_type": "code",
   "execution_count": 6,
   "metadata": {
    "Collapsed": "false"
   },
   "outputs": [],
   "source": [
    "#Check duplicates by birthData\n",
    "def candidateToRepeated(p1, p2):\n",
    "    \"\"\"\n",
    "    Selects as candidate if they were born in the same name:\n",
    "    - they have the same 1st surname\n",
    "    - [TODO] they have similar height (~2cm), as found in the cases\n",
    "    \n",
    "    TODO: beware the case of twins!\n",
    "    \"\"\"\n",
    "    #First surname criterio\n",
    "    if p1[1].Ape1Afil.strip().lower() == p2[1].Ape1Afil.strip().lower():\n",
    "        return True\n",
    "    #TODO: Search height and see it's similar\n",
    "    if False:\n",
    "        return True\n",
    "    #Otherwise return False\n",
    "    return False\n",
    "    \n",
    "\n",
    "#Beware\n",
    "candidates = []\n",
    "threshold = '2010'\n",
    "for c in pacientes.groupby('FechaNac'):\n",
    "    #Arbitrary threshold for separating between mothers and borns\n",
    "    if len(c[1]) >= 2 and c[0][:4] < threshold:\n",
    "        for p1, p2 in itertools.combinations(c[1].iterrows(), r = 2):\n",
    "            if p1[0] != p2[0] and candidateToRepeated(p1, p2):\n",
    "                candidates.append([p1[0], p2[0]])\n",
    "pandas.DataFrame.from_records(candidates).to_csv('repeatedCandidates.csv')"
   ]
  },
  {
   "cell_type": "markdown",
   "metadata": {
    "Collapsed": "false"
   },
   "source": [
    "# Select the cases by procedure\n",
    "\n",
    "- Based on the procedure, select the history register associated.\n",
    "- TODO: Check that diagnosis and procedure are compatible"
   ]
  },
  {
   "cell_type": "code",
   "execution_count": 7,
   "metadata": {
    "Collapsed": "false"
   },
   "outputs": [],
   "source": [
    "registersByPatient = registros.groupby('NumeroHistoria')"
   ]
  },
  {
   "cell_type": "code",
   "execution_count": 8,
   "metadata": {
    "Collapsed": "false"
   },
   "outputs": [],
   "source": [
    "####\n",
    "## Old code, before I discovered the link between case and operations\n",
    "####\n",
    "#getprocID = lambda s:  re.findall('<idProcedimiento>([a-zA-Z0-9]*)</idProcedimiento>', s)[0]\n",
    "#getprocDate = lambda s:  re.findall('<fechaCirugia>(.*)</fechaCirugia>', s)[0]\n",
    "#\n",
    "#def associateCaseAndHistory(interventionId, intervention, registersByPatient, \n",
    "#                            nDaysThreshold = 3,  nDaysUpperThreshold = 0):\n",
    "#    pId = intervention.IdPaciente\n",
    "#    df = registersByPatient.get_group(pId)\n",
    "#    #interventionDate = spanishDateToPandas(getprocDate(intervention.XmlDescripcion))\n",
    "#    interventionDate = pandas.to_datetime(intervention.FechaRegistro.replace('T', ''))\n",
    "#    df = df.loc[df.FechaInicioAtencion.between(interventionDate - pandas.Timedelta(nDaysThreshold, 'D'),\n",
    "#                                      interventionDate +  pandas.Timedelta(nDaysUpperThreshold, 'D'))]\n",
    "#    #Do not count Triage in the cases ID\n",
    "#    caseIds =  [s for s in df.Caso.unique() if not s.startswith('TRI')]\n",
    "#    if len(caseIds) == 0:\n",
    "#        print('Error in intervention %d found %d. Code = %s. Patient = %s' % (interventionId, df.Caso.nunique(),\n",
    "#                                                                getprocID(intervention.XmlDescripcion), intervention.IdPaciente ))\n",
    "#        print(intervention.FechaDescripcion, intervention.FechaRegistro, interventionDate)\n",
    "#        return False\n",
    "#    else:\n",
    "#        return df.loc[df.FechaInicioAtencion == df.FechaInicioAtencion.max()].Caso.values[0]\n",
    "#Identify borns and abortions using the proc ID\n",
    "#interventionToCase = {}\n",
    "#for k, i in tqdm.tqdm_notebook(procedimientos.iterrows()):\n",
    "#    interventionToCase[k] = (associateCaseAndHistory(k, i, registersByPatient), i.IdPaciente)\n"
   ]
  },
  {
   "cell_type": "code",
   "execution_count": 14,
   "metadata": {
    "Collapsed": "false"
   },
   "outputs": [
    {
     "data": {
      "application/vnd.jupyter.widget-view+json": {
       "model_id": "264de11e5ec049c883021789031d267b",
       "version_major": 2,
       "version_minor": 0
      },
      "text/plain": [
       "HBox(children=(IntProgress(value=1, bar_style='info', max=1), HTML(value='')))"
      ]
     },
     "metadata": {},
     "output_type": "display_data"
    },
    {
     "name": "stdout",
     "output_type": "stream",
     "text": [
      "\n"
     ]
    }
   ],
   "source": [
    "interventionToCase = {}\n",
    "caseToProcedure = {}\n",
    "for i,r  in tqdm.tqdm_notebook(registros.iterrows()):\n",
    "    if isinstance(r.RegistroXML, str) and '<row NombreCampo=\"IdDescripcion\"' in r.RegistroXML:\n",
    "        et = ET.fromstring(r.RegistroXML)\n",
    "        idDescripcion = int(et.find('.//row[@NombreCampo=\"IdDescripcion\"]').get('ValorCampo'))\n",
    "        interventionToCase[idDescripcion] = (r.Caso, r.NumeroHistoria, i)\n",
    "        caseToProcedure[idDescripcion] = getProcFromXMLString(procedimientos.loc[idDescripcion].XmlDescripcion)"
   ]
  },
  {
   "cell_type": "code",
   "execution_count": 15,
   "metadata": {
    "Collapsed": "false"
   },
   "outputs": [
    {
     "name": "stdout",
     "output_type": "stream",
     "text": [
      "ERROR: Patient name does not coincides 61066 1356698\n"
     ]
    }
   ],
   "source": [
    "errors = []\n",
    "for i, (_, k, k2) in interventionToCase.items():\n",
    "    if procedimientos.loc[i].IdPaciente != k:\n",
    "        print('ERROR: Patient name does not coincides', i, k2)\n",
    "        errors.append(i)\n",
    "for i in errors:\n",
    "    del interventionToCase[i]"
   ]
  },
  {
   "cell_type": "markdown",
   "metadata": {
    "Collapsed": "false"
   },
   "source": [
    "# Parse information from cases\n",
    "Now we need to parse the information from the cases"
   ]
  },
  {
   "cell_type": "code",
   "execution_count": 17,
   "metadata": {
    "Collapsed": "false"
   },
   "outputs": [],
   "source": [
    "def getStateDataFromCase(case):\n",
    "    \"\"\"\n",
    "    Get some information from the case\n",
    "    \"\"\"\n",
    "    data = {}\n",
    "    r = ET.fromstring(case.RegistroXML)\n",
    "    try:\n",
    "        data['FC']=r.find('.//row[@NombreCampo=\"FrecuenciaCardiaca\"]').get('ValorCampo')\n",
    "        data['FR']=r.find('.//row[@NombreCampo=\"FrecuenciaRespiratoria\"]').get('ValorCampo')\n",
    "        data['Presion']=r.find('.//row[@NombreCampo=\"Presion\"]').get('ValorCampo')\n",
    "        data['Temperatura']=r.find('.//row[@NombreCampo=\"Temperatura\"]').get('ValorCampo')\n",
    "        data['Talla']=r.find('.//row[@NombreCampo=\"Talla\"]').get('ValorCampo')\n",
    "        data['Peso']=r.find('.//row[@NombreCampo=\"Peso\"]').get('ValorCampo')\n",
    "        return data\n",
    "    except:\n",
    "        return {}"
   ]
  },
  {
   "cell_type": "code",
   "execution_count": 18,
   "metadata": {
    "Collapsed": "false"
   },
   "outputs": [],
   "source": [
    "floatParse = '[0-9]*[\\.,]?[0-9]+'\n",
    "compareGPCA = lambda s1, s2: all([i == j or not i or not j for i, j in zip(s1, s2)])\n",
    "allEqual = lambda s: all([compareGPCA(i, j) for i, j in  itertools.combinations(s, r = 2)])\n",
    "sep= '\\s*[,;:]?\\s*'\n",
    " #In some cases there is only G\n",
    "patternGPAC = 'G%s(?P<G>[0-9]+)' %sep + sep + 'P%s(?P<P>[0-9]+)'  %sep + sep + '(?:'\n",
    "patternGPAC += 'A%s(?P<A>[0-9]+)' %sep  + sep + 'C%s(?P<C>[0-9]+)'  %sep\n",
    "patternGPAC += '|'\n",
    "patternGPAC += 'C%s(?P<C2>[0-9]+)' %sep  + sep + 'A%s(?P<A2>[0-9]+)' %sep\n",
    "patternGPAC += '|' # C and A can be missing, or in other order\n",
    "patternGPAC += ')'\n",
    "searchGPAC = re.compile(patternGPAC, flags=0)\n",
    "\n",
    "meses = ['ENERO', 'FEBRERO', 'MARZO', 'ABRIL', 'MAYO', 'JUNIO', 'JULIO', 'AGOSTO', 'SEPTIEMBRE', 'OCTUBRE', 'NOVIEMBRE', 'DICIEMBRE']\n",
    "meses = meses + list(map(lambda s: s[:3], meses))\n",
    "noRecuerda = ['NO', '\\?']\n",
    "separadorFecha = '(?:[\\.\\\\/-]|DE|DEL|\\s)'\n",
    "date =  '\\(?' +  '((?:[0-9]+)'+ sep + separadorFecha + sep + '(?:[0-9]+|%s)'%  '|'.join(meses) + \\\n",
    "                       sep + separadorFecha + sep + '(?:[0-9]+))' + '\\)?' \n",
    "\n",
    "searchFUM = re.compile('FUM'+ sep + '(?::|.)?'+ sep +'(' +  date + '|%s)' % ('|'.join(noRecuerda)), flags = re.IGNORECASE)\n",
    "errors = []\n",
    "def parseGPCA_and_fum(s):\n",
    "    \"\"\"\n",
    "    Gets the GPCA and FUM from the Triage or epicrisis\n",
    "    \n",
    "    TODO: actually, registro del recien nacido has it as a field.\n",
    "    \"\"\"\n",
    "    r = list(filter(lambda S: S.attrib ['NombreCampo'] == \"AntecedentesHTML\" or S.attrib['NombreCampo'] == 'AntecedentesPersonales',ET.fromstring(s).findall('row')))\n",
    "    if len(r) == 0:\n",
    "         return {}\n",
    "    text = pars.unescape(r[0].attrib['ValorCampo'])\n",
    "    \n",
    "    allowedStarts = ['7-&gt;', '-', '- ANTECEDENTES']\n",
    "    line = re.findall('^%s(?:%s)?%s' % (sep, '|'.join(allowedStarts), sep) + 'G' + sep + '[0-9]+.*$', text, re.M)\n",
    "    if len(line) != 1:\n",
    "        #If it doesn't find it, search brutally\n",
    "        search = searchGPAC.findall(s)\n",
    "        searchCleaned = [(s[0], s[1], s[2] + s[-1], s[3] + s[-2]) for s in search]\n",
    "        if search and allEqual(search):\n",
    "            GPCA_OK = True\n",
    "            parsedGPCA = search[0]\n",
    "        else:\n",
    "            GPCA_OK = False\n",
    "            parsedGPCA = []\n",
    "\n",
    "    else:\n",
    "        f = lambda s: s[0] if s else ''\n",
    "        G = f(re.findall('G' + sep + '([0-9]+)', line[0]))\n",
    "        A = f(re.findall('A' + sep + '([0-9]+)', line[0]))\n",
    "        C = f(re.findall('C' + sep + '([0-9]+)', line[0]))\n",
    "        P = f(re.findall('P' + sep + '([0-9]+)', line[0])) \n",
    "        parsedGPCA = [G, P, A, C]\n",
    "        GPCA_OK = True\n",
    "    #Prob athere is a better way...\n",
    "    parsedFUM = searchFUM.findall(s)\n",
    "    return {'fum' : len(parsedFUM) > 0,\n",
    "            'fum_OK' : len(parsedFUM) ,\n",
    "            'GPCA_OK' : GPCA_OK,\n",
    "            'fum_Data' : parsedFUM,\n",
    "            'parsedGPCA' : parsedGPCA}"
   ]
  },
  {
   "cell_type": "code",
   "execution_count": 19,
   "metadata": {
    "Collapsed": "false"
   },
   "outputs": [],
   "source": [
    "from IPython.display import display\n",
    "\n",
    "def getBackgroundRegister(casoID, registrosByCase):\n",
    "    \"\"\"\n",
    "    Gets a register that includes the personal background in order Epicrisis / Triage / Ingreso a urgencias\n",
    "    \"\"\"\n",
    "    #\n",
    "    epicrisis = registrosByCase[(registrosByCase.Caso == casoID) & \n",
    "                     (registrosByCase.Asunto.str.contains('Epicrisis', case = False) == True)]\n",
    "    if epicrisis is not None and len(epicrisis):\n",
    "        return epicrisis\n",
    "    \n",
    "    triage = registrosByCase[(registrosByCase.Caso == casoID) & \n",
    "                     (registrosByCase.Asunto.str.contains('Triage', case = False) == True)]\n",
    "    if triage is not None and len(triage):\n",
    "        return triage\n",
    "\n",
    "    urgencias = registrosByCase[(registrosByCase.Caso == casoID) & \n",
    "                     (registrosByCase.Asunto.str.contains('Ingreso de Urgencias', case = False) == True)]\n",
    "    if urgencias is not None:\n",
    "        return urgencias\n"
   ]
  },
  {
   "cell_type": "code",
   "execution_count": 20,
   "metadata": {
    "Collapsed": "false"
   },
   "outputs": [
    {
     "data": {
      "application/vnd.jupyter.widget-view+json": {
       "model_id": "0832d5376d06470aa42779d75394e1f4",
       "version_major": 2,
       "version_minor": 0
      },
      "text/plain": [
       "HBox(children=(IntProgress(value=0, max=2572), HTML(value='')))"
      ]
     },
     "metadata": {},
     "output_type": "display_data"
    },
    {
     "name": "stderr",
     "output_type": "stream",
     "text": [
      "/Users/gbernardino/opt/miniconda3/lib/python3.7/site-packages/ipykernel_launcher.py:32: DeprecationWarning: The unescape method is deprecated and will be removed in 3.5, use html.unescape() instead.\n"
     ]
    },
    {
     "name": "stdout",
     "output_type": "stream",
     "text": [
      "\n",
      "No background 5\n"
     ]
    }
   ],
   "source": [
    "errorsBackgroundRegister = []\n",
    "backgroundByCase = {}\n",
    "dataGPAC_fum = {}\n",
    "for k, (case, pId, _) in tqdm.tqdm_notebook(interventionToCase.items()):\n",
    "    if case is False:\n",
    "        continue\n",
    "        \n",
    "    backgroundByCase[case] = getBackgroundRegister(case, registersByPatient.get_group(pId))\n",
    "    if len(backgroundByCase[case]) == 0:\n",
    "        errorsBackgroundRegister.append(case)\n",
    "    else: \n",
    "        dataGPAC_fum[case] = parseGPCA_and_fum(backgroundByCase[case].iloc[0].RegistroXML)\n",
    "        c = getProcFromXMLString(procedimientos.loc[k].XmlDescripcion)\n",
    "        #dataGPAC_fum[case] ['ProcCode'] = c\n",
    "        #dataGPAC_fum[case] ['ProcDesc'] = procedimientosDesc.loc[c].DESCRIP\n",
    "    \n",
    "print('No background', len(errorsBackgroundRegister))"
   ]
  },
  {
   "cell_type": "markdown",
   "metadata": {
    "Collapsed": "false"
   },
   "source": [
    "## Quality check\n",
    "- See how many have epicrisis"
   ]
  },
  {
   "cell_type": "code",
   "execution_count": 43,
   "metadata": {
    "Collapsed": "false"
   },
   "outputs": [
    {
     "data": {
      "text/plain": [
       "Index(['NumeroHistoria', 'Caso', 'CodigoRegistro', 'Asunto',\n",
       "       'FechaAsignacionRegistro', 'Raiz', 'Padre', 'Usuario', 'Prestador',\n",
       "       'AdmPlan', 'Protocolo', 'Ciclo', 'Diagnostico', 'CAtencion',\n",
       "       'RegistroXML', 'Fluorosis', 'TipoFluorosis', 'RipsXML', 'InfopathXml',\n",
       "       'CodigoDiagnosticoRelacionado1', 'CodigoDiagnosticoRelacionado2',\n",
       "       'CodigoDiagnosticoRelacionado3', 'NumeroAdjuntos',\n",
       "       'idSolProcedimientosQx', 'AproboValoracion', 'AltaMedica',\n",
       "       'IdRegistroPreanestesico', 'IdRegistroIntraOperatorio',\n",
       "       'IdRegistroPostOperatorio', 'Modulo', 'ProgramaPyP',\n",
       "       'FechaInicioAtencion', 'UnidadFuncional', 'ConfirmacionGuardado',\n",
       "       'Sincronizado'],\n",
       "      dtype='object')"
      ]
     },
     "execution_count": 43,
     "metadata": {},
     "output_type": "execute_result"
    }
   ],
   "source": [
    "k.columns"
   ]
  },
  {
   "cell_type": "code",
   "execution_count": 61,
   "metadata": {
    "Collapsed": "false"
   },
   "outputs": [],
   "source": [
    "findInXML = lambda  s, et: et.find('.//row[@NombreCampo=\"%s\"]' % s).get('ValorCampo')\n",
    "\n",
    "def ProcessRecienNacido(text):\n",
    "    et = ET.fromstring(text)\n",
    "    findInXML = lambda  s: et.find('.//row[@NombreCampo=\"%s\"]' % s).get('ValorCampo')\n",
    "    fecha = findInXML('InputText_FechaHoraNacimiento')\n",
    "    hora = findInXML('ASPxTimeEdit_HoraNacimiento')\n",
    "    EG = findInXML('EdadGestacapuroo')\n",
    "    EG2 = findInXML('InputText_EdadGestacDubowitzModificado')\n",
    "    partoVag = findInXML('TexTarea_PartoVaginal')\n",
    "    partoC = findInXML('TexTarea_PartoCesaria')\n",
    "    APGAR = findInXML('InputText_APGAR')\n",
    "    sexo = findInXML('ASPxComboBox_Sexo')\n",
    "    vivo = findInXML('InputRadio_VM')\n",
    "    #Antrhopometrics\n",
    "    weight = findInXML('InputText_Peso')\n",
    "    height = findInXML('InputText_Talla')\n",
    "    cc = findInXML('InputText_CC')\n",
    "    \n",
    "    #As a check GAPC\n",
    "    G = findInXML('InputText_ObtetricosGestaciones')\n",
    "    A = findInXML('InputText_ObtetricosAbortos')\n",
    "    P = findInXML('InputText_ObtetricosPartos')\n",
    "    C = findInXML('InputText_ObtetricosCesarias')\n",
    "    \n",
    "    #If exposed to sifilis/VIH, it should be here \n",
    "    "
   ]
  },
  {
   "cell_type": "code",
   "execution_count": 69,
   "metadata": {
    "Collapsed": "false"
   },
   "outputs": [
    {
     "data": {
      "text/plain": [
       "2056"
      ]
     },
     "execution_count": 69,
     "metadata": {},
     "output_type": "execute_result"
    }
   ],
   "source": [
    "len(registros[registros.Asunto == 'Registro del recién nacido'].Caso.unique())"
   ]
  },
  {
   "cell_type": "code",
   "execution_count": 66,
   "metadata": {
    "Collapsed": "false",
    "scrolled": true
   },
   "outputs": [
    {
     "name": "stdout",
     "output_type": "stream",
     "text": [
      "2090 10 0.004761904761904762\n"
     ]
    }
   ],
   "source": [
    "vivos, muertos = 0, 0\n",
    "\n",
    "for k, p in registros[registros.Asunto == 'Registro del recién nacido'].iterrows():\n",
    "    k\n",
    "    et = ET.fromstring(p.RegistroXML)\n",
    "    if findInXML('InputRadio_VM', et) == 'Muerto':\n",
    "        muertos += 1\n",
    "    else:\n",
    "        vivos += 1\n",
    "print(vivos, muertos, muertos/(vivos + muertos))"
   ]
  },
  {
   "cell_type": "code",
   "execution_count": null,
   "metadata": {},
   "outputs": [],
   "source": [
    "AD213297 -> caso de nacimiento"
   ]
  },
  {
   "cell_type": "code",
   "execution_count": 70,
   "metadata": {
    "Collapsed": "false"
   },
   "outputs": [
    {
     "name": "stdout",
     "output_type": "stream",
     "text": [
      "<?xml version=\"1.0\" ?>\n",
      "<C Asunto=\"Evoluci&amp;#243;n\" Caso=\"AD213297\" CentroA=\"01\" CodigoDiagnosticoRelacionado1=\"\" CodigoDiagnosticoRelacionado2=\"\" CodigoDiagnosticoRelacionado3=\"\" Diagnostico=\"Z988\" IdPaciente=\"162505\" Modulo=\"01\" Padre=\"777021\" PlanAdm=\"100\" Prestador=\"9068204\" Raiz=\"94\" Registro=\"106\">\n",
      "\t<row NombreCampo=\"DescripcionNota\" NombreTabla=\"CamposMemo\" ValorCampo=\"&amp;lt;DIV style=&amp;quot;LINE-HEIGHT: normal; MARGIN: 5pt 0cm&amp;quot;&amp;gt;&amp;lt;SPAN style=&amp;quot;FONT-SIZE: 12pt&amp;quot;&amp;gt;PACIENTE DE 19 A&amp;#209;OS DE EDAD CONDIAGNOSTICO DE :&amp;lt;/SPAN&amp;gt;&amp;lt;/DIV&amp;gt;\n",
      "&amp;lt;DIV style=&amp;quot;LINE-HEIGHT: normal; MARGIN: 5pt 0cm&amp;quot;&amp;gt;&amp;lt;/DIV&amp;gt;\n",
      "&amp;lt;DIV style=&amp;quot;LINE-HEIGHT: normal; MARGIN: 5pt 0cm&amp;quot;&amp;gt;&amp;lt;SPAN style=&amp;quot;FONT-SIZE: 12pt&amp;quot;&amp;gt;-POP DE CESAREA (25/02/1706:10 PM)&amp;lt;/SPAN&amp;gt;&amp;lt;/DIV&amp;gt;\n",
      "&amp;lt;DIV style=&amp;quot;LINE-HEIGHT: normal; MARGIN: 5pt 0cm&amp;quot;&amp;gt;&amp;lt;SPAN style=&amp;quot;FONT-SIZE: 12pt&amp;quot;&amp;gt;-RECIEN NACIDO UNICO VIVO &amp;lt;/SPAN&amp;gt;&amp;lt;/DIV&amp;gt;\n",
      "&amp;lt;DIV style=&amp;quot;LINE-HEIGHT: normal; MARGIN: 5pt 0cm&amp;quot;&amp;gt;&amp;lt;SPAN style=&amp;quot;FONT-SIZE: 12pt&amp;quot;&amp;gt;-PUERPERIO INMEDIATO&amp;lt;BR&amp;gt;- SIFILIS&amp;amp;nbsp; GESTACIONAL &amp;lt;BR&amp;gt;- NO CONTROL EMBARAZO &amp;lt;/SPAN&amp;gt;&amp;lt;/DIV&amp;gt;\n",
      "&amp;lt;DIV style=&amp;quot;LINE-HEIGHT: normal; MARGIN: 5pt 0cm&amp;quot;&amp;gt;&amp;lt;/DIV&amp;gt;\n",
      "&amp;lt;DIV style=&amp;quot;LINE-HEIGHT: normal; MARGIN: 5pt 0cm&amp;quot;&amp;gt;&amp;lt;SPAN style=&amp;quot;FONT-SIZE: 12pt&amp;quot;&amp;gt;SUBJETIVO&amp;lt;BR&amp;gt;PACIENTE REFIERE SENTIRSE BIEN , NIEGA SOLOR , REFIERE LEVE SANGRADO&amp;lt;/SPAN&amp;gt;&amp;lt;/DIV&amp;gt;\n",
      "&amp;lt;DIV style=&amp;quot;LINE-HEIGHT: normal; MARGIN: 5pt 0cm&amp;quot;&amp;gt;&amp;lt;SPAN style=&amp;quot;FONT-SIZE: 12pt&amp;quot;&amp;gt;.&amp;lt;BR&amp;gt;&amp;lt;/SPAN&amp;gt;&amp;lt;SPAN style=&amp;quot;FONT-SIZE: 12pt&amp;quot;&amp;gt;OBJETIVO&amp;lt;/SPAN&amp;gt;&amp;lt;/DIV&amp;gt;\n",
      "&amp;lt;DIV style=&amp;quot;LINE-HEIGHT: normal; MARGIN: 5pt 0cm&amp;quot;&amp;gt;&amp;lt;SPAN style=&amp;quot;FONT-SIZE: 12pt&amp;quot;&amp;gt;TA: 110/70MMHG FC:79 LPM FR: 18 RPM &amp;lt;/SPAN&amp;gt;&amp;lt;/DIV&amp;gt;\n",
      "&amp;lt;DIV style=&amp;quot;LINE-HEIGHT: normal; MARGIN: 5pt 0cm&amp;quot;&amp;gt;&amp;lt;/DIV&amp;gt;\n",
      "&amp;lt;DIV style=&amp;quot;TEXT-ALIGN: justify; LINE-HEIGHT: normal; MARGIN: 5pt 0cm&amp;quot;&amp;gt;&amp;lt;SPAN style=&amp;quot;FONT-SIZE: 12pt&amp;quot;&amp;gt;PACIENTE NORMOCEFALA, PUPILAS ISOCORICAS, NORMORREACTIVAS A LA LUZ, ESCLERAS ANICTERICAS, MUCOSAS HUMEDAS, SIN LESIONES APARENTE, CUELLO SIMETRICO, MOVIL, NO MASAS NI ADENOPATIAS, TORAX SIMETRICO, NORMOEXPANSIBLE, SIN TIRAJES, A LA AUSCULTACION PULMONAR MURMULLO VESICULAR CONSERVADO EN AMBOS CAMPOS PULMONARES, SIN AGREGADO, RUIDOS CARDIACOS RITMICOS, BIEN TIMBRADOS, NO SOPLOS NI AGREGADOS, ABDOMEN UTERO INVOLUCIONADO, LEVE DOLOR EN HIPOGASTRIO A LA PALPACION, BOLO DE PINARD INFRAUMBILICAL, NORMOTONICO, HERIDA QUIRUGICA LIMPIA , SIN EVIDENCIA DE SANGRADO ACTIVO, NI SINOS DE INFLAMACION LOCAL .&amp;amp;nbsp;GENITOURINARIO LOQUIOS HEMATICO DE ESCASA CANTIDAD, EXTREMIDADES SIMETRICAS,SIN EDEMAS, LLENADO CAPILAR MENOR A 2 SEG. SNC SIN DEFICIT SENSITIVO Y MOTOR APARENTE. GLASGLOW 15/15.&amp;lt;/SPAN&amp;gt;&amp;lt;/DIV&amp;gt;\n",
      "&amp;lt;DIV style=&amp;quot;LINE-HEIGHT: normal; MARGIN: 5pt 0cm&amp;quot;&amp;gt;&amp;lt;/DIV&amp;gt;\n",
      "&amp;lt;DIV style=&amp;quot;LINE-HEIGHT: normal; MARGIN: 5pt 0cm&amp;quot;&amp;gt;&amp;lt;SPAN style=&amp;quot;FONT-SIZE: 12pt&amp;quot;&amp;gt;ANALISIS:&amp;lt;BR&amp;gt;PACIENTE CON DX PREVIAMENTE ANOTADOS . QUIEN EL DIA DE AYER RECIBIO PRIMERA DOSIS DE PENICILINA BENZATIICA . ACTUALEMENTE HEMODINAMICAMENTE ESTABLE , CON SIGNOS VITALES EN METAS , TOLERANDO VIA ORAL Y OXIGENO AMBIENTE&amp;amp;nbsp; , , CON BUENA EVOLUCION POSOPERATORIA POR LO QUE SE DECIDE DAR DE ALTA MEDICA CON RECOMENDACIONES Y SIGNOS DE ALARMAS .&amp;amp;nbsp; SE EXPLICA A PACIENTE ESQUEMA DE TRATAMEITNO PARA SIFILIS QUIEN ACEPTA Y COMPRENDE.&amp;lt;BR&amp;gt;&amp;lt;/SPAN&amp;gt;&amp;lt;/DIV&amp;gt;\n",
      "&amp;lt;DIV style=&amp;quot;LINE-HEIGHT: normal; MARGIN: 5pt 0cm&amp;quot;&amp;gt;&amp;lt;/DIV&amp;gt;\n",
      "&amp;lt;DIV style=&amp;quot;TEXT-ALIGN: justify; LINE-HEIGHT: normal; MARGIN: 5pt 0cm&amp;quot;&amp;gt;&amp;lt;SPAN style=&amp;quot;FONT-SIZE: 12pt&amp;quot;&amp;gt;.&amp;lt;/SPAN&amp;gt;&amp;lt;/DIV&amp;gt;\n",
      "&amp;lt;DIV style=&amp;quot;LINE-HEIGHT: normal; MARGIN: 5pt 0cm&amp;quot;&amp;gt;&amp;lt;/DIV&amp;gt;\n",
      "&amp;lt;DIV style=&amp;quot;LINE-HEIGHT: normal; MARGIN: 5pt 0cm&amp;quot;&amp;gt;&amp;lt;SPAN style=&amp;quot;FONT-SIZE: 12pt&amp;quot;&amp;gt;PLAN&amp;lt;BR&amp;gt;- DE ALTA MEDICA&amp;lt;BR&amp;gt;-ACETAMINOFEN TAB 500 MG C/6 H PRN&amp;lt;BR&amp;gt;-CEFRADINA CAP 500 MG C/6 HORAS X 5 DIAS&amp;lt;BR&amp;gt;-PENICILINA BENZATINICA 2.400.000 U IM ( 2 DOSIS UNA SEMANAL X 2 SEMANAS )&amp;amp;nbsp;&amp;lt;BR&amp;gt;-CITA CONTROL POR GINECOLOGIA X 7 DIAS&amp;lt;BR&amp;gt;-LICENCIA DE MATERNIDAD POR 126 DIAS APARTIR 25/02/17&amp;lt;BR&amp;gt;-RECOMENDACIONES Y SIGNOS DE ALARMAS &amp;lt;BR&amp;gt;&amp;lt;/SPAN&amp;gt;&amp;lt;/DIV&amp;gt;\"/>\n",
      "\t<row NombreCampo=\"FechaNota\" NombreTabla=\"CamposFecha\" ValorCampo=\"27/02/2017 08:00\"/>\n",
      "\t<row NombreCampo=\"FechaEgreso\" NombreTabla=\"CamposFecha\" ValorCampo=\"27/02/2017 08:00\"/>\n",
      "\t<row NombreCampo=\"Autorizacion\" NombreTabla=\"CamposTexto\" ValorCampo=\"\"/>\n",
      "\t<row NombreCampo=\"CausaExterna\" NombreTabla=\"CamposTexto\" ValorCampo=\"\"/>\n",
      "\t<row NombreCampo=\"DiagnosticoPrincipal\" NombreTabla=\"CamposTexto\" ValorCampo=\"OTROS ESTADOS POSTQUIRURGICOS ESPECIFICADOS\"/>\n",
      "\t<row NombreCampo=\"DiagnosticoRelacionado1\" NombreTabla=\"CamposTexto\" ValorCampo=\"\"/>\n",
      "\t<row NombreCampo=\"DiagnosticoRealcionado2\" NombreTabla=\"CamposTexto\" ValorCampo=\"\"/>\n",
      "\t<row NombreCampo=\"DiagnosticoRealcionado3\" NombreTabla=\"CamposTexto\" ValorCampo=\"\"/>\n",
      "\t<row NombreCampo=\"CodigoCausaExterna\" NombreTabla=\"CamposTexto\" ValorCampo=\"\"/>\n",
      "\t<row NombreCampo=\"CodigoDiagnosticoPrincipal\" NombreTabla=\"CamposTexto\" ValorCampo=\"Z988\"/>\n",
      "\t<row NombreCampo=\"CodigoDiagnosticoRelacionado1\" NombreTabla=\"CamposTexto\" ValorCampo=\"\"/>\n",
      "\t<row NombreCampo=\"CodigoDiagnosticoRealcionado2\" NombreTabla=\"CamposTexto\" ValorCampo=\"\"/>\n",
      "\t<row NombreCampo=\"CodigoDiagnosticoRealcionado3\" NombreTabla=\"CamposTexto\" ValorCampo=\"\"/>\n",
      "\t<row NombreCampo=\"EstadoSalida\" NombreTabla=\"CamposTexto\" ValorCampo=\"0 - Vivo\"/>\n",
      "\t<row NombreCampo=\"DestinoPaciente\" NombreTabla=\"CamposTexto\" ValorCampo=\"1 - Alta\"/>\n",
      "\t<row NombreCampo=\"SigueObservacion\" NombreTabla=\"CamposBoolean\" ValorCampo=\"false\"/>\n",
      "\t<row NombreCampo=\"CodigoEstadoSalida\" NombreTabla=\"CamposTexto\" ValorCampo=\"0\"/>\n",
      "\t<row NombreCampo=\"CodigoDestinoPaciente\" NombreTabla=\"CamposTexto\" ValorCampo=\"1\"/>\n",
      "\t<row NombreCampo=\"CodigoPlanAdministradora\" NombreTabla=\"CamposTexto\" ValorCampo=\"100|0001\"/>\n",
      "\t<row NombreCampo=\"PlanAdministradora\" NombreTabla=\"CamposTexto\" ValorCampo=\"DEPARTAMENTO ADMINISTRATIVO DISTRITAL DE SALUD (DADIS) / DADIS CARTAGENA SISBENIZADO \"/>\n",
      "\t<row NombreCampo=\"FechaIngreso\" NombreTabla=\"CamposFecha\" ValorCampo=\"25/02/2017 22:26\"/>\n",
      "\t<row NombreCampo=\"Observacion\" NombreTabla=\"CamposTexto\" ValorCampo=\"\"/>\n",
      "\t<row NombreCampo=\"CodigoMuerte\" NombreTabla=\"CamposTexto\" ValorCampo=\"\"/>\n",
      "\t<row NombreCampo=\"DescripcionMuerte\" NombreTabla=\"CamposTexto\" ValorCampo=\"\"/>\n",
      "\t<row NombreCampo=\"Historico\" NombreTabla=\"CamposMemo\" ValorCampo=\"\n",
      "\n",
      "-Fecha: 27/02/2017 08:00     Prestador:JORGE ELIECER RAMIREZ MERLANO\n",
      "Descripci&amp;#243;n: &amp;lt;DIV style=&amp;quot;LINE-HEIGHT: normal; MARGIN: 5pt 0cm&amp;quot;&amp;gt;&amp;lt;SPAN style=&amp;quot;FONT-SIZE: 12pt&amp;quot;&amp;gt;PACIENTE DE 19 A&amp;#209;OS DE EDAD CONDIAGNOSTICO DE :&amp;lt;/SPAN&amp;gt;&amp;lt;/DIV&amp;gt;\n",
      "&amp;lt;DIV style=&amp;quot;LINE-HEIGHT: normal; MARGIN: 5pt 0cm&amp;quot;&amp;gt;&amp;lt;/DIV&amp;gt;\n",
      "&amp;lt;DIV style=&amp;quot;LINE-HEIGHT: normal; MARGIN: 5pt 0cm&amp;quot;&amp;gt;&amp;lt;SPAN style=&amp;quot;FONT-SIZE: 12pt&amp;quot;&amp;gt;-POP DE CESAREA (25/02/1706:10 PM)&amp;lt;/SPAN&amp;gt;&amp;lt;/DIV&amp;gt;\n",
      "&amp;lt;DIV style=&amp;quot;LINE-HEIGHT: normal; MARGIN: 5pt 0cm&amp;quot;&amp;gt;&amp;lt;SPAN style=&amp;quot;FONT-SIZE: 12pt&amp;quot;&amp;gt;-RECIEN NACIDO UNICO VIVO &amp;lt;/SPAN&amp;gt;&amp;lt;/DIV&amp;gt;\n",
      "&amp;lt;DIV style=&amp;quot;LINE-HEIGHT: normal; MARGIN: 5pt 0cm&amp;quot;&amp;gt;&amp;lt;SPAN style=&amp;quot;FONT-SIZE: 12pt&amp;quot;&amp;gt;-PUERPERIO INMEDIATO&amp;lt;BR&amp;gt;- SIFILIS&amp;amp;nbsp; GESTACIONAL &amp;lt;BR&amp;gt;- NO CONTROL EMBARAZO &amp;lt;/SPAN&amp;gt;&amp;lt;/DIV&amp;gt;\n",
      "&amp;lt;DIV style=&amp;quot;LINE-HEIGHT: normal; MARGIN: 5pt 0cm&amp;quot;&amp;gt;&amp;lt;/DIV&amp;gt;\n",
      "&amp;lt;DIV style=&amp;quot;LINE-HEIGHT: normal; MARGIN: 5pt 0cm&amp;quot;&amp;gt;&amp;lt;SPAN style=&amp;quot;FONT-SIZE: 12pt&amp;quot;&amp;gt;SUBJETIVO&amp;lt;BR&amp;gt;PACIENTE REFIERE SENTIRSE BIEN , NIEGA SOLOR , REFIERE LEVE SANGRADO&amp;lt;/SPAN&amp;gt;&amp;lt;/DIV&amp;gt;\n",
      "&amp;lt;DIV style=&amp;quot;LINE-HEIGHT: normal; MARGIN: 5pt 0cm&amp;quot;&amp;gt;&amp;lt;SPAN style=&amp;quot;FONT-SIZE: 12pt&amp;quot;&amp;gt;.&amp;lt;BR&amp;gt;&amp;lt;/SPAN&amp;gt;&amp;lt;SPAN style=&amp;quot;FONT-SIZE: 12pt&amp;quot;&amp;gt;OBJETIVO&amp;lt;/SPAN&amp;gt;&amp;lt;/DIV&amp;gt;\n",
      "&amp;lt;DIV style=&amp;quot;LINE-HEIGHT: normal; MARGIN: 5pt 0cm&amp;quot;&amp;gt;&amp;lt;SPAN style=&amp;quot;FONT-SIZE: 12pt&amp;quot;&amp;gt;TA: 110/70MMHG FC:79 LPM FR: 18 RPM &amp;lt;/SPAN&amp;gt;&amp;lt;/DIV&amp;gt;\n",
      "&amp;lt;DIV style=&amp;quot;LINE-HEIGHT: normal; MARGIN: 5pt 0cm&amp;quot;&amp;gt;&amp;lt;/DIV&amp;gt;\n",
      "&amp;lt;DIV style=&amp;quot;TEXT-ALIGN: justify; LINE-HEIGHT: normal; MARGIN: 5pt 0cm&amp;quot;&amp;gt;&amp;lt;SPAN style=&amp;quot;FONT-SIZE: 12pt&amp;quot;&amp;gt;PACIENTE NORMOCEFALA, PUPILAS ISOCORICAS, NORMORREACTIVAS A LA LUZ, ESCLERAS ANICTERICAS, MUCOSAS HUMEDAS, SIN LESIONES APARENTE, CUELLO SIMETRICO, MOVIL, NO MASAS NI ADENOPATIAS, TORAX SIMETRICO, NORMOEXPANSIBLE, SIN TIRAJES, A LA AUSCULTACION PULMONAR MURMULLO VESICULAR CONSERVADO EN AMBOS CAMPOS PULMONARES, SIN AGREGADO, RUIDOS CARDIACOS RITMICOS, BIEN TIMBRADOS, NO SOPLOS NI AGREGADOS, ABDOMEN UTERO INVOLUCIONADO, LEVE DOLOR EN HIPOGASTRIO A LA PALPACION, BOLO DE PINARD INFRAUMBILICAL, NORMOTONICO, HERIDA QUIRUGICA LIMPIA , SIN EVIDENCIA DE SANGRADO ACTIVO, NI SINOS DE INFLAMACION LOCAL .&amp;amp;nbsp;GENITOURINARIO LOQUIOS HEMATICO DE ESCASA CANTIDAD, EXTREMIDADES SIMETRICAS,SIN EDEMAS, LLENADO CAPILAR MENOR A 2 SEG. SNC SIN DEFICIT SENSITIVO Y MOTOR APARENTE. GLASGLOW 15/15.&amp;lt;/SPAN&amp;gt;&amp;lt;/DIV&amp;gt;\n",
      "&amp;lt;DIV style=&amp;quot;LINE-HEIGHT: normal; MARGIN: 5pt 0cm&amp;quot;&amp;gt;&amp;lt;/DIV&amp;gt;\n",
      "&amp;lt;DIV style=&amp;quot;LINE-HEIGHT: normal; MARGIN: 5pt 0cm&amp;quot;&amp;gt;&amp;lt;SPAN style=&amp;quot;FONT-SIZE: 12pt&amp;quot;&amp;gt;ANALISIS:&amp;lt;BR&amp;gt;PACIENTE CON DX PREVIAMENTE ANOTADOS . QUIEN EL DIA DE AYER RECIBIO PRIMERA DOSIS DE PENICILINA BENZATIICA . ACTUALEMENTE HEMODINAMICAMENTE ESTABLE , CON SIGNOS VITALES EN METAS , TOLERANDO VIA ORAL Y OXIGENO AMBIENTE&amp;amp;nbsp; , , CON BUENA EVOLUCION POSOPERATORIA POR LO QUE SE DECIDE DAR DE ALTA MEDICA CON RECOMENDACIONES Y SIGNOS DE ALARMAS .&amp;amp;nbsp; SE EXPLICA A PACIENTE ESQUEMA DE TRATAMEITNO PARA SIFILIS QUIEN ACEPTA Y COMPRENDE.&amp;lt;BR&amp;gt;&amp;lt;/SPAN&amp;gt;&amp;lt;/DIV&amp;gt;\n",
      "&amp;lt;DIV style=&amp;quot;LINE-HEIGHT: normal; MARGIN: 5pt 0cm&amp;quot;&amp;gt;&amp;lt;/DIV&amp;gt;\n",
      "&amp;lt;DIV style=&amp;quot;TEXT-ALIGN: justify; LINE-HEIGHT: normal; MARGIN: 5pt 0cm&amp;quot;&amp;gt;&amp;lt;SPAN style=&amp;quot;FONT-SIZE: 12pt&amp;quot;&amp;gt;.&amp;lt;/SPAN&amp;gt;&amp;lt;/DIV&amp;gt;\n",
      "&amp;lt;DIV style=&amp;quot;LINE-HEIGHT: normal; MARGIN: 5pt 0cm&amp;quot;&amp;gt;&amp;lt;/DIV&amp;gt;\n",
      "&amp;lt;DIV style=&amp;quot;LINE-HEIGHT: normal; MARGIN: 5pt 0cm&amp;quot;&amp;gt;&amp;lt;SPAN style=&amp;quot;FONT-SIZE: 12pt&amp;quot;&amp;gt;PLAN&amp;lt;BR&amp;gt;- DE ALTA MEDICA&amp;lt;BR&amp;gt;-ACETAMINOFEN TAB 500 MG C/6 H PRN&amp;lt;BR&amp;gt;-CEFRADINA CAP 500 MG C/6 HORAS X 5 DIAS&amp;lt;BR&amp;gt;-PENICILINA BENZATINICA 2.400.000 U IM ( 2 DOSIS UNA SEMANAL X 2 SEMANAS )&amp;amp;nbsp;&amp;lt;BR&amp;gt;-CITA CONTROL POR GINECOLOGIA X 7 DIAS&amp;lt;BR&amp;gt;-LICENCIA DE MATERNIDAD POR 126 DIAS APARTIR 25/02/17&amp;lt;BR&amp;gt;-RECOMENDACIONES Y SIGNOS DE ALARMAS &amp;lt;BR&amp;gt;&amp;lt;/SPAN&amp;gt;&amp;lt;/DIV&amp;gt;\n",
      "Diagn&amp;#243;stico Principal: Z988:OTROS ESTADOS POSTQUIRURGICOS ESPECIFICADOS\n",
      "Causa de Egreso: 1 - Alta  -------- Estado a la Salida: 0 - Vivo\n",
      "Fecha de Ingreso: 25/02/2017 22:26    -------- Fecha de Egreso: 27/02/2017 08:00\n",
      "Causa Externa: \n",
      "\n",
      "\n",
      "\n",
      "\n",
      "-Fecha: 26/02/2017 08:31     Prestador:ROGELIO RAFAEL MENDEZ RODRIGUEZ\n",
      "Descripci&amp;#243;n: PACIENTE DE 19 A&amp;#209;OS DE EDAD CONDIAGNOSTICO DE :\n",
      "\n",
      "-POP DE CESAREA (25/02/1706:10 PM)\n",
      "-RNU VIVO + ALOJAMIENTO CONJUNTO\n",
      "-PUERPERIO INMEDIATO\n",
      "\n",
      "SUBJETIVO\n",
      "PACIENTE REFIERE HABER PASADO BUENA NOCHE, LEVE DOLOR EN HIPOGASTRIO,NIEGA CEFALEA, VOMITOS, TINITUS, FOSFENO U OTRA SINTOMATOLOGIA.\n",
      "\n",
      "OBJETIVO\n",
      "TA: 100/70MMHG FC:79 LPM FR: 18 RPM \n",
      "\n",
      "PACIENTE NORMOCEFALA, PUPILAS ISOCORICAS, NORMORREACTIVAS A LA LUZ, ESCLERAS ANICTERICAS, MUCOSAS HUMEDAS, SIN LESIONES APARENTE, CUELLO SIMETRICO, MOVIL, NO MASAS NI ADENOPATIAS, TORAX SIMETRICO, NORMOEXPANSIBLE, SIN TIRAJES, A LA AUSCULTACION PULMONAR MURMULLO VESICULAR CONSERVADO EN AMBOS CAMPOS PULMONARES, SIN AGREGADO, RUIDOS CARDIACOS RITMICOS, BIEN TIMBRADOS, NO SOPLOS NI AGREGADOS, ABDOMEN UTERO INVOLUCIONADO, LEVE DOLOR EN HIPOGASTRIO A LA PALPACION, BOLO DE PINARD INFRAUMBILICAL, NORMOTONICO, HERIDA QUIRUGICA DESCUBIERTA, SIN EVIDENCIA DE SANGRADO ACTIVO, GENITOURINARIO LOQUIOS HEMATICO DEESCASA CANTIDAD, EXTREMIDADES SIMETRICAS,SIN EDEMAS, LLENADO CAPILAR MENOR A 2 SEG. SNC SIN DEFICIT SENSITIVO Y MOTOR APARENTE. GLASGLOW 15/15.\n",
      "\n",
      "ANALISIS:\n",
      "\n",
      "PACIENTE CON DX DE POP DE CESAREA + RNU VIVO + PUERPERIO INMEDIATO, ACTUALMENTE CLINI9CA Y HEMODINAMICAMENTE ESTABLE, AFEBRIL, SIGNOS VITALES DENTRO PARAMETROS NORMALES, BUEN PATRON RESPIRATORIO, TOLERANDO OXIGENO AMBIENTE, SIN SIGNOS DE SIRS, HERIDA QUIRURGICA LIMPIA, SIN SIGNOS DE SANGRADO ACTIVO. CONTINUA HOSPITALIZADA PARA CUMPLIMIENTO DE ESTANCIA HOSPITALARIA COMO PROTOCOLO INSTITUCIONAL. SE EXPLICA PACIENTE QUIEN ACEPTA Y COMPRENDE .\n",
      "\n",
      "&amp;lt;SPAN style=&amp;quot;FONT-SIZE: 12pt&amp;amp;q\"/>\n",
      "\t<row NombreCampo=\"Bandera\" NombreTabla=\"CamposTexto\" ValorCampo=\"\"/>\n",
      "\t<row NombreCampo=\"AltaMedica\" NombreTabla=\"CamposBoolean\" ValorCampo=\"1\"/>\n",
      "\t<row NombreCampo=\"SeguimientoCondicion\" NombreTabla=\"CamposBoolean\" ValorCampo=\"false\"/>\n",
      "\t<row NombreCampo=\"SeguimientoValorCondicion\" NombreTabla=\"CamposTexto\" ValorCampo=\"\"/>\n",
      "\t<row NombreCampo=\"IntensidadSintomatica\" NombreTabla=\"CamposBoolean\" ValorCampo=\"false\"/>\n",
      "\t<row NombreCampo=\"EscalaAnaloga\" NombreTabla=\"CamposTexto\" ValorCampo=\"\"/>\n",
      "\t<row NombreCampo=\"NivelDolor\" NombreTabla=\"CamposTexto\" ValorCampo=\"\"/>\n",
      "\t<row NombreCampo=\"NumCertificadoDefuncion\" NombreTabla=\"CamposTexto\" ValorCampo=\"\"/>\n",
      "</C>\n",
      "\n"
     ]
    }
   ],
   "source": [
    "prettyPrintXML(registros.loc[777542].RegistroXML)"
   ]
  },
  {
   "cell_type": "code",
   "execution_count": 46,
   "metadata": {
    "Collapsed": "false"
   },
   "outputs": [
    {
     "name": "stdout",
     "output_type": "stream",
     "text": [
      "<?xml version=\"1.0\" ?>\n",
      "<C Asunto=\"Epicrisis de la Historia Ingreso de Urgencias\" Caso=\"AD213297\" CentroA=\"01\" CodigoDiagnosticoRelacionado1=\"Z359\" CodigoDiagnosticoRelacionado2=\"Z988\" CodigoDiagnosticoRelacionado3=\"\" Diagnostico=\"O479\" IdPaciente=\"162505\" Modulo=\"01\" Padre=\"AD213297\" PlanAdm=\"100\" Prestador=\"9068204\" Raiz=\"01\" Registro=\"450\">\n",
      "\t<row NombreCampo=\"Antecedentes\" NombreTabla=\"CamposTexto\" ValorCampo=\"\"/>\n",
      "\t<row NombreCampo=\"AntecedentesHTML\" NombreTabla=\"CamposTexto\" ValorCampo=\"- PERSONALES:\n",
      "  1-&amp;amp;gt; ASMA\n",
      "MENARQUIA: 10 A&amp;#209;OS.\n",
      "VIDA MARITAL: 14 A&amp;#209;OS.\n",
      "VIDA OBSTETRICA: 14 A&amp;#209;OS.\n",
      "G2 P1 C0 A0  \n",
      "CICLOS: 7X30\n",
      "FUM: NO RECUERDA\n",
      "EG X FUM: \n",
      "COMPA&amp;#209;EROS SEXUALES: 2\n",
      "GRUPO SANGUINEO: NO SABE \n",
      "PLANIFICACI&amp;#211;N FAMILIAR: NIEGA\n",
      "CONTROLES PRENATALES: 0\n",
      "\n",
      "ECOGRAFIA 21/11/16: EMBARAZO DE 24.6 SEMANAS PARA HOY 38.4 \n",
      "ECOGRAFIA 16/02/17: EMBARAZO DE 37.4 SEMANAS PARA HOY 38.6\n",
      "\n",
      "PARACLINICOS:9/11/2016\n",
      "VDRL: NO REACTIVO \n",
      "HB:10.3   HTO:31   \n",
      "ANTECEDENTE: ASMA\n",
      "- FAMILIARES:\n",
      "  NIEGA\n",
      "- AL&amp;#201;RGICOS:\n",
      "  \n",
      "- QUIR&amp;#218;RGICOS:\"/>\n",
      "\t<row NombreCampo=\"AplicaCuidadoEnfermeria\" NombreTabla=\"CamposBoolean\" ValorCampo=\"false\"/>\n",
      "\t<row NombreCampo=\"AsuntoHistoriaPadre\" NombreTabla=\"CamposTexto\" ValorCampo=\"Ingreso de Urgencias\"/>\n",
      "\t<row NombreCampo=\"Cama\" NombreTabla=\"CamposTexto\" ValorCampo=\"CM029\"/>\n",
      "\t<row NombreCampo=\"CambiosDePosicion\" NombreTabla=\"CamposTexto\" ValorCampo=\"\"/>\n",
      "\t<row NombreCampo=\"CodigoDiagnosticoPrincipal\" NombreTabla=\"CamposTexto\" ValorCampo=\"O479\"/>\n",
      "\t<row NombreCampo=\"CodigoDiagnosticoPrincipalSalida\" NombreTabla=\"CamposTexto\" ValorCampo=\"Z988\"/>\n",
      "\t<row NombreCampo=\"CodigoDiagnosticoRealcionado3\" NombreTabla=\"CamposTexto\" ValorCampo=\"\"/>\n",
      "\t<row NombreCampo=\"CodigoDiagnosticoRelacionado1\" NombreTabla=\"CamposTexto\" ValorCampo=\"Z359\"/>\n",
      "\t<row NombreCampo=\"CodigoDiagnosticoRelacionado1Salida\" NombreTabla=\"CamposTexto\" ValorCampo=\"\"/>\n",
      "\t<row NombreCampo=\"CodigoDiagnosticoRelacionado2\" NombreTabla=\"CamposTexto\" ValorCampo=\"Z988\"/>\n",
      "\t<row NombreCampo=\"CodigoDiagnosticoRelacionado2Salida\" NombreTabla=\"CamposTexto\" ValorCampo=\"\"/>\n",
      "\t<row NombreCampo=\"CodigoDiagnosticoRelacionado3Salida\" NombreTabla=\"CamposTexto\" ValorCampo=\"\"/>\n",
      "\t<row NombreCampo=\"CodigoHistoriaPadre\" NombreTabla=\"CamposTexto\" ValorCampo=\"AD213297\"/>\n",
      "\t<row NombreCampo=\"CodigoPlanAdministradora\" NombreTabla=\"CamposTexto\" ValorCampo=\"100|0001\"/>\n",
      "\t<row NombreCampo=\"Complicaciones\" NombreTabla=\"CamposTexto\" ValorCampo=\"NINGUNA\"/>\n",
      "\t<row NombreCampo=\"CuracionDeHerida\" NombreTabla=\"CamposTexto\" ValorCampo=\"\"/>\n",
      "\t<row NombreCampo=\"DiagnosticoPrincipal\" NombreTabla=\"CamposTexto\" ValorCampo=\"Preparto\"/>\n",
      "\t<row NombreCampo=\"DiagnosticoPrincipalSalida\" NombreTabla=\"CamposTexto\" ValorCampo=\"OTROS ESTADOS POSTQUIRURGICOS ESPECIFICADOS\"/>\n",
      "\t<row NombreCampo=\"DiagnosticoRealcionado3\" NombreTabla=\"CamposTexto\" ValorCampo=\"\"/>\n",
      "\t<row NombreCampo=\"DiagnosticoRelacionado1\" NombreTabla=\"CamposTexto\" ValorCampo=\"ALTO RIESGO OBSTETRICO\"/>\n",
      "\t<row NombreCampo=\"DiagnosticoRelacionado1Salida\" NombreTabla=\"CamposTexto\" ValorCampo=\"\"/>\n",
      "\t<row NombreCampo=\"DiagnosticoRelacionado2\" NombreTabla=\"CamposTexto\" ValorCampo=\"OTROS ESTADOS POSTQUIRURGICOS ESPECIFICADOS\"/>\n",
      "\t<row NombreCampo=\"DiagnosticoRelacionado2Salida\" NombreTabla=\"CamposTexto\" ValorCampo=\"\"/>\n",
      "\t<row NombreCampo=\"DiagnosticoRelacionado3Salida\" NombreTabla=\"CamposTexto\" ValorCampo=\"\"/>\n",
      "\t<row NombreCampo=\"Dieta\" NombreTabla=\"CamposTexto\" ValorCampo=\"\"/>\n",
      "\t<row NombreCampo=\"EstadoSalida\" NombreTabla=\"CamposTexto\" ValorCampo=\"Vivo\"/>\n",
      "\t<row NombreCampo=\"Evoluciones\" NombreTabla=\"CamposTexto\" ValorCampo=\"Fecha: 25/02/2017: 08:38:43, Historia: Registro Cl&amp;#237;nico de Urgencia, Prestador: MONICA MARGARITA DE LA OSSA ANGULO, Especialidad: GINECOLOGIA Y OBSTETRICIA\n",
      "-----------------------\n",
      "Fecha: 25/02/2017: 12:05:45, Historia: Evoluci&amp;#243;n de Urgencia, Prestador: MONICA MARGARITA DE LA OSSA ANGULO, Especialidad: GINECOLOGIA Y OBSTETRICIA\n",
      "Asunto: EVOLUCION DE URGENCIA\n",
      "Descripci&amp;#243;n: PACIENTE DE 19 A&amp;#209;OS DE EDAD CON DIAGNOSTICOS DE\n",
      "\n",
      "EMBARAZO DE 38.4 SEMANAS POR ECOGRAFIA DEL II TRIMESTRE\n",
      "FETO UNICO VIVO\n",
      "EMBARAZO NO CONTROLADO\n",
      "EMBARAZO DE ALTO RIESGO OBSTETRICO\n",
      "PRE PARTO\n",
      "SUBJETIVO \n",
      "PACIENTE REFIERE SENTIR MAREOS EN DECUBITO DORSAL, NIEGA SALIDA DE LIQUIDO, NIEGA CEFALEA, MAREO, NAUSEAS, TINITUS ,FOSFENOS U OTRA SINTOMATOLOGIA\n",
      "OBJETIVO \n",
      "TA: 90/60 MMHG FC: 76 LPM FR: 19 T: 36.5&amp;#176;c SAO2: 99%\n",
      "CABEZA: NORMOCEFALA, PUPILAS ISOCORICAS, NORMORREACTRIVAS A LA LUZ, ESCLERAS ANICTERICAS, MUCOSA ORAL HUMEDA, CUELLO MOVIL, SIMETRICO SIN MASAS NI ADENOPATIAS. ABDOMEN: GLOBOSO POR UTERO GRAVIDO CON AU DE 33 CM, FCF 140 LPM ,SE PALPA FETO CEFALICO, LONGITUDINAL, DORSO DERECHO, TONO NORMAL, SIN ACTIVIDAD UTERINA. GENITOURINARIO: NORMOCONFIGURADO, SE REALIZA TACTO VAGINAL EN EL CUAL SE ENCUENTRA  CUELLO BLANDO, PERMEABLE AL PULPEJO, BORRAMIENTO: \n",
      "ANALISIS: \n",
      "PACIENTE DE 19 A&amp;#209;OS G2P1A0 CON IDX DE EMBARAZO DE 38.4 SEMANAS POR ECO DEL 2DO TRIMESTRE+ FUV, ACTUALMENTE CON SINTOMAS DE HIPOTENSION, MAREO, TENSION ARTERIAL EN 90/60 SIN SIGNOS DE RESPUESTA INFLAMATORIA SISTEMICA, TOLERANDO VIA ORAL Y OXIGENO AMBIENTE, SIN DINAMICA UTERINA, AL TACTO CUELLO DE ASPECTO SANO SIN SANGRADO ACTIVO NI ESTIGMAS DE SANGRADO, CUELLO CENTRAL, BLANDO,PERMEABLE CM BORRAMIENTO 50%,FLOTANTE,MEMBRANAS INTEGRAS.SE PACIENTE CONTINUA EN OBSERVACION A LA ESPERA DE EVOLUCION NATURAL DE TRABAJO DE PARTO, SE EXPLICA A PACIENTE Y SE ESPERA A REVALORAR.\n",
      "RESULTADOS PARACLINICOS\n",
      "PNS: REACTIVO\n",
      "PLAN\n",
      "OBSERVACION\n",
      "HARTMAN500 CC FLUJO DE 80 CC HORA\n",
      "S/S HEMOGRAMA, GLICEMIA, ECOGRAFIA OBSTETRICA,PERFIL BIOFISICO\n",
      "CONTROL DE FCF Y ACTIVIDAD UTERINA\n",
      "DECUBITO LATERAL\n",
      "CONTROL SIGNOS VITALES AVISAR CAMBIOS\n",
      "-----------------------\n",
      "Fecha: 25/02/2017: 15:11:07, Historia: Evoluci&amp;#243;n de Urgencia, Prestador: MONICA MARGARITA DE LA OSSA ANGULO, Especialidad: GINECOLOGIA Y OBSTETRICIA\n",
      "Asunto: TRASLADO PARA CIRUGIA.\n",
      "Descripci&amp;#243;n: PACIENTE DE 19 A&amp;#209;OS DE EDAD CON DIAGNOSTICOS DE\n",
      "\n",
      "EMBARAZO DE 38.4 SEMANAS POR ECOGRAFIA DEL II TRIMESTRE\n",
      "FETO UNICO VIVO\n",
      "EMBARAZO NO CONTROLADO\n",
      "EMBARAZO DE ALTO RIESGO OBSTETRICO\n",
      "- FETO EN PRESENTACION TRANSVERSA \n",
      "SUBJETIVO \n",
      "PACIENTE REFIERE SENTIRBIENESTAR, NIEGA MAREOS VOMITOS, DOLOR CABEZA FOSFENOS O TINITUS. \n",
      "OBJETIVO \n",
      "TA: 100/70 MMHG FC:80 LPM FR:15 T: 36.5&amp;#176;c\n",
      "CABEZA: NORMOCEFALA, PUPILAS ISOCORICAS, NORMORREACTRIVAS A LA LUZ, ESCLERAS ANICTERICAS, MUCOSA ORALLIGERAMENTE SECA, CUELLO MOVIL, SIMETRICO SIN MASAS NI ADENOPATIAS. ABDOMEN: GLOBOSO POR UTERO GRAVIDO CON AU DE 33 CM, FCF 140 LPM ,SE PALPA FETO CEFALICO, LONGITUDINAL,TRANSVERSO POLO CEFALICO FLANCO IZQUIERDO, TONO NORMAL, SIN ACTIVIDAD UTERINA. GENITOURINARIO: NORMOCONFIGURADO, SE REALIZA TACTO VAGINAL EN EL CUAL SE ENCUENTRA CUELLO BLANDO, PERMEABLE AL PULPEJO, BORRAMIENTO: \n",
      "RESULTADOS PARACLINICOS\n",
      "HEMOGRAMA\n",
      "HEB: 8.2 HEMATOC: 25.3 LEUCO: 11.300 REC PLAQUE: 288000\n",
      "GLICEMIA: 94.1\n",
      "PNS : CATEGORIA I\n",
      "PERFIL BIOFISICO ; 8/8\n",
      "ECOGRAFIA OBSTETRICA: UTERO CON GESTACIN UNICA ACTIVIDAD CARDIACA Y MOVIMIENTOS FETALES PRESENTES\n",
      "PRSENTACION:TRANSVERSO POLO CEFALICO GFLANCO IZQUIERDO\n",
      "PLACENTA FUNDICA ANTERIOR GRADOIII LIQ AMNIOTICO NORMAL PESO : 3488\n",
      "DX: EMBARAZO DE 38.5 SEM POR BIOMETRIA FETO ERN TRANSVERSO.\n",
      "\n",
      "ANALISIS: \n",
      "PACIENTE DE 19 A&amp;#209;OS G2P1A0 CON IDX DE EMBARAZO DE 38.5SEMANAS + FUV,FETO EN PRESENTACION TRANSVERSO POR BIOMETRIA , PACIENTE A QUIEN SE LE REALIZA PARACLINICOSENCONTRANDOSE HB DE 8.2 POR LO QUE SE DECIDE RESERVAR DOS UNIDADES DE GLOBULOS ROJOS , UN PERFIL BIOFISICO QUE SE ENCUENTRA DENTRO DE PARAMETROS NORMALES UNA ECOGRAFIA QUE MUESTRA UTERO CON GESTACION UNICA MOVIMIENTOS Y FRECUENCIA CARDIACA FETALPRESENTES CON UNA PRESENTACION TRANSVERSO POLO CEFALICO FLANCO IZQUIERDO POR LO QUE SE DECIDE TRASLADO A CIRUGIA PARA MOTIVAR A CESAREA, SE SOLICITA PARACLINICOS SEROLOGIA PARA VIH Y FTA. ACTUALMETE PACIENTE CON SIGNOS VITALES EN META TOLERANDO OXIGENO AMBIENTE, SIN DINAMICA UTERINA, SE EXPLICA A PACIENTE CONDUCTA A SEGUIR LA CUAL REFIERE ENTENDER Y ACEPTAR. \n",
      "PLAN\n",
      "TRASLADO A CIRUGIA \n",
      "MOTIVAR PARA CESAREA\n",
      "NADA VIA ORAL \n",
      "LACTATO DE RINGER 80 CC HORA \n",
      "SS SEROLOGIA PARA VIH Y FTA \n",
      "SS RESERVA DE 2 UNIDADES DE GLOBULOS ROJOS EMPAQUETADOS \n",
      "CONTROL SIGNOS VITALES AVISAR CAMBIOS\n",
      "-----------------------\n",
      "Fecha: 25/02/2017: 15:38:51, Historia: Evoluci&amp;#243;n de Urgencia, Prestador: MONICA MARGARITA DE LA OSSA ANGULO, Especialidad: GINECOLOGIA Y OBSTETRICIA\n",
      "Asunto: REPORTE DE PARACLINICOS.\n",
      "Descripci&amp;#243;n: PACIENTE DE 19 A&amp;#209;OS DE EDAD CON DIAGNOSTICOS DE\n",
      "\n",
      "EMBARAZO DE 38.5ECOGRAFIA ACTUAL \n",
      "FETO UNICO VIVO EN TRANSVERSO \n",
      "EMBARAZO NO CONTROLADO\n",
      "EMBARAZO DE ALTO RIESGO OBSTETRICO\n",
      "PRE PARTO\n",
      "\n",
      "SE RECIBE REPORTE PARACLINICOS VIA TELEFONICA UN FTA POSITIVA POR LO QUE SE SOLICITA VDRL.\n",
      "\n",
      "PLAN :\n",
      "SE SOLICITA VDRL \n",
      "-----------------------\n",
      "Fecha: 25/02/2017: 17:01:00, Historia: Evoluci&amp;#243;n de Urgencia, Prestador: MONICA MARGARITA DE LA OSSA ANGULO, Especialidad: GINECOLOGIA Y OBSTETRICIA\n",
      "Asunto: REPORTE DE PARACLINICOS\n",
      "Descripci&amp;#243;n: PACIENTE DE 19 A&amp;#209;OS DE EDAD CON DIAGNOSTICOS DE\n",
      "\n",
      "- EMBARAZO DE 38.5 ECOGRAFIA ACTUAL \n",
      "- FETO UNICO VIVO EN TRANSVERSO \n",
      "- EMBARAZO NO CONTROLADO\n",
      "- EMBARAZO DE ALTO RIESGO OBSTETRICO\n",
      "- PRE PARTO\n",
      "\n",
      "REPORTE DE PARACLINICOS: (25/02/2017)\n",
      "- FTA/ABS: POSITIVO\n",
      "- ANTICUERPOSCONTRA VHI 1: NEGATIVO\n",
      "- ANTICUERPOS CONTRA: VIH 2:_NEGATIVO\n",
      "- VDRL: REACTIVO EN 1/2 DILUCIONES\n",
      "-----------------------\n",
      "Fecha: 25/02/2017: 22:26:07, Historia: Notas de Ingreso a Piso, Prestador: RICARDO ANDRES TRESPALACIOS LUNA, Especialidad: MEDICINA GENERAL\n",
      "Asunto: Notas de Ingreso a Piso\n",
      "Descripci&amp;#243;n: PACIENTE DE19 A&amp;#209;OS CON DIAGNOSTICOS DE:\n",
      "- POP CESAREA SEGMENTARIA TRANSPERITONEAL (25/02/2017).\n",
      "- SIFILIS \n",
      "SUBJETIVO:\n",
      "PACIENTE REFIERE DOLOR LEVE EN HIPOGASTRO, SIN ALGUNA OTRA SINTOMATOLOGIA DE IMPORTANCIANIEGA FIEBRE O CEFALEA\n",
      "\n",
      "TA: 120/80MMHG\n",
      "FC: 74LPM \n",
      "FR: 17 RPM\n",
      "CONSCIENTE, ALERTA, ORIENTADA, NORMOCEFALO, PUPILAS ISOCORICAS NORMOREACTIVAS A LA LUZ, CUELLO SIMETRICO, MOVIL, SIN MASAS, SIN ADENOPATIAS PALPABLES. TORAX SIMETRICO, NORMOEXPANDIBLE, MURMULLO VESICULAR UNIVERSAL, SIN SOBREAGREGADOS, RUIDOS CARDIACOS RITMICOS Y BIEN TIMBRADOS, SIN AGREGADOS. ABDOMEN SE OBSERVA HERIDA QUIRURGICA TIPO PFANNENSTIEL, LIMPIA, SIN SECRECIONES, NI SIGNOS LOCALES DE INFECCION, PERISTALSIS PRESENTE, SE PALPA BOLO DE SEGURIDAD DE PINARD, NORMOTONICO, INFRAUMBILICAL. GENITOURINARIO GENITALES EXTERNOS NORMOCONFIGURADOS, SIN SANGRADO VAGINAL ACTIVO, SIN SALIDA DE LOQUIOS HEMATICOS. EXTREMIDADES SIN EDEMAS, PULSOS PERIFERICOS PRESENTES. SISTEMA NERVIOSO SIN DEFICIT SENSITIVO O MOTOR APARENTE.\n",
      "ANALISIS:\n",
      "PACIENTE DE19 A&amp;#209;OS DE EDAD QUE SE ENCUENTRA EN EL SERVICIO DE HOSPITALIZACION QUIRURGICA BAJO EL CONTEXTO DE POP DE CESAREA SEGMENTARIA TRANSPERITONEAL (25/02/17) + SIFILIS CON PRUEBA DE FTA POSITIVO Y VDRL REACTIVA 1/2 DILUCIONES. ACTUALMENTE HEMODINAMICAMENTE ESTABLE, TOLERANDO V&amp;#205;A ORAL, BUEN PATRON RESPIRATORIO AMBIENTE, AFEBRIL, SIN SIGNOS ACTIVOS DE SIRS. SE ENCUENTRA HOSPITALIZADA EN SALA DE QUIRURGICAS PARA CUMPLIMIENTO DE HORAS DE ESTANCIA HOSPITALARIAS ESTIPULADSA POR LA INSTITUCION Y TRATAMIENTO DE SIFILIS EL CUAL NO HA RECIBIDO ANTES. ATENTOS A EVOLUCION. \n",
      "\n",
      "PLAN:\n",
      "\n",
      "-HOSPITALIZADA EN QUIRURGICAS\n",
      "- NVO POR 6 HORAS, LUEGO DIETA L&amp;#205;QUIDA. \n",
      "-LACTATO DE RINGER A RAZON DE 80CC/H\n",
      "- PENICILINA BENZATINICA AMP. APLICAR 2.400.000 U IM, PREVIA A PRUEBA DE SENSIBILIDAD.\n",
      "- DIPIRONA 2.5 GR IV C/8 H EN INFUSI&amp;#211;N LENTA.\n",
      "- CEFAZOLINA 1 GR CADA6 HORAS\n",
      "- VIGILARCONTROLAR SIGNOS VITALES Y AVISAR CAMBIOS.\n",
      "- VIGILAR SANGRADO POR GENITALES EXTERNOS Y BOLO DE SEGURIDAD DE PINARD.\n",
      "- CUIDADOS DE LA HERIDA QUIR&amp;#218;RGICA.\n",
      "-----------------------\n",
      "Fecha: 26/02/2017: 08:34:28, Historia: Evoluci&amp;#243;n de Hospitalizaci&amp;#243;n, Prestador: ROGELIO RAFAEL MENDEZ RODRIGUEZ, Especialidad: GINECOLOGIA Y OBSTETRICIA\n",
      "Asunto: Evoluci&amp;amp;amp;amp;#243;n\n",
      "Descripci&amp;#243;n: PACIENTE DE 19 A&amp;#209;OS DE EDAD CONDIAGNOSTICO DE :\n",
      "\n",
      "-POP DE CESAREA (25/02/1706:10 PM)\n",
      "-RNU VIVO + ALOJAMIENTO CONJUNTO\n",
      "-PUERPERIO INMEDIATO\n",
      "\n",
      "SUBJETIVO\n",
      "PACIENTE REFIERE HABER PASADO BUENA NOCHE, LEVE DOLOR EN HIPOGASTRIO,NIEGA CEFALEA, VOMITOS, TINITUS, FOSFENO U OTRA SINTOMATOLOGIA.\n",
      "\n",
      "OBJETIVO\n",
      "TA: 100/70MMHG FC:79 LPM FR: 18 RPM \n",
      "\n",
      "PACIENTE NORMOCEFALA, PUPILAS ISOCORICAS, NORMORREACTIVAS A LA LUZ, ESCLERAS ANICTERICAS, MUCOSAS HUMEDAS, SIN LESIONES APARENTE, CUELLO SIMETRICO, MOVIL, NO MASAS NI ADENOPATIAS, TORAX SIMETRICO, NORMOEXPANSIBLE, SIN TIRAJES, A LA AUSCULTACION PULMONAR MURMULLO VESICULAR CONSERVADO EN AMBOS CAMPOS PULMONARES, SIN AGREGADO, RUIDOS CARDIACOS RITMICOS, BIEN TIMBRADOS, NO SOPLOS NI AGREGADOS, ABDOMEN UTERO INVOLUCIONADO, LEVE DOLOR EN HIPOGASTRIO A LA PALPACION, BOLO DE PINARD INFRAUMBILICAL, NORMOTONICO, HERIDA QUIRUGICA DESCUBIERTA, SIN EVIDENCIA DE SANGRADO ACTIVO, GENITOURINARIO LOQUIOS HEMATICO DEESCASA CANTIDAD, EXTREMIDADES SIMETRICAS,SIN EDEMAS, LLENADO CAPILAR MENOR A 2 SEG. SNC SIN DEFICIT SENSITIVO Y MOTOR APARENTE. GLASGLOW 15/15.\n",
      "\n",
      "ANALISIS:\n",
      "\n",
      "PACIENTE CON DX DE POP DE CESAREA + RNU VIVO + PUERPERIO INMEDIATO, ACTUALMENTE CLINI9CA Y HEMODINAMICAMENTE ESTABLE, AFEBRIL, SIGNOS VITALES DENTRO PARAMETROS NORMALES, BUEN PATRON RESPIRATORIO, TOLERANDO OXIGENO AMBIENTE, SIN SIGNOS DE SIRS, HERIDA QUIRURGICA LIMPIA, SIN SIGNOS DE SANGRADO ACTIVO. CONTINUA HOSPITALIZADA PARA CUMPLIMIENTO DE ESTANCIA HOSPITALARIA COMO PROTOCOLO INSTITUCIONAL. SE EXPLICA PACIENTE QUIEN ACEPTA Y COMPRENDE .\n",
      "\n",
      "PLAN\n",
      "- HOSPITALIZADA\n",
      "- DIETA NORMAL\n",
      "- LACTATO RINGER 80CC/H\n",
      "- CEFAZOLINA 1GR C/6HORAS FI 24/02/17 \n",
      "- DIPIRONA AMP 2.5GR C/8H \n",
      "- METOCLOPRAMIDA AMP 10 MG C/8H\n",
      "- VIGILAR BOLO DE SEGURIDAD PINARD\n",
      "- VIGILAR SANGRADO POR GENITALES EXTERNOS\n",
      "- CUIDADOS DE LA HERIDA\n",
      "- CSV-AC\n",
      "-----------------------\n",
      "Fecha: 27/02/2017: 08:12:30, Historia: Evoluci&amp;#243;n de Hospitalizaci&amp;#243;n, Prestador: JORGE ELIECER RAMIREZ MERLANO, Especialidad: GINECOLOGIA Y OBSTETRICIA\n",
      "Asunto: Evoluci&amp;amp;amp;amp;#243;n\n",
      "Descripci&amp;#243;n: PACIENTE DE 19 A&amp;#209;OS DE EDAD CONDIAGNOSTICO DE :\n",
      "\n",
      "-POP DE CESAREA (25/02/1706:10 PM)\n",
      "-RECIEN NACIDO UNICO VIVO \n",
      "-PUERPERIO INMEDIATO\n",
      "- SIFILIS GESTACIONAL \n",
      "- NO CONTROL EMBARAZO \n",
      "\n",
      "SUBJETIVO\n",
      "PACIENTE REFIERE SENTIRSE BIEN , NIEGA SOLOR , REFIERE LEVE SANGRADO\n",
      ".\n",
      "OBJETIVO\n",
      "TA: 110/70MMHG FC:79 LPM FR: 18 RPM \n",
      "\n",
      "PACIENTE NORMOCEFALA, PUPILAS ISOCORICAS, NORMORREACTIVAS A LA LUZ, ESCLERAS ANICTERICAS, MUCOSAS HUMEDAS, SIN LESIONES APARENTE, CUELLO SIMETRICO, MOVIL, NO MASAS NI ADENOPATIAS, TORAX SIMETRICO, NORMOEXPANSIBLE, SIN TIRAJES, A LA AUSCULTACION PULMONAR MURMULLO VESICULAR CONSERVADO EN AMBOS CAMPOS PULMONARES, SIN AGREGADO, RUIDOS CARDIACOS RITMICOS, BIEN TIMBRADOS, NO SOPLOS NI AGREGADOS, ABDOMEN UTERO INVOLUCIONADO, LEVE DOLOR EN HIPOGASTRIO A LA PALPACION, BOLO DE PINARD INFRAUMBILICAL, NORMOTONICO, HERIDA QUIRUGICA LIMPIA , SIN EVIDENCIA DE SANGRADO ACTIVO, NI SINOS DE INFLAMACION LOCAL .GENITOURINARIO LOQUIOS HEMATICO DE ESCASA CANTIDAD, EXTREMIDADES SIMETRICAS,SIN EDEMAS, LLENADO CAPILAR MENOR A 2 SEG. SNC SIN DEFICIT SENSITIVO Y MOTOR APARENTE. GLASGLOW 15/15.\n",
      "\n",
      "ANALISIS:\n",
      "PACIENTE CON DX PREVIAMENTE ANOTADOS . QUIEN EL DIA DE AYER RECIBIO PRIMERA DOSIS DE PENICILINA BENZATIICA . ACTUALEMENTE HEMODINAMICAMENTE ESTABLE , CON SIGNOS VITALES EN METAS , TOLERANDO VIA ORAL Y OXIGENO AMBIENTE , , CON BUENA EVOLUCION POSOPERATORIA POR LO QUE SE DECIDE DAR DE ALTA MEDICA CON RECOMENDACIONES Y SIGNOS DE ALARMAS . SE EXPLICA A PACIENTE ESQUEMA DE TRATAMEITNO PARA SIFILIS QUIEN ACEPTA Y COMPRENDE.\n",
      "\n",
      "\n",
      ".\n",
      "\n",
      "PLAN\n",
      "- DE ALTA MEDICA\n",
      "-ACETAMINOFEN TAB 500 MG C/6 H PRN\n",
      "-CEFRADINA CAP 500 MG C/6 HORAS X 5 DIAS\n",
      "-PENICILINA BENZATINICA 2.400.000 U IM ( 2 DOSIS UNA SEMANAL X 2 SEMANAS )\n",
      "-CITA CONTROL POR GINECOLOGIA X 7 DIAS\n",
      "-LICENCIA DE MATERNIDAD POR 126 DIAS APARTIR 25/02/17\n",
      "-RECOMENDACIONES Y SIGNOS DE ALARMAS \n",
      "\n",
      "-----------------------\"/>\n",
      "\t<row NombreCampo=\"EvolucionesHTML\" NombreTabla=\"CamposTexto\" ValorCampo=\"Fecha: 25/02/2017: 08:38:43, Historia: Registro Cl&amp;#237;nico de Urgencia, Prestador: MONICA MARGARITA DE LA OSSA ANGULO, Especialidad: GINECOLOGIA Y OBSTETRICIA\n",
      "-----------------------\n",
      "Fecha: 25/02/2017: 12:05:45, Historia: Evoluci&amp;#243;n de Urgencia, Prestador: MONICA MARGARITA DE LA OSSA ANGULO, Especialidad: GINECOLOGIA Y OBSTETRICIA\n",
      "Asunto: EVOLUCION DE URGENCIA\n",
      "Descripci&amp;#243;n: PACIENTE DE 19 A&amp;#209;OS DE EDAD CON DIAGNOSTICOS DE\n",
      "\n",
      "EMBARAZO DE 38.4 SEMANAS POR ECOGRAFIA DEL II TRIMESTRE\n",
      "FETO UNICO VIVO\n",
      "EMBARAZO NO CONTROLADO\n",
      "EMBARAZO DE ALTO RIESGO OBSTETRICO\n",
      "PRE PARTO\n",
      "SUBJETIVO \n",
      "PACIENTE REFIERE SENTIR MAREOS EN DECUBITO DORSAL, NIEGA SALIDA DE LIQUIDO, NIEGA CEFALEA, MAREO, NAUSEAS, TINITUS ,FOSFENOS U OTRA SINTOMATOLOGIA\n",
      "OBJETIVO \n",
      "TA: 90/60 MMHG FC: 76 LPM FR: 19 T: 36.5&amp;#176;c SAO2: 99%\n",
      "CABEZA: NORMOCEFALA, PUPILAS ISOCORICAS, NORMORREACTRIVAS A LA LUZ, ESCLERAS ANICTERICAS, MUCOSA ORAL HUMEDA, CUELLO MOVIL, SIMETRICO SIN MASAS NI ADENOPATIAS. ABDOMEN: GLOBOSO POR UTERO GRAVIDO CON AU DE 33 CM, FCF 140 LPM ,SE PALPA FETO CEFALICO, LONGITUDINAL, DORSO DERECHO, TONO NORMAL, SIN ACTIVIDAD UTERINA. GENITOURINARIO: NORMOCONFIGURADO, SE REALIZA TACTO VAGINAL EN EL CUAL SE ENCUENTRA  CUELLO BLANDO, PERMEABLE AL PULPEJO, BORRAMIENTO: \n",
      "ANALISIS: \n",
      "PACIENTE DE 19 A&amp;#209;OS G2P1A0 CON IDX DE EMBARAZO DE 38.4 SEMANAS POR ECO DEL 2DO TRIMESTRE+ FUV, ACTUALMENTE CON SINTOMAS DE HIPOTENSION, MAREO, TENSION ARTERIAL EN 90/60 SIN SIGNOS DE RESPUESTA INFLAMATORIA SISTEMICA, TOLERANDO VIA ORAL Y OXIGENO AMBIENTE, SIN DINAMICA UTERINA, AL TACTO CUELLO DE ASPECTO SANO SIN SANGRADO ACTIVO NI ESTIGMAS DE SANGRADO, CUELLO CENTRAL, BLANDO,PERMEABLE CM BORRAMIENTO 50%,FLOTANTE,MEMBRANAS INTEGRAS.SE PACIENTE CONTINUA EN OBSERVACION A LA ESPERA DE EVOLUCION NATURAL DE TRABAJO DE PARTO, SE EXPLICA A PACIENTE Y SE ESPERA A REVALORAR.\n",
      "RESULTADOS PARACLINICOS\n",
      "PNS: REACTIVO\n",
      "PLAN\n",
      "OBSERVACION\n",
      "HARTMAN500 CC FLUJO DE 80 CC HORA\n",
      "S/S HEMOGRAMA, GLICEMIA, ECOGRAFIA OBSTETRICA,PERFIL BIOFISICO\n",
      "CONTROL DE FCF Y ACTIVIDAD UTERINA\n",
      "DECUBITO LATERAL\n",
      "CONTROL SIGNOS VITALES AVISAR CAMBIOS\n",
      "-----------------------\n",
      "Fecha: 25/02/2017: 15:11:07, Historia: Evoluci&amp;#243;n de Urgencia, Prestador: MONICA MARGARITA DE LA OSSA ANGULO, Especialidad: GINECOLOGIA Y OBSTETRICIA\n",
      "Asunto: TRASLADO PARA CIRUGIA.\n",
      "Descripci&amp;#243;n: PACIENTE DE 19 A&amp;#209;OS DE EDAD CON DIAGNOSTICOS DE\n",
      "\n",
      "EMBARAZO DE 38.4 SEMANAS POR ECOGRAFIA DEL II TRIMESTRE\n",
      "FETO UNICO VIVO\n",
      "EMBARAZO NO CONTROLADO\n",
      "EMBARAZO DE ALTO RIESGO OBSTETRICO\n",
      "- FETO EN PRESENTACION TRANSVERSA \n",
      "SUBJETIVO \n",
      "PACIENTE REFIERE SENTIRBIENESTAR, NIEGA MAREOS VOMITOS, DOLOR CABEZA FOSFENOS O TINITUS. \n",
      "OBJETIVO \n",
      "TA: 100/70 MMHG FC:80 LPM FR:15 T: 36.5&amp;#176;c\n",
      "CABEZA: NORMOCEFALA, PUPILAS ISOCORICAS, NORMORREACTRIVAS A LA LUZ, ESCLERAS ANICTERICAS, MUCOSA ORALLIGERAMENTE SECA, CUELLO MOVIL, SIMETRICO SIN MASAS NI ADENOPATIAS. ABDOMEN: GLOBOSO POR UTERO GRAVIDO CON AU DE 33 CM, FCF 140 LPM ,SE PALPA FETO CEFALICO, LONGITUDINAL,TRANSVERSO POLO CEFALICO FLANCO IZQUIERDO, TONO NORMAL, SIN ACTIVIDAD UTERINA. GENITOURINARIO: NORMOCONFIGURADO, SE REALIZA TACTO VAGINAL EN EL CUAL SE ENCUENTRA CUELLO BLANDO, PERMEABLE AL PULPEJO, BORRAMIENTO: \n",
      "RESULTADOS PARACLINICOS\n",
      "HEMOGRAMA\n",
      "HEB: 8.2 HEMATOC: 25.3 LEUCO: 11.300 REC PLAQUE: 288000\n",
      "GLICEMIA: 94.1\n",
      "PNS : CATEGORIA I\n",
      "PERFIL BIOFISICO ; 8/8\n",
      "ECOGRAFIA OBSTETRICA: UTERO CON GESTACIN UNICA ACTIVIDAD CARDIACA Y MOVIMIENTOS FETALES PRESENTES\n",
      "PRSENTACION:TRANSVERSO POLO CEFALICO GFLANCO IZQUIERDO\n",
      "PLACENTA FUNDICA ANTERIOR GRADOIII LIQ AMNIOTICO NORMAL PESO : 3488\n",
      "DX: EMBARAZO DE 38.5 SEM POR BIOMETRIA FETO ERN TRANSVERSO.\n",
      "\n",
      "ANALISIS: \n",
      "PACIENTE DE 19 A&amp;#209;OS G2P1A0 CON IDX DE EMBARAZO DE 38.5SEMANAS + FUV,FETO EN PRESENTACION TRANSVERSO POR BIOMETRIA , PACIENTE A QUIEN SE LE REALIZA PARACLINICOSENCONTRANDOSE HB DE 8.2 POR LO QUE SE DECIDE RESERVAR DOS UNIDADES DE GLOBULOS ROJOS , UN PERFIL BIOFISICO QUE SE ENCUENTRA DENTRO DE PARAMETROS NORMALES UNA ECOGRAFIA QUE MUESTRA UTERO CON GESTACION UNICA MOVIMIENTOS Y FRECUENCIA CARDIACA FETALPRESENTES CON UNA PRESENTACION TRANSVERSO POLO CEFALICO FLANCO IZQUIERDO POR LO QUE SE DECIDE TRASLADO A CIRUGIA PARA MOTIVAR A CESAREA, SE SOLICITA PARACLINICOS SEROLOGIA PARA VIH Y FTA. ACTUALMETE PACIENTE CON SIGNOS VITALES EN META TOLERANDO OXIGENO AMBIENTE, SIN DINAMICA UTERINA, SE EXPLICA A PACIENTE CONDUCTA A SEGUIR LA CUAL REFIERE ENTENDER Y ACEPTAR. \n",
      "PLAN\n",
      "TRASLADO A CIRUGIA \n",
      "MOTIVAR PARA CESAREA\n",
      "NADA VIA ORAL \n",
      "LACTATO DE RINGER 80 CC HORA \n",
      "SS SEROLOGIA PARA VIH Y FTA \n",
      "SS RESERVA DE 2 UNIDADES DE GLOBULOS ROJOS EMPAQUETADOS \n",
      "CONTROL SIGNOS VITALES AVISAR CAMBIOS\n",
      "-----------------------\n",
      "Fecha: 25/02/2017: 15:38:51, Historia: Evoluci&amp;#243;n de Urgencia, Prestador: MONICA MARGARITA DE LA OSSA ANGULO, Especialidad: GINECOLOGIA Y OBSTETRICIA\n",
      "Asunto: REPORTE DE PARACLINICOS.\n",
      "Descripci&amp;#243;n: PACIENTE DE 19 A&amp;#209;OS DE EDAD CON DIAGNOSTICOS DE\n",
      "\n",
      "EMBARAZO DE 38.5ECOGRAFIA ACTUAL \n",
      "FETO UNICO VIVO EN TRANSVERSO \n",
      "EMBARAZO NO CONTROLADO\n",
      "EMBARAZO DE ALTO RIESGO OBSTETRICO\n",
      "PRE PARTO\n",
      "\n",
      "SE RECIBE REPORTE PARACLINICOS VIA TELEFONICA UN FTA POSITIVA POR LO QUE SE SOLICITA VDRL.\n",
      "\n",
      "PLAN :\n",
      "SE SOLICITA VDRL \n",
      "-----------------------\n",
      "Fecha: 25/02/2017: 17:01:00, Historia: Evoluci&amp;#243;n de Urgencia, Prestador: MONICA MARGARITA DE LA OSSA ANGULO, Especialidad: GINECOLOGIA Y OBSTETRICIA\n",
      "Asunto: REPORTE DE PARACLINICOS\n",
      "Descripci&amp;#243;n: PACIENTE DE 19 A&amp;#209;OS DE EDAD CON DIAGNOSTICOS DE\n",
      "\n",
      "- EMBARAZO DE 38.5 ECOGRAFIA ACTUAL \n",
      "- FETO UNICO VIVO EN TRANSVERSO \n",
      "- EMBARAZO NO CONTROLADO\n",
      "- EMBARAZO DE ALTO RIESGO OBSTETRICO\n",
      "- PRE PARTO\n",
      "\n",
      "REPORTE DE PARACLINICOS: (25/02/2017)\n",
      "- FTA/ABS: POSITIVO\n",
      "- ANTICUERPOSCONTRA VHI 1: NEGATIVO\n",
      "- ANTICUERPOS CONTRA: VIH 2:_NEGATIVO\n",
      "- VDRL: REACTIVO EN 1/2 DILUCIONES\n",
      "-----------------------\n",
      "Fecha: 25/02/2017: 22:26:07, Historia: Notas de Ingreso a Piso, Prestador: RICARDO ANDRES TRESPALACIOS LUNA, Especialidad: MEDICINA GENERAL\n",
      "Asunto: Notas de Ingreso a Piso\n",
      "Descripci&amp;#243;n: PACIENTE DE19 A&amp;#209;OS CON DIAGNOSTICOS DE:\n",
      "- POP CESAREA SEGMENTARIA TRANSPERITONEAL (25/02/2017).\n",
      "- SIFILIS \n",
      "SUBJETIVO:\n",
      "PACIENTE REFIERE DOLOR LEVE EN HIPOGASTRO, SIN ALGUNA OTRA SINTOMATOLOGIA DE IMPORTANCIANIEGA FIEBRE O CEFALEA\n",
      "\n",
      "TA: 120/80MMHG\n",
      "FC: 74LPM \n",
      "FR: 17 RPM\n",
      "CONSCIENTE, ALERTA, ORIENTADA, NORMOCEFALO, PUPILAS ISOCORICAS NORMOREACTIVAS A LA LUZ, CUELLO SIMETRICO, MOVIL, SIN MASAS, SIN ADENOPATIAS PALPABLES. TORAX SIMETRICO, NORMOEXPANDIBLE, MURMULLO VESICULAR UNIVERSAL, SIN SOBREAGREGADOS, RUIDOS CARDIACOS RITMICOS Y BIEN TIMBRADOS, SIN AGREGADOS. ABDOMEN SE OBSERVA HERIDA QUIRURGICA TIPO PFANNENSTIEL, LIMPIA, SIN SECRECIONES, NI SIGNOS LOCALES DE INFECCION, PERISTALSIS PRESENTE, SE PALPA BOLO DE SEGURIDAD DE PINARD, NORMOTONICO, INFRAUMBILICAL. GENITOURINARIO GENITALES EXTERNOS NORMOCONFIGURADOS, SIN SANGRADO VAGINAL ACTIVO, SIN SALIDA DE LOQUIOS HEMATICOS. EXTREMIDADES SIN EDEMAS, PULSOS PERIFERICOS PRESENTES. SISTEMA NERVIOSO SIN DEFICIT SENSITIVO O MOTOR APARENTE.\n",
      "ANALISIS:\n",
      "PACIENTE DE19 A&amp;#209;OS DE EDAD QUE SE ENCUENTRA EN EL SERVICIO DE HOSPITALIZACION QUIRURGICA BAJO EL CONTEXTO DE POP DE CESAREA SEGMENTARIA TRANSPERITONEAL (25/02/17) + SIFILIS CON PRUEBA DE FTA POSITIVO Y VDRL REACTIVA 1/2 DILUCIONES. ACTUALMENTE HEMODINAMICAMENTE ESTABLE, TOLERANDO V&amp;#205;A ORAL, BUEN PATRON RESPIRATORIO AMBIENTE, AFEBRIL, SIN SIGNOS ACTIVOS DE SIRS. SE ENCUENTRA HOSPITALIZADA EN SALA DE QUIRURGICAS PARA CUMPLIMIENTO DE HORAS DE ESTANCIA HOSPITALARIAS ESTIPULADSA POR LA INSTITUCION Y TRATAMIENTO DE SIFILIS EL CUAL NO HA RECIBIDO ANTES. ATENTOS A EVOLUCION. \n",
      "\n",
      "PLAN:\n",
      "\n",
      "-HOSPITALIZADA EN QUIRURGICAS\n",
      "- NVO POR 6 HORAS, LUEGO DIETA L&amp;#205;QUIDA. \n",
      "-LACTATO DE RINGER A RAZON DE 80CC/H\n",
      "- PENICILINA BENZATINICA AMP. APLICAR 2.400.000 U IM, PREVIA A PRUEBA DE SENSIBILIDAD.\n",
      "- DIPIRONA 2.5 GR IV C/8 H EN INFUSI&amp;#211;N LENTA.\n",
      "- CEFAZOLINA 1 GR CADA6 HORAS\n",
      "- VIGILARCONTROLAR SIGNOS VITALES Y AVISAR CAMBIOS.\n",
      "- VIGILAR SANGRADO POR GENITALES EXTERNOS Y BOLO DE SEGURIDAD DE PINARD.\n",
      "- CUIDADOS DE LA HERIDA QUIR&amp;#218;RGICA.\n",
      "-----------------------\n",
      "Fecha: 26/02/2017: 08:34:28, Historia: Evoluci&amp;#243;n de Hospitalizaci&amp;#243;n, Prestador: ROGELIO RAFAEL MENDEZ RODRIGUEZ, Especialidad: GINECOLOGIA Y OBSTETRICIA\n",
      "Asunto: Evoluci&amp;amp;amp;amp;#243;n\n",
      "Descripci&amp;#243;n: PACIENTE DE 19 A&amp;#209;OS DE EDAD CONDIAGNOSTICO DE :\n",
      "\n",
      "-POP DE CESAREA (25/02/1706:10 PM)\n",
      "-RNU VIVO + ALOJAMIENTO CONJUNTO\n",
      "-PUERPERIO INMEDIATO\n",
      "\n",
      "SUBJETIVO\n",
      "PACIENTE REFIERE HABER PASADO BUENA NOCHE, LEVE DOLOR EN HIPOGASTRIO,NIEGA CEFALEA, VOMITOS, TINITUS, FOSFENO U OTRA SINTOMATOLOGIA.\n",
      "\n",
      "OBJETIVO\n",
      "TA: 100/70MMHG FC:79 LPM FR: 18 RPM \n",
      "\n",
      "PACIENTE NORMOCEFALA, PUPILAS ISOCORICAS, NORMORREACTIVAS A LA LUZ, ESCLERAS ANICTERICAS, MUCOSAS HUMEDAS, SIN LESIONES APARENTE, CUELLO SIMETRICO, MOVIL, NO MASAS NI ADENOPATIAS, TORAX SIMETRICO, NORMOEXPANSIBLE, SIN TIRAJES, A LA AUSCULTACION PULMONAR MURMULLO VESICULAR CONSERVADO EN AMBOS CAMPOS PULMONARES, SIN AGREGADO, RUIDOS CARDIACOS RITMICOS, BIEN TIMBRADOS, NO SOPLOS NI AGREGADOS, ABDOMEN UTERO INVOLUCIONADO, LEVE DOLOR EN HIPOGASTRIO A LA PALPACION, BOLO DE PINARD INFRAUMBILICAL, NORMOTONICO, HERIDA QUIRUGICA DESCUBIERTA, SIN EVIDENCIA DE SANGRADO ACTIVO, GENITOURINARIO LOQUIOS HEMATICO DEESCASA CANTIDAD, EXTREMIDADES SIMETRICAS,SIN EDEMAS, LLENADO CAPILAR MENOR A 2 SEG. SNC SIN DEFICIT SENSITIVO Y MOTOR APARENTE. GLASGLOW 15/15.\n",
      "\n",
      "ANALISIS:\n",
      "\n",
      "PACIENTE CON DX DE POP DE CESAREA + RNU VIVO + PUERPERIO INMEDIATO, ACTUALMENTE CLINI9CA Y HEMODINAMICAMENTE ESTABLE, AFEBRIL, SIGNOS VITALES DENTRO PARAMETROS NORMALES, BUEN PATRON RESPIRATORIO, TOLERANDO OXIGENO AMBIENTE, SIN SIGNOS DE SIRS, HERIDA QUIRURGICA LIMPIA, SIN SIGNOS DE SANGRADO ACTIVO. CONTINUA HOSPITALIZADA PARA CUMPLIMIENTO DE ESTANCIA HOSPITALARIA COMO PROTOCOLO INSTITUCIONAL. SE EXPLICA PACIENTE QUIEN ACEPTA Y COMPRENDE .\n",
      "\n",
      "PLAN\n",
      "- HOSPITALIZADA\n",
      "- DIETA NORMAL\n",
      "- LACTATO RINGER 80CC/H\n",
      "- CEFAZOLINA 1GR C/6HORAS FI 24/02/17 \n",
      "- DIPIRONA AMP 2.5GR C/8H \n",
      "- METOCLOPRAMIDA AMP 10 MG C/8H\n",
      "- VIGILAR BOLO DE SEGURIDAD PINARD\n",
      "- VIGILAR SANGRADO POR GENITALES EXTERNOS\n",
      "- CUIDADOS DE LA HERIDA\n",
      "- CSV-AC\n",
      "-----------------------\n",
      "Fecha: 27/02/2017: 08:12:30, Historia: Evoluci&amp;#243;n de Hospitalizaci&amp;#243;n, Prestador: JORGE ELIECER RAMIREZ MERLANO, Especialidad: GINECOLOGIA Y OBSTETRICIA\n",
      "Asunto: Evoluci&amp;amp;amp;amp;#243;n\n",
      "Descripci&amp;#243;n: PACIENTE DE 19 A&amp;#209;OS DE EDAD CONDIAGNOSTICO DE :\n",
      "\n",
      "-POP DE CESAREA (25/02/1706:10 PM)\n",
      "-RECIEN NACIDO UNICO VIVO \n",
      "-PUERPERIO INMEDIATO\n",
      "- SIFILIS GESTACIONAL \n",
      "- NO CONTROL EMBARAZO \n",
      "\n",
      "SUBJETIVO\n",
      "PACIENTE REFIERE SENTIRSE BIEN , NIEGA SOLOR , REFIERE LEVE SANGRADO\n",
      ".\n",
      "OBJETIVO\n",
      "TA: 110/70MMHG FC:79 LPM FR: 18 RPM \n",
      "\n",
      "PACIENTE NORMOCEFALA, PUPILAS ISOCORICAS, NORMORREACTIVAS A LA LUZ, ESCLERAS ANICTERICAS, MUCOSAS HUMEDAS, SIN LESIONES APARENTE, CUELLO SIMETRICO, MOVIL, NO MASAS NI ADENOPATIAS, TORAX SIMETRICO, NORMOEXPANSIBLE, SIN TIRAJES, A LA AUSCULTACION PULMONAR MURMULLO VESICULAR CONSERVADO EN AMBOS CAMPOS PULMONARES, SIN AGREGADO, RUIDOS CARDIACOS RITMICOS, BIEN TIMBRADOS, NO SOPLOS NI AGREGADOS, ABDOMEN UTERO INVOLUCIONADO, LEVE DOLOR EN HIPOGASTRIO A LA PALPACION, BOLO DE PINARD INFRAUMBILICAL, NORMOTONICO, HERIDA QUIRUGICA LIMPIA , SIN EVIDENCIA DE SANGRADO ACTIVO, NI SINOS DE INFLAMACION LOCAL .GENITOURINARIO LOQUIOS HEMATICO DE ESCASA CANTIDAD, EXTREMIDADES SIMETRICAS,SIN EDEMAS, LLENADO CAPILAR MENOR A 2 SEG. SNC SIN DEFICIT SENSITIVO Y MOTOR APARENTE. GLASGLOW 15/15.\n",
      "\n",
      "ANALISIS:\n",
      "PACIENTE CON DX PREVIAMENTE ANOTADOS . QUIEN EL DIA DE AYER RECIBIO PRIMERA DOSIS DE PENICILINA BENZATIICA . ACTUALEMENTE HEMODINAMICAMENTE ESTABLE , CON SIGNOS VITALES EN METAS , TOLERANDO VIA ORAL Y OXIGENO AMBIENTE , , CON BUENA EVOLUCION POSOPERATORIA POR LO QUE SE DECIDE DAR DE ALTA MEDICA CON RECOMENDACIONES Y SIGNOS DE ALARMAS . SE EXPLICA A PACIENTE ESQUEMA DE TRATAMEITNO PARA SIFILIS QUIEN ACEPTA Y COMPRENDE.\n",
      "\n",
      "\n",
      ".\n",
      "\n",
      "PLAN\n",
      "- DE ALTA MEDICA\n",
      "-ACETAMINOFEN TAB 500 MG C/6 H PRN\n",
      "-CEFRADINA CAP 500 MG C/6 HORAS X 5 DIAS\n",
      "-PENICILINA BENZATINICA 2.400.000 U IM ( 2 DOSIS UNA SEMANAL X 2 SEMANAS )\n",
      "-CITA CONTROL POR GINECOLOGIA X 7 DIAS\n",
      "-LICENCIA DE MATERNIDAD POR 126 DIAS APARTIR 25/02/17\n",
      "-RECOMENDACIONES Y SIGNOS DE ALARMAS \n",
      "\n",
      "-----------------------\"/>\n",
      "\t<row NombreCampo=\"FechaEgreso\" NombreTabla=\"CamposFecha\" ValorCampo=\"27/02/2017 08:00\"/>\n",
      "\t<row NombreCampo=\"FechaHCPadre\" NombreTabla=\"CamposFecha\" ValorCampo=\"25/02/2017 08:23\"/>\n",
      "\t<row NombreCampo=\"MedicamentosAdministrado\" NombreTabla=\"CamposTexto\" ValorCampo=\"\n",
      "Fecha: 25/02/2017\n",
      "-19972965-01 - SOLUCION SALINA 0.9 %- Cantidad: 2\n",
      "-201128 - Jeringa Desechable 1 ml x 27 G/ 1/2&amp;amp;quot; - Cantidad: 2\n",
      "-51076-02 - SOLUCION SALINA 0.9 % - Cantidad: 1\n",
      "-IM5034 - MORFINA CLORHIDRATO - Cantidad: 1\n",
      "-IM5041 - PENICILINA G SODICA (100000 UI) - Cantidad: 1\n",
      "-IM5059 - BUPIVACAINA+DEXTROSA (BUPIROP PESADO) - Cantidad: 1\n",
      "-IM5064 - LACTATO DE RINGER - Cantidad: 7\n",
      "-IM5065 - LACTATO DE RINGER - Cantidad: 1\n",
      "-IM5073 - ETILEFRINA - Cantidad: 1\n",
      "-IM5081 - AGUJA ESPINAL TIPO PUNTA DE LAPIZ # 27 G x 90 MM - Cantidad: 1\n",
      "-IM5093 - RECIPIENTE DE SUCCION FLEXIBLE (LINER) de 3 LT - Cantidad: 1\n",
      "-INS001 - ABOCATH NO. 18 - Cantidad: 1\n",
      "-INS007 - EQUIPO MACROGOTEO - Cantidad: 1\n",
      "-INS016 - SONDA NELATON # 16 - Cantidad: 1\n",
      "-INS039 - VICRYL 1 CT-1(HR37S) x 90 CM - Cantidad: 1\n",
      "-INS089 - NYLON 3-0 (CC-24) (CDSS24) AGUJA CURVA - Cantidad: 1\n",
      "-INS1019 - CATGUT 0 CT-1 ( HR37S) x 70 CM - Cantidad: 1\n",
      "-INS1020 - CATGUT 1 CT-1 (HR37S) x 90 CM - Cantidad: 1\n",
      "-INS121 - SONDA NELATON # 8 - Cantidad: 1\n",
      "-INS127 - LAPIZ DE ELECTROBISTURI - Cantidad: 1\n",
      "-INS225 - Jeringa Desechable 10 ml x 21 G/1 1/2&amp;amp;quot; - Cantidad: 3\n",
      "-MD0096 - CEFAZOLINA - Cantidad: 2\n",
      "-MD0159 - DEXAMETASONA FOSFATO - Cantidad: 1\n",
      "-MD0239 - FITOMENADIONA - Cantidad: 1\n",
      "-MD0259 - GENTAMICINA 3 % - Cantidad: 1\n",
      "-MD0378 - METOCLOPRAMIDA CLORHIDRATO - Cantidad: 1\n",
      "-MD0395 - MIDAZOLAM - Cantidad: 1\n",
      "-MD0430 - OXITOCINA - Cantidad: 1\n",
      "-MD0441 - PENICILINA G BENZATINICA - Cantidad: 1\n",
      "-N02BB02 - DIPIRONA - Cantidad: 4\n",
      "Fecha: 26/02/2017\n",
      "-IM5064 - LACTATO DE RINGER- Cantidad: 4\n",
      "-MD0096 - CEFAZOLINA - Cantidad: 4\n",
      "-N02BB02 - DIPIRONA - Cantidad: 3\n",
      "Fecha: 27/02/2017\n",
      "-MD0006 - ACETAMINOFEN- Cantidad: 40\n",
      "-MD0098 - CEFRADINA  - Cantidad: 20\n",
      "-MD0441 - PENICILINA G BENZATINICA - Cantidad: 2\"/>\n",
      "\t<row NombreCampo=\"MedicamentosAdministradoHTML\" NombreTabla=\"CamposTexto\" ValorCampo=\"Fecha: 25/02/2017\n",
      "-19972965-01 - SOLUCION SALINA 0.9 %- Cantidad: 2\n",
      "-201128 - Jeringa Desechable 1 ml x 27 G/ 1/2&amp;amp;amp;quot; - Cantidad: 2\n",
      "-51076-02 - SOLUCION SALINA 0.9 % - Cantidad: 1\n",
      "-IM5034 - MORFINA CLORHIDRATO - Cantidad: 1\n",
      "-IM5041 - PENICILINA G SODICA (100000 UI) - Cantidad: 1\n",
      "-IM5059 - BUPIVACAINA+DEXTROSA (BUPIROP PESADO) - Cantidad: 1\n",
      "-IM5064 - LACTATO DE RINGER - Cantidad: 7\n",
      "-IM5065 - LACTATO DE RINGER - Cantidad: 1\n",
      "-IM5073 - ETILEFRINA - Cantidad: 1\n",
      "-IM5081 - AGUJA ESPINAL TIPO PUNTA DE LAPIZ # 27 G x 90 MM - Cantidad: 1\n",
      "-IM5093 - RECIPIENTE DE SUCCION FLEXIBLE (LINER) de 3 LT - Cantidad: 1\n",
      "-INS001 - ABOCATH NO. 18 - Cantidad: 1\n",
      "-INS007 - EQUIPO MACROGOTEO - Cantidad: 1\n",
      "-INS016 - SONDA NELATON # 16 - Cantidad: 1\n",
      "-INS039 - VICRYL 1 CT-1(HR37S) x 90 CM - Cantidad: 1\n",
      "-INS089 - NYLON 3-0 (CC-24) (CDSS24) AGUJA CURVA - Cantidad: 1\n",
      "-INS1019 - CATGUT 0 CT-1 ( HR37S) x 70 CM - Cantidad: 1\n",
      "-INS1020 - CATGUT 1 CT-1 (HR37S) x 90 CM - Cantidad: 1\n",
      "-INS121 - SONDA NELATON # 8 - Cantidad: 1\n",
      "-INS127 - LAPIZ DE ELECTROBISTURI - Cantidad: 1\n",
      "-INS225 - Jeringa Desechable 10 ml x 21 G/1 1/2&amp;amp;amp;quot; - Cantidad: 3\n",
      "-MD0096 - CEFAZOLINA - Cantidad: 2\n",
      "-MD0159 - DEXAMETASONA FOSFATO - Cantidad: 1\n",
      "-MD0239 - FITOMENADIONA - Cantidad: 1\n",
      "-MD0259 - GENTAMICINA 3 % - Cantidad: 1\n",
      "-MD0378 - METOCLOPRAMIDA CLORHIDRATO - Cantidad: 1\n",
      "-MD0395 - MIDAZOLAM - Cantidad: 1\n",
      "-MD0430 - OXITOCINA - Cantidad: 1\n",
      "-MD0441 - PENICILINA G BENZATINICA - Cantidad: 1\n",
      "-N02BB02 - DIPIRONA - Cantidad: 4\n",
      "Fecha: 26/02/2017\n",
      "-IM5064 - LACTATO DE RINGER- Cantidad: 4\n",
      "-MD0096 - CEFAZOLINA - Cantidad: 4\n",
      "-N02BB02 - DIPIRONA - Cantidad: 3\n",
      "Fecha: 27/02/2017\n",
      "-MD0006 - ACETAMINOFEN- Cantidad: 40\n",
      "-MD0098 - CEFRADINA  - Cantidad: 20\n",
      "-MD0441 - PENICILINA G BENZATINICA - Cantidad: 2\"/>\n",
      "\t<row NombreCampo=\"MotivoConsulta\" NombreTabla=\"CamposTexto\" ValorCampo=\"&amp;quot;TENGO DOLORES&amp;quot;\"/>\n",
      "\t<row NombreCampo=\"MotivoSalida\" NombreTabla=\"CamposTexto\" ValorCampo=\"Alta\"/>\n",
      "\t<row NombreCampo=\"PatronEliminacion\" NombreTabla=\"CamposTexto\" ValorCampo=\"\"/>\n",
      "\t<row NombreCampo=\"PlanAdministradora\" NombreTabla=\"CamposTexto\" ValorCampo=\"DEPARTAMENTO ADMINISTRATIVO DISTRITAL DE SALUD (DADIS) / DADIS CARTAGENA SISBENIZADO \"/>\n",
      "\t<row NombreCampo=\"ProcedimientosAsociados\" NombreTabla=\"CamposTexto\" ValorCampo=\"\n",
      "Fecha: 25/02/2017\n",
      "-740100 - CES&amp;#193;REA SEGMENTARIA TRANSPERITONEAL SOD +- Cantidad: 1\n",
      "-881431 - ULTRASONOGRAF&amp;#205;A OBSTETRICA TRANSABDOMINAL  - Cantidad: 1\n",
      "-881434 - PERFIL BIOFISICO - Cantidad: 1\n",
      "-897011 - MONITORIA FETAL ANTEPARTO - Cantidad: 1\n",
      "-902210 - HEMOGRAMA IV [HEMOGLOBINA, HEMATOCRITO, RECUENTO DE ERITROCITOS, &amp;#205;NDICES ERITROCITARIOS, LEUCOGRAMA, RECUENTO DE PLAQUETAS, INDICES PLAQUETARIOS Y MORFOLOGIA ELECTRONICA E HISTOGRAMA] METODO AUTOMATICO+ - Cantidad: 1\n",
      "-902211 - HEMATOCRITO + - Cantidad: 1\n",
      "-902212 - HEMOCLASIFICACI&amp;#211;N GRUPO ABO Y FACTOR Rh + - Cantidad: 1\n",
      "-903841 - GLUCOSA EN SUERO, LCR U OTRO FLUIDO DIFERENTE A ORINA - Cantidad: 1\n",
      "-904903 - HORMONA ESTIMULANTE DEL TIROIDES [TSH] NEONATAL - Cantidad: 1\n",
      "-906039 - Treponema pallidum, ANTICUERPOS (FTA-ABS O TPHA-PRUEBA TREPONEMICA) + - Cantidad: 2\n",
      "-906249 - SIDA, ANTICUERPOS VIH  1. - Cantidad: 1\n",
      "-906249 - SIDA, ANTICUERPOS VIH  2. - Cantidad: 1\n",
      "-906913 - PROTE&amp;#205;NA C REACTIVA, CUANTITATIVO DE ALTA PRECISION + - Cantidad: 1\n",
      "-906916 - SEROLOG&amp;#205;A [PRUEBA NO TREPOMENICA] VDRL EN SUERO O LCR - Cantidad: 2\n",
      "Fecha: 27/02/2017\n",
      "-890202 - CONSULTA ESPECIALIZADA POR GINECOLOGIA- Cantidad: 1\"/>\n",
      "\t<row NombreCampo=\"ProcedimientosAsociadosHTML\" NombreTabla=\"CamposTexto\" ValorCampo=\"Fecha: 25/02/2017\n",
      "-740100 - CES&amp;#193;REA SEGMENTARIA TRANSPERITONEAL SOD +- Cantidad: 1\n",
      "-881431 - ULTRASONOGRAF&amp;#205;A OBSTETRICA TRANSABDOMINAL  - Cantidad: 1\n",
      "-881434 - PERFIL BIOFISICO - Cantidad: 1\n",
      "-897011 - MONITORIA FETAL ANTEPARTO - Cantidad: 1\n",
      "-902210 - HEMOGRAMA IV [HEMOGLOBINA, HEMATOCRITO, RECUENTO DE ERITROCITOS, &amp;#205;NDICES ERITROCITARIOS, LEUCOGRAMA, RECUENTO DE PLAQUETAS, INDICES PLAQUETARIOS Y MORFOLOGIA ELECTRONICA E HISTOGRAMA] METODO AUTOMATICO+ - Cantidad: 1\n",
      "-902211 - HEMATOCRITO + - Cantidad: 1\n",
      "-902212 - HEMOCLASIFICACI&amp;#211;N GRUPO ABO Y FACTOR Rh + - Cantidad: 1\n",
      "-903841 - GLUCOSA EN SUERO, LCR U OTRO FLUIDO DIFERENTE A ORINA - Cantidad: 1\n",
      "-904903 - HORMONA ESTIMULANTE DEL TIROIDES [TSH] NEONATAL - Cantidad: 1\n",
      "-906039 - Treponema pallidum, ANTICUERPOS (FTA-ABS O TPHA-PRUEBA TREPONEMICA) + - Cantidad: 2\n",
      "-906249 - SIDA, ANTICUERPOS VIH  1. - Cantidad: 1\n",
      "-906249 - SIDA, ANTICUERPOS VIH  2. - Cantidad: 1\n",
      "-906913 - PROTE&amp;#205;NA C REACTIVA, CUANTITATIVO DE ALTA PRECISION + - Cantidad: 1\n",
      "-906916 - SEROLOG&amp;#205;A [PRUEBA NO TREPOMENICA] VDRL EN SUERO O LCR - Cantidad: 2\n",
      "Fecha: 27/02/2017\n",
      "-890202 - CONSULTA ESPECIALIZADA POR GINECOLOGIA- Cantidad: 1\"/>\n",
      "\t<row NombreCampo=\"RecomendacionesDieta\" NombreTabla=\"CamposTexto\" ValorCampo=\"\"/>\n",
      "\t<row NombreCampo=\"RecomentacionesAdicionales\" NombreTabla=\"CamposTexto\" ValorCampo=\"LO DESCRITO\"/>\n",
      "\t<row NombreCampo=\"Servicio\" NombreTabla=\"CamposTexto\" ValorCampo=\"04\"/>\n",
      "\t<row NombreCampo=\"ServicioTexto\" NombreTabla=\"CamposTexto\" ValorCampo=\"HOSP. QUIRURGICA\"/>\n",
      "\t<row NombreCampo=\"SintesisEnfermedad\" NombreTabla=\"CamposTexto\" ValorCampo=\"PACIENTE CON DX PREVIAMENTE ANOTADOS . QUIEN EL DIA DE AYER RECIBIO PRIMERA DOSIS DE PENICILINA BENZATIICA . ACTUALEMENTE HEMODINAMICAMENTE ESTABLE , CON SIGNOS VITALES EN METAS , TOLERANDO VIA ORAL Y OXIGENO AMBIENTE  , , CON BUENA EVOLUCION POSOPERATORIA POR LO QUE SE DECIDE DAR DE ALTA MEDICA CON RECOMENDACIONES Y SIGNOS DE ALARMAS .  SE EXPLICA A PACIENTE ESQUEMA DE TRATAMEITNO PARA SIFILIS QUIEN ACEPTA Y COMPRENDE.\"/>\n",
      "\t<row NombreCampo=\"TerapiaResiratoria\" NombreTabla=\"CamposTexto\" ValorCampo=\"\"/>\n",
      "\t<row NombreCampo=\"TratamientoFamacologico\" NombreTabla=\"CamposTexto\" ValorCampo=\"LO DESCRITO\"/>\n",
      "\t<row NombreCampo=\"ValoracionSignos\" NombreTabla=\"CamposTexto\" ValorCampo=\"\"/>\n",
      "\t<row NombreCampo=\"MedidasGeneralesHTML\" NombreTabla=\"CamposTexto\" ValorCampo=\"Fecha: 25/02/2017\n",
      "Indicaciones:\n",
      "- Trasladar a sala quirurgica al recuperar anestesia\n",
      "- NVO por 6 horas, luego dieta l&amp;amp;amp;#237;quida.  \n",
      "- SSN 500 cc + Oxitocina 10 U IV en la primera soluci&amp;amp;amp;#243;n que se administre, pasar a 125cc/h luego continuar con lactato de ringer a razon de 80cc/h\n",
      "-penizilina benzatinica amp. aplicar 2.400.000 u im, previa a prueba de sensibilidad.\n",
      "- Dipirona 2.5 gr IV c/8 h en infusi&amp;amp;amp;#243;n lenta.\n",
      "- VigilarControlar signos vitales y avisar cambios.\n",
      "- Vigilar sangrado por genitales externos y bolo de seguridad de Pinard.\n",
      "- Cuidados de la herida quir&amp;amp;amp;#250;rgica.\n",
      "\n",
      "\n",
      "\n",
      "Fecha: 25/02/2017\n",
      "Indicaciones:\n",
      "OBSERVACION\n",
      "HARTMAN 500 CC FLUJO DE 80 CC HORA\n",
      "S/S HEMOGRAMA, GLICEMIA, ECOGRAFIA OBSTETRICA, PERFIL BIOFISICO\n",
      "CONTROL DE FCF Y ACTIVIDAD UTERINA\n",
      "DECUBITO LATERAL\n",
      "CONTROL SIGNOS VITALES AVISAR CAMBIOS\n",
      "\n",
      "\n",
      "Fecha: 25/02/2017\n",
      "Indicaciones:\n",
      "PLAN \n",
      "1. REMISION A CUIDADOS BASICOS \n",
      "2. LECHE MATERNA A LIBRE DEMANDA  CADA 3 HORAS POR SUCCION \n",
      "3. TAPON VENOSO\n",
      "4. PENICILINA CRISTALINA 170.000 ui cada 8 horas \n",
      "6. VITAMINA K APLICAR 1 MG IM DOSIS UNICA (YA)\n",
      "7. GENTAMICINA SOLUCION OFTALMICA, APLICAR 1 GOTA EN CADA OJO (YA)\n",
      "8. S/S HTO - VDRL - TSH - HEMOCLASIFICACION - FTA ABS-  S/S PCR A LAS 12 HORAS DE VIDA\n",
      "9. LIMPIEZA DE ONFALO CADA 8 HORAS CON ALCOHOL ABSOLUTO\n",
      "10. MANTENER EUTERMICO\n",
      "11. CUIDADOS GENERALES DEL RECIEN NACIDO\n",
      "12. INICIAR ESQUEMA DE VACUNACION  \n",
      "13. S/S VALORACION POR NEONATOLOGIA \n",
      "\n",
      "\n",
      "\n",
      "Fecha: 25/02/2017\n",
      "Indicaciones:\n",
      "TRASLADO A CIRUGIA \n",
      "MOTIVAR PARA CESAREA\n",
      "NADA VIA ORAL \n",
      "LACTATO DE RINGER 80 CC HORA \n",
      "SS SEROLOGIA PARA VIH Y FTA \n",
      "SS RESERVA DE 2 UNIDADES DE GLOBULOS ROJOS EMPAQUETADOS \n",
      "CONTROL SIGNOS VITALES AVISAR CAMBIOS\n",
      "\n",
      "\n",
      "Fecha: 26/02/2017\n",
      "Indicaciones:\n",
      "HOSPITALIZADA\n",
      "DIETA BLANDA\n",
      "LACTATO DE RINGER 800 CC/HORA\n",
      "DIPIRONA 2.5 MG CADA 8 HORAS\n",
      "CEFAZOLINA 1 GR CADA 6 HORAS\n",
      "CSV Y AC\"/>\n",
      "\t<row NombreCampo=\"MedidasGenerales\" NombreTabla=\"CamposTexto\" ValorCampo=\"\n",
      "Fecha: 25/02/2017\n",
      "Indicaciones:\n",
      "- Trasladar a sala quirurgica al recuperar anestesia\n",
      "- NVO por 6 horas, luego dieta l&amp;amp;#237;quida.  \n",
      "- SSN 500 cc + Oxitocina 10 U IV en la primera soluci&amp;amp;#243;n que se administre, pasar a 125cc/h luego continuar con lactato de ringer a razon de 80cc/h\n",
      "-penizilina benzatinica amp. aplicar 2.400.000 u im, previa a prueba de sensibilidad.\n",
      "- Dipirona 2.5 gr IV c/8 h en infusi&amp;amp;#243;n lenta.\n",
      "- VigilarControlar signos vitales y avisar cambios.\n",
      "- Vigilar sangrado por genitales externos y bolo de seguridad de Pinard.\n",
      "- Cuidados de la herida quir&amp;amp;#250;rgica.\n",
      "\n",
      "\n",
      "\n",
      "Fecha: 25/02/2017\n",
      "Indicaciones:\n",
      "OBSERVACION\n",
      "HARTMAN 500 CC FLUJO DE 80 CC HORA\n",
      "S/S HEMOGRAMA, GLICEMIA, ECOGRAFIA OBSTETRICA, PERFIL BIOFISICO\n",
      "CONTROL DE FCF Y ACTIVIDAD UTERINA\n",
      "DECUBITO LATERAL\n",
      "CONTROL SIGNOS VITALES AVISAR CAMBIOS\n",
      "\n",
      "\n",
      "Fecha: 25/02/2017\n",
      "Indicaciones:\n",
      "PLAN \n",
      "1. REMISION A CUIDADOS BASICOS \n",
      "2. LECHE MATERNA A LIBRE DEMANDA  CADA 3 HORAS POR SUCCION \n",
      "3. TAPON VENOSO\n",
      "4. PENICILINA CRISTALINA 170.000 ui cada 8 horas \n",
      "6. VITAMINA K APLICAR 1 MG IM DOSIS UNICA (YA)\n",
      "7. GENTAMICINA SOLUCION OFTALMICA, APLICAR 1 GOTA EN CADA OJO (YA)\n",
      "8. S/S HTO - VDRL - TSH - HEMOCLASIFICACION - FTA ABS-  S/S PCR A LAS 12 HORAS DE VIDA\n",
      "9. LIMPIEZA DE ONFALO CADA 8 HORAS CON ALCOHOL ABSOLUTO\n",
      "10. MANTENER EUTERMICO\n",
      "11. CUIDADOS GENERALES DEL RECIEN NACIDO\n",
      "12. INICIAR ESQUEMA DE VACUNACION  \n",
      "13. S/S VALORACION POR NEONATOLOGIA \n",
      "\n",
      "\n",
      "\n",
      "Fecha: 25/02/2017\n",
      "Indicaciones:\n",
      "TRASLADO A CIRUGIA \n",
      "MOTIVAR PARA CESAREA\n",
      "NADA VIA ORAL \n",
      "LACTATO DE RINGER 80 CC HORA \n",
      "SS SEROLOGIA PARA VIH Y FTA \n",
      "SS RESERVA DE 2 UNIDADES DE GLOBULOS ROJOS EMPAQUETADOS \n",
      "CONTROL SIGNOS VITALES AVISAR CAMBIOS\n",
      "\n",
      "\n",
      "Fecha: 26/02/2017\n",
      "Indicaciones:\n",
      "HOSPITALIZADA\n",
      "DIETA BLANDA\n",
      "LACTATO DE RINGER 800 CC/HORA\n",
      "DIPIRONA 2.5 MG CADA 8 HORAS\n",
      "CEFAZOLINA 1 GR CADA 6 HORAS\n",
      "CSV Y AC\n",
      "\n",
      "\"/>\n",
      "</C>\n",
      "\n",
      "Id\n",
      "777550    O479\n",
      "Name: Diagnostico, dtype: object Id\n",
      "777550    Z359\n",
      "Name: CodigoDiagnosticoRelacionado1, dtype: object Id\n",
      "777550    Z988\n",
      "Name: CodigoDiagnosticoRelacionado2, dtype: object Id\n",
      "777550    NaN\n",
      "Name: CodigoDiagnosticoRelacionado3, dtype: object\n"
     ]
    }
   ],
   "source": [
    "for p, k in backgroundByCase.items():\n",
    "    xmlET = ET.fromstring(k.iloc[0].RegistroXML)\n",
    "    if 'VDRL: REACTIVO' in xmlET.find('.//row[@NombreCampo=\"Evoluciones\"]').get('ValorCampo').upper():\n",
    "        prettyPrintXML(k.iloc[0].RegistroXML)\n",
    "        print(k.Diagnostico, k.CodigoDiagnosticoRelacionado1, k.CodigoDiagnosticoRelacionado2, k.CodigoDiagnosticoRelacionado3)\n",
    "        break"
   ]
  },
  {
   "cell_type": "code",
   "execution_count": 26,
   "metadata": {
    "Collapsed": "false"
   },
   "outputs": [
    {
     "name": "stdout",
     "output_type": "stream",
     "text": [
      "0 2462\n"
     ]
    }
   ],
   "source": [
    "alta = 0\n",
    "noAlta = 0\n",
    "for k, b in backgroundByCase.items():\n",
    "    if len(b) == 0:\n",
    "        continue\n",
    "    if all(b.AltaMedica):\n",
    "        alta += 1\n",
    "    else: \n",
    "        noAlta += 1\n",
    "print(alta, noAlta)"
   ]
  },
  {
   "cell_type": "code",
   "execution_count": null,
   "metadata": {
    "Collapsed": "false"
   },
   "outputs": [],
   "source": [
    "def caseToBackground(case, backgroundByCase):\n",
    "    p = backgroundByCase[case]\n",
    "    if len(p) != 0:  \n",
    "        text = p.iloc[0].RegistroXML\n",
    "    #prettyPrintXML(text)\n",
    "    r = list(filter(\n",
    "        lambda S: S.attrib ['NombreCampo'] == \"AntecedentesHTML\" or S.attrib['NombreCampo'] == 'AntecedentesPersonales',\n",
    "        ET.fromstring(text).findall('row')))\n",
    "    text = remove_diacritics(pars.unescape(r[0].attrib['ValorCampo']))\n",
    "    return text"
   ]
  },
  {
   "cell_type": "code",
   "execution_count": null,
   "metadata": {
    "Collapsed": "false",
    "scrolled": true
   },
   "outputs": [],
   "source": [
    "import unicodedata\n",
    "def remove_diacritics(text):\n",
    "    \"\"\"\n",
    "    Returns a string with all diacritics (aka non-spacing marks) removed.\n",
    "    For example \"Héllô\" will become \"Hello\".\n",
    "    Useful for comparing strings in an accent-insensitive fashion.\n",
    "    \"\"\"\n",
    "    normalized = unicodedata.normalize(\"NFKD\", text)\n",
    "    return \"\".join(c for c in normalized if unicodedata.category(c) != \"Mn\")\n",
    "\n",
    "\n",
    "case, _, _ = list(interventionToCase.values())[423]\n",
    "print(case)\n",
    "p = backgroundByCase[case]\n",
    "if len(p) != 0:  \n",
    "    text = p.iloc[0].RegistroXML\n",
    "    #prettyPrintXML(text)\n",
    "    r = list(filter(\n",
    "        lambda S: S.attrib ['NombreCampo'] == \"AntecedentesHTML\" or S.attrib['NombreCampo'] == 'AntecedentesPersonales',\n",
    "        ET.fromstring(text).findall('row')))\n",
    "    textClean = remove_diacritics(pars.unescape(r[0].attrib['ValorCampo']))\n",
    "    print(textClean)\n",
    "else:\n",
    "    print('Error')"
   ]
  },
  {
   "cell_type": "markdown",
   "metadata": {
    "Collapsed": "false"
   },
   "source": [
    "# Background\n",
    "\n",
    "Check from the yes / no form. \n",
    "\n",
    "The ones that have, try to get the most common. The rest note for manual"
   ]
  },
  {
   "cell_type": "code",
   "execution_count": null,
   "metadata": {
    "Collapsed": "false"
   },
   "outputs": [],
   "source": [
    "prettyPrintXML(registros[(registros.Caso == case) & registros.Asunto.str.contains('Ingreso de Urgencias')].iloc[0].RegistroXML)"
   ]
  },
  {
   "cell_type": "markdown",
   "metadata": {
    "Collapsed": "false"
   },
   "source": [
    "# Paraclinics and background familiar\n",
    "\n",
    "- From the antecedentes? There are many without anything in the venezuelans. Are hey applied during labour?\n",
    "- Much variability -> need to clean manually, but it might be too costly"
   ]
  },
  {
   "cell_type": "code",
   "execution_count": null,
   "metadata": {
    "Collapsed": "false"
   },
   "outputs": [],
   "source": [
    "# Maybe I should start tokenizing\n",
    "cleanWhites = re.compile(\"[^\\S\\n]+\")\n",
    "cleanWhites.sub(' ', text)\n",
    "\n",
    "def cleanString(text, removeChars = '-:,;', removeWords = []):\n",
    "    for c in removeChars:\n",
    "        text = re.sub('(?<![0-9])\\%s' %c, ' ',  text)\n",
    "        text = re.sub('\\%s(?![0-9])' %c, ' ',  text)\n",
    "\n",
    "    text = cleanWhites.sub(' ', text)\n",
    "    for w in removeWords:\n",
    "        text = text.replace(' ' + w + ' ', ' ')\n",
    "    return text.strip()"
   ]
  },
  {
   "cell_type": "code",
   "execution_count": null,
   "metadata": {
    "Collapsed": "false"
   },
   "outputs": [],
   "source": [
    "#Parse paraclinics\n",
    "#VIH\n",
    "#VDRL -\n",
    "# PRUEBA RAPIDA DE SIFILIS\n",
    "dict = {}\n",
    "for (case, _, _) in interventionToCase.values():\n",
    "    p = backgroundByCase[case]\n",
    "    if len(p) == 0:\n",
    "        continue\n",
    "    text = p.iloc[0].RegistroXML\n",
    "    #prettyPrintXML(text)\n",
    "    r = list(filter(\n",
    "        lambda S: S.attrib ['NombreCampo'] == \"AntecedentesHTML\" or S.attrib['NombreCampo'] == 'AntecedentesPersonales',\n",
    "        ET.fromstring(text).findall('row')))\n",
    "    if len(r) == 0:\n",
    "        continue\n",
    "       # text = remove_diacritics(pars.unescape(r[0].attrib['ValorCampo']))\n",
    "    dict[case] = {'VIH': 'VIH' in text, 'VDRL' : 'VDRL' in text, 'PARACLINICOS' :  'PARACLINICOS' in text, 'SIF' : 'PRUEBA RAPIDA DE SIFILIS' in text}"
   ]
  },
  {
   "cell_type": "code",
   "execution_count": null,
   "metadata": {
    "Collapsed": "false"
   },
   "outputs": [],
   "source": [
    "paraclinics = pandas.DataFrame.from_dict(dict, orient = 'index')\n",
    "paraclinics.sum(), len(paraclinics)"
   ]
  },
  {
   "cell_type": "code",
   "execution_count": null,
   "metadata": {
    "Collapsed": "false"
   },
   "outputs": [],
   "source": [
    "paraclinics"
   ]
  },
  {
   "cell_type": "code",
   "execution_count": null,
   "metadata": {
    "Collapsed": "false"
   },
   "outputs": [],
   "source": [
    "casos"
   ]
  },
  {
   "cell_type": "code",
   "execution_count": null,
   "metadata": {
    "Collapsed": "false"
   },
   "outputs": [],
   "source": [
    "casos.loc['AD368548']\n",
    "pacientes.loc[219850]"
   ]
  },
  {
   "cell_type": "code",
   "execution_count": null,
   "metadata": {
    "Collapsed": "false"
   },
   "outputs": [],
   "source": [
    "def parseAntecedentes(t):\n",
    "    t = t.upper()\n",
    "    antecedentes = []\n",
    "    negative = ['NO', 'NIEG', 'SIN DATOS', 'NEGATIVO', 'NO REFIERE', 'SIN']\n",
    "    if 'HIPERTEN' in t or 'HTA' in t:\n",
    "        antecedentes.append('HTA')\n",
    "    if any([n in t for n in negative]):\n",
    "        antecedentes.append('None')\n",
    "    if 'DIAB' in t or 'DM' in t:\n",
    "        antecedentes.append('Diabetes')\n",
    "    if 'ASMA' in t:\n",
    "        antecedentes.append('Asma')\n",
    "    if 'CARDIO' in t:\n",
    "        antecedentes.append('Cardo')\n",
    "    if 'PREECLAMPSIA' in t:\n",
    "        antecedentes.append('Preclampsia')\n",
    "\n",
    "    return antecedentes"
   ]
  },
  {
   "cell_type": "code",
   "execution_count": null,
   "metadata": {
    "Collapsed": "false"
   },
   "outputs": [],
   "source": []
  },
  {
   "cell_type": "code",
   "execution_count": null,
   "metadata": {
    "Collapsed": "false",
    "scrolled": true
   },
   "outputs": [],
   "source": [
    "j  = 0\n",
    "noFam, noPara = 0, 0\n",
    "fam = {}\n",
    "para = {}\n",
    "for k, r in paraclinics.iterrows(): \n",
    "    text = caseToBackground(k, backgroundByCase)\n",
    "    paraclinicos = re.findall('PARACLINICOS(.*)FAMILIARES', text, re.DOTALL)\n",
    "    familiares = re.findall('FAMILIARES(.*)ALERGICOS', text, re.DOTALL)\n",
    "    if not paraclinicos:\n",
    "        noPara += 1\n",
    "    else: \n",
    "        \n",
    "    else:\n",
    "        para[k] = cleanString(paraclinicos[0])\n",
    "    if not familiares:\n",
    "        noFam += 1\n",
    "    else:\n",
    "        print(cleanString(familiares[0]))\n",
    "        fam[k] = parseAntecedentes(cleanString(familiares[0]))\n",
    "print(noFam, noPara, len(paraclinics))"
   ]
  },
  {
   "cell_type": "code",
   "execution_count": null,
   "metadata": {
    "Collapsed": "false",
    "scrolled": true
   },
   "outputs": [],
   "source": [
    "for c in any.values():\n",
    "    print(c)"
   ]
  },
  {
   "cell_type": "markdown",
   "metadata": {
    "Collapsed": "false"
   },
   "source": [
    "# Echographies:\n",
    "\n",
    "- There is a lot of variability that makes it difficult to get all of them.\n",
    "- In most cases I should be able to get at least one.\n",
    "- Do-able: GA. If there is something more, do it manually"
   ]
  },
  {
   "cell_type": "code",
   "execution_count": null,
   "metadata": {
    "Collapsed": "false"
   },
   "outputs": [],
   "source": [
    "noEchos = ['no trae ecografia', 'ni ecografia']"
   ]
  },
  {
   "cell_type": "code",
   "execution_count": null,
   "metadata": {
    "Collapsed": "false",
    "scrolled": true
   },
   "outputs": [],
   "source": [
    "\n",
    "embarazo = ['embarazo de', 'emb de', 'embarazo', 'emb', 'QUE REPORTA EMBARAZO DE']\n",
    "query = 'Ecografi[a]?[s]?' + sep +  '(' + sep +  date + sep + '(?:%s)' % '|'.join(embarazo) + blanks + '(%s)' % floatParse  + blanks + semanas \\\n",
    "+ blanks  + '(:?'+ paraHoy + floatParse +  ')?' + ')+'\n",
    "re.findall(query, text, re.IGNORECASE)"
   ]
  },
  {
   "cell_type": "code",
   "execution_count": null,
   "metadata": {
    "Collapsed": "false"
   },
   "outputs": [],
   "source": [
    "blanks = '\\s*'\n",
    "paraHoyPossibilities = ['Para hoy', 'hoy', 'a hoy', 'para el dia de hoy']\n",
    "paraHoy = '(?:%s)' % '|'.join(paraHoyPossibilities)\n",
    "semanas = '(?:%s)' % '|'.join(['semanas', 'sem', 'sems'])\n",
    "\n",
    "echoLine =  sep +  date +  sep + '(?:%s)' % '|'.join(embarazo) + blanks + '(' + '(%s)' % floatParse  + blanks + semanas  + '[,]?'\\\n",
    "+ blanks + paraHoy + blanks + floatParse + blanks + '(:?%s)?' % semanas + ')?'\n",
    "\n",
    "queryEchos = '(Eco[g]?[r]?[a]?[f]?[i]?[a]?[s]?' + sep +  '(' + echoLine  + ')+)'\n",
    "def searchEchos(text):\n",
    "    for t in re.findall(query, text, re.IGNORECASE):\n",
    "        print(t)\n",
    "    #TODO: afterwards parse all echographies from the result"
   ]
  },
  {
   "cell_type": "code",
   "execution_count": null,
   "metadata": {
    "Collapsed": "false"
   },
   "outputs": [],
   "source": [
    "from ipywidgets import interact, interactive, fixed, interact_manual\n",
    "import ipywidgets as widgets\n"
   ]
  },
  {
   "cell_type": "code",
   "execution_count": null,
   "metadata": {
    "Collapsed": "false"
   },
   "outputs": [],
   "source": [
    "backgroundByCase['AD301211'] = getBackgroundRegister(case, registersByPatient.get_group(pId))"
   ]
  },
  {
   "cell_type": "code",
   "execution_count": null,
   "metadata": {
    "Collapsed": "false"
   },
   "outputs": [],
   "source": [
    "registros[registros.NumeroHistoria == 216835]"
   ]
  },
  {
   "cell_type": "code",
   "execution_count": null,
   "metadata": {
    "Collapsed": "false"
   },
   "outputs": [],
   "source": [
    "#TODO: check that operation and diagnosis are compatible."
   ]
  },
  {
   "cell_type": "code",
   "execution_count": null,
   "metadata": {
    "Collapsed": "false",
    "scrolled": true
   },
   "outputs": [],
   "source": [
    "getprocID(i.XmlDescripcion)\n",
    "for k,c in interventionToCase[k].iterrows():\n",
    "    prettyPrintXML(c.RegistroXML)"
   ]
  },
  {
   "cell_type": "markdown",
   "metadata": {
    "Collapsed": "false"
   },
   "source": [
    "# Patient information"
   ]
  },
  {
   "cell_type": "code",
   "execution_count": null,
   "metadata": {
    "Collapsed": "false"
   },
   "outputs": [],
   "source": [
    "def getDataFromPatient(p):\n",
    "    \"\"\"\n",
    "    Get the patient data\n",
    "    \"\"\"\n",
    "    r = {}\n",
    "    r['id'] = r.Identificacion\n",
    "    r['marital'] = p.EstadoCivil\n",
    "    r['etnia'] = p.Etnia #Map from id to string\n",
    "    r['estudios'] = p.Escolaridad #Map from id to string\n",
    "    r['nacimiento'] = p.FechaNac #Map from id to string"
   ]
  },
  {
   "cell_type": "markdown",
   "metadata": {
    "Collapsed": "false"
   },
   "source": [
    "# New born ifnormation\n",
    "\n",
    "- New born anthropometrics\n",
    "- Birth details (quirurgic)\n",
    "- Life  /dead, and also of the mum\n",
    "- Whether there was a single one, or many\n",
    "- C- section"
   ]
  },
  {
   "cell_type": "markdown",
   "metadata": {
    "Collapsed": "false"
   },
   "source": [
    "# Abortion"
   ]
  },
  {
   "cell_type": "code",
   "execution_count": null,
   "metadata": {
    "Collapsed": "false"
   },
   "outputs": [],
   "source": []
  }
 ],
 "metadata": {
  "kernelspec": {
   "display_name": "Python 3",
   "language": "python",
   "name": "python3"
  },
  "language_info": {
   "codemirror_mode": {
    "name": "ipython",
    "version": 3
   },
   "file_extension": ".py",
   "mimetype": "text/x-python",
   "name": "python",
   "nbconvert_exporter": "python",
   "pygments_lexer": "ipython3",
   "version": "3.7.4"
  }
 },
 "nbformat": 4,
 "nbformat_minor": 4
}
