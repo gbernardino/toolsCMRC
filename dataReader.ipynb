{
 "cells": [
  {
   "cell_type": "code",
   "execution_count": null,
   "metadata": {
    "Collapsed": "false"
   },
   "outputs": [],
   "source": [
    "import pandas, numpy as np,re\n",
    "import xml, itertools, re, xml.etree.ElementTree as ET\n",
    "from html.parser import HTMLParser\n",
    "import datetime, tqdm\n",
    "pars =HTMLParser()\n",
    "def findInXML(s, et): \n",
    "    if isinstance(et, str):\n",
    "        raise ValueError('et should be a tree, not a string')\n",
    "    r =et.find('.//row[@NombreCampo=\"%s\"]' % s)\n",
    "    if r is not None:\n",
    "        return r.get('ValorCampo')\n",
    "    return None\n",
    "def prettyPrintXML(s):\n",
    "    r = xml.dom.minidom.parseString(s) #r.RegistroXML)\n",
    "    print(pars.unescape(r.toprettyxml()))\n",
    "    \n",
    "#from datetime import datetime as dt\n",
    "#import locale\n",
    "#locale.setlocale(locale.LC_ALL, 'es_es')\n",
    "#spanishDateToPandas = lambda s: pandas.to_datetime(dt.strptime(s, '%d %b %Y %H:%M:%S'))"
   ]
  },
  {
   "cell_type": "code",
   "execution_count": null,
   "metadata": {
    "Collapsed": "false"
   },
   "outputs": [],
   "source": [
    "import re\n",
    "# Maybe I should start tokenizing\n",
    "cleanWhites = re.compile(\"[^\\S\\n]+\")\n",
    "import unicodedata\n",
    "def remove_diacritics(text):\n",
    "    \"\"\"\n",
    "    Returns a string with all diacritics (aka non-spacing marks) removed.\n",
    "    For example \"Héllô\" will become \"Hello\".\n",
    "    Useful for comparing strings in an accent-insensitive fashion.\n",
    "    \"\"\"\n",
    "    normalized = unicodedata.normalize(\"NFKD\", text)\n",
    "    return \"\".join(c for c in normalized if unicodedata.category(c) != \"Mn\")\n",
    "\n",
    "def cleanString(text, removeChars = '-:,;', removeWords = []):\n",
    "    for c in removeChars:\n",
    "        text = re.sub('(?<![0-9])\\%s' %c, ' ',  text)\n",
    "        text = re.sub('\\%s(?![0-9])' %c, ' ',  text)\n",
    "\n",
    "    text = cleanWhites.sub(' ', text)\n",
    "    for w in removeWords:\n",
    "        text = text.replace(' ' + w + ' ', ' ')\n",
    "    return text.strip()"
   ]
  },
  {
   "cell_type": "markdown",
   "metadata": {
    "Collapsed": "false"
   },
   "source": [
    "# Data reading and basic cleaning\n",
    "\n",
    "- Find candidates of repeated pateints\n",
    "- Find the used codes for diagnosis and procedures"
   ]
  },
  {
   "cell_type": "code",
   "execution_count": null,
   "metadata": {
    "Collapsed": "false"
   },
   "outputs": [],
   "source": [
    "casos = pandas.read_csv('Venezolanas/casos.csv', index_col = 0)\n",
    "pacientes = pandas.read_csv('Venezolanas/pacientes.csv', index_col = 0)\n",
    "registros = pandas.read_csv('Venezolanas/registros.csv', index_col = 0)\n",
    "diagnosis = pandas.read_csv('Venezolanas/diagnosis.csv', index_col = 0)\n",
    "procedimientos = pandas.read_csv('Venezolanas/procedimientos.csv', index_col = 0)\n",
    "procedimientosDesc = pandas.read_csv('Venezolanas/procedimientosID.csv', index_col = 0)\n",
    "\n",
    "#str2Date = lambda s:datetime.datetime.strptime(s, '%Y-%m-%d %H:%M:%S.%f') if isinstance(s, str) \\\n",
    "#           else datetime.datetime(1, 1, 1)\n",
    "registros.FechaInicioAtencion = registros.FechaInicioAtencion.map(pandas.to_datetime) #registros.FechaInicioAtencion.map(str2Date)\n",
    "procedimientos.FechaDescripcion  = procedimientos.FechaDescripcion.map(pandas.to_datetime)\n",
    "from html.parser import HTMLParser\n",
    "pars =HTMLParser()\n",
    "#pars.unescape\n",
    "registersByCase = registros.groupby('Caso')\n"
   ]
  },
  {
   "cell_type": "code",
   "execution_count": null,
   "metadata": {
    "Collapsed": "false"
   },
   "outputs": [],
   "source": [
    "procedureIDFound = set()\n",
    "abortions = []\n",
    "def getProcFromXMLString(s):\n",
    "    s = re.findall('<idProcedimiento>([a-zA-Z0-9]*)</idProcedimiento>', s)\n",
    "    return s[0]\n",
    "\n",
    "for k, p in procedimientos.iterrows():\n",
    "    et = xml.etree.ElementTree.fromstring(p.XmlDescripcion)\n",
    "    s = re.findall('<idProcedimiento>([a-zA-Z0-9]*)</idProcedimiento>', p.XmlDescripcion)\n",
    "    for ss in s:\n",
    "        procedureIDFound.add(ss)\n",
    "    if 'H3094' in p.XmlDescripcion:\n",
    "        abortions.append(k)\n",
    "procedureIDFound = list(sorted(procedureIDFound))"
   ]
  },
  {
   "cell_type": "code",
   "execution_count": null,
   "metadata": {
    "Collapsed": "false"
   },
   "outputs": [],
   "source": [
    "procedimientosDesc.loc[procedureIDFound].to_excel('procedimientosFiltered.xlsx')\n",
    "procedimientosDesc.loc[procedureIDFound].to_csv('procedimientosFiltered.csv')"
   ]
  },
  {
   "cell_type": "code",
   "execution_count": null,
   "metadata": {
    "Collapsed": "false"
   },
   "outputs": [],
   "source": [
    "unique = registros.Diagnostico.unique()\n",
    "unique = [u for u in unique if isinstance(u, str)]\n",
    "for u in unique:\n",
    "    if u.upper() not in diagnosis.index:\n",
    "        print(u)"
   ]
  },
  {
   "cell_type": "code",
   "execution_count": null,
   "metadata": {
    "Collapsed": "false"
   },
   "outputs": [],
   "source": [
    "#Check duplicates by birthData\n",
    "def candidateToRepeated(p1, p2):\n",
    "    \"\"\"\n",
    "    Selects as candidate if they were born in the same name:\n",
    "    - they have the same 1st surname\n",
    "    - [TODO] they have similar height (~2cm), as found in the cases\n",
    "    \n",
    "    TODO: beware the case of twins!\n",
    "    \"\"\"\n",
    "    #First surname criterio\n",
    "    if p1[1].Ape1Afil.strip().lower() == p2[1].Ape1Afil.strip().lower():\n",
    "        return True\n",
    "    #TODO: Search height and see it's similar\n",
    "    if False:\n",
    "        return True\n",
    "    #Otherwise return False\n",
    "    return False\n",
    "    \n",
    "\n",
    "#Beware\n",
    "candidates = []\n",
    "threshold = '2010'\n",
    "for c in pacientes.groupby('FechaNac'):\n",
    "    #Arbitrary threshold for separating between mothers and borns\n",
    "    if len(c[1]) >= 2 and c[0][:4] < threshold:\n",
    "        for p1, p2 in itertools.combinations(c[1].iterrows(), r = 2):\n",
    "            if p1[0] != p2[0] and candidateToRepeated(p1, p2):\n",
    "                candidates.append([p1[0], p2[0]])\n",
    "pandas.DataFrame.from_records(candidates).to_csv('repeatedCandidates.csv')"
   ]
  },
  {
   "cell_type": "markdown",
   "metadata": {
    "Collapsed": "false"
   },
   "source": [
    "# Select the cases by procedure\n",
    "\n",
    "- Based on the procedure, select the history register associated.\n",
    "- TODO: Check that diagnosis and procedure are compatible"
   ]
  },
  {
   "cell_type": "code",
   "execution_count": null,
   "metadata": {
    "Collapsed": "false"
   },
   "outputs": [],
   "source": [
    "registersByPatient = registros.groupby('NumeroHistoria')"
   ]
  },
  {
   "cell_type": "code",
   "execution_count": null,
   "metadata": {
    "Collapsed": "false"
   },
   "outputs": [],
   "source": [
    "interventionToCase = {}\n",
    "caseToProcedure = {}\n",
    "for i,r  in tqdm.tqdm_notebook(registros.iterrows()):\n",
    "    if isinstance(r.RegistroXML, str) and '<row NombreCampo=\"IdDescripcion\"' in r.RegistroXML:\n",
    "        et = ET.fromstring(r.RegistroXML)\n",
    "        idDescripcion = int(et.find('.//row[@NombreCampo=\"IdDescripcion\"]').get('ValorCampo'))\n",
    "        interventionToCase[idDescripcion] = (r.Caso, r.NumeroHistoria, i)\n",
    "        caseToProcedure[idDescripcion] = getProcFromXMLString(procedimientos.loc[idDescripcion].XmlDescripcion)"
   ]
  },
  {
   "cell_type": "code",
   "execution_count": null,
   "metadata": {
    "Collapsed": "false"
   },
   "outputs": [],
   "source": [
    "errors = []\n",
    "for i, (_, k, k2) in interventionToCase.items():\n",
    "    if procedimientos.loc[i].IdPaciente != k:\n",
    "        print('ERROR: Patient name does not coincides', i, k2)\n",
    "        errors.append(i)\n",
    "for i in errors:\n",
    "    del interventionToCase[i]"
   ]
  },
  {
   "cell_type": "markdown",
   "metadata": {
    "Collapsed": "false"
   },
   "source": [
    "# Parse information from cases\n",
    "Now we need to parse the information from the cases"
   ]
  },
  {
   "cell_type": "code",
   "execution_count": null,
   "metadata": {
    "Collapsed": "false"
   },
   "outputs": [],
   "source": [
    "def getStateDataFromCase(case):\n",
    "    \"\"\"\n",
    "    Get some information from the case.\n",
    "    \"\"\"\n",
    "    data = {}\n",
    "    r = ET.fromstring(case.RegistroXML)\n",
    "    try:\n",
    "        data['FC']=r.find('.//row[@NombreCampo=\"FrecuenciaCardiaca\"]').get('ValorCampo')\n",
    "        data['FR']=r.find('.//row[@NombreCampo=\"FrecuenciaRespiratoria\"]').get('ValorCampo')\n",
    "        data['Presion']=r.find('.//row[@NombreCampo=\"Presion\"]').get('ValorCampo')\n",
    "        data['Temperatura']=r.find('.//row[@NombreCampo=\"Temperatura\"]').get('ValorCampo')\n",
    "        data['Talla']=r.find('.//row[@NombreCampo=\"Talla\"]').get('ValorCampo')\n",
    "        data['Peso']=r.find('.//row[@NombreCampo=\"Peso\"]').get('ValorCampo')\n",
    "        return data\n",
    "    except:\n",
    "        return {}"
   ]
  },
  {
   "cell_type": "code",
   "execution_count": null,
   "metadata": {
    "Collapsed": "false"
   },
   "outputs": [],
   "source": [
    "floatParse = '[0-9]*[\\.,]?[0-9]+'\n",
    "compareGPCA = lambda s1, s2: all([i == j or not i or not j for i, j in zip(s1, s2)])\n",
    "allEqual = lambda s: all([compareGPCA(i, j) for i, j in  itertools.combinations(s, r = 2)])\n",
    "sep= '\\s*[,;:]?\\s*'\n",
    " #In some cases there is only G\n",
    "patternGPAC = 'G%s(?P<G>[0-9]+)' %sep + sep + 'P%s(?P<P>[0-9]+)'  %sep + sep + '(?:'\n",
    "patternGPAC += 'A%s(?P<A>[0-9]+)' %sep  + sep + 'C%s(?P<C>[0-9]+)'  %sep\n",
    "patternGPAC += '|'\n",
    "patternGPAC += 'C%s(?P<C2>[0-9]+)' %sep  + sep + 'A%s(?P<A2>[0-9]+)' %sep\n",
    "patternGPAC += '|' # C and A can be missing, or in other order\n",
    "patternGPAC += ')'\n",
    "searchGPAC = re.compile(patternGPAC, flags=0)\n",
    "\n",
    "meses = ['ENERO', 'FEBRERO', 'MARZO', 'ABRIL', 'MAYO', 'JUNIO', 'JULIO', 'AGOSTO', 'SEPTIEMBRE', 'OCTUBRE', 'NOVIEMBRE', 'DICIEMBRE']\n",
    "meses = meses + list(map(lambda s: s[:3], meses))\n",
    "noRecuerda = ['NO', '\\?']\n",
    "separadorFecha = '(?:[\\.\\\\/-]|DE|DEL|\\s)'\n",
    "date =  '\\(?' +  '((?:[0-9]+)'+ sep + separadorFecha + sep + '(?:[0-9]+|%s)'%  '|'.join(meses) + \\\n",
    "                       sep + separadorFecha + sep + '(?:[0-9]+))' + '\\)?' \n",
    "\n",
    "searchFUM = re.compile('FUM'+ sep + '(?::|.)?'+ sep +'(' +  date + '|%s)' % ('|'.join(noRecuerda)), flags = re.IGNORECASE)\n",
    "errors = []\n",
    "def parseGPCA_and_fum(s):\n",
    "    \"\"\"\n",
    "    Gets the GPCA and FUM from the Triage or epicrisis.\n",
    "    \n",
    "    NOTE: some of the cases are incorrect, double check\n",
    "    TODO: actually, registro del recien nacido has it as a field.\n",
    "    \"\"\"\n",
    "    r = list(filter(lambda S: S.attrib ['NombreCampo'] == \"AntecedentesHTML\" or S.attrib['NombreCampo'] == 'AntecedentesPersonales',ET.fromstring(s).findall('row')))\n",
    "    if len(r) == 0:\n",
    "         return {}\n",
    "    text = pars.unescape(r[0].attrib['ValorCampo'])\n",
    "    \n",
    "    allowedStarts = ['7-&gt;', '-', '- ANTECEDENTES']\n",
    "    line = re.findall('^%s(?:%s)?%s' % (sep, '|'.join(allowedStarts), sep) + 'G' + sep + '[0-9]+.*$', text, re.M)\n",
    "    if len(line) != 1:\n",
    "        #If it doesn't find it, search brutally\n",
    "        search = searchGPAC.findall(s)\n",
    "        searchCleaned = [(s[0], s[1], s[2] + s[-1], s[3] + s[-2]) for s in search]\n",
    "        if search and allEqual(search):\n",
    "            GPCA_OK = True\n",
    "            parsedGPCA = search[0]\n",
    "        else:\n",
    "            GPCA_OK = False\n",
    "            parsedGPCA = []\n",
    "\n",
    "    else:\n",
    "        f = lambda s: s[0] if s else ''\n",
    "        G = f(re.findall('G' + sep + '([0-9]+)', line[0]))\n",
    "        A = f(re.findall('A' + sep + '([0-9]+)', line[0]))\n",
    "        C = f(re.findall('C' + sep + '([0-9]+)', line[0]))\n",
    "        P = f(re.findall('P' + sep + '([0-9]+)', line[0])) \n",
    "        parsedGPCA = [G, P, A, C]\n",
    "        GPCA_OK = True\n",
    "    #Prob athere is a better way...\n",
    "    parsedFUM = searchFUM.findall(s)\n",
    "    return {'fum' : len(parsedFUM) > 0,\n",
    "            'fum_OK' : len(parsedFUM) ,\n",
    "            'GPCA_OK' : GPCA_OK,\n",
    "            'fum_Data' : parsedFUM,\n",
    "            'parsedGPCA' : parsedGPCA}"
   ]
  },
  {
   "cell_type": "code",
   "execution_count": null,
   "metadata": {
    "Collapsed": "false"
   },
   "outputs": [],
   "source": [
    "from IPython.display import display\n",
    "\n",
    "def getBackgroundRegister(casoID, registrosByCase):\n",
    "    \"\"\"\n",
    "    Gets a register that includes the personal background in order Epicrisis / Triage / Ingreso a urgencias\n",
    "    \"\"\"\n",
    "    #\n",
    "    epicrisis = registrosByCase[(registrosByCase.Caso == casoID) & \n",
    "                     (registrosByCase.Asunto.str.contains('Epicrisis', case = False) == True)]\n",
    "    if epicrisis is not None and len(epicrisis):\n",
    "        return epicrisis, 'epi'\n",
    "    \n",
    "    triage = registrosByCase[(registrosByCase.Caso == casoID) & \n",
    "                     (registrosByCase.Asunto.str.contains('Triage', case = False) == True)]\n",
    "    if triage is not None and len(triage):\n",
    "        return triage, 'tri'\n",
    "\n",
    "    urgencias = registrosByCase[(registrosByCase.Caso == casoID) & \n",
    "                     (registrosByCase.Asunto.str.contains('Ingreso de Urgencias', case = False) == True)]\n",
    "    if urgencias is not None:\n",
    "        return urgencias, 'ur'\n"
   ]
  },
  {
   "cell_type": "code",
   "execution_count": null,
   "metadata": {
    "Collapsed": "false"
   },
   "outputs": [],
   "source": [
    "errorsBackgroundRegister = []\n",
    "backgroundByCase = {}\n",
    "dataGPAC_fum = {}\n",
    "typeCases = {}\n",
    "for k, (case, pId, _) in tqdm.tqdm_notebook(interventionToCase.items()):\n",
    "    if case is False:\n",
    "        continue\n",
    "        \n",
    "    backgroundByCase[case], typeCases[case] = getBackgroundRegister(case, registersByPatient.get_group(pId))\n",
    "    if len(backgroundByCase[case]) == 0:\n",
    "        errorsBackgroundRegister.append(case)\n",
    "    else: \n",
    "        dataGPAC_fum[case] = parseGPCA_and_fum(backgroundByCase[case].iloc[0].RegistroXML)\n",
    "        c = getProcFromXMLString(procedimientos.loc[k].XmlDescripcion)\n",
    "        #dataGPAC_fum[case] ['ProcCode'] = c\n",
    "        #dataGPAC_fum[case] ['ProcDesc'] = procedimientosDesc.loc[c].DESCRIP\n",
    "    \n",
    "print('No background', len(errorsBackgroundRegister))"
   ]
  },
  {
   "cell_type": "code",
   "execution_count": null,
   "metadata": {
    "Collapsed": "false"
   },
   "outputs": [],
   "source": [
    "def getAllProceduresAndMedicamentsFromCase(registros, Caso):\n",
    "    procedimientos = []\n",
    "    medicamentos = []\n",
    "    for r,v in registros[registros.Caso == Caso].iterrows():\n",
    "        et = ET.fromstring(v.RegistroXML)\n",
    "        p = findInXML('ProcedimientosAsociados', et)\n",
    "        m = findInXML('MedicamentosAdministrado', et)\n",
    "        if p:\n",
    "            procedimientos += [p]\n",
    "        if m:\n",
    "            medicamentos += [m]\n",
    "    return procedimientos, medicamentos\n",
    "\n",
    "medicationByCase = {}\n",
    "proceduresByCase = {}\n",
    "for k, (case, pId, _) in tqdm.tqdm_notebook(interventionToCase.items()):\n",
    "    proceduresByCase[case], medicationByCase[case] = getAllProceduresAndMedicamentsFromCase(registros, case)"
   ]
  },
  {
   "cell_type": "code",
   "execution_count": null,
   "metadata": {
    "Collapsed": "false"
   },
   "outputs": [],
   "source": [
    "from __future__ import print_function\n",
    "from ipywidgets import interact, interactive, fixed, interact_manual\n",
    "import ipywidgets as widgets"
   ]
  },
  {
   "cell_type": "code",
   "execution_count": null,
   "metadata": {
    "Collapsed": "false"
   },
   "outputs": [],
   "source": [
    "patientsWithPeniciline = []\n",
    "for c, v in medicationByCase.items():\n",
    "    if 'MD0441' in ''.join(v):\n",
    "        patientsWithPeniciline.append(c)\n",
    "        print(''.join(v))\n",
    "        "
   ]
  },
  {
   "cell_type": "code",
   "execution_count": null,
   "metadata": {},
   "outputs": [],
   "source": [
    "'IM5072','IM5109','IM5365','IM5418','MD0332','MD0333','MD0334','MD0335','MD0336','MD0337','MD0338','MD0679']"
   ]
  },
  {
   "cell_type": "code",
   "execution_count": null,
   "metadata": {
    "Collapsed": "false"
   },
   "outputs": [],
   "source": [
    "len(patientsWithPeniciline)"
   ]
  },
  {
   "cell_type": "code",
   "execution_count": null,
   "metadata": {
    "Collapsed": "false"
   },
   "outputs": [],
   "source": [
    "testSifilis = '906039 - TREPONEMA PALLIDUM, ANTICUERPOS PARA SIFILIS, PRUEBAS RAPIDAS  POR INMUNOCROMATOGRAFIA'\n",
    "vdrl = '906916' #Prueba no treponemica a sifilis\n",
    "vih1 = '906249'\n",
    "vih2 = '906249'"
   ]
  },
  {
   "cell_type": "code",
   "execution_count": null,
   "metadata": {
    "Collapsed": "false"
   },
   "outputs": [],
   "source": [
    "patientsTestedForSifilis = []\n",
    "patientsTestedForVIH = []\n",
    "for c, v in proceduresByCase.items():\n",
    "    v = ''.join(v)\n",
    "    if vih1 in v:\n",
    "        patientsTestedForVIH.append(c)  \n",
    "    if testSifilis in v or vdrl in v:\n",
    "        patientsTestedForSifilis.append(c)  "
   ]
  },
  {
   "cell_type": "code",
   "execution_count": null,
   "metadata": {
    "Collapsed": "false"
   },
   "outputs": [],
   "source": [
    "len(patientsTestedForSifilis)"
   ]
  },
  {
   "cell_type": "code",
   "execution_count": null,
   "metadata": {
    "Collapsed": "false"
   },
   "outputs": [],
   "source": [
    "casesIdx = list(proceduresByCase.keys())\n",
    "def printMedication(c):\n",
    "    print(''.join(medicationByCase[c]))\n",
    "interact(lambda i: printMedication(casesIdx[i]), i = (0, len(casesIdx)))"
   ]
  },
  {
   "cell_type": "code",
   "execution_count": null,
   "metadata": {
    "Collapsed": "false"
   },
   "outputs": [],
   "source": [
    "for c, v in casos.iterrows():\n",
    "    if v.Reingreso:\n",
    "        print(c, v.Reingreso, v.EstadoSalida)"
   ]
  },
  {
   "cell_type": "code",
   "execution_count": null,
   "metadata": {
    "Collapsed": "false"
   },
   "outputs": [],
   "source": [
    "for c, v in proceduresByCase.items():\n",
    "    if c not in casos.index:\n",
    "        print(c)"
   ]
  },
  {
   "cell_type": "markdown",
   "metadata": {
    "Collapsed": "false"
   },
   "source": [
    "# Check for sifilis in diagnosis\n",
    "\n",
    "Check sifilis in analysis section of epicrisis"
   ]
  },
  {
   "cell_type": "code",
   "execution_count": null,
   "metadata": {
    "Collapsed": "false"
   },
   "outputs": [],
   "source": [
    "for i, v in backgroundByCase.items():\n",
    "    #prettyPrintXML(v.iloc[0].RegistroXML)\n",
    "    break"
   ]
  },
  {
   "cell_type": "markdown",
   "metadata": {
    "Collapsed": "false"
   },
   "source": [
    "## Quality check\n",
    "- See how many have epicrisis"
   ]
  },
  {
   "cell_type": "code",
   "execution_count": null,
   "metadata": {
    "Collapsed": "false"
   },
   "outputs": [],
   "source": [
    "findInXML = lambda  s, et: et.find('.//row[@NombreCampo=\"%s\"]' % s).get('ValorCampo')\n",
    "\n",
    "def ProcessRecienNacido(text):\n",
    "    et = ET.fromstring(text)\n",
    "    findInXML = lambda  s: et.find('.//row[@NombreCampo=\"%s\"]' % s).get('ValorCampo')\n",
    "    fecha = findInXML('InputText_FechaHoraNacimiento')\n",
    "    hora = findInXML('ASPxTimeEdit_HoraNacimiento')\n",
    "    EG = findInXML('EdadGestacapuroo')\n",
    "    EG2 = findInXML('InputText_EdadGestacDubowitzModificado')\n",
    "    partoVag = findInXML('TexTarea_PartoVaginal')\n",
    "    partoC = findInXML('TexTarea_PartoCesaria')\n",
    "    APGAR = findInXML('InputText_APGAR')\n",
    "    sexo = findInXML('ASPxComboBox_Sexo')\n",
    "    vivo = findInXML('InputRadio_VM')\n",
    "    #Antrhopometrics\n",
    "    weight = findInXML('InputText_Peso')\n",
    "    height = findInXML('InputText_Talla')\n",
    "    cc = findInXML('InputText_CC')\n",
    "    \n",
    "    #As a check GAPC\n",
    "    G = findInXML('InputText_ObtetricosGestaciones')\n",
    "    A = findInXML('InputText_ObtetricosAbortos')\n",
    "    P = findInXML('InputText_ObtetricosPartos')\n",
    "    C = findInXML('InputText_ObtetricosCesarias')\n",
    "    \n",
    "    #If exposed to sifilis/VIH, it should be here \n",
    "    "
   ]
  },
  {
   "cell_type": "code",
   "execution_count": null,
   "metadata": {
    "Collapsed": "false"
   },
   "outputs": [],
   "source": [
    "len(registros[registros.Asunto == 'Registro del recién nacido'].Caso.unique())"
   ]
  },
  {
   "cell_type": "code",
   "execution_count": null,
   "metadata": {
    "Collapsed": "false"
   },
   "outputs": [],
   "source": [
    "vivos, muertos = 0, 0\n",
    "\n",
    "for k, p in registros[registros.Asunto == 'Registro del recién nacido'].iterrows():\n",
    "    k\n",
    "    et = ET.fromstring(p.RegistroXML)\n",
    "    if findInXML('InputRadio_VM', et) == 'Muerto':\n",
    "        muertos += 1\n",
    "    else:\n",
    "        vivos += 1\n",
    "    if 'desgarros' in p.RegistroXML.lower():\n",
    "        print('found')\n",
    "        break\n",
    "print(vivos, muertos, muertos/(vivos + muertos))"
   ]
  },
  {
   "cell_type": "code",
   "execution_count": null,
   "metadata": {
    "Collapsed": "false"
   },
   "outputs": [],
   "source": [
    "import re\n",
    "pos = []\n",
    "for p, k in backgroundByCase.items():\n",
    "    try:\n",
    "        xmlET = ET.fromstring(k.iloc[0].RegistroXML)\n",
    "        evoluciones = cleanString(xmlET.find('.//row[@NombreCampo=\"Evoluciones\"]').get('ValorCampo').upper())\n",
    "\n",
    "        if re.search('VDRL (REACT|POS)', evoluciones):\n",
    "            pos.append(k)\n",
    "    except:\n",
    "        print('No epicrisis', p)"
   ]
  },
  {
   "cell_type": "code",
   "execution_count": null,
   "metadata": {
    "Collapsed": "false"
   },
   "outputs": [],
   "source": [
    "for n in pos:\n",
    "    if n.iloc[0].Caso not in patientsWithPeniciline:\n",
    "        print(n.iloc[0].Caso)\n",
    "        if n.iloc[0].Caso == 'AD362770':\n",
    "            break"
   ]
  },
  {
   "cell_type": "markdown",
   "metadata": {
    "Collapsed": "false"
   },
   "source": [
    "## Some of the ones with sifilis reactive are without penilicine\n",
    "\n",
    "Probably some of the ones with previous treated sifilis"
   ]
  },
  {
   "cell_type": "code",
   "execution_count": null,
   "metadata": {
    "Collapsed": "false"
   },
   "outputs": [],
   "source": [
    "alta = 0\n",
    "noAlta = 0\n",
    "for k, b in backgroundByCase.items():\n",
    "    if len(b) == 0:\n",
    "        continue\n",
    "    if all(b.AltaMedica):\n",
    "        alta += 1\n",
    "    else: \n",
    "        noAlta += 1\n",
    "print(alta, noAlta)"
   ]
  },
  {
   "cell_type": "code",
   "execution_count": null,
   "metadata": {
    "Collapsed": "false"
   },
   "outputs": [],
   "source": [
    "b.columns"
   ]
  },
  {
   "cell_type": "code",
   "execution_count": null,
   "metadata": {
    "Collapsed": "false"
   },
   "outputs": [],
   "source": [
    "def caseToBackground(case, backgroundByCase):\n",
    "    p = backgroundByCase[case]\n",
    "    if len(p) != 0:  \n",
    "        text = p.iloc[0].RegistroXML\n",
    "    #prettyPrintXML(text)\n",
    "    r = list(filter(\n",
    "        lambda S: S.attrib ['NombreCampo'] == \"AntecedentesHTML\" or S.attrib['NombreCampo'] == 'AntecedentesPersonales',\n",
    "        ET.fromstring(text).findall('row')))\n",
    "    text = remove_diacritics(pars.unescape(r[0].attrib['ValorCampo']))\n",
    "    return text"
   ]
  },
  {
   "cell_type": "code",
   "execution_count": null,
   "metadata": {
    "Collapsed": "false"
   },
   "outputs": [],
   "source": [
    "case, _, _ = list(interventionToCase.values())[423]\n",
    "print(case)\n",
    "p = backgroundByCase[case]\n",
    "if len(p) != 0:  \n",
    "    text = p.iloc[0].RegistroXML\n",
    "    #prettyPrintXML(text)\n",
    "    r = list(filter(\n",
    "        lambda S: S.attrib ['NombreCampo'] == \"AntecedentesHTML\" or S.attrib['NombreCampo'] == 'AntecedentesPersonales',\n",
    "        ET.fromstring(text).findall('row')))\n",
    "    textClean = remove_diacritics(pars.unescape(r[0].attrib['ValorCampo']))\n",
    "    print(textClean)\n",
    "else:\n",
    "    print('Error')"
   ]
  },
  {
   "cell_type": "markdown",
   "metadata": {
    "Collapsed": "false"
   },
   "source": [
    "# Background\n",
    "\n",
    "Check from the yes / no form. \n",
    "\n",
    "The ones that have, try to get the most common. The rest note for manual"
   ]
  },
  {
   "cell_type": "code",
   "execution_count": null,
   "metadata": {
    "Collapsed": "false"
   },
   "outputs": [],
   "source": [
    "registersByCase\n",
    "for i, (case, _, _) in interventionToCase.items():\n",
    "    r = registersByCase.get_group(case)\n",
    "    r = r[r.Asunto.str.contains('Ingreso de Urgencias') == True]\n",
    "    if len(r) == 0:\n",
    "        continue\n",
    "        \n",
    "    et = ET.fromstring(r.iloc[0].RegistroXML)\n",
    "    findInXML('aFarmacologicos', et) == \"true\"\n",
    "    findInXML('aGinecoObstetrico', et)  == \"true\"\n",
    "    findInXML('aHospitalarios', et)  == \"true\"\n",
    "    findInXML('aTraumaticos', et)  == \"true\"\n",
    "    if findInXML('aPatologicos', et)  == \"true\":\n",
    "        break\n",
    "    findInXML('aQuirurgicos', et)  == \"true\"\n",
    "    findInXML('aToxico', et)  == \"true\"\n",
    "    findInXML('aTranfusionales', et)  == \"true\"\n",
    "    \n"
   ]
  },
  {
   "cell_type": "code",
   "execution_count": null,
   "metadata": {
    "Collapsed": "false"
   },
   "outputs": [],
   "source": [
    "findInXMLnd('aFarmacologicos', et) == \"true\"\n",
    "findInXMLnd('aGinecoObstetrico', et)  == \"true\"\n",
    "findInXMLnd('aHospitalarios', et)  == \"true\"\n",
    "findInXMLnd('aTraumaticos', et)  == \"true\"\n",
    "findInXMLnd('aPatologicos', et)  == \"true\"\n",
    "findInXMLnd('aQuirurgicos', et)  == \"true\"\n",
    "findInXMLnd('aToxico', et)  == \"true\"\n",
    "findInXMLnd('aTranfusionales', et)  == \"true\""
   ]
  },
  {
   "cell_type": "code",
   "execution_count": null,
   "metadata": {
    "Collapsed": "false"
   },
   "outputs": [],
   "source": [
    "prettyPrintXML(registros[(registros.Caso == case) & registros.Asunto.str.contains('Ingreso de Urgencias')].iloc[0].RegistroXML)"
   ]
  },
  {
   "cell_type": "markdown",
   "metadata": {
    "Collapsed": "false"
   },
   "source": [
    "# Paraclinics and background familiar\n",
    "\n",
    "- From the antecedentes? There are many without anything in the venezuelans. Are hey applied during labour?\n",
    "- Much variability -> need to clean manually, but it might be too costly\n",
    "\n",
    "See what are the tests done (in orders, and the medication)"
   ]
  },
  {
   "cell_type": "code",
   "execution_count": null,
   "metadata": {
    "Collapsed": "false"
   },
   "outputs": [],
   "source": [
    "#Parse paraclinics\n",
    "#VIH\n",
    "#VDRL -\n",
    "# PRUEBA RAPIDA DE SIFILIS\n",
    "i = 0\n",
    "resultsParaclinics = {}\n",
    "for (case, _, _) in interventionToCase.values():\n",
    "    p = backgroundByCase[case]\n",
    "    if len(p) == 0:\n",
    "        continue\n",
    "    text = p.iloc[0].RegistroXML\n",
    "    #prettyPrintXML(text)\n",
    "    r = list(filter(\n",
    "        lambda S: S.attrib ['NombreCampo'] == \"AntecedentesHTML\" or S.attrib['NombreCampo'] == 'AntecedentesPersonales',\n",
    "        ET.fromstring(text).findall('row')))\n",
    "    if len(r) == 0:\n",
    "        continue\n",
    "    text = cleanString(remove_diacritics(pars.unescape(r[0].attrib['ValorCampo']))).lower()\n",
    "    vdrl = re.findall('vdrl (no r|neg|pos|react|\\+)', text)\n",
    "    rpr = re.findall('rpr (no r|neg|pos|react|\\+)', text)   \n",
    "    vih = re.findall('vih (no r|neg|pos|react|\\+)', text)         \n",
    "    resultsParaclinics[case] = {'VIH': 'vih' in text, 'VDRL' : 'vdrl' in text, \n",
    "                                'PARACLINICOS' :  'paraclinicos' in text, \n",
    "                                'SIF' : 'PRUEBA RAPIDA DE SIFILIS' in text}\n",
    "    resultsParaclinics[case]['vdrlRes'] = len(vdrl) > 0 \n",
    "    resultsParaclinics[case]['rprRes'] = len(rpr) > 0 \n",
    "    resultsParaclinics[case]['vihRes'] = len(vih) > 0\n",
    "    if not vdrl and 'vdrl' in text:\n",
    "        print(text)\n",
    "        i += 1\n",
    "        if i == 5:\n",
    "            break"
   ]
  },
  {
   "cell_type": "code",
   "execution_count": null,
   "metadata": {
    "Collapsed": "false"
   },
   "outputs": [],
   "source": [
    "resultsParaclinicsDF = pandas.DataFrame.from_dict(resultsParaclinics, orient = 'index')\n",
    "resultsParaclinicsDF.sum(), len(resultsParaclinicsDF)"
   ]
  },
  {
   "cell_type": "code",
   "execution_count": null,
   "metadata": {
    "Collapsed": "false"
   },
   "outputs": [],
   "source": []
  },
  {
   "cell_type": "code",
   "execution_count": null,
   "metadata": {
    "Collapsed": "false"
   },
   "outputs": [],
   "source": [
    "def parseAntecedentes(t):\n",
    "    t = t.upper()\n",
    "    antecedentes = []\n",
    "    negative = ['NO', 'NIEG', 'SIN DATOS', 'NEGATIVO', 'NO REFIERE', 'SIN']\n",
    "    if 'HIPERTEN' in t or 'HTA' in t:\n",
    "        antecedentes.append('HTA')\n",
    "    if any([n in t for n in negative]):\n",
    "        antecedentes.append('None')\n",
    "    if 'DIAB' in t or 'DM' in t:\n",
    "        antecedentes.append('Diabetes')\n",
    "    if 'ASMA' in t:\n",
    "        antecedentes.append('Asma')\n",
    "    if 'CARDIO' in t:\n",
    "        antecedentes.append('Cardo')\n",
    "    if 'ECLAMP' in t and 'PRE' in t: \n",
    "        antecedentes.append('Preeclampsia')\n",
    "    elif 'ECLAMP' in t and :\n",
    "        antecedentes.append('Eclampsia')\n",
    "\n",
    "    return antecedentes"
   ]
  },
  {
   "cell_type": "code",
   "execution_count": null,
   "metadata": {
    "Collapsed": "false"
   },
   "outputs": [],
   "source": [
    "j  = 0\n",
    "noFam, noPara = 0, 0\n",
    "fam = {}\n",
    "para = {}\n",
    "for k, r in paraclinics.iterrows(): \n",
    "    text = caseToBackground(k, backgroundByCase)\n",
    "    paraclinicos = re.findall('PARACLINICOS(.*)FAMILIARES', text, re.DOTALL)\n",
    "    familiares = re.findall('FAMILIARES(.*)ALERGICOS', text, re.DOTALL)\n",
    "    if not paraclinicos:\n",
    "        noPara += 1\n",
    "    else: \n",
    "        \n",
    "    else:\n",
    "        para[k] = cleanString(paraclinicos[0])\n",
    "    if not familiares:\n",
    "        noFam += 1\n",
    "    else:\n",
    "        print(cleanString(familiares[0]))\n",
    "        fam[k] = parseAntecedentes(cleanString(familiares[0]))\n",
    "print(noFam, noPara, len(paraclinics))"
   ]
  },
  {
   "cell_type": "code",
   "execution_count": null,
   "metadata": {
    "Collapsed": "false"
   },
   "outputs": [],
   "source": [
    "for c in any.values():\n",
    "    print(c)"
   ]
  },
  {
   "cell_type": "markdown",
   "metadata": {
    "Collapsed": "false"
   },
   "source": [
    "# Echographies:\n",
    "\n",
    "- There is a lot of variability that makes it difficult to get all of them.\n",
    "- In most cases I should be able to get at least one.\n",
    "- Do-able: GA. If there is something more, do it manually"
   ]
  },
  {
   "cell_type": "code",
   "execution_count": null,
   "metadata": {
    "Collapsed": "false"
   },
   "outputs": [],
   "source": [
    "noEchos = ['no trae ecografia', 'ni ecografia']"
   ]
  },
  {
   "cell_type": "code",
   "execution_count": null,
   "metadata": {
    "Collapsed": "false"
   },
   "outputs": [],
   "source": [
    "\n",
    "embarazo = ['embarazo de', 'emb de', 'embarazo', 'emb', 'QUE REPORTA EMBARAZO DE']\n",
    "query = 'Ecografi[a]?[s]?' + sep +  '(' + sep +  date + sep + '(?:%s)' % '|'.join(embarazo) + blanks + '(%s)' % floatParse  + blanks + semanas \\\n",
    "+ blanks  + '(:?'+ paraHoy + floatParse +  ')?' + ')+'\n",
    "re.findall(query, text, re.IGNORECASE)"
   ]
  },
  {
   "cell_type": "code",
   "execution_count": null,
   "metadata": {
    "Collapsed": "false"
   },
   "outputs": [],
   "source": [
    "blanks = '\\s*'\n",
    "paraHoyPossibilities = ['Para hoy', 'hoy', 'a hoy', 'para el dia de hoy']\n",
    "paraHoy = '(?:%s)' % '|'.join(paraHoyPossibilities)\n",
    "semanas = '(?:%s)' % '|'.join(['semanas', 'sem', 'sems'])\n",
    "\n",
    "echoLine =  sep +  date +  sep + '(?:%s)' % '|'.join(embarazo) + blanks + '(' + '(%s)' % floatParse  + blanks + semanas  + '[,]?'\\\n",
    "+ blanks + paraHoy + blanks + floatParse + blanks + '(:?%s)?' % semanas + ')?'\n",
    "\n",
    "queryEchos = '(Eco[g]?[r]?[a]?[f]?[i]?[a]?[s]?' + sep +  '(' + echoLine  + ')+)'\n",
    "def searchEchos(text):\n",
    "    for t in re.findall(query, text, re.IGNORECASE):\n",
    "        print(t)\n",
    "    #TODO: afterwards parse all echographies from the result"
   ]
  },
  {
   "cell_type": "code",
   "execution_count": null,
   "metadata": {
    "Collapsed": "false"
   },
   "outputs": [],
   "source": [
    "from ipywidgets import interact, interactive, fixed, interact_manual\n",
    "import ipywidgets as widgets\n"
   ]
  },
  {
   "cell_type": "code",
   "execution_count": null,
   "metadata": {
    "Collapsed": "false"
   },
   "outputs": [],
   "source": [
    "backgroundByCase['AD301211'] = getBackgroundRegister(case, registersByPatient.get_group(pId))"
   ]
  },
  {
   "cell_type": "code",
   "execution_count": null,
   "metadata": {
    "Collapsed": "false"
   },
   "outputs": [],
   "source": [
    "registros[registros.NumeroHistoria == 216835]"
   ]
  },
  {
   "cell_type": "code",
   "execution_count": null,
   "metadata": {
    "Collapsed": "false"
   },
   "outputs": [],
   "source": [
    "#TODO: check that operation and diagnosis are compatible."
   ]
  },
  {
   "cell_type": "code",
   "execution_count": null,
   "metadata": {
    "Collapsed": "false"
   },
   "outputs": [],
   "source": [
    "getprocID(i.XmlDescripcion)\n",
    "for k,c in interventionToCase[k].iterrows():\n",
    "    prettyPrintXML(c.RegistroXML)"
   ]
  },
  {
   "cell_type": "markdown",
   "metadata": {
    "Collapsed": "false"
   },
   "source": [
    "# Patient information"
   ]
  },
  {
   "cell_type": "code",
   "execution_count": null,
   "metadata": {
    "Collapsed": "false"
   },
   "outputs": [],
   "source": [
    "def getDataFromPatient(p):\n",
    "    \"\"\"\n",
    "    Get the patient data\n",
    "    \"\"\"\n",
    "    r = {}\n",
    "    r['id'] = r.Identificacion\n",
    "    r['marital'] = p.EstadoCivil\n",
    "    r['etnia'] = p.Etnia #Map from id to string\n",
    "    r['estudios'] = p.Escolaridad #Map from id to string\n",
    "    r['nacimiento'] = p.FechaNac #Map from id to string\n",
    "    r['sangre'] = p.Sangre #Map from id to string"
   ]
  },
  {
   "cell_type": "markdown",
   "metadata": {
    "Collapsed": "false"
   },
   "source": [
    "# Classify intervention"
   ]
  },
  {
   "cell_type": "code",
   "execution_count": null,
   "metadata": {
    "Collapsed": "false"
   },
   "outputs": [],
   "source": [
    "for c, v in interventionToCase.items():\n",
    "    interventionID = getProcFromXMLString(procedimientos.loc[c].XmlDescripcion)\n",
    "    break"
   ]
  },
  {
   "cell_type": "markdown",
   "metadata": {
    "Collapsed": "false"
   },
   "source": [
    "# New born information and birth\n",
    "\n",
    "- New born anthropometrics\n",
    "- Birth details (quirurgic)\n",
    "- Life  /dead, and also of the mum\n",
    "- Whether there was a single one, or many\n",
    "- C- section"
   ]
  },
  {
   "cell_type": "code",
   "execution_count": null,
   "metadata": {
    "Collapsed": "false"
   },
   "outputs": [],
   "source": [
    "for c, v in classificationProcedures.items():\n",
    "    if v == 'a':\n",
    "        print(c)"
   ]
  },
  {
   "cell_type": "code",
   "execution_count": null,
   "metadata": {
    "Collapsed": "false"
   },
   "outputs": [],
   "source": [
    "classificationProcedures = {'H0165': 'o', 'H0193': 'o', 'H2120': 'o', 'H2379': 'o', 'H2383': 'o', 'H2386': 'o', 'H2407': 'o', 'H2415': 'o', 'H2595': 'o', 'H2684': 'o', 'H2849': 'o', 'H2852': 'o', 'H2880': 'o', 'H2882': 'o', 'H2884': 'o', 'H2892': 'o', 'H2901': 'o', 'H2904': 'o', 'H2910': 'o', 'H2916': 'o', 'H2959': 'o', 'H2963': 'o', 'H2974': 'a', 'H2975': 'a', 'H3038': 'o', 'H3065': 'o', 'H3066': 'o', 'H3078': 'o', 'H3089': 'p', 'H3092': 'p', 'H3094': 'p', 'H3099': 'a', 'H3100': 'a', 'H3108': 'o', 'H3109': 'o', 'H3111': 'o', 'H3114': 'o', 'H3118': 'o', 'H4421': 'o', 'H4494': 'o', 'H4496': 'o', 'HE020': 'o'}"
   ]
  },
  {
   "cell_type": "code",
   "execution_count": null,
   "metadata": {
    "Collapsed": "false"
   },
   "outputs": [],
   "source": [
    "def findDesgarros(text):\n",
    "    text = text.replace(' de ', ' ').replace(' se ', ' ')\n",
    "    \n",
    "    removeWords = ['lateral', 'izquierda', 'derecha', 'superior', 'inferior', 'medial']\n",
    "    for w in removeWords:\n",
    "        text = text.replace(' %s ' % w, ' ')\n",
    "\n",
    "    #Perdida de sangre\n",
    "    bloodLost = re.findall('perdida estimada sangre(?::)? ([0-9]+) (?:cc|ml)', text)\n",
    "    ver = '(?:eviden[a-z]*|observ[a-z]*|vis[a-z]*|encont[a-z]*|presen[a-z]*)'   #diferentes manaeras de escribir ver\n",
    "    negative = ['(?:sin|no) (?:%s )?desgar' % ver]\n",
    "    positive = 'desgar[a-z]* (?:[a-z]* |(:?pared )?vag[a-z]* )?(?:sangr[a-z]* |no sangrant[a-z]* )?grado (i|ii|ii|1|2|3)'\n",
    "    positiveUnidentified = '(?:%s )?desgar' % ver\n",
    "\n",
    "    if re.findall('(%s)' % '|'.join(negative), text) or ('desgarro' not in text): #and 'sin complicaciones' in text):\n",
    "        desgarro = 'no'\n",
    "    elif re.findall(positive, text):\n",
    "        desgarro = 'yes', re.findall(positive, text)\n",
    "    elif re.findall(positiveUnidentified, text):\n",
    "        desgarro = 'yes-NoGrade' + text\n",
    "    else:\n",
    "        desgarro = text\n",
    "    return bloodLost, desgarro"
   ]
  },
  {
   "cell_type": "code",
   "execution_count": null,
   "metadata": {
    "Collapsed": "false"
   },
   "outputs": [],
   "source": [
    "wrongParse = 0\n",
    "for c,v in interventionToCase.items():\n",
    "    xmlDesc = procedimientos.loc[c].XmlDescripcion\n",
    "    idProc = getProcFromXMLString(procedimientos.loc[c].XmlDescripcion)\n",
    "    if classificationProcedures[idProc] == 'p':\n",
    "        et = ET.fromstring(xmlDesc)\n",
    "        r=  findDesgarros(remove_diacritics(cleanString(et.find('detalle/procedimientos/procedimiento/descripcion').text.lower())))\n",
    "        wrongParse += r[1] not in ['yes', 'no', 'yes-NoGrade']\n",
    "        if r[1]  not in ['yes', 'no', 'yes-NoGrade']:\n",
    "            print (r[1])\n",
    "        casos = registersByCase.get_group(v[0])[registersByCase.get_group(v[0]).Asunto.str.contains('ALTA') == True]\n",
    "        if len(casos):\n",
    "            alta += 1\n",
    "        else:\n",
    "            noAlta += 1\n",
    "            \n",
    "        #Search for egreso \n",
    "        break"
   ]
  },
  {
   "cell_type": "code",
   "execution_count": null,
   "metadata": {
    "Collapsed": "false"
   },
   "outputs": [],
   "source": [
    "registersByCase.get_group(v[0])"
   ]
  },
  {
   "cell_type": "code",
   "execution_count": null,
   "metadata": {
    "Collapsed": "false"
   },
   "outputs": [],
   "source": [
    "print(registros.loc[661905].Asunto)\n",
    "prettyPrintXML(registros.loc[661905].RegistroXML)\n"
   ]
  },
  {
   "cell_type": "code",
   "execution_count": null,
   "metadata": {
    "Collapsed": "false"
   },
   "outputs": [],
   "source": [
    "registersByCase.get_group(v[0])"
   ]
  },
  {
   "cell_type": "code",
   "execution_count": null,
   "metadata": {
    "Collapsed": "false"
   },
   "outputs": [],
   "source": [
    "prettyPrintXML(casos.iloc[0].RegistroXML)"
   ]
  },
  {
   "cell_type": "markdown",
   "metadata": {
    "Collapsed": "false"
   },
   "source": [
    "# Abortion"
   ]
  },
  {
   "cell_type": "code",
   "execution_count": null,
   "metadata": {
    "Collapsed": "false"
   },
   "outputs": [],
   "source": [
    "getProcFromXMLString(procedimientos.loc[17640].XmlDescripcion)"
   ]
  },
  {
   "cell_type": "code",
   "execution_count": null,
   "metadata": {
    "Collapsed": "false"
   },
   "outputs": [],
   "source": [
    "procedimientos.loc[17640]"
   ]
  },
  {
   "cell_type": "markdown",
   "metadata": {
    "Collapsed": "false"
   },
   "source": [
    "# Leaving the hospital\n",
    "Search when they left the hospital, and in which state"
   ]
  },
  {
   "cell_type": "code",
   "execution_count": null,
   "metadata": {
    "Collapsed": "false"
   },
   "outputs": [],
   "source": [
    "import collections\n",
    "\n",
    "def getInfoDischarge(r):\n",
    "    et =ET.fromstring(r.RegistroXML)\n",
    "    txt = cleanString(remove_diacritics(pars.unescape(findInXML('DescripcionNota', et)))).lower()\n",
    "    peso = re.findall('pes[a-z]*\\s+(%s)' % floatParse, txt)\n",
    "    fecha = r.FechaAsignacionRegistro\n",
    "    return\n",
    "    #print(peso, fecha)\n",
    "    if 'alta voluntaria' in txt:\n",
    "        print('alta voluntaria')\n",
    "    if 'cuidados intermedios' in txt:\n",
    "        print('cuidados intermedios')\n",
    "    elif 'cuidados basicos' in txt:\n",
    "        print('cuidados basicos')\n",
    "    elif 'alojamiento conjunto'in txt:\n",
    "        print('alojamiento conjunto')\n",
    "    elif 'alta medica'  in txt or 'alta hospitalaria' in txt:\n",
    "        print('alta medica')\n",
    "    else:\n",
    "        print(txt)\n",
    "    \n",
    "def getPatient(c, registros):\n",
    "    \"\"\"\n",
    "    Gets whether the record is of the mother or the newborn\n",
    "    \n",
    "    TODO: double check\n",
    "    \"\"\"\n",
    "    asunto = remove_diacritics(str(c.Asunto)).lower()\n",
    "    if 'neonato' in asunto or 'nacido' in asunto: \n",
    "        return  'neonato'\n",
    "    elif 'Registro del recién nacido' == registros.loc[int(c.Padre)].Asunto:\n",
    "        return  'neonato'\n",
    "    else:\n",
    "        return 'madre'\n",
    "    \n",
    "def isDischarge(c, registros):\n",
    "    \"\"\"\n",
    "    Returns if there has been a discharge, and if it was of the mother or childs.\n",
    "    \"\"\"\n",
    "    asunto = remove_diacritics(str(c.Asunto)).lower()\n",
    "    posibilities = ['alta', 'salida', 'egreso', 'remision', 'traslado']\n",
    "    if not any([ p in asunto for p in posibilities]):\n",
    "        return False, _\n",
    "    else:\n",
    "        getInfoDischarge(c)\n",
    "    \n",
    "        if 'neonato' in asunto: \n",
    "            return True, 'neonato'\n",
    "        elif 'Registro del recién nacido' == registros.loc[int(c.Padre)].Asunto:\n",
    "            return True, 'neonato'\n",
    "        else:\n",
    "            return True, 'madre'"
   ]
  },
  {
   "cell_type": "code",
   "execution_count": null,
   "metadata": {
    "Collapsed": "false"
   },
   "outputs": [],
   "source": [
    "\"\"\"\n",
    "Assumes that the procedure is \n",
    "\n",
    "TODO:\n",
    "- twins\n",
    "\"\"\"\n",
    "caseToProcedure = {v[0] : k for  k,v in interventionToCase.items()}\n",
    "\n",
    "\n",
    "import collections\n",
    "discharges = collections.defaultdict(list)\n",
    "for c, proc in tqdm.tqdm_notebook(caseToProcedure.items()):\n",
    "    idProc = getProcFromXMLString(procedimientos.loc[proc].XmlDescripcion)\n",
    "    if classificationProcedures[idProc] != 'p':\n",
    "        continue\n",
    "    epi = getBackgroundRegister(c, registersByCase.get_group(c))\n",
    "    prettyPrintXML(epi[0].iloc[0].RegistroXML)\n",
    "    et = ET.fromstring(epi[0].iloc[0].RegistroXML)\n",
    "    egresoMadre = findInXML('FechaEgreso', et)\n",
    "    break\n",
    "    r =  registersByCase.get_group(c)\n",
    "    motherDischarge = False\n",
    "    newBornDischarge = 0\n",
    "    for id, v in r.iterrows():\n",
    "        try:\n",
    "            discharge, patient = isDischarge(v, registros)\n",
    "            if discharge:\n",
    "                discharges[c].append(v)\n",
    "                if patient == 'mother':\n",
    "                    motherDischarge = True\n",
    "                else:\n",
    "                    newBornDischarge += 1\n",
    "        except Exception as e:\n",
    "            print(e)\n",
    "            print('error')\n",
    "            pass\n",
    "    # If discharge was not found, then get the last evolution, for both the mother and the newborn\n",
    "    if motherDischarge == False:\n",
    "        r[r.Asunto.map(lambda s: str(s).lower().contains('evol'))].sort_values(by=['FechaAsignacionRegistro'])\n",
    "    \n",
    "    if not c in discharges:\n",
    "        print(c)"
   ]
  },
  {
   "cell_type": "code",
   "execution_count": null,
   "metadata": {
    "Collapsed": "false"
   },
   "outputs": [],
   "source": [
    "p"
   ]
  },
  {
   "cell_type": "code",
   "execution_count": null,
   "metadata": {
    "Collapsed": "false"
   },
   "outputs": [],
   "source": [
    "\n",
    "findInXML('FechaEgreso', et = ET.fromstring(registros.loc[1350618, 'RegistroXML']))"
   ]
  },
  {
   "cell_type": "code",
   "execution_count": null,
   "metadata": {
    "Collapsed": "false"
   },
   "outputs": [],
   "source": [
    "prettyPrintXML(registros.loc[1350618, 'RegistroXML'])"
   ]
  },
  {
   "cell_type": "code",
   "execution_count": null,
   "metadata": {
    "Collapsed": "false"
   },
   "outputs": [],
   "source": [
    "registros[registros.Caso == 'AD364505']"
   ]
  },
  {
   "cell_type": "code",
   "execution_count": null,
   "metadata": {
    "Collapsed": "false"
   },
   "outputs": [],
   "source": [
    "for c,v in interventionToCase.items():\n",
    "    xmlDesc = procedimientos.loc[c].XmlDescripcion\n",
    "    idProc = getProcFromXMLString(procedimientos.loc[c].XmlDescripcion)\n",
    "    if classificationProcedures[idProc] == 'p':\n",
    "        print(v[0])\n",
    "        r = registersByCase.get_group(v[0])\n",
    "        [registersByCase.get_group(v[0]).Asunto.map(lambda s: remove_diacritics(str(s)).lower()).str.contains('salida recien')==True]\n",
    "        print(registersByCase.get_group(v[0]))\n",
    "        break"
   ]
  },
  {
   "cell_type": "code",
   "execution_count": null,
   "metadata": {
    "Collapsed": "false"
   },
   "outputs": [],
   "source": [
    "noAlta = 0\n",
    "for c, r in registersByCase.groups.items():\n",
    "    if c in caseToProcedure and \\\n",
    "        classificationProcedures[getProcFromXMLString(procedimientos.loc[caseToProcedure[c], 'XmlDescripcion'])] == 'p':\n",
    "        \n",
    "        caseToProcedure[c]\n",
    "        r = registersByCase.get_group(c)[registersByCase.get_group(c).Asunto.str.contains('ALTA')==True]\n",
    "        r2 = registersByCase.get_group(c)[registersByCase.get_group(c).Asunto.str.contains('REMISION A CUIDADOS BASICOS')==True]\n",
    "        r3 = registersByCase.get_group(c)[registersByCase.get_group(c).Asunto.str.contains('CUIDADOS INTERMEDIOS')==True]\n",
    "        \n",
    "        if len(r) == 0 and len(r2) == 0 and len(r3) == 0:\n",
    "            #Try fecha egreso\n",
    "            for c, k in registersByCase.get_group(c).iterrows():\n",
    "                egreso = findInXML('FechaEgreso', ET.fromstring(k.RegistroXML))\n",
    "                if egreso:\n",
    "                    print('Found', egreso, findInXML('DestinoPaciente', ET.fromstring(k.RegistroXML)), findInXML('EstadoSalida', ET.fromstring(k.RegistroXML)))\n",
    "                    print(c, k.Asunto)\n",
    "                    break\n",
    "            else:\n",
    "                noAlta += 1\n",
    "            "
   ]
  },
  {
   "cell_type": "code",
   "execution_count": null,
   "metadata": {
    "Collapsed": "false"
   },
   "outputs": [],
   "source": [
    "noAlta"
   ]
  },
  {
   "cell_type": "code",
   "execution_count": null,
   "metadata": {
    "Collapsed": "false"
   },
   "outputs": [],
   "source": [
    "prettyPrintXML(registros.loc[886499].RegistroXML)"
   ]
  },
  {
   "cell_type": "code",
   "execution_count": null,
   "metadata": {
    "Collapsed": "false"
   },
   "outputs": [],
   "source": [
    "c"
   ]
  },
  {
   "cell_type": "markdown",
   "metadata": {
    "Collapsed": "false"
   },
   "source": [
    "# Detect other factors"
   ]
  },
  {
   "cell_type": "code",
   "execution_count": null,
   "metadata": {
    "Collapsed": "false"
   },
   "outputs": [],
   "source": []
  }
 ],
 "metadata": {
  "kernelspec": {
   "display_name": "Python 3",
   "language": "python",
   "name": "python3"
  },
  "language_info": {
   "codemirror_mode": {
    "name": "ipython",
    "version": 3
   },
   "file_extension": ".py",
   "mimetype": "text/x-python",
   "name": "python",
   "nbconvert_exporter": "python",
   "pygments_lexer": "ipython3",
   "version": "3.7.1"
  }
 },
 "nbformat": 4,
 "nbformat_minor": 4
}
