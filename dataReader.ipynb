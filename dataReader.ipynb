{
 "cells": [
  {
   "cell_type": "code",
   "execution_count": 1,
   "metadata": {
    "Collapsed": "false"
   },
   "outputs": [],
   "source": [
    "import pandas, numpy as np,re\n",
    "import xml, itertools, re, xml.etree.ElementTree as ET\n",
    "from html.parser import HTMLParser\n",
    "import datetime, tqdm\n",
    "pars =HTMLParser()\n",
    "\n",
    "def prettyPrintXML(s):\n",
    "    r = xml.dom.minidom.parseString(s) #r.RegistroXML)\n",
    "    print(r.toprettyxml())\n",
    "    \n",
    "#from datetime import datetime as dt\n",
    "#import locale\n",
    "#locale.setlocale(locale.LC_ALL, 'es_es')\n",
    "#spanishDateToPandas = lambda s: pandas.to_datetime(dt.strptime(s, '%d %b %Y %H:%M:%S'))"
   ]
  },
  {
   "cell_type": "markdown",
   "metadata": {
    "Collapsed": "false"
   },
   "source": [
    "# Data reading and basic cleaning\n",
    "\n",
    "- Find candidates of repeated pateints\n",
    "- Find the used codes for diagnosis and procedures"
   ]
  },
  {
   "cell_type": "code",
   "execution_count": 2,
   "metadata": {
    "Collapsed": "false"
   },
   "outputs": [
    {
     "name": "stderr",
     "output_type": "stream",
     "text": [
      "C:\\Users\\CMRC\\Miniconda3\\lib\\site-packages\\IPython\\core\\interactiveshell.py:3063: DtypeWarning: Columns (6,27,55) have mixed types.Specify dtype option on import or set low_memory=False.\n",
      "  interactivity=interactivity, compiler=compiler, result=result)\n",
      "C:\\Users\\CMRC\\Miniconda3\\lib\\site-packages\\IPython\\core\\interactiveshell.py:3063: DtypeWarning: Columns (19) have mixed types.Specify dtype option on import or set low_memory=False.\n",
      "  interactivity=interactivity, compiler=compiler, result=result)\n"
     ]
    }
   ],
   "source": [
    "casos = pandas.read_csv('Venezolanas/casos.csv', index_col = 0)\n",
    "pacientes = pandas.read_csv('Venezolanas/pacientes.csv', index_col = 0)\n",
    "registros = pandas.read_csv('Venezolanas/registros.csv', index_col = 0)\n",
    "diagnosis = pandas.read_csv('Venezolanas/diagnosis.csv', index_col = 0)\n",
    "procedimientos = pandas.read_csv('Venezolanas/procedimientos.csv', index_col = 0)\n",
    "procedimientosDesc = pandas.read_csv('Venezolanas/procedimientosID.csv', index_col = 0)\n",
    "\n",
    "#str2Date = lambda s:datetime.datetime.strptime(s, '%Y-%m-%d %H:%M:%S.%f') if isinstance(s, str) \\\n",
    "#           else datetime.datetime(1, 1, 1)\n",
    "registros.FechaInicioAtencion = registros.FechaInicioAtencion.map(pandas.to_datetime) #registros.FechaInicioAtencion.map(str2Date)\n",
    "procedimientos.FechaDescripcion  = procedimientos.FechaDescripcion.map(pandas.to_datetime)\n",
    "from html.parser import HTMLParser\n",
    "pars =HTMLParser()\n",
    "#pars.unescape"
   ]
  },
  {
   "cell_type": "code",
   "execution_count": 7,
   "metadata": {
    "Collapsed": "false"
   },
   "outputs": [],
   "source": [
    "procedureIDFound = set()\n",
    "for _, p in procedimientos.iterrows():\n",
    "    et = xml.etree.ElementTree.fromstring(p.XmlDescripcion)\n",
    "    s = re.findall('<idProcedimiento>([a-zA-Z0-9]*)</idProcedimiento>', p.XmlDescripcion)\n",
    "    for ss in s:\n",
    "        procedureIDFound.add(ss)\n",
    "procedureIDFound = list(sorted(procedureIDFound))"
   ]
  },
  {
   "cell_type": "code",
   "execution_count": 8,
   "metadata": {
    "Collapsed": "false"
   },
   "outputs": [],
   "source": [
    "procedimientosDesc.loc[procedureIDFound].to_excel('procedimientosFiltered.xlsx')\n",
    "procedimientosDesc.loc[procedureIDFound].to_csv('procedimientosFiltered.csv')"
   ]
  },
  {
   "cell_type": "code",
   "execution_count": 5,
   "metadata": {
    "Collapsed": "false",
    "scrolled": true
   },
   "outputs": [
    {
     "name": "stdout",
     "output_type": "stream",
     "text": [
      "0800\n"
     ]
    }
   ],
   "source": [
    "unique = registros.Diagnostico.unique()\n",
    "unique = [u for u in unique if isinstance(u, str)]\n",
    "for u in unique:\n",
    "    if u.upper() not in diagnosis.index:\n",
    "        print(u)"
   ]
  },
  {
   "cell_type": "code",
   "execution_count": 9,
   "metadata": {
    "Collapsed": "false"
   },
   "outputs": [],
   "source": [
    "#Check duplicates by birthData\n",
    "def candidateToRepeated(p1, p2):\n",
    "    \"\"\"\n",
    "    Selects as candidate if they were born in the same name:\n",
    "    - they have the same 1st surname\n",
    "    - [TODO] they have similar height (~2cm), as found in the cases\n",
    "    \n",
    "    TODO: beware the case of twins!\n",
    "    \"\"\"\n",
    "    #First surname criterio\n",
    "    if p1[1].Ape1Afil.strip().lower() == p2[1].Ape1Afil.strip().lower():\n",
    "        return True\n",
    "    #TODO: Search height and see it's similar\n",
    "    if False:\n",
    "        return True\n",
    "    #Otherwise return False\n",
    "    return False\n",
    "    \n",
    "\n",
    "#Beware\n",
    "candidates = []\n",
    "threshold = '2010'\n",
    "for c in pacientes.groupby('FechaNac'):\n",
    "    #Arbitrary threshold for separating between mothers and borns\n",
    "    if len(c[1]) >= 2 and c[0][:4] < threshold:\n",
    "        for p1, p2 in itertools.combinations(c[1].iterrows(), r = 2):\n",
    "            if p1[0] != p2[0] and candidateToRepeated(p1, p2):\n",
    "                candidates.append([p1[0], p2[0]])\n",
    "pandas.DataFrame.from_records(candidates).to_csv('repeatedCandidates.csv')"
   ]
  },
  {
   "cell_type": "markdown",
   "metadata": {
    "Collapsed": "false"
   },
   "source": [
    "# Select the cases by procedure\n",
    "\n",
    "- Based on the procedure, select the history register associated.\n",
    "- TODO: Check that diagnosis and procedure are compatible"
   ]
  },
  {
   "cell_type": "code",
   "execution_count": 10,
   "metadata": {
    "Collapsed": "false"
   },
   "outputs": [],
   "source": [
    "registersByPatient = registros.groupby('NumeroHistoria')"
   ]
  },
  {
   "cell_type": "code",
   "execution_count": 21,
   "metadata": {
    "Collapsed": "false"
   },
   "outputs": [],
   "source": [
    "####\n",
    "## Old code, before I discovered the link between case and operations\n",
    "####\n",
    "#getprocID = lambda s:  re.findall('<idProcedimiento>([a-zA-Z0-9]*)</idProcedimiento>', s)[0]\n",
    "#getprocDate = lambda s:  re.findall('<fechaCirugia>(.*)</fechaCirugia>', s)[0]\n",
    "#\n",
    "#def associateCaseAndHistory(interventionId, intervention, registersByPatient, \n",
    "#                            nDaysThreshold = 3,  nDaysUpperThreshold = 0):\n",
    "#    pId = intervention.IdPaciente\n",
    "#    df = registersByPatient.get_group(pId)\n",
    "#    #interventionDate = spanishDateToPandas(getprocDate(intervention.XmlDescripcion))\n",
    "#    interventionDate = pandas.to_datetime(intervention.FechaRegistro.replace('T', ''))\n",
    "#    df = df.loc[df.FechaInicioAtencion.between(interventionDate - pandas.Timedelta(nDaysThreshold, 'D'),\n",
    "#                                      interventionDate +  pandas.Timedelta(nDaysUpperThreshold, 'D'))]\n",
    "#    #Do not count Triage in the cases ID\n",
    "#    caseIds =  [s for s in df.Caso.unique() if not s.startswith('TRI')]\n",
    "#    if len(caseIds) == 0:\n",
    "#        print('Error in intervention %d found %d. Code = %s. Patient = %s' % (interventionId, df.Caso.nunique(),\n",
    "#                                                                getprocID(intervention.XmlDescripcion), intervention.IdPaciente ))\n",
    "#        print(intervention.FechaDescripcion, intervention.FechaRegistro, interventionDate)\n",
    "#        return False\n",
    "#    else:\n",
    "#        return df.loc[df.FechaInicioAtencion == df.FechaInicioAtencion.max()].Caso.values[0]\n",
    "#Identify borns and abortions using the proc ID\n",
    "#interventionToCase = {}\n",
    "#for k, i in tqdm.tqdm_notebook(procedimientos.iterrows()):\n",
    "#    interventionToCase[k] = (associateCaseAndHistory(k, i, registersByPatient), i.IdPaciente)\n"
   ]
  },
  {
   "cell_type": "code",
   "execution_count": 141,
   "metadata": {},
   "outputs": [
    {
     "data": {
      "application/vnd.jupyter.widget-view+json": {
       "model_id": "07f90db5561d4e36bdf5a5754dc8268b",
       "version_major": 2,
       "version_minor": 0
      },
      "text/plain": [
       "HBox(children=(IntProgress(value=1, bar_style='info', max=1), HTML(value='')))"
      ]
     },
     "metadata": {},
     "output_type": "display_data"
    },
    {
     "name": "stdout",
     "output_type": "stream",
     "text": [
      "\n"
     ]
    }
   ],
   "source": [
    "interventionToCase = {}\n",
    "for i,r  in tqdm.tqdm_notebook(registros.iterrows()):\n",
    "    if isinstance(r.RegistroXML, str) and '<row NombreCampo=\"IdDescripcion\"' in r.RegistroXML:\n",
    "        et = ET.fromstring(r.RegistroXML)\n",
    "        idDescripcion = int(et.find('.//row[@NombreCampo=\"IdDescripcion\"]').get('ValorCampo'))\n",
    "        interventionToCase[idDescripcion] = (r.Caso, r.NumeroHistoria, i)"
   ]
  },
  {
   "cell_type": "code",
   "execution_count": 152,
   "metadata": {},
   "outputs": [
    {
     "name": "stdout",
     "output_type": "stream",
     "text": [
      "ERROR: Patient name does not coincides 61066 1356698\n"
     ]
    }
   ],
   "source": [
    "errors = []\n",
    "for i, (_, k, k2) in interventionToCase.items():\n",
    "    if procedimientos.loc[i].IdPaciente != k:\n",
    "        print('ERROR: Patient name does not coincides', i, k2)\n",
    "        errors.append(i)\n",
    "for i in errors:\n",
    "    del interventionToCase[i]"
   ]
  },
  {
   "cell_type": "markdown",
   "metadata": {
    "Collapsed": "false"
   },
   "source": [
    "# Parse information from cases\n",
    "Now we need to parse the information from the cases"
   ]
  },
  {
   "cell_type": "code",
   "execution_count": 154,
   "metadata": {
    "Collapsed": "false"
   },
   "outputs": [],
   "source": [
    "def getStateDataFromCase(case):\n",
    "    \"\"\"\n",
    "    Get some information from the case\n",
    "    \"\"\"\n",
    "    data = {}\n",
    "    r = ET.fromstring(case.RegistroXML)\n",
    "    try:\n",
    "        data['FC']=r.find('.//row[@NombreCampo=\"FrecuenciaCardiaca\"]').get('ValorCampo')\n",
    "        data['FR']=r.find('.//row[@NombreCampo=\"FrecuenciaRespiratoria\"]').get('ValorCampo')\n",
    "        data['Presion']=r.find('.//row[@NombreCampo=\"Presion\"]').get('ValorCampo')\n",
    "        data['Temperatura']=r.find('.//row[@NombreCampo=\"Temperatura\"]').get('ValorCampo')\n",
    "        data['Talla']=r.find('.//row[@NombreCampo=\"Talla\"]').get('ValorCampo')\n",
    "        data['Peso']=r.find('.//row[@NombreCampo=\"Peso\"]').get('ValorCampo')\n",
    "        return data\n",
    "    except:\n",
    "        return {}"
   ]
  },
  {
   "cell_type": "code",
   "execution_count": 155,
   "metadata": {
    "Collapsed": "false"
   },
   "outputs": [],
   "source": [
    "floatParse = '[0-9]*\\.?[0-9]+'\n",
    "compareGPCA = lambda s1, s2: all([i == j or not i or not j for i, j in zip(s1, s2)])\n",
    "allEqual = lambda s: all([compareGPCA(i, j) for i, j in  itertools.combinations(s, r = 2)])\n",
    "sep= '\\s*[,;:]?\\s*'\n",
    " #In some cases there is only G\n",
    "patternGPAC = 'G%s(?P<G>[0-9]+)' %sep + sep + 'P%s(?P<P>[0-9]+)'  %sep + sep + '(?:'\n",
    "patternGPAC += 'A%s(?P<A>[0-9]+)' %sep  + sep + 'C%s(?P<C>[0-9]+)'  %sep\n",
    "patternGPAC += '|'\n",
    "patternGPAC += 'C%s(?P<C2>[0-9]+)' %sep  + sep + 'A%s(?P<A2>[0-9]+)' %sep\n",
    "patternGPAC += '|' # C and A can be missing, or in other order\n",
    "patternGPAC += ')'\n",
    "searchGPAC = re.compile(patternGPAC, flags=0)\n",
    "\n",
    "meses = ['ENERO', 'FEBRERO', 'MARZO', 'ABRIL', 'MAYO', 'JUNIO', 'JULIO', 'AGOSTO', 'SEPTIEMBRE', 'OCTUBRE', 'NOVIEMBRE', 'DICIEMBRE']\n",
    "meses = meses + list(map(lambda s: s[:3], meses))\n",
    "noRecuerda = ['NO', '\\?']\n",
    "separadorFecha = '(?:[\\.\\\\/-]|DE)?'\n",
    "date = '(([0-9]+)'+ sep + separadorFecha + sep + '([0-9]+|%s)'%  '|'.join(meses) + \\\n",
    "                       sep + separadorFecha + sep + '([0-9]+)'\n",
    "\n",
    "searchFUM = re.compile('FUM'+ sep + '(?::|.)?'+ sep + date + '|%s)' % ('|'.join(noRecuerda)), flags = re.IGNORECASE)\n",
    "errors = []\n",
    "def parseGPCA_and_fum(s):\n",
    "    \"\"\"\n",
    "    Gets the GPCA and FUM from the Triage or epicrisis\n",
    "    \n",
    "    TODO: actually, registro del recien nacido has it as a field.\n",
    "    \"\"\"\n",
    "    r = list(filter(lambda S: S.attrib ['NombreCampo'] == \"AntecedentesHTML\" or S.attrib['NombreCampo'] == 'AntecedentesPersonales',ET.fromstring(s).findall('row')))\n",
    "    if len(r) == 0:\n",
    "         return {}\n",
    "    text = pars.unescape(r[0].attrib['ValorCampo'])\n",
    "    \n",
    "    allowedStarts = ['7-&gt;', '-', '- ANTECEDENTES']\n",
    "    line = re.findall('^%s(?:%s)?%s' % (sep, '|'.join(allowedStarts), sep) + 'G' + sep + '[0-9]+.*$', text, re.M)\n",
    "    if len(line) != 1:\n",
    "        #If it doesn't find it, search brutally\n",
    "        search = searchGPAC.findall(s)\n",
    "        searchCleaned = [(s[0], s[1], s[2] + s[-1], s[3] + s[-2]) for s in search]\n",
    "        if search and allEqual(search):\n",
    "            GPCA_OK = True\n",
    "            parsedGPCA = search[0]\n",
    "        else:\n",
    "            GPCA_OK = False\n",
    "            parsedGPCA = []\n",
    "\n",
    "    else:\n",
    "        f = lambda s: s[0] if s else ''\n",
    "        G = f(re.findall('G' + sep + '([0-9]+)', line[0]))\n",
    "        A = f(re.findall('A' + sep + '([0-9]+)', line[0]))\n",
    "        C = f(re.findall('C' + sep + '([0-9]+)', line[0]))\n",
    "        P = f(re.findall('P' + sep + '([0-9]+)', line[0])) \n",
    "        parsedGPCA = [G, P, A, C]\n",
    "        GPCA_OK = True\n",
    "    #Prob athere is a better way...\n",
    "    parsedFUM = searchFUM.findall(s)\n",
    "    return {'fum' : len(parsedFUM) > 0,\n",
    "            'fum_OK' : len(parsedFUM) ,\n",
    "            'GPCA_OK' : GPCA_OK,\n",
    "            'fum_Data' : parsedFUM,\n",
    "            'parsedGPCA' : parsedGPCA}"
   ]
  },
  {
   "cell_type": "code",
   "execution_count": 156,
   "metadata": {
    "Collapsed": "false"
   },
   "outputs": [],
   "source": [
    "from IPython.display import display\n",
    "\n",
    "def getBackgroundRegister(casoID, registrosByCase):\n",
    "    \"\"\"\n",
    "    Gets a register that includes the personal background in order Epicrisis / Triage / Ingreso a urgencias\n",
    "    \"\"\"\n",
    "    #\n",
    "    epicrisis = registrosByCase[(registrosByCase.Caso == casoID) & \n",
    "                     (registrosByCase.Asunto.str.contains('Epicrisis', case = False) == True)]\n",
    "    if epicrisis is not None and len(epicrisis):\n",
    "        return epicrisis\n",
    "    \n",
    "    triage = registrosByCase[(registrosByCase.Caso == casoID) & \n",
    "                     (registrosByCase.Asunto.str.contains('Triage', case = False) == True)]\n",
    "    if triage is not None and len(triage):\n",
    "        return triage\n",
    "\n",
    "    urgencias = registrosByCase[(registrosByCase.Caso == casoID) & \n",
    "                     (registrosByCase.Asunto.str.contains('Ingreso de Urgencias', case = False) == True)]\n",
    "    if urgencias is not None:\n",
    "        return urgencias\n"
   ]
  },
  {
   "cell_type": "code",
   "execution_count": 159,
   "metadata": {
    "Collapsed": "false"
   },
   "outputs": [
    {
     "data": {
      "application/vnd.jupyter.widget-view+json": {
       "model_id": "7c7d106c44354dd7b1b27341b07b04f7",
       "version_major": 2,
       "version_minor": 0
      },
      "text/plain": [
       "HBox(children=(IntProgress(value=0, max=2572), HTML(value='')))"
      ]
     },
     "metadata": {},
     "output_type": "display_data"
    },
    {
     "name": "stderr",
     "output_type": "stream",
     "text": [
      "C:\\Users\\CMRC\\Miniconda3\\lib\\site-packages\\ipykernel_launcher.py:32: DeprecationWarning: The unescape method is deprecated and will be removed in 3.5, use html.unescape() instead.\n"
     ]
    },
    {
     "name": "stdout",
     "output_type": "stream",
     "text": [
      "\n"
     ]
    }
   ],
   "source": [
    "errorsBackgroundRegister = []\n",
    "backgroundByCase = {}\n",
    "dataGPAC_fum = {}\n",
    "for k, (case, pId, _) in tqdm.tqdm_notebook(interventionToCase.items()):\n",
    "    if case is False:\n",
    "        continue\n",
    "        \n",
    "    backgroundByCase[case] = getBackgroundRegister(case, registersByPatient.get_group(pId))\n",
    "    if len(backgroundByCase[case]) == 0:\n",
    "        errorsBackgroundRegister.append(case)\n",
    "    else: \n",
    "        dataGPAC_fum[case] = parseGPCA_and_fum(backgroundByCase[case].iloc[0].RegistroXML)"
   ]
  },
  {
   "cell_type": "code",
   "execution_count": 160,
   "metadata": {},
   "outputs": [
    {
     "data": {
      "text/html": [
       "<div>\n",
       "<style scoped>\n",
       "    .dataframe tbody tr th:only-of-type {\n",
       "        vertical-align: middle;\n",
       "    }\n",
       "\n",
       "    .dataframe tbody tr th {\n",
       "        vertical-align: top;\n",
       "    }\n",
       "\n",
       "    .dataframe thead th {\n",
       "        text-align: right;\n",
       "    }\n",
       "</style>\n",
       "<table border=\"1\" class=\"dataframe\">\n",
       "  <thead>\n",
       "    <tr style=\"text-align: right;\">\n",
       "      <th></th>\n",
       "      <th>fum</th>\n",
       "      <th>fum_OK</th>\n",
       "      <th>GPCA_OK</th>\n",
       "      <th>fum_Data</th>\n",
       "      <th>parsedGPCA</th>\n",
       "    </tr>\n",
       "  </thead>\n",
       "  <tbody>\n",
       "    <tr>\n",
       "      <th>AD40216</th>\n",
       "      <td>True</td>\n",
       "      <td>1</td>\n",
       "      <td>True</td>\n",
       "      <td>[(7 JUNIO 2014, 7, JUNIO, 2014)]</td>\n",
       "      <td>(5, 3, 1, 3, , )</td>\n",
       "    </tr>\n",
       "    <tr>\n",
       "      <th>AD152124</th>\n",
       "      <td>True</td>\n",
       "      <td>1</td>\n",
       "      <td>True</td>\n",
       "      <td>[(3/12/2015, 3, 12, 2015)]</td>\n",
       "      <td>[3, 3, 0, 0]</td>\n",
       "    </tr>\n",
       "    <tr>\n",
       "      <th>AD169414</th>\n",
       "      <td>True</td>\n",
       "      <td>1</td>\n",
       "      <td>True</td>\n",
       "      <td>[(3-03-2016, 3, 03, 2016)]</td>\n",
       "      <td>[5, 3, 1, 0]</td>\n",
       "    </tr>\n",
       "    <tr>\n",
       "      <th>AD182404</th>\n",
       "      <td>True</td>\n",
       "      <td>1</td>\n",
       "      <td>True</td>\n",
       "      <td>[(NO, , , )]</td>\n",
       "      <td>[2, 1, 0, ]</td>\n",
       "    </tr>\n",
       "    <tr>\n",
       "      <th>AD184378</th>\n",
       "      <td>True</td>\n",
       "      <td>3</td>\n",
       "      <td>True</td>\n",
       "      <td>[(NO, , , ), (NO, , , ), (NO, , , )]</td>\n",
       "      <td>[1, 0, 0, 0]</td>\n",
       "    </tr>\n",
       "    <tr>\n",
       "      <th>...</th>\n",
       "      <td>...</td>\n",
       "      <td>...</td>\n",
       "      <td>...</td>\n",
       "      <td>...</td>\n",
       "      <td>...</td>\n",
       "    </tr>\n",
       "    <tr>\n",
       "      <th>AD368548</th>\n",
       "      <td>True</td>\n",
       "      <td>2</td>\n",
       "      <td>True</td>\n",
       "      <td>[(NO, , , ), (NO, , , )]</td>\n",
       "      <td>[1, , 1, ]</td>\n",
       "    </tr>\n",
       "    <tr>\n",
       "      <th>AD368000</th>\n",
       "      <td>True</td>\n",
       "      <td>4</td>\n",
       "      <td>True</td>\n",
       "      <td>[(9/04/19, 9, 04, 19), (40.2, 4, 0, 2), (9/04/...</td>\n",
       "      <td>[1, 0, 0, 0]</td>\n",
       "    </tr>\n",
       "    <tr>\n",
       "      <th>AD368822</th>\n",
       "      <td>True</td>\n",
       "      <td>4</td>\n",
       "      <td>True</td>\n",
       "      <td>[(3/05/19, 3, 05, 19), (36.3, 3, 6, 3), (3/05/...</td>\n",
       "      <td>[3, 2, 0, 1]</td>\n",
       "    </tr>\n",
       "    <tr>\n",
       "      <th>AD368769</th>\n",
       "      <td>True</td>\n",
       "      <td>2</td>\n",
       "      <td>True</td>\n",
       "      <td>[(2/03/19, 2, 03, 19), (2/03/19, 2, 03, 19)]</td>\n",
       "      <td>[3, 2, 0, 0]</td>\n",
       "    </tr>\n",
       "    <tr>\n",
       "      <th>AD368860</th>\n",
       "      <td>True</td>\n",
       "      <td>4</td>\n",
       "      <td>True</td>\n",
       "      <td>[(7/04/19, 7, 04, 19), (40.2, 4, 0, 2), (7/04/...</td>\n",
       "      <td>[1, 0, 0, 0]</td>\n",
       "    </tr>\n",
       "  </tbody>\n",
       "</table>\n",
       "<p>2421 rows × 5 columns</p>\n",
       "</div>"
      ],
      "text/plain": [
       "           fum  fum_OK  GPCA_OK  \\\n",
       "AD40216   True       1     True   \n",
       "AD152124  True       1     True   \n",
       "AD169414  True       1     True   \n",
       "AD182404  True       1     True   \n",
       "AD184378  True       3     True   \n",
       "...        ...     ...      ...   \n",
       "AD368548  True       2     True   \n",
       "AD368000  True       4     True   \n",
       "AD368822  True       4     True   \n",
       "AD368769  True       2     True   \n",
       "AD368860  True       4     True   \n",
       "\n",
       "                                                   fum_Data        parsedGPCA  \n",
       "AD40216                    [(7 JUNIO 2014, 7, JUNIO, 2014)]  (5, 3, 1, 3, , )  \n",
       "AD152124                         [(3/12/2015, 3, 12, 2015)]      [3, 3, 0, 0]  \n",
       "AD169414                         [(3-03-2016, 3, 03, 2016)]      [5, 3, 1, 0]  \n",
       "AD182404                                       [(NO, , , )]       [2, 1, 0, ]  \n",
       "AD184378               [(NO, , , ), (NO, , , ), (NO, , , )]      [1, 0, 0, 0]  \n",
       "...                                                     ...               ...  \n",
       "AD368548                           [(NO, , , ), (NO, , , )]        [1, , 1, ]  \n",
       "AD368000  [(9/04/19, 9, 04, 19), (40.2, 4, 0, 2), (9/04/...      [1, 0, 0, 0]  \n",
       "AD368822  [(3/05/19, 3, 05, 19), (36.3, 3, 6, 3), (3/05/...      [3, 2, 0, 1]  \n",
       "AD368769       [(2/03/19, 2, 03, 19), (2/03/19, 2, 03, 19)]      [3, 2, 0, 0]  \n",
       "AD368860  [(7/04/19, 7, 04, 19), (40.2, 4, 0, 2), (7/04/...      [1, 0, 0, 0]  \n",
       "\n",
       "[2421 rows x 5 columns]"
      ]
     },
     "execution_count": 160,
     "metadata": {},
     "output_type": "execute_result"
    }
   ],
   "source": [
    "dataGPAC_fumDF"
   ]
  },
  {
   "cell_type": "code",
   "execution_count": 86,
   "metadata": {},
   "outputs": [
    {
     "data": {
      "text/html": [
       "<div>\n",
       "<style scoped>\n",
       "    .dataframe tbody tr th:only-of-type {\n",
       "        vertical-align: middle;\n",
       "    }\n",
       "\n",
       "    .dataframe tbody tr th {\n",
       "        vertical-align: top;\n",
       "    }\n",
       "\n",
       "    .dataframe thead th {\n",
       "        text-align: right;\n",
       "    }\n",
       "</style>\n",
       "<table border=\"1\" class=\"dataframe\">\n",
       "  <thead>\n",
       "    <tr style=\"text-align: right;\">\n",
       "      <th></th>\n",
       "      <th>fum</th>\n",
       "      <th>fum_OK</th>\n",
       "      <th>GPCA_OK</th>\n",
       "      <th>fum_Data</th>\n",
       "      <th>parsedGPCA</th>\n",
       "    </tr>\n",
       "  </thead>\n",
       "  <tbody>\n",
       "    <tr>\n",
       "      <th>AD273164</th>\n",
       "      <td>True</td>\n",
       "      <td>1</td>\n",
       "      <td>False</td>\n",
       "      <td>[(NO, , , )]</td>\n",
       "      <td>[]</td>\n",
       "    </tr>\n",
       "    <tr>\n",
       "      <th>AD284225</th>\n",
       "      <td>False</td>\n",
       "      <td>0</td>\n",
       "      <td>False</td>\n",
       "      <td>[]</td>\n",
       "      <td>[]</td>\n",
       "    </tr>\n",
       "    <tr>\n",
       "      <th>AD287970</th>\n",
       "      <td>True</td>\n",
       "      <td>1</td>\n",
       "      <td>False</td>\n",
       "      <td>[(8-07-17, 8, 07, 17)]</td>\n",
       "      <td>[]</td>\n",
       "    </tr>\n",
       "    <tr>\n",
       "      <th>AD298467</th>\n",
       "      <td>False</td>\n",
       "      <td>0</td>\n",
       "      <td>False</td>\n",
       "      <td>[]</td>\n",
       "      <td>[]</td>\n",
       "    </tr>\n",
       "    <tr>\n",
       "      <th>AD301211</th>\n",
       "      <td>False</td>\n",
       "      <td>0</td>\n",
       "      <td>False</td>\n",
       "      <td>[]</td>\n",
       "      <td>[]</td>\n",
       "    </tr>\n",
       "    <tr>\n",
       "      <th>...</th>\n",
       "      <td>...</td>\n",
       "      <td>...</td>\n",
       "      <td>...</td>\n",
       "      <td>...</td>\n",
       "      <td>...</td>\n",
       "    </tr>\n",
       "    <tr>\n",
       "      <th>AD366549</th>\n",
       "      <td>True</td>\n",
       "      <td>1</td>\n",
       "      <td>False</td>\n",
       "      <td>[(7/ABRIL/2019, 7, ABRIL, 2019)]</td>\n",
       "      <td>[]</td>\n",
       "    </tr>\n",
       "    <tr>\n",
       "      <th>AD367613</th>\n",
       "      <td>False</td>\n",
       "      <td>0</td>\n",
       "      <td>False</td>\n",
       "      <td>[]</td>\n",
       "      <td>[]</td>\n",
       "    </tr>\n",
       "    <tr>\n",
       "      <th>AD367610</th>\n",
       "      <td>True</td>\n",
       "      <td>2</td>\n",
       "      <td>False</td>\n",
       "      <td>[(NO, , , ), (NO, , , )]</td>\n",
       "      <td>[]</td>\n",
       "    </tr>\n",
       "    <tr>\n",
       "      <th>AD367697</th>\n",
       "      <td>False</td>\n",
       "      <td>0</td>\n",
       "      <td>False</td>\n",
       "      <td>[]</td>\n",
       "      <td>[]</td>\n",
       "    </tr>\n",
       "    <tr>\n",
       "      <th>AD367925</th>\n",
       "      <td>False</td>\n",
       "      <td>0</td>\n",
       "      <td>False</td>\n",
       "      <td>[]</td>\n",
       "      <td>[]</td>\n",
       "    </tr>\n",
       "  </tbody>\n",
       "</table>\n",
       "<p>132 rows × 5 columns</p>\n",
       "</div>"
      ],
      "text/plain": [
       "            fum  fum_OK  GPCA_OK                          fum_Data parsedGPCA\n",
       "AD273164   True       1    False                      [(NO, , , )]         []\n",
       "AD284225  False       0    False                                []         []\n",
       "AD287970   True       1    False            [(8-07-17, 8, 07, 17)]         []\n",
       "AD298467  False       0    False                                []         []\n",
       "AD301211  False       0    False                                []         []\n",
       "...         ...     ...      ...                               ...        ...\n",
       "AD366549   True       1    False  [(7/ABRIL/2019, 7, ABRIL, 2019)]         []\n",
       "AD367613  False       0    False                                []         []\n",
       "AD367610   True       2    False          [(NO, , , ), (NO, , , )]         []\n",
       "AD367697  False       0    False                                []         []\n",
       "AD367925  False       0    False                                []         []\n",
       "\n",
       "[132 rows x 5 columns]"
      ]
     },
     "execution_count": 86,
     "metadata": {},
     "output_type": "execute_result"
    }
   ],
   "source": [
    "np.sum(dataGPAC_fumDF.GPCA_OK == 0), np.sum(dataGPAC_fumDF.GPCA_OK == 0)"
   ]
  },
  {
   "cell_type": "code",
   "execution_count": null,
   "metadata": {},
   "outputs": [],
   "source": [
    "from ipywidgets import interact, interactive, fixed, interact_manual\n",
    "import ipywidgets as widgets\n"
   ]
  },
  {
   "cell_type": "code",
   "execution_count": 96,
   "metadata": {},
   "outputs": [],
   "source": [
    "backgroundByCase['AD301211'] = getBackgroundRegister(case, registersByPatient.get_group(pId))"
   ]
  },
  {
   "cell_type": "code",
   "execution_count": 97,
   "metadata": {},
   "outputs": [
    {
     "data": {
      "text/html": [
       "<div>\n",
       "<style scoped>\n",
       "    .dataframe tbody tr th:only-of-type {\n",
       "        vertical-align: middle;\n",
       "    }\n",
       "\n",
       "    .dataframe tbody tr th {\n",
       "        vertical-align: top;\n",
       "    }\n",
       "\n",
       "    .dataframe thead th {\n",
       "        text-align: right;\n",
       "    }\n",
       "</style>\n",
       "<table border=\"1\" class=\"dataframe\">\n",
       "  <thead>\n",
       "    <tr style=\"text-align: right;\">\n",
       "      <th></th>\n",
       "      <th>NumeroHistoria</th>\n",
       "      <th>Caso</th>\n",
       "      <th>CodigoRegistro</th>\n",
       "      <th>Asunto</th>\n",
       "      <th>FechaAsignacionRegistro</th>\n",
       "      <th>Raiz</th>\n",
       "      <th>Padre</th>\n",
       "      <th>Usuario</th>\n",
       "      <th>Prestador</th>\n",
       "      <th>AdmPlan</th>\n",
       "      <th>...</th>\n",
       "      <th>AltaMedica</th>\n",
       "      <th>IdRegistroPreanestesico</th>\n",
       "      <th>IdRegistroIntraOperatorio</th>\n",
       "      <th>IdRegistroPostOperatorio</th>\n",
       "      <th>Modulo</th>\n",
       "      <th>ProgramaPyP</th>\n",
       "      <th>FechaInicioAtencion</th>\n",
       "      <th>UnidadFuncional</th>\n",
       "      <th>ConfirmacionGuardado</th>\n",
       "      <th>Sincronizado</th>\n",
       "    </tr>\n",
       "    <tr>\n",
       "      <th>Id</th>\n",
       "      <th></th>\n",
       "      <th></th>\n",
       "      <th></th>\n",
       "      <th></th>\n",
       "      <th></th>\n",
       "      <th></th>\n",
       "      <th></th>\n",
       "      <th></th>\n",
       "      <th></th>\n",
       "      <th></th>\n",
       "      <th></th>\n",
       "      <th></th>\n",
       "      <th></th>\n",
       "      <th></th>\n",
       "      <th></th>\n",
       "      <th></th>\n",
       "      <th></th>\n",
       "      <th></th>\n",
       "      <th></th>\n",
       "      <th></th>\n",
       "      <th></th>\n",
       "    </tr>\n",
       "  </thead>\n",
       "  <tbody>\n",
       "    <tr>\n",
       "      <th>1361304</th>\n",
       "      <td>216835</td>\n",
       "      <td>AD366773</td>\n",
       "      <td>1</td>\n",
       "      <td>OBSTETRICA</td>\n",
       "      <td>2020-01-07 08:55:48.203</td>\n",
       "      <td>NaN</td>\n",
       "      <td>NaN</td>\n",
       "      <td>RFLOREZ</td>\n",
       "      <td>72133854</td>\n",
       "      <td>20190409</td>\n",
       "      <td>...</td>\n",
       "      <td>False</td>\n",
       "      <td>NaN</td>\n",
       "      <td>NaN</td>\n",
       "      <td>NaN</td>\n",
       "      <td>2.0</td>\n",
       "      <td>NaN</td>\n",
       "      <td>NaT</td>\n",
       "      <td>NaN</td>\n",
       "      <td>False</td>\n",
       "      <td>NaN</td>\n",
       "    </tr>\n",
       "    <tr>\n",
       "      <th>1365508</th>\n",
       "      <td>216835</td>\n",
       "      <td>AD367822</td>\n",
       "      <td>20</td>\n",
       "      <td>Registro Evaluaci&amp;#243;n Preanastesica</td>\n",
       "      <td>2020-01-15 12:40:02.610</td>\n",
       "      <td>NaN</td>\n",
       "      <td>NaN</td>\n",
       "      <td>GDELRIO</td>\n",
       "      <td>73084739</td>\n",
       "      <td>20190409</td>\n",
       "      <td>...</td>\n",
       "      <td>False</td>\n",
       "      <td>NaN</td>\n",
       "      <td>NaN</td>\n",
       "      <td>NaN</td>\n",
       "      <td>2.0</td>\n",
       "      <td>NaN</td>\n",
       "      <td>NaT</td>\n",
       "      <td>NaN</td>\n",
       "      <td>False</td>\n",
       "      <td>NaN</td>\n",
       "    </tr>\n",
       "    <tr>\n",
       "      <th>1366158</th>\n",
       "      <td>216835</td>\n",
       "      <td>AD367925</td>\n",
       "      <td>94</td>\n",
       "      <td>Notas de Ingreso a Piso</td>\n",
       "      <td>2020-01-16 15:24:04.307</td>\n",
       "      <td>NaN</td>\n",
       "      <td>NaN</td>\n",
       "      <td>NCARMONA</td>\n",
       "      <td>45470969</td>\n",
       "      <td>20190409</td>\n",
       "      <td>...</td>\n",
       "      <td>False</td>\n",
       "      <td>NaN</td>\n",
       "      <td>NaN</td>\n",
       "      <td>NaN</td>\n",
       "      <td>1.0</td>\n",
       "      <td>NaN</td>\n",
       "      <td>2020-01-16 15:20:00</td>\n",
       "      <td>NaN</td>\n",
       "      <td>False</td>\n",
       "      <td>NaN</td>\n",
       "    </tr>\n",
       "    <tr>\n",
       "      <th>1366163</th>\n",
       "      <td>216835</td>\n",
       "      <td>AD367925</td>\n",
       "      <td>165</td>\n",
       "      <td>Registro del recién nacido</td>\n",
       "      <td>2020-01-16 15:33:44.960</td>\n",
       "      <td>NaN</td>\n",
       "      <td>Padre</td>\n",
       "      <td>sa</td>\n",
       "      <td>1047467767</td>\n",
       "      <td>20190409</td>\n",
       "      <td>...</td>\n",
       "      <td>False</td>\n",
       "      <td>NaN</td>\n",
       "      <td>NaN</td>\n",
       "      <td>NaN</td>\n",
       "      <td>3.0</td>\n",
       "      <td>NaN</td>\n",
       "      <td>NaT</td>\n",
       "      <td>NaN</td>\n",
       "      <td>False</td>\n",
       "      <td>NaN</td>\n",
       "    </tr>\n",
       "    <tr>\n",
       "      <th>1366194</th>\n",
       "      <td>216835</td>\n",
       "      <td>AD367925</td>\n",
       "      <td>145</td>\n",
       "      <td>NaN</td>\n",
       "      <td>2020-01-16 16:59:59.857</td>\n",
       "      <td>NaN</td>\n",
       "      <td>NaN</td>\n",
       "      <td>RDIAZ</td>\n",
       "      <td>18938424</td>\n",
       "      <td>20190409</td>\n",
       "      <td>...</td>\n",
       "      <td>False</td>\n",
       "      <td>NaN</td>\n",
       "      <td>NaN</td>\n",
       "      <td>NaN</td>\n",
       "      <td>3.0</td>\n",
       "      <td>NaN</td>\n",
       "      <td>NaT</td>\n",
       "      <td>NaN</td>\n",
       "      <td>False</td>\n",
       "      <td>NaN</td>\n",
       "    </tr>\n",
       "    <tr>\n",
       "      <th>1366262</th>\n",
       "      <td>216835</td>\n",
       "      <td>AD367925</td>\n",
       "      <td>94</td>\n",
       "      <td>Notas de Ingreso a Piso</td>\n",
       "      <td>2020-01-16 21:52:40.170</td>\n",
       "      <td>NaN</td>\n",
       "      <td>NaN</td>\n",
       "      <td>OSALASG</td>\n",
       "      <td>72490114</td>\n",
       "      <td>20190409</td>\n",
       "      <td>...</td>\n",
       "      <td>False</td>\n",
       "      <td>NaN</td>\n",
       "      <td>NaN</td>\n",
       "      <td>NaN</td>\n",
       "      <td>1.0</td>\n",
       "      <td>NaN</td>\n",
       "      <td>2020-01-16 21:46:00</td>\n",
       "      <td>NaN</td>\n",
       "      <td>False</td>\n",
       "      <td>NaN</td>\n",
       "    </tr>\n",
       "    <tr>\n",
       "      <th>1366420</th>\n",
       "      <td>216835</td>\n",
       "      <td>AD367925</td>\n",
       "      <td>106</td>\n",
       "      <td>Evoluci&amp;#243;nMA&amp;#209;ANA</td>\n",
       "      <td>2020-01-17 09:56:41.100</td>\n",
       "      <td>94.0</td>\n",
       "      <td>1366262</td>\n",
       "      <td>JRAMIREZ</td>\n",
       "      <td>9068204</td>\n",
       "      <td>20190409</td>\n",
       "      <td>...</td>\n",
       "      <td>True</td>\n",
       "      <td>NaN</td>\n",
       "      <td>NaN</td>\n",
       "      <td>NaN</td>\n",
       "      <td>1.0</td>\n",
       "      <td>NaN</td>\n",
       "      <td>2020-01-17 09:49:00</td>\n",
       "      <td>NaN</td>\n",
       "      <td>False</td>\n",
       "      <td>NaN</td>\n",
       "    </tr>\n",
       "    <tr>\n",
       "      <th>1366423</th>\n",
       "      <td>216835</td>\n",
       "      <td>AD367925</td>\n",
       "      <td>46</td>\n",
       "      <td>Registro de Incapacidad</td>\n",
       "      <td>2020-01-17 10:00:22.400</td>\n",
       "      <td>NaN</td>\n",
       "      <td>NaN</td>\n",
       "      <td>JRAMIREZ</td>\n",
       "      <td>9068204</td>\n",
       "      <td>20190409</td>\n",
       "      <td>...</td>\n",
       "      <td>False</td>\n",
       "      <td>NaN</td>\n",
       "      <td>NaN</td>\n",
       "      <td>NaN</td>\n",
       "      <td>1.0</td>\n",
       "      <td>NaN</td>\n",
       "      <td>NaT</td>\n",
       "      <td>NaN</td>\n",
       "      <td>False</td>\n",
       "      <td>NaN</td>\n",
       "    </tr>\n",
       "    <tr>\n",
       "      <th>1366425</th>\n",
       "      <td>216835</td>\n",
       "      <td>AD367925</td>\n",
       "      <td>450</td>\n",
       "      <td>Epicrisis de la Historia Notas de Ingreso a Piso</td>\n",
       "      <td>2020-01-17 10:01:49.257</td>\n",
       "      <td>1.0</td>\n",
       "      <td>AD367925</td>\n",
       "      <td>JRAMIREZ</td>\n",
       "      <td>9068204</td>\n",
       "      <td>20190409</td>\n",
       "      <td>...</td>\n",
       "      <td>False</td>\n",
       "      <td>NaN</td>\n",
       "      <td>NaN</td>\n",
       "      <td>NaN</td>\n",
       "      <td>1.0</td>\n",
       "      <td>NaN</td>\n",
       "      <td>NaT</td>\n",
       "      <td>NaN</td>\n",
       "      <td>False</td>\n",
       "      <td>NaN</td>\n",
       "    </tr>\n",
       "    <tr>\n",
       "      <th>1366568</th>\n",
       "      <td>216835</td>\n",
       "      <td>AD367925</td>\n",
       "      <td>166</td>\n",
       "      <td>ALTA MEDICA</td>\n",
       "      <td>2020-01-17 12:52:46.737</td>\n",
       "      <td>165.0</td>\n",
       "      <td>1366163</td>\n",
       "      <td>HARGOZ7</td>\n",
       "      <td>73086292</td>\n",
       "      <td>20190409</td>\n",
       "      <td>...</td>\n",
       "      <td>False</td>\n",
       "      <td>NaN</td>\n",
       "      <td>NaN</td>\n",
       "      <td>NaN</td>\n",
       "      <td>1.0</td>\n",
       "      <td>NaN</td>\n",
       "      <td>2020-01-17 12:46:00</td>\n",
       "      <td>NaN</td>\n",
       "      <td>False</td>\n",
       "      <td>NaN</td>\n",
       "    </tr>\n",
       "  </tbody>\n",
       "</table>\n",
       "<p>10 rows × 35 columns</p>\n",
       "</div>"
      ],
      "text/plain": [
       "         NumeroHistoria      Caso  CodigoRegistro  \\\n",
       "Id                                                  \n",
       "1361304          216835  AD366773               1   \n",
       "1365508          216835  AD367822              20   \n",
       "1366158          216835  AD367925              94   \n",
       "1366163          216835  AD367925             165   \n",
       "1366194          216835  AD367925             145   \n",
       "1366262          216835  AD367925              94   \n",
       "1366420          216835  AD367925             106   \n",
       "1366423          216835  AD367925              46   \n",
       "1366425          216835  AD367925             450   \n",
       "1366568          216835  AD367925             166   \n",
       "\n",
       "                                                   Asunto  \\\n",
       "Id                                                          \n",
       "1361304                                        OBSTETRICA   \n",
       "1365508            Registro Evaluaci&#243;n Preanastesica   \n",
       "1366158                           Notas de Ingreso a Piso   \n",
       "1366163                        Registro del recién nacido   \n",
       "1366194                                               NaN   \n",
       "1366262                           Notas de Ingreso a Piso   \n",
       "1366420                         Evoluci&#243;nMA&#209;ANA   \n",
       "1366423                           Registro de Incapacidad   \n",
       "1366425  Epicrisis de la Historia Notas de Ingreso a Piso   \n",
       "1366568                                       ALTA MEDICA   \n",
       "\n",
       "         FechaAsignacionRegistro   Raiz     Padre   Usuario   Prestador  \\\n",
       "Id                                                                        \n",
       "1361304  2020-01-07 08:55:48.203    NaN       NaN   RFLOREZ    72133854   \n",
       "1365508  2020-01-15 12:40:02.610    NaN       NaN   GDELRIO    73084739   \n",
       "1366158  2020-01-16 15:24:04.307    NaN       NaN  NCARMONA    45470969   \n",
       "1366163  2020-01-16 15:33:44.960    NaN     Padre        sa  1047467767   \n",
       "1366194  2020-01-16 16:59:59.857    NaN       NaN     RDIAZ    18938424   \n",
       "1366262  2020-01-16 21:52:40.170    NaN       NaN   OSALASG    72490114   \n",
       "1366420  2020-01-17 09:56:41.100   94.0   1366262  JRAMIREZ     9068204   \n",
       "1366423  2020-01-17 10:00:22.400    NaN       NaN  JRAMIREZ     9068204   \n",
       "1366425  2020-01-17 10:01:49.257    1.0  AD367925  JRAMIREZ     9068204   \n",
       "1366568  2020-01-17 12:52:46.737  165.0   1366163   HARGOZ7    73086292   \n",
       "\n",
       "          AdmPlan  ...  AltaMedica  IdRegistroPreanestesico  \\\n",
       "Id                 ...                                        \n",
       "1361304  20190409  ...       False                      NaN   \n",
       "1365508  20190409  ...       False                      NaN   \n",
       "1366158  20190409  ...       False                      NaN   \n",
       "1366163  20190409  ...       False                      NaN   \n",
       "1366194  20190409  ...       False                      NaN   \n",
       "1366262  20190409  ...       False                      NaN   \n",
       "1366420  20190409  ...        True                      NaN   \n",
       "1366423  20190409  ...       False                      NaN   \n",
       "1366425  20190409  ...       False                      NaN   \n",
       "1366568  20190409  ...       False                      NaN   \n",
       "\n",
       "        IdRegistroIntraOperatorio  IdRegistroPostOperatorio Modulo  \\\n",
       "Id                                                                   \n",
       "1361304                       NaN                       NaN    2.0   \n",
       "1365508                       NaN                       NaN    2.0   \n",
       "1366158                       NaN                       NaN    1.0   \n",
       "1366163                       NaN                       NaN    3.0   \n",
       "1366194                       NaN                       NaN    3.0   \n",
       "1366262                       NaN                       NaN    1.0   \n",
       "1366420                       NaN                       NaN    1.0   \n",
       "1366423                       NaN                       NaN    1.0   \n",
       "1366425                       NaN                       NaN    1.0   \n",
       "1366568                       NaN                       NaN    1.0   \n",
       "\n",
       "         ProgramaPyP  FechaInicioAtencion  UnidadFuncional  \\\n",
       "Id                                                           \n",
       "1361304          NaN                  NaT              NaN   \n",
       "1365508          NaN                  NaT              NaN   \n",
       "1366158          NaN  2020-01-16 15:20:00              NaN   \n",
       "1366163          NaN                  NaT              NaN   \n",
       "1366194          NaN                  NaT              NaN   \n",
       "1366262          NaN  2020-01-16 21:46:00              NaN   \n",
       "1366420          NaN  2020-01-17 09:49:00              NaN   \n",
       "1366423          NaN                  NaT              NaN   \n",
       "1366425          NaN                  NaT              NaN   \n",
       "1366568          NaN  2020-01-17 12:46:00              NaN   \n",
       "\n",
       "        ConfirmacionGuardado Sincronizado  \n",
       "Id                                         \n",
       "1361304                False          NaN  \n",
       "1365508                False          NaN  \n",
       "1366158                False          NaN  \n",
       "1366163                False          NaN  \n",
       "1366194                False          NaN  \n",
       "1366262                False          NaN  \n",
       "1366420                False          NaN  \n",
       "1366423                False          NaN  \n",
       "1366425                False          NaN  \n",
       "1366568                False          NaN  \n",
       "\n",
       "[10 rows x 35 columns]"
      ]
     },
     "execution_count": 97,
     "metadata": {},
     "output_type": "execute_result"
    }
   ],
   "source": [
    "registros[registros.NumeroHistoria == 216835]"
   ]
  },
  {
   "cell_type": "code",
   "execution_count": 101,
   "metadata": {},
   "outputs": [
    {
     "data": {
      "text/plain": [
       "Id\n",
       "818364     N912\n",
       "1011748    N872\n",
       "1033395    N872\n",
       "1046112    N872\n",
       "1048307    N872\n",
       "1088621     NaN\n",
       "1088659     NaN\n",
       "1088660    N872\n",
       "1100597    Z488\n",
       "1151993    N872\n",
       "1177067    N870\n",
       "1199029    N761\n",
       "1263247    N761\n",
       "Name: Diagnostico, dtype: object"
      ]
     },
     "execution_count": 101,
     "metadata": {},
     "output_type": "execute_result"
    }
   ],
   "source": [
    "registros[registros.NumeroHistoria == 167552].DiagnosticoRelacionado1"
   ]
  },
  {
   "cell_type": "code",
   "execution_count": 105,
   "metadata": {},
   "outputs": [
    {
     "data": {
      "text/plain": [
       "Identificacion           VEN12758449\n",
       "Carnet                           NaN\n",
       "Nom1Afil                      TERESA\n",
       "Nom2Afil                         NaN\n",
       "Ape1Afil                   SAGOSTACE\n",
       "                            ...     \n",
       "ParentescoResponsable              1\n",
       "DirResponsable                   NaN\n",
       "Creencia                         NaN\n",
       "NombreResponsable                NaN\n",
       "EstadoEmbarazo                   NaN\n",
       "Name: 167552, Length: 86, dtype: object"
      ]
     },
     "execution_count": 105,
     "metadata": {},
     "output_type": "execute_result"
    }
   ],
   "source": [
    "pacientes.loc[167552]"
   ]
  },
  {
   "cell_type": "code",
   "execution_count": 104,
   "metadata": {},
   "outputs": [
    {
     "name": "stdout",
     "output_type": "stream",
     "text": [
      "<?xml version=\"1.0\" ?>\n",
      "<C Asunto=\"\" Caso=\"AD301211\" CentroA=\"01\" Diagnostico=\"NULL\" IdPaciente=\"167552\" Modulo=\"03\" Padre=\"\" PlanAdm=\"100\" Prestador=\"22433520\" Raiz=\"\" Registro=\"145\">\n",
      "\t<row NombreCampo=\"IdDescripcion\" NombreTabla=\"CamposEntero\" ValorCampo=\"46542\"/>\n",
      "\t<row NombreCampo=\"CodigoActo\" NombreTabla=\"CamposTexto\" ValorCampo=\"CP63225\"/>\n",
      "\t<row NombreCampo=\"IdPaciente\" NombreTabla=\"CamposEntero\" ValorCampo=\"167552\"/>\n",
      "\t<row NombreCampo=\"CirugiaProgramada\" NombreTabla=\"CamposTexto\" ValorCampo=\"01:00:00 02:00:00 - INGRID MARIA STRUSS GARCIA\"/>\n",
      "\t<row NombreCampo=\"Consulta\" NombreTabla=\"CamposTexto\" ValorCampo=\"\"/>\n",
      "\t<row NombreCampo=\"SaturacionOxigeno\" NombreTabla=\"CamposTexto\" ValorCampo=\"\"/>\n",
      "\t<row NombreCampo=\"Glucometria\" NombreTabla=\"CamposTexto\" ValorCampo=\"\"/>\n",
      "</C>\n",
      "\n"
     ]
    }
   ],
   "source": [
    "#Epicrisis / Ingreso de urgencias\n",
    "prettyPrintXML(registros.loc[1088659].RegistroXML)"
   ]
  },
  {
   "cell_type": "code",
   "execution_count": 42,
   "metadata": {
    "scrolled": true
   },
   "outputs": [
    {
     "name": "stdout",
     "output_type": "stream",
     "text": [
      "<?xml version=\"1.0\" ?>\n",
      "<C Asunto=\"Ingreso de Urgencias\" Caso=\"AD368860\" CentroA=\"01\" CodigoDiagnosticoRelacionado1=\"\" CodigoDiagnosticoRelacionado2=\"\" CodigoDiagnosticoRelacionado3=\"\" Diagnostico=\"R102\" IdPaciente=\"209748\" Modulo=\"03\" Padre=\"NULL\" PlanAdm=\"1122018\" Prestador=\"8865876\" Raiz=\"NULL\" Registro=\"07\">\n",
      "\t<row NombreCampo=\"TipoConsulta\" NombreTabla=\"CamposTexto\" ValorCampo=\"OBSTETRICA\"/>\n",
      "\t<row NombreCampo=\"PlanAdministradora\" NombreTabla=\"CamposTexto\" ValorCampo=\"ASOCIACION MUTUAL SER / ASOCIACION MUTUAL SER\"/>\n",
      "\t<row NombreCampo=\"MotivoConsulta\" NombreTabla=\"CamposTexto\" ValorCampo=\"&amp;quot;ESTOY BOTANDO LIQUIDOS Y TENGO DOLORES&amp;quot;\n",
      "\"/>\n",
      "\t<row NombreCampo=\"EnfermedadActual\" NombreTabla=\"CamposTexto\" ValorCampo=\"PACIENTE DE 23 A&amp;#209;OS DE EDAD QUE CONSULTA POR UN CUADRO CLINICO DE 2 HORAS DE EVOLUCION CONSISTENTE EN DOLOR TIPO CONTRACCION EN HIPOGASTRIO QUE SE IRRADIA A REGION LUMBOSACRA, ACOMPA&amp;#209;ADO DE SALIDA DE LIQUIDOS POR GENITALES. NO ESTA ASOCIADO A OTRA SINTOMATOLOGIA. REFIERE MOVIMIENTOS FETALES PRESENTES\"/>\n",
      "\t<row NombreCampo=\"FrecuenciaCardiaca\" NombreTabla=\"CamposReal\" ValorCampo=\"86\"/>\n",
      "\t<row NombreCampo=\"FrecuenciaRespiratoria\" NombreTabla=\"CamposReal\" ValorCampo=\"18\"/>\n",
      "\t<row NombreCampo=\"Presion\" NombreTabla=\"CamposTexto\" ValorCampo=\"140/90\"/>\n",
      "\t<row NombreCampo=\"Temperatura\" NombreTabla=\"CamposReal\" ValorCampo=\"36.4\"/>\n",
      "\t<row NombreCampo=\"Talla\" NombreTabla=\"CamposReal\" ValorCampo=\"1.60\"/>\n",
      "\t<row NombreCampo=\"Peso\" NombreTabla=\"CamposReal\" ValorCampo=\"77\"/>\n",
      "\t<row NombreCampo=\"IndiceMasaCorporal\" NombreTabla=\"CamposReal\" ValorCampo=\"30.08\"/>\n",
      "\t<row NombreCampo=\"AntecedentesPersonales\" NombreTabla=\"CamposTexto\" ValorCampo=\"1-&amp;gt; ASMA\n",
      "\n",
      "  7-&amp;gt; MENARQUIA: 12 A&amp;#209;OS.\n",
      "VIDA MARITAL: 17 A&amp;#209;OS.\n",
      "VIDA OBSTETRICA: 22 A&amp;#209;OS.\n",
      "G1 P0 A0 C0 \n",
      "CICLOS: REGULARES 28X4\n",
      "FUM: 17/04/19\n",
      "EG X FUM: 40.2 SEM\n",
      "COMPA&amp;#209;EROS SEXUALES: 5\n",
      "GRUPO SANGUINEO: O+\n",
      "PLANIFICACI&amp;#211;N FAMILIAR: NIEGA\n",
      "CONTROLES PRENATALES: 9\n",
      "ITS: NIEGA\n",
      "\n",
      "ECOGRAFIAS:\n",
      "20/06/2019: EMBARAZO DE 8.3 SEMANAS. PARA HOY 39.4 SEMANAS\n",
      "28/08/2019: EMBARAZO DE 18.3 SEMANAS. PARA HOY 39.5 SEMANAS\n",
      "27/12/2019: EMBARAZO DE 36.1 SEMANAS. PARA HOY 40.1 SEMANAS\n",
      "\n",
      "PARACLINICOS:\n",
      "20/06/2019:\n",
      "-UROANALISIS: CRISTALES DE URATO (+++)\n",
      "-GLICEMIA: 77\n",
      "-HEMOCLASIFICACION: O+\n",
      "-HEMOGRAMA: HB: 12.7 - HTO: 40.2 - LEU: 10.0 - PLQ: 241\n",
      "-PRUEBA RAPIDA TREPONEMICA: NEGATIVO\n",
      "-AGSHB: NEGATIVO\n",
      "-RUBEOLA: IGG: NEGATIVO - IGM: NEGATIVO\n",
      "-TOXOPLASMA: IGG: NEGATIVO - IGM: NEGATIVO\n",
      "-VIH 1 Y 2: NEGATIVO\n",
      "\n",
      "02/10/2019:\n",
      "-HEMOGRAMA: HB: 12.3 - HTO: 36.0 - LEU: 12.3 - PLQ: 186\n",
      "\n",
      "04/10/2019:\n",
      "-UROCULTIVO: NEGATIVO A LAS 48 HORAS\n",
      "\n",
      "03/01/2020:\n",
      "-VIH 1 Y 2: NEGATIVO\n",
      "-VDRL: NO REACTIVO\"/>\n",
      "\t<row NombreCampo=\"AntecedentesFamiliares\" NombreTabla=\"CamposTexto\" ValorCampo=\"MADRE HIPERTENSA, ABUELA MATERNA DM TIPO 2.\"/>\n",
      "\t<row NombreCampo=\"AntecedentesAlergicos\" NombreTabla=\"CamposTexto\" ValorCampo=\"\"/>\n",
      "\t<row NombreCampo=\"AntecedentesQx\" NombreTabla=\"CamposTexto\" ValorCampo=\"\"/>\n",
      "\t<row NombreCampo=\"FechaMenarquia\" NombreTabla=\"CamposTexto\" ValorCampo=\"\"/>\n",
      "\t<row NombreCampo=\"FechaUltimaMestruacion\" NombreTabla=\"CamposTexto\" ValorCampo=\"\"/>\n",
      "\t<row NombreCampo=\"FechaUltimoParto\" NombreTabla=\"CamposTexto\" ValorCampo=\"\"/>\n",
      "\t<row NombreCampo=\"FechaCitologia\" NombreTabla=\"CamposTexto\" ValorCampo=\"\"/>\n",
      "\t<row NombreCampo=\"Gestacion\" NombreTabla=\"CamposEntero\" ValorCampo=\"0\"/>\n",
      "\t<row NombreCampo=\"Parto\" NombreTabla=\"CamposEntero\" ValorCampo=\"0\"/>\n",
      "\t<row NombreCampo=\"Aborto\" NombreTabla=\"CamposEntero\" ValorCampo=\"0\"/>\n",
      "\t<row NombreCampo=\"Cesarea\" NombreTabla=\"CamposEntero\" ValorCampo=\"0\"/>\n",
      "\t<row NombreCampo=\"Apariencia\" NombreTabla=\"CamposTexto\" ValorCampo=\"PACIENTE EN BUENAS CONDICIONES GENERALES, ALERTA, CONSCIENTE, ORIENTADA EN LAS TRES ESFERAS.\n",
      "\"/>\n",
      "\t<row NombreCampo=\"CraneoCaraCuello\" NombreTabla=\"CamposTexto\" ValorCampo=\"NORMOCEFALO, PUPILAS ISOCORICAS NORMOREACTIVAS A LA LUZ, ESCLERAS ANICTERIACAS, MUCOSA ORAL HUMEDA, CUELLO MOVIL SIN MASAS NI ADENOPATIAS PALPABLES. \"/>\n",
      "\t<row NombreCampo=\"Torax\" NombreTabla=\"CamposTexto\" ValorCampo=\"SIMETRICO NORMOEXPANSIBLE,  NO TIRAJES INTERCOSTALES, MURMULLO VESICULAR PRESENTE, PULMONES BIEN VENTILADOS, SIN RUIDOS AGREGADOS, RUIDOS CARDIACOS RITMICOS SIN SOPLOS.\n",
      "\"/>\n",
      "\t<row NombreCampo=\"Abdomen\" NombreTabla=\"CamposTexto\" ValorCampo=\"ABDOMEN GLOBSOOS POR UTERO GRAVIDO AU. 34, FCF. 148, SE PLAPAP FETO CEFALICO LONGITUDINAL DORSO IZQUIERDO, ACTIVIDAD UTERINA 3X40X10, TONO NORMAL, MOVIMIENTO FETALES PRESENTES\"/>\n",
      "\t<row NombreCampo=\"PielYFaneras\" NombreTabla=\"CamposTexto\" ValorCampo=\"SIN LESIONES \"/>\n",
      "\t<row NombreCampo=\"GenitoUrinario\" NombreTabla=\"CamposTexto\" ValorCampo=\"A LA ESPECULOSCOPIA TARNIER POSITIVO, AL TACTO CUELLO POSTERIO DLTACION DE 3CM Y  BORRAMIENTO DEL 80% ESTACION-1\"/>\n",
      "\t<row NombreCampo=\"Extremidades\" NombreTabla=\"CamposTexto\" ValorCampo=\"SIMETRICAS EUTROFCIAS SIN EDEMA \"/>\n",
      "\t<row NombreCampo=\"SistemaNerviosoCentral\" NombreTabla=\"CamposTexto\" ValorCampo=\"SIN DEFICIT \"/>\n",
      "\t<row NombreCampo=\"RevisionPorSistema\" NombreTabla=\"CamposTexto\" ValorCampo=\"\"/>\n",
      "\t<row NombreCampo=\"SistemaAfectado\" NombreTabla=\"CamposTexto\" ValorCampo=\"LO DESCRITO \"/>\n",
      "\t<row NombreCampo=\"DescripcionDiagnostico\" NombreTabla=\"CamposTexto\" ValorCampo=\"\"/>\n",
      "\t<row NombreCampo=\"EsquemaTratamiento\" NombreTabla=\"CamposTexto\" ValorCampo=\"\"/>\n",
      "\t<row NombreCampo=\"FinalidadConsulta\" NombreTabla=\"CamposTexto\" ValorCampo=\"10-No Aplica\"/>\n",
      "\t<row NombreCampo=\"TipoDiagnosticoPrincipal\" NombreTabla=\"CamposTexto\" ValorCampo=\"1-Impresi&amp;#243;n diagn&amp;#243;stica\"/>\n",
      "\t<row NombreCampo=\"CausaExterna\" NombreTabla=\"CamposTexto\" ValorCampo=\"13-Enfermedad general\"/>\n",
      "\t<row NombreCampo=\"DiagnosticoPrincipal\" NombreTabla=\"CamposTexto\" ValorCampo=\"DOLOR PELVICO Y PERINEAL\"/>\n",
      "\t<row NombreCampo=\"DiagnosticoRelacionado1\" NombreTabla=\"CamposTexto\" ValorCampo=\"\"/>\n",
      "\t<row NombreCampo=\"DiagnosticoRelacionado2\" NombreTabla=\"CamposTexto\" ValorCampo=\"\"/>\n",
      "\t<row NombreCampo=\"DiagnosticoRelacionado3\" NombreTabla=\"CamposTexto\" ValorCampo=\"\"/>\n",
      "\t<row NombreCampo=\"CodigoPlanAdministradora\" NombreTabla=\"CamposTexto\" ValorCampo=\"1122018\"/>\n",
      "\t<row NombreCampo=\"CodigoFinalidadConsulta\" NombreTabla=\"CamposTexto\" ValorCampo=\"10\"/>\n",
      "\t<row NombreCampo=\"CodigoTipoDiagnosticoPrincipal\" NombreTabla=\"CamposTexto\" ValorCampo=\"1\"/>\n",
      "\t<row NombreCampo=\"CodigoCausaExterna\" NombreTabla=\"CamposTexto\" ValorCampo=\"13\"/>\n",
      "\t<row NombreCampo=\"CodigoConsulta\" NombreTabla=\"CamposTexto\" ValorCampo=\"\"/>\n",
      "\t<row NombreCampo=\"CodigoDiagnosticoPrincipal\" NombreTabla=\"CamposTexto\" ValorCampo=\"R102\"/>\n",
      "\t<row NombreCampo=\"CodigoDiagnosticoRelacionado1\" NombreTabla=\"CamposTexto\" ValorCampo=\"\"/>\n",
      "\t<row NombreCampo=\"CodigoDiagnosticoRelacionado2\" NombreTabla=\"CamposTexto\" ValorCampo=\"\"/>\n",
      "\t<row NombreCampo=\"CodigoDiagnosticoRelacionado3\" NombreTabla=\"CamposTexto\" ValorCampo=\"\"/>\n",
      "\t<row NombreCampo=\"Menarquia2\" NombreTabla=\"CamposTexto\" ValorCampo=\"\"/>\n",
      "\t<row NombreCampo=\"Mestruacion2\" NombreTabla=\"CamposTexto\" ValorCampo=\"\"/>\n",
      "\t<row NombreCampo=\"UltimoParto2\" NombreTabla=\"CamposTexto\" ValorCampo=\"\"/>\n",
      "\t<row NombreCampo=\"Citologia2\" NombreTabla=\"CamposTexto\" ValorCampo=\"\"/>\n",
      "\t<row NombreCampo=\"Vivos\" NombreTabla=\"CamposEntero\" ValorCampo=\"0\"/>\n",
      "\t<row NombreCampo=\"PlanTratamiento\" NombreTabla=\"CamposTexto\" ValorCampo=\"OBSSERVACION\n",
      "HARTMANA 80 CC HORA\n",
      "S/S. HEMOGRAMA, PRC \n",
      "AMPICILINA 1 GR VI VADA 6 HORAS \n",
      "MONITORIA FETAL ANTEPARTO\n",
      "CONTROL DE ACTIVIDAD UTERINA, FCF, CAMBIOS CERVICALES \n",
      "REVALORAR\"/>\n",
      "\t<row NombreCampo=\"Analisis\" NombreTabla=\"CamposTexto\" ValorCampo=\"PACIENTE CON EMARAZO DE 39.4 SEMANAS POR ECO I TRIMESTRE + FUV+ TRABAJO DE PARTO EN FASE LATENTE+ RUPTURA PRECOZ DE MEMBRANAS QUIEN INGRESA REFIRIENDO DOLOR EN HIPOGASTRIO Y SALIDA DE LIQUDI POR GENITALES EXTERNOS, AL EXAMEN FISICO PACIENTE HEMODINAMICAMETE ESATABLE SIN VARIABLES DE SIRS, TOLERANDO OXIGENO AMBIENTE, CON PRESENCIA DE DINAMICA UTERINA Y CAMBIOS CERVICALES TARNIER POSITIVOS, SE CONSIDERA INGRESAR PACIENTE SOLICITAR EXAMNES DE INGRESAR, PRUEBAS DE BIENESTAR FETAL Y DEJAR EVOLUCIONAR EL TRABAJO DE PARTO\"/>\n",
      "\t<row NombreCampo=\"Remitido\" NombreTabla=\"CamposTexto\" ValorCampo=\"0\"/>\n",
      "\t<row NombreCampo=\"aOtros\" NombreTabla=\"CamposBoolean\" ValorCampo=\"false\"/>\n",
      "\t<row NombreCampo=\"aDescripcion\" NombreTabla=\"CamposTexto\" ValorCampo=\"1-&amp;gt; ASMA\n",
      "\n",
      "  7-&amp;gt; MENARQUIA: 12 A&amp;#209;OS.\n",
      "VIDA MARITAL: 17 A&amp;#209;OS.\n",
      "VIDA OBSTETRICA: 22 A&amp;#209;OS.\n",
      "G1 P0 A0 C0 \n",
      "CICLOS: REGULARES 28X4\n",
      "FUM: 17/04/19\n",
      "EG X FUM: 40.2 SEM\n",
      "COMPA&amp;#209;EROS SEXUALES: 5\n",
      "GRUPO SANGUINEO: O+\n",
      "PLANIFICACI&amp;#211;N FAMILIAR: NIEGA\n",
      "CONTROLES PRENATALES: 9\n",
      "ITS: NIEGA\n",
      "\n",
      "ECOGRAFIAS:\n",
      "20/06/2019: EMBARAZO DE 8.3 SEMANAS. PARA HOY 39.4 SEMANAS\n",
      "28/08/2019: EMBARAZO DE 18.3 SEMANAS. PARA HOY 39.5 SEMANAS\n",
      "27/12/2019: EMBARAZO DE 36.1 SEMANAS. PARA HOY 40.1 SEMANAS\n",
      "\n",
      "PARACLINICOS:\n",
      "20/06/2019:\n",
      "-UROANALISIS: CRISTALES DE URATO (+++)\n",
      "-GLICEMIA: 77\n",
      "-HEMOCLASIFICACION: O+\n",
      "-HEMOGRAMA: HB: 12.7 - HTO: 40.2 - LEU: 10.0 - PLQ: 241\n",
      "-PRUEBA RAPIDA TREPONEMICA: NEGATIVO\n",
      "-AGSHB: NEGATIVO\n",
      "-RUBEOLA: IGG: NEGATIVO - IGM: NEGATIVO\n",
      "-TOXOPLASMA: IGG: NEGATIVO - IGM: NEGATIVO\n",
      "-VIH 1 Y 2: NEGATIVO\n",
      "\n",
      "02/10/2019:\n",
      "-HEMOGRAMA: HB: 12.3 - HTO: 36.0 - LEU: 12.3 - PLQ: 186\n",
      "\n",
      "04/10/2019:\n",
      "-UROCULTIVO: NEGATIVO A LAS 48 HORAS\n",
      "\n",
      "03/01/2020:\n",
      "-VIH 1 Y 2: NEGATIVO\n",
      "-VDRL: NO REACTIVO\"/>\n",
      "\t<row NombreCampo=\"aFarmacologicos\" NombreTabla=\"CamposBoolean\" ValorCampo=\"false\"/>\n",
      "\t<row NombreCampo=\"aGinecoObstetrico\" NombreTabla=\"CamposBoolean\" ValorCampo=\"true\"/>\n",
      "\t<row NombreCampo=\"aHospitalarios\" NombreTabla=\"CamposBoolean\" ValorCampo=\"false\"/>\n",
      "\t<row NombreCampo=\"aTraumaticos\" NombreTabla=\"CamposBoolean\" ValorCampo=\"false\"/>\n",
      "\t<row NombreCampo=\"aPatologicos\" NombreTabla=\"CamposBoolean\" ValorCampo=\"true\"/>\n",
      "\t<row NombreCampo=\"aQuirurgicos\" NombreTabla=\"CamposBoolean\" ValorCampo=\"false\"/>\n",
      "\t<row NombreCampo=\"aToxico\" NombreTabla=\"CamposBoolean\" ValorCampo=\"false\"/>\n",
      "\t<row NombreCampo=\"aTranfusionales\" NombreTabla=\"CamposBoolean\" ValorCampo=\"false\"/>\n",
      "\t<row NombreCampo=\"FechaAtencion\" NombreTabla=\"CamposFecha\" ValorCampo=\"24/01/2020 04:02\"/>\n",
      "\t<row NombreCampo=\"DestinoPaciente\" NombreTabla=\"CamposTexto\" ValorCampo=\"Observaci&amp;#243;n\"/>\n",
      "\t<row NombreCampo=\"SuperficieMasaCorporal\" NombreTabla=\"CamposReal\" ValorCampo=\"1.8\"/>\n",
      "\t<row NombreCampo=\"Contrareferencia\" NombreTabla=\"CamposBoolean\" ValorCampo=\"false\"/>\n",
      "\t<row NombreCampo=\"ORemitido\" NombreTabla=\"CamposBoolean\" ValorCampo=\"0\"/>\n",
      "\t<row NombreCampo=\"Crue\" NombreTabla=\"CamposTexto\" ValorCampo=\"0\"/>\n",
      "\t<row NombreCampo=\"ProcedenciaE\" NombreTabla=\"CamposTexto\" ValorCampo=\"\"/>\n",
      "\t<row NombreCampo=\"CodigoMunicipio\" NombreTabla=\"CamposTexto\" ValorCampo=\"null\"/>\n",
      "\t<row NombreCampo=\"Fecha\" NombreTabla=\"CamposTexto\" ValorCampo=\"24/01/2020 04:02\"/>\n",
      "\t<row NombreCampo=\"Valoracion\" NombreTabla=\"CamposTexto\" ValorCampo=\"Alerta\"/>\n",
      "\t<row NombreCampo=\"GlasW\" NombreTabla=\"CamposReal\" ValorCampo=\"15\"/>\n",
      "\t<row NombreCampo=\"Prioridad\" NombreTabla=\"CamposTexto\" ValorCampo=\"III\"/>\n",
      "\t<row NombreCampo=\"Procedencia\" NombreTabla=\"CamposTexto\" ValorCampo=\"-\"/>\n",
      "\t<row NombreCampo=\"Incapacidad\" NombreTabla=\"CamposTexto\" ValorCampo=\"0\"/>\n",
      "\t<row NombreCampo=\"OtraCausaExterna\" NombreTabla=\"CamposTexto\" ValorCampo=\"\"/>\n",
      "\t<row NombreCampo=\"PresionSistole\" NombreTabla=\"CamposReal\" ValorCampo=\"140\"/>\n",
      "\t<row NombreCampo=\"PresionDiastole\" NombreTabla=\"CamposReal\" ValorCampo=\"90\"/>\n",
      "\t<row NombreCampo=\"PresionArterialMedia\" NombreTabla=\"CamposReal\" ValorCampo=\"106.67\"/>\n",
      "\t<row NombreCampo=\"PerimetroCefalico\" NombreTabla=\"CamposReal\" ValorCampo=\"\"/>\n",
      "\t<row NombreCampo=\"PerimetroToracico\" NombreTabla=\"CamposReal\" ValorCampo=\"\"/>\n",
      "\t<row NombreCampo=\"Pulso\" NombreTabla=\"CamposReal\" ValorCampo=\"\"/>\n",
      "\t<row NombreCampo=\"aAlergiaMedicamento\" NombreTabla=\"CamposTexto\" ValorCampo=\"false\"/>\n",
      "\t<row NombreCampo=\"Embarazada\" NombreTabla=\"CamposBoolean\" ValorCampo=\"false\"/>\n",
      "\t<row NombreCampo=\"NumeroConsultas\" NombreTabla=\"CamposTexto\" ValorCampo=\"\"/>\n",
      "\t<row NombreCampo=\"Cafales\" NombreTabla=\"CamposBoolean\" ValorCampo=\"False\"/>\n",
      "\t<row NombreCampo=\"Admitido\" NombreTabla=\"CamposBoolean\" ValorCampo=\"1\"/>\n",
      "\t<row NombreCampo=\"Vomitos\" NombreTabla=\"CamposBoolean\" ValorCampo=\"False\"/>\n",
      "\t<row NombreCampo=\"Adema\" NombreTabla=\"CamposBoolean\" ValorCampo=\"False\"/>\n",
      "\t<row NombreCampo=\"SangradoVaginal\" NombreTabla=\"CamposBoolean\" ValorCampo=\"False\"/>\n",
      "\t<row NombreCampo=\"Epigastralgia\" NombreTabla=\"CamposBoolean\" ValorCampo=\"False\"/>\n",
      "\t<row NombreCampo=\"IntensidadSintomatica\" NombreTabla=\"CamposBoolean\" ValorCampo=\"false\"/>\n",
      "\t<row NombreCampo=\"Otros\" NombreTabla=\"CamposTexto\" ValorCampo=\"\"/>\n",
      "\t<row NombreCampo=\"EscalaAnaloga\" NombreTabla=\"CamposTexto\" ValorCampo=\"\"/>\n",
      "\t<row NombreCampo=\"NivelDolor\" NombreTabla=\"CamposTexto\" ValorCampo=\"\"/>\n",
      "\t<row NombreCampo=\"ObservacionesParaclinicos\" NombreTabla=\"CamposTexto\" ValorCampo=\"LO DESCRITO \"/>\n",
      "\t<row NombreCampo=\"EmbarazoControlado\" NombreTabla=\"CamposBoolean\" ValorCampo=\"False\"/>\n",
      "\t<row NombreCampo=\"OtrosGinecologicos\" NombreTabla=\"CamposTexto\" ValorCampo=\"\"/>\n",
      "\t<row NombreCampo=\"DiagnosticoRealcionado2\" NombreTabla=\"CamposTexto\" ValorCampo=\"\"/>\n",
      "\t<row NombreCampo=\"DiagnosticoRealcionado3\" NombreTabla=\"CamposTexto\" ValorCampo=\"\"/>\n",
      "\t<row NombreCampo=\"CodigoDiagnosticoRealcionado2\" NombreTabla=\"CamposTexto\" ValorCampo=\"\"/>\n",
      "\t<row NombreCampo=\"CodigoDiagnosticoRealcionado3\" NombreTabla=\"CamposTexto\" ValorCampo=\"\"/>\n",
      "\t<row NombreCampo=\"ValoresAntecedentesPaciente\" NombreTabla=\"CamposTexto\" ValorCampo=\"\"/>\n",
      "\t<row NombreCampo=\"Cefaleas\" NombreTabla=\"CamposBoolean\" ValorCampo=\"False\"/>\n",
      "\t<row NombreCampo=\"Edema\" NombreTabla=\"CamposBoolean\" ValorCampo=\"False\"/>\n",
      "\t<row NombreCampo=\"FechaFinalAtencion\" NombreTabla=\"CamposTexto\" ValorCampo=\"24/01/2020 04:07\"/>\n",
      "\t<row NombreCampo=\"SaturacionOxigeno\" NombreTabla=\"CamposEntero\" ValorCampo=\"\"/>\n",
      "\t<row NombreCampo=\"Glucometria\" NombreTabla=\"CamposTexto\" ValorCampo=\"\"/>\n",
      "\t<row NombreCampo=\"Consulta\" NombreTabla=\"CamposTexto\" ValorCampo=\"\"/>\n",
      "</C>\n",
      "\n"
     ]
    }
   ],
   "source": [
    "prettyPrintXML(registros.loc[1369859, 'RegistroXML'])"
   ]
  },
  {
   "cell_type": "code",
   "execution_count": 28,
   "metadata": {},
   "outputs": [
    {
     "name": "stdout",
     "output_type": "stream",
     "text": [
      "28\n"
     ]
    }
   ],
   "source": [
    "print(errorsEpicrisis)"
   ]
  },
  {
   "cell_type": "code",
   "execution_count": null,
   "metadata": {
    "Collapsed": "false"
   },
   "outputs": [],
   "source": [
    "#TODO: check that operation and diagnosis are compatible."
   ]
  },
  {
   "cell_type": "code",
   "execution_count": null,
   "metadata": {
    "Collapsed": "false",
    "scrolled": true
   },
   "outputs": [],
   "source": [
    "getprocID(i.XmlDescripcion)\n",
    "for k,c in interventionToCase[k].iterrows():\n",
    "    prettyPrintXML(c.RegistroXML)"
   ]
  },
  {
   "cell_type": "code",
   "execution_count": null,
   "metadata": {
    "Collapsed": "false"
   },
   "outputs": [],
   "source": [
    "d = getEpicrisis('AD152124', casos)"
   ]
  },
  {
   "cell_type": "code",
   "execution_count": null,
   "metadata": {
    "Collapsed": "false"
   },
   "outputs": [],
   "source": [
    "import xml.etree.ElementTree as ET\n"
   ]
  },
  {
   "cell_type": "code",
   "execution_count": null,
   "metadata": {
    "Collapsed": "false"
   },
   "outputs": [],
   "source": [
    "def parseGestationalAge(s):\n",
    "    pass"
   ]
  },
  {
   "cell_type": "code",
   "execution_count": null,
   "metadata": {
    "Collapsed": "false",
    "scrolled": true
   },
   "outputs": [],
   "source": [
    "import tqdm\n",
    "casos_wo_epi = 0\n",
    "casos_several_epi = 0\n",
    "results ={}\n",
    "for i,c in tqdm.tqdm_notebook(enumerate(registros.groupby('Caso')), total = len(casos)):\n",
    "    if i == 1000:\n",
    "        break\n",
    "    epicrisis= getEpicrisis(c[0], c[1])\n",
    "    if len(epicrisis) == 0:    \n",
    "        casos_wo_epi += 1\n",
    "    elif len(epicrisis) >= 2:    \n",
    "        casos_several_epi += 1\n",
    "    else:\n",
    "        stringRegistro = epicrisis.RegistroXML.iloc[0]\n",
    "        results[c[0]] = parseGPCA_and_fum(stringRegistro)\n",
    "        data = {}\n",
    "        for cc in c[1].iterrows():\n",
    "            data = getDataFromCase(cc[1])\n",
    "            if data:\n",
    "                break\n",
    "        results[c[0]].update(data)\n",
    "    #I am not looking at echo information\n",
    "    #Search also for \"ultimo parto\"\n",
    "    #Search for height, weight and vital signs (can they change?) in the rest of the report. They are a row field in HTML."
   ]
  },
  {
   "cell_type": "code",
   "execution_count": null,
   "metadata": {
    "Collapsed": "false"
   },
   "outputs": [],
   "source": [
    "print('With epi: %d' % len(results))\n",
    "print('Missing epi: %d' % casos_wo_epi)\n",
    "print('Several epi: %d' % casos_several_epi)"
   ]
  },
  {
   "cell_type": "code",
   "execution_count": null,
   "metadata": {
    "Collapsed": "false"
   },
   "outputs": [],
   "source": [
    "pd = pandas.DataFrame.from_dict(results, orient = 'index')\n",
    "np.sum(pd.fum_OK != 0), np.sum(pd.fum), np.sum(pd.GPCA_OK), len(pd) "
   ]
  },
  {
   "cell_type": "code",
   "execution_count": null,
   "metadata": {
    "Collapsed": "false",
    "scrolled": true
   },
   "outputs": [],
   "source": [
    "pd[pd.fum_OK == False]"
   ]
  },
  {
   "cell_type": "code",
   "execution_count": null,
   "metadata": {
    "Collapsed": "false"
   },
   "outputs": [],
   "source": [
    "epicrisis= getEpicrisis('AD321568', registros)\n",
    "stringRegistro = epicrisis.RegistroXML.iloc[0]\n",
    "parseGPCA_and_fum(stringRegistro)"
   ]
  },
  {
   "cell_type": "code",
   "execution_count": null,
   "metadata": {
    "Collapsed": "false"
   },
   "outputs": [],
   "source": [
    "allRegisters = registros[registros.Caso == 'AD257917']\n",
    "epicrisis= getEpicrisis('AD257917', registros[registros.Caso == 'AD257917'])\n",
    "s = epicrisis.RegistroXML.iloc[0]\n",
    "l = list(filter(lambda S: S.attrib ['NombreCampo'] == \"AntecedentesHTML\",ET.fromstring(s).findall('row')))[0]\n",
    "text = pars.unescape(l.attrib['ValorCampo'])\n",
    "text"
   ]
  },
  {
   "cell_type": "code",
   "execution_count": null,
   "metadata": {
    "Collapsed": "false"
   },
   "outputs": [],
   "source": [
    "prettyPrintXML(s) "
   ]
  },
  {
   "cell_type": "code",
   "execution_count": null,
   "metadata": {
    "Collapsed": "false"
   },
   "outputs": [],
   "source": [
    "sep= '\\s*[,;:]?\\s*'\n",
    " #In some cases there is only G\n",
    "patternGCPCA = 'G%s(?P<G>[0-9]+)' %sep + sep + 'P%s(?P<P>[0-9]+)'  %sep + sep + '(?:'\n",
    "patternGCPCA += 'A%s(?P<A>[0-9]+)' %sep  + sep + 'C%s(?P<C>[0-9]+)'  %sep\n",
    "patternGCPCA += '|'\n",
    "patternGCPCA += 'C%s(?P<C2>[0-9]+)' %sep  + sep + 'A%s(?P<A2>[0-9]+)' %sep\n",
    "patternGCPCA += '|' # C and A can be missing, or in other order\n",
    "patternGCPCA += ')'\n",
    "searchGCPCA = re.compile(patternGCPCA, flags=0)\n",
    "searchGCPCA.findall(epicrisis.iloc[0].RegistroXML)"
   ]
  },
  {
   "cell_type": "code",
   "execution_count": null,
   "metadata": {
    "Collapsed": "false"
   },
   "outputs": [],
   "source": [
    "import html\n",
    "xmlString = epicrisis.iloc[0].RegistroXML\n",
    "\n",
    "r = list(filter(lambda S: S.attrib ['NombreCampo'] == \"AntecedentesHTML\",ET.fromstring(xmlString).findall('row')))\n",
    "text = pars.unescape(r[0].attrib['ValorCampo'])\n",
    "line = re.findall('^.*G' + sep + '[0-9]+.*$', text, re.M)\n",
    "if len(line) != 2:\n",
    "    #return False\n",
    "    pass\n",
    "G = re.findall('G' + sep + '([0-9]+)', line[0])[0]\n",
    "A = re.findall('A' + sep + '([0-9]+)', line[0])[0]\n",
    "C = re.findall('C' + sep + '([0-9]+)', line[0])[0]\n",
    "P = re.findall('P' + sep + '([0-9]+)', line[0])[0] "
   ]
  },
  {
   "cell_type": "code",
   "execution_count": null,
   "metadata": {
    "Collapsed": "false"
   },
   "outputs": [],
   "source": [
    "G"
   ]
  },
  {
   "cell_type": "code",
   "execution_count": null,
   "metadata": {
    "Collapsed": "false"
   },
   "outputs": [],
   "source": [
    "text.attrib['ValorCampo']"
   ]
  },
  {
   "cell_type": "code",
   "execution_count": null,
   "metadata": {
    "Collapsed": "false"
   },
   "outputs": [],
   "source": [
    "print(epicrisis.iloc[0].RegistroXML)\n",
    "searchGCPCA.findall(epicrisis.iloc[0].RegistroXML)"
   ]
  },
  {
   "cell_type": "code",
   "execution_count": null,
   "metadata": {
    "Collapsed": "false"
   },
   "outputs": [],
   "source": []
  },
  {
   "cell_type": "code",
   "execution_count": null,
   "metadata": {
    "Collapsed": "false",
    "scrolled": true
   },
   "outputs": [],
   "source": [
    "for a in allRegisters.iterrows():\n",
    "    print(prettyPrintXML(a[1].RegistroXML))"
   ]
  },
  {
   "cell_type": "code",
   "execution_count": null,
   "metadata": {
    "Collapsed": "false"
   },
   "outputs": [],
   "source": [
    "r = registros.loc[393965]\n",
    "\n",
    "r = xml.dom.minidom.parseString(stringRegistro) #r.RegistroXML)\n",
    "print(r.toprettyxml())"
   ]
  },
  {
   "cell_type": "code",
   "execution_count": null,
   "metadata": {
    "Collapsed": "false"
   },
   "outputs": [],
   "source": [
    "for c in r.childNodes:\n",
    "    print(c)\n",
    "    for cc in c.childNodes:\n",
    "        print(cc, cc.attributes['NombreCampo'].value)"
   ]
  },
  {
   "cell_type": "code",
   "execution_count": null,
   "metadata": {
    "Collapsed": "false"
   },
   "outputs": [],
   "source": []
  },
  {
   "cell_type": "code",
   "execution_count": null,
   "metadata": {
    "Collapsed": "false"
   },
   "outputs": [],
   "source": [
    "def getDataFromPatient(p):\n",
    "    \"\"\"\n",
    "    Get the patient data\n",
    "    \"\"\"\n",
    "    r = {}\n",
    "    r['id'] = r.Identificacion\n",
    "    r['marital'] = p.EstadoCivil\n",
    "    r['etnia'] = p.Etnia #Map from id to string\n",
    "    r['estudios'] = p.Escolaridad #Map from id to string\n",
    "    r['nacimiento'] = p.FechaNac #Map from id to string"
   ]
  },
  {
   "cell_type": "code",
   "execution_count": null,
   "metadata": {
    "Collapsed": "false"
   },
   "outputs": [],
   "source": [
    "rString = registros.RegistroXML[465351]\n",
    "register = ET.fromstring(rString)"
   ]
  },
  {
   "cell_type": "code",
   "execution_count": null,
   "metadata": {
    "Collapsed": "false"
   },
   "outputs": [],
   "source": [
    "r = xml.dom.minidom.parseString(rString)\n",
    "print(r.toprettyxml())"
   ]
  },
  {
   "cell_type": "code",
   "execution_count": null,
   "metadata": {
    "Collapsed": "false"
   },
   "outputs": [],
   "source": [
    "i = 57\n",
    "print(i, v[i].attributes['NombreCampo'].value,v[i].nodeValue)\n",
    "print (\" \".join(t.nodeValue for t in v[i].childNodes if t.nodeType == t.TEXT_NODE))"
   ]
  },
  {
   "cell_type": "code",
   "execution_count": null,
   "metadata": {
    "Collapsed": "false"
   },
   "outputs": [],
   "source": [
    "from html.parser import HTMLParser\n",
    "pars =HTMLParser()\n",
    "pars.unescape(s)"
   ]
  },
  {
   "cell_type": "code",
   "execution_count": null,
   "metadata": {
    "Collapsed": "false"
   },
   "outputs": [],
   "source": []
  }
 ],
 "metadata": {
  "kernelspec": {
   "display_name": "Python 3",
   "language": "python",
   "name": "python3"
  },
  "language_info": {
   "codemirror_mode": {
    "name": "ipython",
    "version": 3
   },
   "file_extension": ".py",
   "mimetype": "text/x-python",
   "name": "python",
   "nbconvert_exporter": "python",
   "pygments_lexer": "ipython3",
   "version": "3.7.1"
  }
 },
 "nbformat": 4,
 "nbformat_minor": 4
}
