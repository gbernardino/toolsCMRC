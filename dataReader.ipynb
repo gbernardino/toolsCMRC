{
 "cells": [
  {
   "cell_type": "code",
   "execution_count": 10,
   "metadata": {
    "Collapsed": "false"
   },
   "outputs": [],
   "source": [
    "import pandas, numpy as np\n",
    "import xml, itertools, re"
   ]
  },
  {
   "cell_type": "code",
   "execution_count": 2,
   "metadata": {
    "Collapsed": "false"
   },
   "outputs": [
    {
     "name": "stderr",
     "output_type": "stream",
     "text": [
      "/Users/gbernardino/opt/miniconda3/lib/python3.7/site-packages/IPython/core/interactiveshell.py:3051: DtypeWarning: Columns (6,27,55) have mixed types. Specify dtype option on import or set low_memory=False.\n",
      "  interactivity=interactivity, compiler=compiler, result=result)\n",
      "/Users/gbernardino/opt/miniconda3/lib/python3.7/site-packages/IPython/core/interactiveshell.py:3051: DtypeWarning: Columns (19) have mixed types. Specify dtype option on import or set low_memory=False.\n",
      "  interactivity=interactivity, compiler=compiler, result=result)\n"
     ]
    }
   ],
   "source": [
    "casos = pandas.read_csv('Venezolanas/casos.csv', index_col = 0)\n",
    "pacientes = pandas.read_csv('Venezolanas/pacientes.csv', index_col = 0)\n",
    "registros = pandas.read_csv('Venezolanas/registros.csv', index_col = 0)\n",
    "diagnosis = pandas.read_csv('Venezolanas/diagnosis.csv', index_col = 0)\n",
    "from html.parser import HTMLParser\n",
    "pars =HTMLParser()\n",
    "#pars.unescape"
   ]
  },
  {
   "cell_type": "code",
   "execution_count": 3,
   "metadata": {
    "Collapsed": "false"
   },
   "outputs": [
    {
     "name": "stderr",
     "output_type": "stream",
     "text": [
      "/Users/gbernardino/opt/miniconda3/lib/python3.7/site-packages/pandas/core/indexing.py:961: FutureWarning: \n",
      "Passing list-likes to .loc or [] with any missing label will raise\n",
      "KeyError in the future, you can use .reindex() as an alternative.\n",
      "\n",
      "See the documentation here:\n",
      "https://pandas.pydata.org/pandas-docs/stable/user_guide/indexing.html#deprecate-loc-reindex-listlike\n",
      "  return getattr(section, self.name)[new_key]\n"
     ]
    }
   ],
   "source": [
    "unique =  casos.Diagnostico.unique()\n",
    "unique = [u for u in unique if isinstance(u, str)]\n",
    "diagnosis.loc[unique, 'dfg'].to_excel('Venezolanas/DiagnosisFiltered.xlsx')"
   ]
  },
  {
   "cell_type": "code",
   "execution_count": 208,
   "metadata": {
    "Collapsed": "false"
   },
   "outputs": [],
   "source": [
    "#Check duplicates by birthData\n",
    "def candidateToRepeated(p1, p2):\n",
    "    \"\"\"\n",
    "    Selects as candidate if they were born in the same name:\n",
    "    - they have the same 1st surname\n",
    "    - [TODO] they have similar height (~2cm), as found in the cases\n",
    "    \n",
    "    TODO: beware the case of twins!\n",
    "    \"\"\"\n",
    "    #First surname criterio\n",
    "    if p1[1].Ape1Afil.strip().lower() == p2[1].Ape1Afil.strip().lower():\n",
    "        return True\n",
    "    #TODO: Search height and see it's similar\n",
    "    if False:\n",
    "        return True\n",
    "    #Otherwise return False\n",
    "    return False\n",
    "    \n",
    "\n",
    "#Beware\n",
    "candidates = []\n",
    "threshold = '2010'\n",
    "for c in pacientes.groupby('FechaNac'):\n",
    "    #Arbitrary threshold for separating between mothers and borns\n",
    "    if len(c[1]) >= 2 and c[0][:4] < threshold:\n",
    "        for p1, p2 in itertools.combinations(c[1].iterrows(), r = 2):\n",
    "            if p1[0] != p2[0] and candidateToRepeated(p1, p2):\n",
    "                candidates.append([p1[0], p2[0]])\n",
    "pandas.DataFrame.from_records(candidates).to_csv('repeatedCandidates.csv')"
   ]
  },
  {
   "cell_type": "code",
   "execution_count": 4,
   "metadata": {
    "Collapsed": "false"
   },
   "outputs": [],
   "source": [
    "import xml.etree.ElementTree as ET\n"
   ]
  },
  {
   "cell_type": "code",
   "execution_count": 5,
   "metadata": {
    "Collapsed": "false"
   },
   "outputs": [],
   "source": [
    "def getEpicrisis(casoID, registrosByCase):\n",
    "    return registros[(registros.Caso == casoID) & \n",
    "                     (registros.Asunto.str.contains('Epicrisis', case = False) == True)]"
   ]
  },
  {
   "cell_type": "code",
   "execution_count": 109,
   "metadata": {
    "Collapsed": "false"
   },
   "outputs": [],
   "source": [
    "def getDataFromCase(case):\n",
    "    \"\"\"\n",
    "    Get some information from the case\n",
    "    \"\"\"\n",
    "    data = {}\n",
    "    r = ET.fromstring(case.RegistroXML)\n",
    "    try:\n",
    "        data['FC']=r.find('.//row[@NombreCampo=\"FrecuenciaCardiaca\"]').get('ValorCampo')\n",
    "        data['FR']=r.find('.//row[@NombreCampo=\"FrecuenciaRespiratoria\"]').get('ValorCampo')\n",
    "        data['Presion']=r.find('.//row[@NombreCampo=\"Presion\"]').get('ValorCampo')\n",
    "        data['Temperatura']=r.find('.//row[@NombreCampo=\"Temperatura\"]').get('ValorCampo')\n",
    "        data['Talla']=r.find('.//row[@NombreCampo=\"Talla\"]').get('ValorCampo')\n",
    "        data['Peso']=r.find('.//row[@NombreCampo=\"Peso\"]').get('ValorCampo')\n",
    "        return data\n",
    "    except:\n",
    "        return {}"
   ]
  },
  {
   "cell_type": "code",
   "execution_count": 50,
   "metadata": {
    "Collapsed": "false"
   },
   "outputs": [],
   "source": [
    "floatParse = '[0-9]*\\.?[0-9]+'\n",
    "allEqual = lambda s: all([i == j for i, j in  itertools.combinations(s, r = 2)])\n",
    "\n",
    "def parseGPCA_and_fum(s):\n",
    "    parsedGPCA = re.findall('G\\s*([0-9]+)\\s*P\\s*([0-9]+)\\s*C\\s*([0-9]+)\\s*A\\s*([0-9]+)', registroString)\n",
    "    parsedFUM = re.findall('FUM: [0-9]+/[0-9]+/[0-9]+', registroString, flags = re.IGNORECASE)\n",
    "    return {'fum' : len(parsedFUM) > 0,\n",
    "            'GPCA' : len(parsedGPCA) > 0, \n",
    "            'fum_OK' : allEqual(parsedFUM),\n",
    "            'GPCA_OK' : allEqual(parsedGPCA),\n",
    "            'fum_Data' : parsedFUM[0] if parsedFUM else [],\n",
    "            'parsedGPCA' : parsedGPCA[0] if parsedGPCA else []}"
   ]
  },
  {
   "cell_type": "code",
   "execution_count": 119,
   "metadata": {
    "Collapsed": "false",
    "scrolled": true
   },
   "outputs": [
    {
     "data": {
      "application/vnd.jupyter.widget-view+json": {
       "model_id": "9fd5005dfd4a4dd0bfb953850a82356f",
       "version_major": 2,
       "version_minor": 0
      },
      "text/plain": [
       "HBox(children=(IntProgress(value=0, max=10091), HTML(value='')))"
      ]
     },
     "metadata": {},
     "output_type": "display_data"
    },
    {
     "name": "stdout",
     "output_type": "stream",
     "text": [
      "0\n",
      "100\n",
      "200\n",
      "300\n",
      "400\n",
      "500\n",
      "600\n",
      "700\n",
      "800\n",
      "900\n",
      "1000\n",
      "2000\n",
      "3000\n",
      "4000\n",
      "5000\n",
      "6000\n",
      "7000\n",
      "8000\n",
      "9000\n",
      "10000\n",
      "11000\n",
      "12000\n",
      "13000\n",
      "14000\n",
      "\n"
     ]
    }
   ],
   "source": [
    "import tqdm\n",
    "casos_wo_epi = 0\n",
    "casos_several_epi = 0\n",
    "results ={}\n",
    "for i,c in tqdm.tqdm_notebook(enumerate(registros.groupby('Caso')), total = len(casos)):\n",
    "    if i % 100 == 0 and (i < 1000 or i % 1000 == 0):\n",
    "        print(i)\n",
    "    \n",
    "    epicrisis= getEpicrisis(c[0], c[1])\n",
    "    if len(epicrisis) == 0:    \n",
    "        casos_wo_epi += 1\n",
    "    elif len(epicrisis) >= 2:    \n",
    "        casos_several_epi += 1\n",
    "    else:\n",
    "        stringRegistro = epicrisis.RegistroXML.iloc[0]\n",
    "        results[c[0]] = parseGPCA_and_fum(stringRegistro)\n",
    "        data = {}\n",
    "        for cc in c[1].iterrows():\n",
    "            data = getDataFromCase(cc[1])\n",
    "            if data:\n",
    "                break\n",
    "        results[c[0]].update(data)\n",
    "    #I am not looking at echo information\n",
    "    #Search also for \"ultimo parto\"\n",
    "    #Search for height, weight and vital signs (can they change?) in the rest of the report. They are a row field in HTML."
   ]
  },
  {
   "cell_type": "code",
   "execution_count": 120,
   "metadata": {
    "Collapsed": "false"
   },
   "outputs": [
    {
     "name": "stdout",
     "output_type": "stream",
     "text": [
      "Missing epi: 9693\n",
      "Several epi: 437\n"
     ]
    }
   ],
   "source": [
    "print('Missing epi: %d' % casos_wo_epi)\n",
    "print('Several epi: %d' % casos_several_epi)"
   ]
  },
  {
   "cell_type": "code",
   "execution_count": 121,
   "metadata": {
    "Collapsed": "false"
   },
   "outputs": [
    {
     "data": {
      "text/plain": [
       "(3940, 3940, 3940, 3940, 3940)"
      ]
     },
     "execution_count": 121,
     "metadata": {},
     "output_type": "execute_result"
    }
   ],
   "source": [
    "pd = pandas.DataFrame.from_dict(results, orient = 'index')\n",
    "np.sum(pd.fum_OK), np.sum(pd.fum), np.sum(pd.GPCA_OK), np.sum(pd.GPCA), len(pd) "
   ]
  },
  {
   "cell_type": "code",
   "execution_count": 125,
   "metadata": {
    "Collapsed": "false"
   },
   "outputs": [
    {
     "data": {
      "text/plain": [
       "3824"
      ]
     },
     "execution_count": 125,
     "metadata": {},
     "output_type": "execute_result"
    }
   ],
   "source": [
    "pd.Presion.count()"
   ]
  },
  {
   "cell_type": "code",
   "execution_count": 102,
   "metadata": {
    "Collapsed": "false"
   },
   "outputs": [
    {
     "name": "stdout",
     "output_type": "stream",
     "text": [
      "<Element 'row' at 0x12b3bba10> dict_items([('NombreCampo', 'TipoConsulta'), ('ValorCampo', 'OBSTETRICA'), ('NombreTabla', 'CamposTexto')])\n",
      "<Element 'row' at 0x12b3bb890> dict_items([('NombreCampo', 'PlanAdministradora'), ('ValorCampo', 'DEPARTAMENTO ADMINISTRATIVO DISTRITAL DE SALUD (DADIS) / DADIS CARTAGENA SISBENIZADO'), ('NombreTabla', 'CamposTexto')])\n",
      "<Element 'row' at 0x12b3bbe50> dict_items([('NombreCampo', 'MotivoConsulta'), ('ValorCampo', 'TENGO FIEBRE Y DOLOR DE CABEZA&quot;'), ('NombreTabla', 'CamposTexto')])\n",
      "<Element 'row' at 0x12b3bb210> dict_items([('NombreCampo', 'EnfermedadActual'), ('ValorCampo', ' PACIENTE DE 16 A&#209;OS DE EDAD CON CUADRO CLINICO DE 15 DIAS DE EVOLUCION CONSISTENTE EN FIEBRE NO CUANTIFICADA ASOCIADO A DEBILIDAD, DISURIA, POLAQUIURIA, TENESMO, ORINA  COLOR  AMARILLA.PACIENTE REFIERE QUE EL DIA DE AYER SE CAYO DE SUS PROPIA ALTURA.POR LO CUAL CONSULTA.'), ('NombreTabla', 'CamposTexto')])\n",
      "<Element 'row' at 0x12b3bb190> dict_items([('NombreCampo', 'FrecuenciaCardiaca'), ('ValorCampo', '105'), ('NombreTabla', 'CamposReal')])\n",
      "<Element 'row' at 0x12b3bb090> dict_items([('NombreCampo', 'FrecuenciaRespiratoria'), ('ValorCampo', '17'), ('NombreTabla', 'CamposReal')])\n",
      "<Element 'row' at 0x12c9a24d0> dict_items([('NombreCampo', 'Presion'), ('ValorCampo', '100/60'), ('NombreTabla', 'CamposTexto')])\n",
      "<Element 'row' at 0x12c9a2e10> dict_items([('NombreCampo', 'Temperatura'), ('ValorCampo', '37.0'), ('NombreTabla', 'CamposReal')])\n",
      "<Element 'row' at 0x12c9a2910> dict_items([('NombreCampo', 'Talla'), ('ValorCampo', '1.65'), ('NombreTabla', 'CamposReal')])\n",
      "<Element 'row' at 0x12c9a2050> dict_items([('NombreCampo', 'Peso'), ('ValorCampo', '80'), ('NombreTabla', 'CamposReal')])\n",
      "<Element 'row' at 0x12c9a22d0> dict_items([('NombreCampo', 'IndiceMasaCorporal'), ('ValorCampo', '29.38'), ('NombreTabla', 'CamposReal')])\n",
      "<Element 'row' at 0x12c9a2550> dict_items([('NombreCampo', 'AntecedentesPersonales'), ('ValorCampo', '7-&gt; G1 P0 A0 C0 \\nFUM: 20/ABRIL/2015. PARA HOY 19SEM Y 1 DIA\\nMENARQUIA:10 A&#209;OS\\t\\nVIDA SEXUAL: 14 A&#209;OS\\nVIDA OBSTETRICA:16 A&#209;OS\\nPLANIFICACION: NO\\nNo. PAREJAS:3\\nGSRh:NO SABE'), ('NombreTabla', 'CamposTexto')])\n",
      "<Element 'row' at 0x12c9a2850> dict_items([('NombreCampo', 'AntecedentesFamiliares'), ('ValorCampo', 'NIEGA'), ('NombreTabla', 'CamposTexto')])\n",
      "<Element 'row' at 0x12c9a2c90> dict_items([('NombreCampo', 'AntecedentesAlergicos'), ('ValorCampo', ''), ('NombreTabla', 'CamposTexto')])\n",
      "<Element 'row' at 0x12c9a2610> dict_items([('NombreCampo', 'AntecedentesQx'), ('ValorCampo', ''), ('NombreTabla', 'CamposTexto')])\n",
      "<Element 'row' at 0x12c9a2f90> dict_items([('NombreCampo', 'FechaMenarquia'), ('ValorCampo', ''), ('NombreTabla', 'CamposTexto')])\n",
      "<Element 'row' at 0x12c9a2f50> dict_items([('NombreCampo', 'FechaUltimaMestruacion'), ('ValorCampo', ''), ('NombreTabla', 'CamposTexto')])\n",
      "<Element 'row' at 0x12c9a2990> dict_items([('NombreCampo', 'FechaUltimoParto'), ('ValorCampo', ''), ('NombreTabla', 'CamposTexto')])\n",
      "<Element 'row' at 0x12c9a2a90> dict_items([('NombreCampo', 'FechaCitologia'), ('ValorCampo', ''), ('NombreTabla', 'CamposTexto')])\n",
      "<Element 'row' at 0x12c9a29d0> dict_items([('NombreCampo', 'Gestacion'), ('ValorCampo', '0'), ('NombreTabla', 'CamposEntero')])\n",
      "<Element 'row' at 0x12c9a25d0> dict_items([('NombreCampo', 'Parto'), ('ValorCampo', '0'), ('NombreTabla', 'CamposEntero')])\n",
      "<Element 'row' at 0x12c9a26d0> dict_items([('NombreCampo', 'Aborto'), ('ValorCampo', '0'), ('NombreTabla', 'CamposEntero')])\n",
      "<Element 'row' at 0x12c9a2b90> dict_items([('NombreCampo', 'Cesarea'), ('ValorCampo', '0'), ('NombreTabla', 'CamposEntero')])\n",
      "<Element 'row' at 0x12c9a2190> dict_items([('NombreCampo', 'Apariencia'), ('ValorCampo', 'PACIENTE CONSCIENTE, ORIENTADA, ALERTA.'), ('NombreTabla', 'CamposTexto')])\n",
      "<Element 'row' at 0x12c9a2450> dict_items([('NombreCampo', 'CraneoCaraCuello'), ('ValorCampo', 'NORMOCEFALO, ESCLERAS ANICTERICAS, CONJUNTIVAS ROSADAS, MUCOSA ORAL HUMEDA, CUELLO MOVILSIN MASAS NI ADENOPATIAS PALPABLES'), ('NombreTabla', 'CamposTexto')])\n",
      "<Element 'row' at 0x12c9a2cd0> dict_items([('NombreCampo', 'Torax'), ('ValorCampo', 'SIMETRICO, EXPANSIBLE, SIN TIRAJES NI RETRACCIONES, RCRS SIN SOPLOS NI SOBREAGREGADOS, PULMONES CLAROS BIEN VENTILADOS SIN SOBREAGREGADOS.'), ('NombreTabla', 'CamposTexto')])\n",
      "<Element 'row' at 0x12c969190> dict_items([('NombreCampo', 'Abdomen'), ('ValorCampo', 'ABDOMEN GLOBOSO POR UTERO GRAVISDO, AU:20CM  SIN ACTIVIDAD UTERINA TONO UTERINO NORMAL, FETO LONGITUDINAL, CEFALICO, DORSO IZQUIERDO, FCF 150 LPM, MOVIMIENTOS FETALES PRESENTES, PU&#209;OPERCUSION BIATERAL NEGATIVA. '), ('NombreTabla', 'CamposTexto')])\n",
      "<Element 'row' at 0x12c969490> dict_items([('NombreCampo', 'PielYFaneras'), ('ValorCampo', 'HIDRATADAS, PALIDES MUCO CUTANEA MARCADA '), ('NombreTabla', 'CamposTexto')])\n",
      "<Element 'row' at 0x12c969950> dict_items([('NombreCampo', 'GenitoUrinario'), ('ValorCampo', 'GENITALES EXTERNOS NORMOCONFIGURADOS, A LA ESPECULOSCOPIA MUCOSA ROSADA, PLIEGUES VAGINALES PRESENTES, SIN ESTIGMAS DE SANGRADO.LEUCORREA BLANQUECINA GRUMOSA,TANERNIER NEGATIVO AL TACTO LAT NORMAL, CERVIX CENTRAL, DURO, CERRADO.ANEXOS NO PALPABLES.'), ('NombreTabla', 'CamposTexto')])\n",
      "<Element 'row' at 0x12c969390> dict_items([('NombreCampo', 'Extremidades'), ('ValorCampo', 'SIMETRICAS EUTROFICAS SIN EDEMA'), ('NombreTabla', 'CamposTexto')])\n",
      "<Element 'row' at 0x12c9691d0> dict_items([('NombreCampo', 'SistemaNerviosoCentral'), ('ValorCampo', 'SIN DEFICIT APARENTE '), ('NombreTabla', 'CamposTexto')])\n",
      "<Element 'row' at 0x12c969b10> dict_items([('NombreCampo', 'RevisionPorSistema'), ('ValorCampo', ''), ('NombreTabla', 'CamposTexto')])\n",
      "<Element 'row' at 0x12c969990> dict_items([('NombreCampo', 'SistemaAfectado'), ('ValorCampo', 'GENITALES '), ('NombreTabla', 'CamposTexto')])\n",
      "<Element 'row' at 0x12c969e10> dict_items([('NombreCampo', 'DescripcionDiagnostico'), ('ValorCampo', ''), ('NombreTabla', 'CamposTexto')])\n",
      "<Element 'row' at 0x12c969350> dict_items([('NombreCampo', 'EsquemaTratamiento'), ('ValorCampo', ''), ('NombreTabla', 'CamposTexto')])\n",
      "<Element 'row' at 0x12c969b50> dict_items([('NombreCampo', 'FinalidadConsulta'), ('ValorCampo', '10-No Aplica'), ('NombreTabla', 'CamposTexto')])\n",
      "<Element 'row' at 0x12c9697d0> dict_items([('NombreCampo', 'TipoDiagnosticoPrincipal'), ('ValorCampo', '1-Impresi&#243;n diagn&#243;stica'), ('NombreTabla', 'CamposTexto')])\n",
      "<Element 'row' at 0x12c969690> dict_items([('NombreCampo', 'CausaExterna'), ('ValorCampo', '13-Enfermedad general'), ('NombreTabla', 'CamposTexto')])\n",
      "<Element 'row' at 0x12c969750> dict_items([('NombreCampo', 'DiagnosticoPrincipal'), ('ValorCampo', 'SUPERVISION DE OTROS EMBARAZOS DE 19SEM Y 1 DIA'), ('NombreTabla', 'CamposTexto')])\n",
      "<Element 'row' at 0x12c969610> dict_items([('NombreCampo', 'DiagnosticoRelacionado1'), ('ValorCampo', 'INFECCION NO ESPECIFICADA DE LAS VIAS URINARIAS EN EL EMBARAZO.'), ('NombreTabla', 'CamposTexto')])\n",
      "<Element 'row' at 0x12c969d10> dict_items([('NombreCampo', 'DiagnosticoRelacionado2'), ('ValorCampo', 'VAGINITIS, VULVITIS Y VULVOVAGINITIS EN ENFERMEDADES INFECCIOSAS Y PARASITARIAS CLASIFICADAS EN OTRA PARTE'), ('NombreTabla', 'CamposTexto')])\n",
      "<Element 'row' at 0x1293ec950> dict_items([('NombreCampo', 'DiagnosticoRelacionado3'), ('ValorCampo', 'ANEMIA DE TIPO NO ESPECIFICADO'), ('NombreTabla', 'CamposTexto')])\n",
      "<Element 'row' at 0x1293ec9d0> dict_items([('NombreCampo', 'CodigoPlanAdministradora'), ('ValorCampo', '100'), ('NombreTabla', 'CamposTexto')])\n",
      "<Element 'row' at 0x1293ecad0> dict_items([('NombreCampo', 'CodigoFinalidadConsulta'), ('ValorCampo', '10'), ('NombreTabla', 'CamposTexto')])\n",
      "<Element 'row' at 0x1293ecc10> dict_items([('NombreCampo', 'CodigoTipoDiagnosticoPrincipal'), ('ValorCampo', '1'), ('NombreTabla', 'CamposTexto')])\n",
      "<Element 'row' at 0x1293ec490> dict_items([('NombreCampo', 'CodigoCausaExterna'), ('ValorCampo', '13'), ('NombreTabla', 'CamposTexto')])\n",
      "<Element 'row' at 0x1293ec810> dict_items([('NombreCampo', 'CodigoConsulta'), ('ValorCampo', ''), ('NombreTabla', 'CamposTexto')])\n",
      "<Element 'row' at 0x1293ec890> dict_items([('NombreCampo', 'CodigoDiagnosticoPrincipal'), ('ValorCampo', 'Z348'), ('NombreTabla', 'CamposTexto')])\n",
      "<Element 'row' at 0x1293ec6d0> dict_items([('NombreCampo', 'CodigoDiagnosticoRelacionado1'), ('ValorCampo', 'O234'), ('NombreTabla', 'CamposTexto')])\n",
      "<Element 'row' at 0x1293ec550> dict_items([('NombreCampo', 'CodigoDiagnosticoRelacionado2'), ('ValorCampo', 'N771'), ('NombreTabla', 'CamposTexto')])\n",
      "<Element 'row' at 0x1293ecf10> dict_items([('NombreCampo', 'CodigoDiagnosticoRelacionado3'), ('ValorCampo', 'D649'), ('NombreTabla', 'CamposTexto')])\n",
      "<Element 'row' at 0x1293ecfd0> dict_items([('NombreCampo', 'Menarquia2'), ('ValorCampo', ''), ('NombreTabla', 'CamposTexto')])\n",
      "<Element 'row' at 0x1293ec450> dict_items([('NombreCampo', 'Mestruacion2'), ('ValorCampo', ''), ('NombreTabla', 'CamposTexto')])\n",
      "<Element 'row' at 0x1293ec410> dict_items([('NombreCampo', 'UltimoParto2'), ('ValorCampo', ''), ('NombreTabla', 'CamposTexto')])\n",
      "<Element 'row' at 0x1293ec190> dict_items([('NombreCampo', 'Citologia2'), ('ValorCampo', ''), ('NombreTabla', 'CamposTexto')])\n",
      "<Element 'row' at 0x1293eca90> dict_items([('NombreCampo', 'Vivos'), ('ValorCampo', '0'), ('NombreTabla', 'CamposEntero')])\n",
      "<Element 'row' at 0x1293ec1d0> dict_items([('NombreCampo', 'PlanTratamiento'), ('ValorCampo', '-OBSERVACION\\n-LACTATO DE RINGER PASAR UN BOLO DE 500CC CONTINUAR 80CC/HORA \\n-SE SOLICITA CUADRO HEMATICO\\n-SE SOLICITA PCR \\n-SE SOLICITA UROANALISIS\\n-SE SOLICITA HEMOCLASIFICACION.\\n-SE RESERVA DOS UNIDADES DE GLOBULOS ROJOS\\n-SE SOLICITA ECOGRAFIA OBSTETRICA.\\n-REVALORAR'), ('NombreTabla', 'CamposTexto')])\n",
      "<Element 'row' at 0x1293ec210> dict_items([('NombreCampo', 'Analisis'), ('ValorCampo', 'PACIENTE DE 16 A&#209;OS DE EDAD CON DIAGNOSTICO DE EMBARAZO DE 19SEM Y 1 DIA +VULVOVAGINITIS, + INFECCION DE VIAS URINARIAS? + ANEMIA  ACTUALMENTE HEMODINAMICAMENTE ESTABLE, AL EXAMEN FISICO NO SE EVIDENCIA SANGRADO, NO CAMBIOS CERVICALES, SE INGRESA PARA REALIZAR UROANALISIS, HEMOGRAMA, PCR. Y ECOGRAFIA OBSTETRICA, HEMOCLASIFICACION POR DESCONOCIMIENTO DE GRUPO Y RH SANGUINEO. REVALORAR CON RESULTADOS '), ('NombreTabla', 'CamposTexto')])\n",
      "<Element 'row' at 0x1293ec150> dict_items([('NombreCampo', 'Remitido'), ('ValorCampo', '0'), ('NombreTabla', 'CamposTexto')])\n",
      "<Element 'row' at 0x130874790> dict_items([('NombreCampo', 'aOtros'), ('ValorCampo', 'false'), ('NombreTabla', 'CamposBoolean')])\n",
      "<Element 'row' at 0x130874f50> dict_items([('NombreCampo', 'aDescripcion'), ('ValorCampo', '7-&gt; G1 P0 A0 C0 \\nFUM: 20/ABRIL/2015. PARA HOY 19SEM Y 1 DIA\\nMENARQUIA:10 A&#209;OS\\t\\nVIDA SEXUAL: 14 A&#209;OS\\nVIDA OBSTETRICA:16 A&#209;OS\\nPLANIFICACION: NO\\nNo. PAREJAS:3\\nGSRh:NO SABE'), ('NombreTabla', 'CamposTexto')])\n",
      "<Element 'row' at 0x130874c90> dict_items([('NombreCampo', 'aFarmacologicos'), ('ValorCampo', 'false'), ('NombreTabla', 'CamposBoolean')])\n",
      "<Element 'row' at 0x130874e10> dict_items([('NombreCampo', 'aGinecoObstetrico'), ('ValorCampo', 'true'), ('NombreTabla', 'CamposBoolean')])\n",
      "<Element 'row' at 0x130874990> dict_items([('NombreCampo', 'aHospitalarios'), ('ValorCampo', 'false'), ('NombreTabla', 'CamposBoolean')])\n",
      "<Element 'row' at 0x12b3ba6d0> dict_items([('NombreCampo', 'aTraumaticos'), ('ValorCampo', 'false'), ('NombreTabla', 'CamposBoolean')])\n",
      "<Element 'row' at 0x12b3ba050> dict_items([('NombreCampo', 'aPatologicos'), ('ValorCampo', 'false'), ('NombreTabla', 'CamposBoolean')])\n",
      "<Element 'row' at 0x12b3ba7d0> dict_items([('NombreCampo', 'aQuirurgicos'), ('ValorCampo', 'false'), ('NombreTabla', 'CamposBoolean')])\n",
      "<Element 'row' at 0x12b3bae90> dict_items([('NombreCampo', 'aToxico'), ('ValorCampo', 'false'), ('NombreTabla', 'CamposBoolean')])\n",
      "<Element 'row' at 0x12cc44d50> dict_items([('NombreCampo', 'aTranfusionales'), ('ValorCampo', 'false'), ('NombreTabla', 'CamposBoolean')])\n",
      "<Element 'row' at 0x12cc44f50> dict_items([('NombreCampo', 'FechaAtencion'), ('ValorCampo', '03/09/2015 10:38'), ('NombreTabla', 'CamposFecha')])\n",
      "<Element 'row' at 0x1293d1750> dict_items([('NombreCampo', 'DestinoPaciente'), ('ValorCampo', 'Observaci&#243;n'), ('NombreTabla', 'CamposTexto')])\n",
      "<Element 'row' at 0x1293d1890> dict_items([('NombreCampo', 'SuperficieMasaCorporal'), ('ValorCampo', '1.87'), ('NombreTabla', 'CamposReal')])\n",
      "<Element 'row' at 0x1293d17d0> dict_items([('NombreCampo', 'Contrareferencia'), ('ValorCampo', 'false'), ('NombreTabla', 'CamposBoolean')])\n",
      "<Element 'row' at 0x1293d1510> dict_items([('NombreCampo', 'ORemitido'), ('ValorCampo', '0'), ('NombreTabla', 'CamposBoolean')])\n",
      "<Element 'row' at 0x1293d1190> dict_items([('NombreCampo', 'Crue'), ('ValorCampo', '0'), ('NombreTabla', 'CamposTexto')])\n",
      "<Element 'row' at 0x1293d1290> dict_items([('NombreCampo', 'ProcedenciaE'), ('ValorCampo', ''), ('NombreTabla', 'CamposTexto')])\n",
      "<Element 'row' at 0x1293d1450> dict_items([('NombreCampo', 'CodigoMunicipio'), ('ValorCampo', 'null'), ('NombreTabla', 'CamposTexto')])\n",
      "<Element 'row' at 0x1293d1410> dict_items([('NombreCampo', 'Fecha'), ('ValorCampo', '03/09/2015 10:38'), ('NombreTabla', 'CamposTexto')])\n",
      "<Element 'row' at 0x1293d18d0> dict_items([('NombreCampo', 'Valoracion'), ('ValorCampo', 'Alerta'), ('NombreTabla', 'CamposTexto')])\n",
      "<Element 'row' at 0x1293d1a90> dict_items([('NombreCampo', 'GlasW'), ('ValorCampo', '15'), ('NombreTabla', 'CamposReal')])\n",
      "<Element 'row' at 0x1293d1b90> dict_items([('NombreCampo', 'Prioridad'), ('ValorCampo', 'III'), ('NombreTabla', 'CamposTexto')])\n",
      "<Element 'row' at 0x1293d1bd0> dict_items([('NombreCampo', 'Procedencia'), ('ValorCampo', '-'), ('NombreTabla', 'CamposTexto')])\n",
      "<Element 'row' at 0x1293d1ed0> dict_items([('NombreCampo', 'Incapacidad'), ('ValorCampo', '0'), ('NombreTabla', 'CamposTexto')])\n",
      "<Element 'row' at 0x1293d1d90> dict_items([('NombreCampo', 'OtraCausaExterna'), ('ValorCampo', ''), ('NombreTabla', 'CamposTexto')])\n",
      "<Element 'row' at 0x1293d1610> dict_items([('NombreCampo', 'PresionSistole'), ('ValorCampo', '100'), ('NombreTabla', 'CamposReal')])\n",
      "<Element 'row' at 0x1293e5850> dict_items([('NombreCampo', 'PresionDiastole'), ('ValorCampo', '60'), ('NombreTabla', 'CamposReal')])\n",
      "<Element 'row' at 0x1293e5790> dict_items([('NombreCampo', 'PresionArterialMedia'), ('ValorCampo', '73.33'), ('NombreTabla', 'CamposReal')])\n",
      "<Element 'row' at 0x1293e55d0> dict_items([('NombreCampo', 'PerimetroCefalico'), ('ValorCampo', ''), ('NombreTabla', 'CamposReal')])\n",
      "<Element 'row' at 0x1293e5810> dict_items([('NombreCampo', 'PerimetroToracico'), ('ValorCampo', ''), ('NombreTabla', 'CamposReal')])\n",
      "<Element 'row' at 0x1293e5950> dict_items([('NombreCampo', 'Pulso'), ('ValorCampo', ''), ('NombreTabla', 'CamposReal')])\n",
      "<Element 'row' at 0x1293e59d0> dict_items([('NombreCampo', 'aAlergiaMedicamento'), ('ValorCampo', 'false'), ('NombreTabla', 'CamposTexto')])\n",
      "<Element 'row' at 0x1293e5b90> dict_items([('NombreCampo', 'Embarazada'), ('ValorCampo', 'false'), ('NombreTabla', 'CamposBoolean')])\n",
      "<Element 'row' at 0x1293e5b10> dict_items([('NombreCampo', 'NumeroConsultas'), ('ValorCampo', ''), ('NombreTabla', 'CamposTexto')])\n",
      "<Element 'row' at 0x1293e5c10> dict_items([('NombreCampo', 'Cafales'), ('ValorCampo', 'False'), ('NombreTabla', 'CamposBoolean')])\n",
      "<Element 'row' at 0x1293e5a50> dict_items([('NombreCampo', 'Admitido'), ('ValorCampo', '1'), ('NombreTabla', 'CamposBoolean')])\n",
      "<Element 'row' at 0x1293e5dd0> dict_items([('NombreCampo', 'Vomitos'), ('ValorCampo', 'False'), ('NombreTabla', 'CamposBoolean')])\n",
      "<Element 'row' at 0x1293e5e50> dict_items([('NombreCampo', 'Adema'), ('ValorCampo', 'False'), ('NombreTabla', 'CamposBoolean')])\n",
      "<Element 'row' at 0x1293e5f90> dict_items([('NombreCampo', 'SangradoVaginal'), ('ValorCampo', 'False'), ('NombreTabla', 'CamposBoolean')])\n",
      "<Element 'row' at 0x1293e5350> dict_items([('NombreCampo', 'Epigastralgia'), ('ValorCampo', 'False'), ('NombreTabla', 'CamposBoolean')])\n",
      "<Element 'row' at 0x1293e5250> dict_items([('NombreCampo', 'IntensidadSintomatica'), ('ValorCampo', 'false'), ('NombreTabla', 'CamposBoolean')])\n",
      "<Element 'row' at 0x1293e5150> dict_items([('NombreCampo', 'Otros'), ('ValorCampo', ''), ('NombreTabla', 'CamposTexto')])\n",
      "<Element 'row' at 0x1293e5750> dict_items([('NombreCampo', 'EscalaAnaloga'), ('ValorCampo', ''), ('NombreTabla', 'CamposTexto')])\n",
      "<Element 'row' at 0x1293e5450> dict_items([('NombreCampo', 'NivelDolor'), ('ValorCampo', ''), ('NombreTabla', 'CamposTexto')])\n",
      "<Element 'row' at 0x12b4edc50> dict_items([('NombreCampo', 'ObservacionesParaclinicos'), ('ValorCampo', 'LO ANOTADO'), ('NombreTabla', 'CamposTexto')])\n",
      "<Element 'row' at 0x12b4ed950> dict_items([('NombreCampo', 'EmbarazoControlado'), ('ValorCampo', 'False'), ('NombreTabla', 'CamposBoolean')])\n",
      "<Element 'row' at 0x12b4ede10> dict_items([('NombreCampo', 'OtrosGinecologicos'), ('ValorCampo', ''), ('NombreTabla', 'CamposTexto')])\n",
      "<Element 'row' at 0x12b4edc90> dict_items([('NombreCampo', 'DiagnosticoRealcionado2'), ('ValorCampo', ''), ('NombreTabla', 'CamposTexto')])\n",
      "<Element 'row' at 0x12b4ed4d0> dict_items([('NombreCampo', 'DiagnosticoRealcionado3'), ('ValorCampo', ''), ('NombreTabla', 'CamposTexto')])\n",
      "<Element 'row' at 0x12b4bb050> dict_items([('NombreCampo', 'CodigoDiagnosticoRealcionado2'), ('ValorCampo', ''), ('NombreTabla', 'CamposTexto')])\n",
      "<Element 'row' at 0x12b4bb490> dict_items([('NombreCampo', 'CodigoDiagnosticoRealcionado3'), ('ValorCampo', ''), ('NombreTabla', 'CamposTexto')])\n",
      "<Element 'row' at 0x12b4bbf90> dict_items([('NombreCampo', 'ValoresAntecedentesPaciente'), ('ValorCampo', ''), ('NombreTabla', 'CamposTexto')])\n",
      "<Element 'row' at 0x12b0a5850> dict_items([('NombreCampo', 'Cefaleas'), ('ValorCampo', 'False'), ('NombreTabla', 'CamposBoolean')])\n",
      "<Element 'row' at 0x12b0a5110> dict_items([('NombreCampo', 'Edema'), ('ValorCampo', 'False'), ('NombreTabla', 'CamposBoolean')])\n",
      "<Element 'row' at 0x12b0a5790> dict_items([('NombreCampo', 'FechaFinalAtencion'), ('ValorCampo', '03/09/2015 10:51'), ('NombreTabla', 'CamposTexto')])\n",
      "<Element 'row' at 0x12b0a5d10> dict_items([('NombreCampo', 'SaturacionOxigeno'), ('ValorCampo', ''), ('NombreTabla', 'CamposEntero')])\n",
      "<Element 'row' at 0x1293cc4d0> dict_items([('NombreCampo', 'Glucometria'), ('ValorCampo', ''), ('NombreTabla', 'CamposTexto')])\n",
      "<Element 'row' at 0x1293cc610> dict_items([('NombreCampo', 'Consulta'), ('ValorCampo', ''), ('NombreTabla', 'CamposTexto')])\n"
     ]
    }
   ],
   "source": [
    "for c in r.findall('row'):\n",
    "    print(c, c.items())"
   ]
  },
  {
   "cell_type": "code",
   "execution_count": 100,
   "metadata": {
    "Collapsed": "false"
   },
   "outputs": [
    {
     "name": "stdout",
     "output_type": "stream",
     "text": [
      "Help on Element in module xml.etree.ElementTree object:\n",
      "\n",
      "class Element(builtins.object)\n",
      " |  Element(tag, attrib={}, **extra)\n",
      " |  \n",
      " |  An XML element.\n",
      " |  \n",
      " |  This class is the reference implementation of the Element interface.\n",
      " |  \n",
      " |  An element's length is its number of subelements.  That means if you\n",
      " |  want to check if an element is truly empty, you should check BOTH\n",
      " |  its length AND its text attribute.\n",
      " |  \n",
      " |  The element tag, attribute names, and attribute values can be either\n",
      " |  bytes or strings.\n",
      " |  \n",
      " |  *tag* is the element name.  *attrib* is an optional dictionary containing\n",
      " |  element attributes. *extra* are additional element attributes given as\n",
      " |  keyword arguments.\n",
      " |  \n",
      " |  Example form:\n",
      " |      <tag attrib>text<child/>...</tag>tail\n",
      " |  \n",
      " |  Methods defined here:\n",
      " |  \n",
      " |  __bool__(self)\n",
      " |  \n",
      " |  __delitem__(self, index)\n",
      " |  \n",
      " |  __getitem__(self, index)\n",
      " |  \n",
      " |  __init__(self, tag, attrib={}, **extra)\n",
      " |  \n",
      " |  __len__(self)\n",
      " |  \n",
      " |  __repr__(self)\n",
      " |  \n",
      " |  __setitem__(self, index, element)\n",
      " |  \n",
      " |  append(self, subelement)\n",
      " |      Add *subelement* to the end of this element.\n",
      " |      \n",
      " |      The new element will appear in document order after the last existing\n",
      " |      subelement (or directly after the text, if it's the first subelement),\n",
      " |      but before the end tag for this element.\n",
      " |  \n",
      " |  clear(self)\n",
      " |      Reset element.\n",
      " |      \n",
      " |      This function removes all subelements, clears all attributes, and sets\n",
      " |      the text and tail attributes to None.\n",
      " |  \n",
      " |  copy(self)\n",
      " |      Return copy of current element.\n",
      " |      \n",
      " |      This creates a shallow copy. Subelements will be shared with the\n",
      " |      original tree.\n",
      " |  \n",
      " |  extend(self, elements)\n",
      " |      Append subelements from a sequence.\n",
      " |      \n",
      " |      *elements* is a sequence with zero or more elements.\n",
      " |  \n",
      " |  find(self, path, namespaces=None)\n",
      " |      Find first matching element by tag name or path.\n",
      " |      \n",
      " |      *path* is a string having either an element tag or an XPath,\n",
      " |      *namespaces* is an optional mapping from namespace prefix to full name.\n",
      " |      \n",
      " |      Return the first matching element, or None if no element was found.\n",
      " |  \n",
      " |  findall(self, path, namespaces=None)\n",
      " |      Find all matching subelements by tag name or path.\n",
      " |      \n",
      " |      *path* is a string having either an element tag or an XPath,\n",
      " |      *namespaces* is an optional mapping from namespace prefix to full name.\n",
      " |      \n",
      " |      Returns list containing all matching elements in document order.\n",
      " |  \n",
      " |  findtext(self, path, default=None, namespaces=None)\n",
      " |      Find text for first matching element by tag name or path.\n",
      " |      \n",
      " |      *path* is a string having either an element tag or an XPath,\n",
      " |      *default* is the value to return if the element was not found,\n",
      " |      *namespaces* is an optional mapping from namespace prefix to full name.\n",
      " |      \n",
      " |      Return text content of first matching element, or default value if\n",
      " |      none was found.  Note that if an element is found having no text\n",
      " |      content, the empty string is returned.\n",
      " |  \n",
      " |  get(self, key, default=None)\n",
      " |      Get element attribute.\n",
      " |      \n",
      " |      Equivalent to attrib.get, but some implementations may handle this a\n",
      " |      bit more efficiently.  *key* is what attribute to look for, and\n",
      " |      *default* is what to return if the attribute was not found.\n",
      " |      \n",
      " |      Returns a string containing the attribute value, or the default if\n",
      " |      attribute was not found.\n",
      " |  \n",
      " |  getchildren(self)\n",
      " |      (Deprecated) Return all subelements.\n",
      " |      \n",
      " |      Elements are returned in document order.\n",
      " |  \n",
      " |  getiterator(self, tag=None)\n",
      " |      # compatibility\n",
      " |  \n",
      " |  insert(self, index, subelement)\n",
      " |      Insert *subelement* at position *index*.\n",
      " |  \n",
      " |  items(self)\n",
      " |      Get element attributes as a sequence.\n",
      " |      \n",
      " |      The attributes are returned in arbitrary order.  Equivalent to\n",
      " |      attrib.items().\n",
      " |      \n",
      " |      Return a list of (name, value) tuples.\n",
      " |  \n",
      " |  iter(self, tag=None)\n",
      " |      Create tree iterator.\n",
      " |      \n",
      " |      The iterator loops over the element and all subelements in document\n",
      " |      order, returning all elements with a matching tag.\n",
      " |      \n",
      " |      If the tree structure is modified during iteration, new or removed\n",
      " |      elements may or may not be included.  To get a stable set, use the\n",
      " |      list() function on the iterator, and loop over the resulting list.\n",
      " |      \n",
      " |      *tag* is what tags to look for (default is to return all elements)\n",
      " |      \n",
      " |      Return an iterator containing all the matching elements.\n",
      " |  \n",
      " |  iterfind(self, path, namespaces=None)\n",
      " |      Find all matching subelements by tag name or path.\n",
      " |      \n",
      " |      *path* is a string having either an element tag or an XPath,\n",
      " |      *namespaces* is an optional mapping from namespace prefix to full name.\n",
      " |      \n",
      " |      Return an iterable yielding all matching elements in document order.\n",
      " |  \n",
      " |  itertext(self)\n",
      " |      Create text iterator.\n",
      " |      \n",
      " |      The iterator loops over the element and all subelements in document\n",
      " |      order, returning all inner text.\n",
      " |  \n",
      " |  keys(self)\n",
      " |      Get list of attribute names.\n",
      " |      \n",
      " |      Names are returned in an arbitrary order, just like an ordinary\n",
      " |      Python dict.  Equivalent to attrib.keys()\n",
      " |  \n",
      " |  makeelement(self, tag, attrib)\n",
      " |      Create a new element with the same type.\n",
      " |      \n",
      " |      *tag* is a string containing the element name.\n",
      " |      *attrib* is a dictionary containing the element attributes.\n",
      " |      \n",
      " |      Do not call this method, use the SubElement factory function instead.\n",
      " |  \n",
      " |  remove(self, subelement)\n",
      " |      Remove matching subelement.\n",
      " |      \n",
      " |      Unlike the find methods, this method compares elements based on\n",
      " |      identity, NOT ON tag value or contents.  To remove subelements by\n",
      " |      other means, the easiest way is to use a list comprehension to\n",
      " |      select what elements to keep, and then use slice assignment to update\n",
      " |      the parent element.\n",
      " |      \n",
      " |      ValueError is raised if a matching element could not be found.\n",
      " |  \n",
      " |  set(self, key, value)\n",
      " |      Set element attribute.\n",
      " |      \n",
      " |      Equivalent to attrib[key] = value, but some implementations may handle\n",
      " |      this a bit more efficiently.  *key* is what attribute to set, and\n",
      " |      *value* is the attribute value to set it to.\n",
      " |  \n",
      " |  ----------------------------------------------------------------------\n",
      " |  Data descriptors defined here:\n",
      " |  \n",
      " |  __dict__\n",
      " |      dictionary for instance variables (if defined)\n",
      " |  \n",
      " |  __weakref__\n",
      " |      list of weak references to the object (if defined)\n",
      " |  \n",
      " |  ----------------------------------------------------------------------\n",
      " |  Data and other attributes defined here:\n",
      " |  \n",
      " |  attrib = None\n",
      " |  \n",
      " |  tag = None\n",
      " |  \n",
      " |  tail = None\n",
      " |  \n",
      " |  text = None\n",
      "\n"
     ]
    }
   ],
   "source": [
    "help(c)"
   ]
  },
  {
   "cell_type": "code",
   "execution_count": 87,
   "metadata": {
    "Collapsed": "false"
   },
   "outputs": [
    {
     "name": "stdout",
     "output_type": "stream",
     "text": [
      "<?xml version=\"1.0\" ?>\n",
      "<C Asunto=\"Epicrisis de la Historia Ingreso de Urgencias\" Caso=\"AD89414\" CentroA=\"01\" CodigoDiagnosticoRelacionado1=\"Z321\" CodigoDiagnosticoRelacionado2=\"\" CodigoDiagnosticoRelacionado3=\"\" Diagnostico=\"N771\" IdPaciente=\"106843\" Modulo=\"03\" Padre=\"AD89414\" PlanAdm=\"118\" Prestador=\"73083700\" Raiz=\"01\" Registro=\"450\">\n",
      "\t<row NombreCampo=\"Antecedentes\" NombreTabla=\"CamposTexto\" ValorCampo=\"\"/>\n",
      "\t<row NombreCampo=\"AntecedentesHTML\" NombreTabla=\"CamposTexto\" ValorCampo=\"- PERSONALES:\n",
      "  1-&amp;amp;gt;LITIASISRENAL\n",
      "7-&amp;amp;gt;G3P2C0A0\n",
      "MENARQUIA12A&amp;#209;OS\n",
      "INICIODEVIDASEXUAL14A&amp;#209;OS\n",
      "INICIODEVIDAOBSTETRICA15A&amp;#209;OS\n",
      "COMPA&amp;#209;EROSSEXUALES3\n",
      "FUM25/2/1514SEMANASHOY\n",
      "FECHADEULTIMOPARTO9/12/2011\n",
      "\n",
      "ECOGRAFIA17/4/157SEMNOSEOBSERVAEMBRION\n",
      "ECOGRAFIA12/5/1510SEMEXTRAPOLADAHOY13.1SEM\n",
      "\n",
      "NOPARACLINICOSDECONTROLPRENATAL\n",
      "- FAMILIARES:\n",
      "  DIABETES - HIPERTENSA MADRE\n",
      "- AL&amp;#201;RGICOS:\n",
      "  \n",
      "- QUIR&amp;#218;RGICOS:\"/>\n",
      "\t<row NombreCampo=\"AplicaCuidadoEnfermeria\" NombreTabla=\"CamposBoolean\" ValorCampo=\"false\"/>\n",
      "\t<row NombreCampo=\"AsuntoHistoriaPadre\" NombreTabla=\"CamposTexto\" ValorCampo=\"Ingreso de Urgencias\"/>\n",
      "\t<row NombreCampo=\"Cama\" NombreTabla=\"CamposTexto\" ValorCampo=\"CM134\"/>\n",
      "\t<row NombreCampo=\"CambiosDePosicion\" NombreTabla=\"CamposTexto\" ValorCampo=\"\"/>\n",
      "\t<row NombreCampo=\"CodigoDiagnosticoPrincipal\" NombreTabla=\"CamposTexto\" ValorCampo=\"N771\"/>\n",
      "\t<row NombreCampo=\"CodigoDiagnosticoPrincipalSalida\" NombreTabla=\"CamposTexto\" ValorCampo=\"Z321\"/>\n",
      "\t<row NombreCampo=\"CodigoDiagnosticoRealcionado3\" NombreTabla=\"CamposTexto\" ValorCampo=\"\"/>\n",
      "\t<row NombreCampo=\"CodigoDiagnosticoRelacionado1\" NombreTabla=\"CamposTexto\" ValorCampo=\"Z321\"/>\n",
      "\t<row NombreCampo=\"CodigoDiagnosticoRelacionado1Salida\" NombreTabla=\"CamposTexto\" ValorCampo=\"N771\"/>\n",
      "\t<row NombreCampo=\"CodigoDiagnosticoRelacionado2\" NombreTabla=\"CamposTexto\" ValorCampo=\"\"/>\n",
      "\t<row NombreCampo=\"CodigoDiagnosticoRelacionado2Salida\" NombreTabla=\"CamposTexto\" ValorCampo=\"\"/>\n",
      "\t<row NombreCampo=\"CodigoDiagnosticoRelacionado3Salida\" NombreTabla=\"CamposTexto\" ValorCampo=\"\"/>\n",
      "\t<row NombreCampo=\"CodigoHistoriaPadre\" NombreTabla=\"CamposTexto\" ValorCampo=\"AD89414\"/>\n",
      "\t<row NombreCampo=\"CodigoPlanAdministradora\" NombreTabla=\"CamposTexto\" ValorCampo=\"118\"/>\n",
      "\t<row NombreCampo=\"Complicaciones\" NombreTabla=\"CamposTexto\" ValorCampo=\"NO\"/>\n",
      "\t<row NombreCampo=\"CuracionDeHerida\" NombreTabla=\"CamposTexto\" ValorCampo=\"\"/>\n",
      "\t<row NombreCampo=\"DiagnosticoPrincipal\" NombreTabla=\"CamposTexto\" ValorCampo=\"VAGINITIS, VULVITIS Y VULVOVAGINITIS EN ENFERMEDADES INFECCIOSAS Y PARASITARIAS CLASIFICADAS EN OTRA PARTE\"/>\n",
      "\t<row NombreCampo=\"DiagnosticoPrincipalSalida\" NombreTabla=\"CamposTexto\" ValorCampo=\"EMBARAZO DE 14 SEM X FUM\"/>\n",
      "\t<row NombreCampo=\"DiagnosticoRealcionado3\" NombreTabla=\"CamposTexto\" ValorCampo=\"\"/>\n",
      "\t<row NombreCampo=\"DiagnosticoRelacionado1\" NombreTabla=\"CamposTexto\" ValorCampo=\"EMBARAZO CONFIRMADO\"/>\n",
      "\t<row NombreCampo=\"DiagnosticoRelacionado1Salida\" NombreTabla=\"CamposTexto\" ValorCampo=\"VAGINITIS, VULVITIS Y VULVOVAGINITIS EN ENFERMEDADES INFECCIOSAS Y PARASITARIAS CLASIFICADAS EN OTRA PARTE\"/>\n",
      "\t<row NombreCampo=\"DiagnosticoRelacionado2\" NombreTabla=\"CamposTexto\" ValorCampo=\"\"/>\n",
      "\t<row NombreCampo=\"DiagnosticoRelacionado2Salida\" NombreTabla=\"CamposTexto\" ValorCampo=\"\"/>\n",
      "\t<row NombreCampo=\"DiagnosticoRelacionado3Salida\" NombreTabla=\"CamposTexto\" ValorCampo=\"\"/>\n",
      "\t<row NombreCampo=\"Dieta\" NombreTabla=\"CamposTexto\" ValorCampo=\"\"/>\n",
      "\t<row NombreCampo=\"EstadoSalida\" NombreTabla=\"CamposTexto\" ValorCampo=\"Vivo\"/>\n",
      "\t<row NombreCampo=\"Evoluciones\" NombreTabla=\"CamposTexto\" ValorCampo=\"Fecha: 03/06/2015: 10:09:13, Historia: Registro Cl&amp;#237;nico de Urgencia, Prestador: DAVID ROMERO JARABA, Especialidad: GINECOLOGIA Y OBSTETRICIA\n",
      "-----------------------\n",
      "Fecha: 03/06/2015: 12:58:39, Historia: Evoluci&amp;#243;n de Urgencia, Prestador: DAVID ROMERO JARABA, Especialidad: GINECOLOGIA Y OBSTETRICIA\n",
      "Asunto: EVOLUCION- ALTA\n",
      "Descripci&amp;#243;n: PACIENTE DE 20 A&amp;#209;OS CON IMPRESION DIAGNOSTICA DE:\n",
      "-EMBARAZO 14 SEM X FUM\n",
      "- IVU DESCARTADA\n",
      "- VAGINOSIS\n",
      "\n",
      "PACIENTE TRANQUILA, ALERTA, CONCIENTE, ORIENTADA. REFIERE MEJORIA DESDE SU INGRESO.\n",
      "\n",
      "AL EXAMEN FISICO SE ENCUENTRA PACIENTECON SIGNOS VITALES: T/A: 110/60; FC: 80LPM; FR: 24. NORMOCEFALA, PUPILAS ISOCORICAS, REACTIVAS A LA LUZ. CUELLO MOVIL, NO SE PALPAN MASAS NI ADENOPATIAS. TORAX SIMETRICO, EXPANSIBLE, RUIDOS CARDIACOS RITMICOS, SIN SOPLOS NI AGREGADOS, MURMULLO VESICULAR UNIVERSAL. ABDOMEN BLANDO, GLOBOSO POR UTERO GRAVIDO. SIN SIGNOS DE IRRITACION PERITONEAL. GENITOURINARIO PRESENCIA DE LEUCORREA ESCASA, BLANCA, GRUMOSA , NO FETIDA. EXTREMIDADES SIMETRICAS, SIN EDEMA. SNC SIN DEFICIT APARENTE.\n",
      "\n",
      "PARACLINICOS:\n",
      "HEMOGRAMA: HB: 11.7 GR; HTO: 34.4% LEUCO:7900\n",
      "UROANALISIS: NO PATOLOGICO\n",
      "ECO: EMBARAZO DE 13.1 SEM\n",
      "\n",
      "ANALISIS: PACIENTE CON DIAGNOSTICO DE EMBARAZO CONFIRMADO 13 SEM X FUM Y VAGINOSIS. LOS PARACLINICOS NO REPORTAN PATOLOGIA PARA INFECCION DE VIAS URINARIAS POR LO CUAL SE DECIDE DAR DE ALTA Y MANEJO AMBULATORIO POR CONSULTA EXTERNA.\n",
      "\n",
      "PLAN:\n",
      "-ALTA\n",
      "-CITA PRIORITARIA POR CONSULTA EXTERNA\n",
      "-FROTIS VAGINAL\n",
      "- REGRESAR A LA URGENCIA EN CASO DE SANGRADO, DOLOR PELVICO\n",
      "-----------------------\"/>\n",
      "\t<row NombreCampo=\"EvolucionesHTML\" NombreTabla=\"CamposTexto\" ValorCampo=\"Fecha: 03/06/2015: 10:09:13, Historia: Registro Cl&amp;#237;nico de Urgencia, Prestador: DAVID ROMERO JARABA, Especialidad: GINECOLOGIA Y OBSTETRICIA\n",
      "-----------------------\n",
      "Fecha: 03/06/2015: 12:58:39, Historia: Evoluci&amp;#243;n de Urgencia, Prestador: DAVID ROMERO JARABA, Especialidad: GINECOLOGIA Y OBSTETRICIA\n",
      "Asunto: EVOLUCION- ALTA\n",
      "Descripci&amp;#243;n: PACIENTE DE 20 A&amp;#209;OS CON IMPRESION DIAGNOSTICA DE:\n",
      "-EMBARAZO 14 SEM X FUM\n",
      "- IVU DESCARTADA\n",
      "- VAGINOSIS\n",
      "\n",
      "PACIENTE TRANQUILA, ALERTA, CONCIENTE, ORIENTADA. REFIERE MEJORIA DESDE SU INGRESO.\n",
      "\n",
      "AL EXAMEN FISICO SE ENCUENTRA PACIENTECON SIGNOS VITALES: T/A: 110/60; FC: 80LPM; FR: 24. NORMOCEFALA, PUPILAS ISOCORICAS, REACTIVAS A LA LUZ. CUELLO MOVIL, NO SE PALPAN MASAS NI ADENOPATIAS. TORAX SIMETRICO, EXPANSIBLE, RUIDOS CARDIACOS RITMICOS, SIN SOPLOS NI AGREGADOS, MURMULLO VESICULAR UNIVERSAL. ABDOMEN BLANDO, GLOBOSO POR UTERO GRAVIDO. SIN SIGNOS DE IRRITACION PERITONEAL. GENITOURINARIO PRESENCIA DE LEUCORREA ESCASA, BLANCA, GRUMOSA , NO FETIDA. EXTREMIDADES SIMETRICAS, SIN EDEMA. SNC SIN DEFICIT APARENTE.\n",
      "\n",
      "PARACLINICOS:\n",
      "HEMOGRAMA: HB: 11.7 GR; HTO: 34.4% LEUCO:7900\n",
      "UROANALISIS: NO PATOLOGICO\n",
      "ECO: EMBARAZO DE 13.1 SEM\n",
      "\n",
      "ANALISIS: PACIENTE CON DIAGNOSTICO DE EMBARAZO CONFIRMADO 13 SEM X FUM Y VAGINOSIS. LOS PARACLINICOS NO REPORTAN PATOLOGIA PARA INFECCION DE VIAS URINARIAS POR LO CUAL SE DECIDE DAR DE ALTA Y MANEJO AMBULATORIO POR CONSULTA EXTERNA.\n",
      "\n",
      "PLAN:\n",
      "-ALTA\n",
      "-CITA PRIORITARIA POR CONSULTA EXTERNA\n",
      "-FROTIS VAGINAL\n",
      "- REGRESAR A LA URGENCIA EN CASO DE SANGRADO, DOLOR PELVICO\n",
      "-----------------------\"/>\n",
      "\t<row NombreCampo=\"FechaEgreso\" NombreTabla=\"CamposFecha\" ValorCampo=\"03/06/2015 12:39\"/>\n",
      "\t<row NombreCampo=\"FechaHCPadre\" NombreTabla=\"CamposFecha\" ValorCampo=\"03/06/2015 09:50\"/>\n",
      "\t<row NombreCampo=\"MedicamentosAdministrado\" NombreTabla=\"CamposTexto\" ValorCampo=\"NO\"/>\n",
      "\t<row NombreCampo=\"MedicamentosAdministradoHTML\" NombreTabla=\"CamposTexto\" ValorCampo=\"NO\"/>\n",
      "\t<row NombreCampo=\"MotivoConsulta\" NombreTabla=\"CamposTexto\" ValorCampo=\"&amp;quot;TENGO MUCHO DOLOR EN EL VIENTRE&amp;quot;\"/>\n",
      "\t<row NombreCampo=\"MotivoSalida\" NombreTabla=\"CamposTexto\" ValorCampo=\"Alta\"/>\n",
      "\t<row NombreCampo=\"PatronEliminacion\" NombreTabla=\"CamposTexto\" ValorCampo=\"\"/>\n",
      "\t<row NombreCampo=\"PlanAdministradora\" NombreTabla=\"CamposTexto\" ValorCampo=\"PARTICULAR / PARTICULARES\"/>\n",
      "\t<row NombreCampo=\"ProcedimientosAsociados\" NombreTabla=\"CamposTexto\" ValorCampo=\"\n",
      "Fecha: 03/06/2015\n",
      "-881431 - ULTRASONOGRAF&amp;#205;A OBSTETRICA TRANSABDOMINAL - Cantidad: 1\n",
      "-890202 - CONSULTA ESPECIALIZADA POR GINECOLOGIA - Cantidad: 1\n",
      "-901304 - SECRECI&amp;#211;N URETRAL O VAGINAL, EXAMEN MICROSCOPICO C/U - Cantidad: 1\n",
      "-902210 - HEMOGRAMA IV [HEMOGLOBINA, HEMATOCRITO, RECUENTO DE ERITROCITOS, &amp;#205;NDICES ERITROCITARIOS, LEUCOGRAMA, RECUENTO DE PLAQUETAS, INDICES PLAQUETARIOS Y MORFOLOGIA ELECTRONICA E HISTOGRAMA] METODO AUTOMATICO+ - Cantidad: 1\n",
      "-907106 - UROAN&amp;#193;LISIS CON SEDIMENTO Y DENSIDAD URINARIA + - Cantidad: 1\"/>\n",
      "\t<row NombreCampo=\"ProcedimientosAsociadosHTML\" NombreTabla=\"CamposTexto\" ValorCampo=\"Fecha: 03/06/2015\n",
      "-881431 - ULTRASONOGRAF&amp;#205;A OBSTETRICA TRANSABDOMINAL - Cantidad: 1\n",
      "-890202 - CONSULTA ESPECIALIZADA POR GINECOLOGIA - Cantidad: 1\n",
      "-901304 - SECRECI&amp;#211;N URETRAL O VAGINAL, EXAMEN MICROSCOPICO C/U - Cantidad: 1\n",
      "-902210 - HEMOGRAMA IV [HEMOGLOBINA, HEMATOCRITO, RECUENTO DE ERITROCITOS, &amp;#205;NDICES ERITROCITARIOS, LEUCOGRAMA, RECUENTO DE PLAQUETAS, INDICES PLAQUETARIOS Y MORFOLOGIA ELECTRONICA E HISTOGRAMA] METODO AUTOMATICO+ - Cantidad: 1\n",
      "-907106 - UROAN&amp;#193;LISIS CON SEDIMENTO Y DENSIDAD URINARIA + - Cantidad: 1\"/>\n",
      "\t<row NombreCampo=\"RecomendacionesDieta\" NombreTabla=\"CamposTexto\" ValorCampo=\"\"/>\n",
      "\t<row NombreCampo=\"RecomentacionesAdicionales\" NombreTabla=\"CamposTexto\" ValorCampo=\"SE EXPLICA A LA PACIENTE QUE DEBE REGRESAR EN CASO DE SANGRADO O SALIDA DE LIQUIDOS POR GENITALES, DOLOR, NO SENTIR LOS MOVIMIENTOS DEL BEBE.\"/>\n",
      "\t<row NombreCampo=\"Servicio\" NombreTabla=\"CamposTexto\" ValorCampo=\"01\"/>\n",
      "\t<row NombreCampo=\"ServicioTexto\" NombreTabla=\"CamposTexto\" ValorCampo=\"URGENCIAS\"/>\n",
      "\t<row NombreCampo=\"SintesisEnfermedad\" NombreTabla=\"CamposTexto\" ValorCampo=\"PACIENTE DE 20 A&amp;#209;OS CON IMPRESION DIAGNOSTICA DE:\n",
      "-EMBARAZO 14 SEM X FUM\n",
      "- IVU DESCARTADA\n",
      "- VAGINOSIS\n",
      "\n",
      "PACIENTE TRANQUILA, ALERTA, CONCIENTE, ORIENTADA. REFIERE MEJORIA DESDE SU INGRESO.\n",
      "\n",
      "AL EXAMEN FISICO SE ENCUENTRA PACIENTECON SIGNOS VITALES: T/A: 110/60; FC: 80LPM; FR: 24. NORMOCEFALA, PUPILAS ISOCORICAS, REACTIVAS A LA LUZ. CUELLO MOVIL, NO SE PALPAN MASAS NI ADENOPATIAS. TORAX SIMETRICO, EXPANSIBLE, RUIDOS CARDIACOS RITMICOS, SIN SOPLOS NI AGREGADOS, MURMULLO VESICULAR UNIVERSAL. ABDOMEN BLANDO, GLOBOSO POR UTERO GRAVIDO. SIN SIGNOS DE IRRITACION PERITONEAL. GENITOURINARIO PRESENCIA DE LEUCORREA ESCASA, BLANCA, GRUMOSA , NO FETIDA. EXTREMIDADES SIMETRICAS, SIN EDEMA. SNC SIN DEFICIT APARENTE.\n",
      "\n",
      "PARACLINICOS:\n",
      "HEMOGRAMA: HB: 11.7 GR; HTO: 34.4% LEUCO:7900\n",
      "UROANALISIS: NO PATOLOGICO\n",
      "ECO: EMBARAZO DE 13.1 SEM\n",
      "\n",
      "ANALISIS: PACIENTE CON DIAGNOSTICO DE EMBARAZO CONFIRMADO 13 SEM X FUM Y VAGINOSIS. LOS PARACLINICOS NO REPORTAN PATOLOGIA PARA INFECCION DE VIAS URINARIAS POR LO CUAL SE DECIDE DAR DE ALTA Y MANEJO AMBULATORIO POR CONSULTA EXTERNA.\n",
      "\n",
      "PLAN:\n",
      "-ALTA\n",
      "-CITA PRIORITARIA POR CONSULTA EXTERNA\n",
      "-FROTIS VAGINAL\n",
      "- REGRESAR A LA URGENCIA EN CASO DE SANGRADO, DOLOR PELVICO\"/>\n",
      "\t<row NombreCampo=\"TerapiaResiratoria\" NombreTabla=\"CamposTexto\" ValorCampo=\"\"/>\n",
      "\t<row NombreCampo=\"TratamientoFamacologico\" NombreTabla=\"CamposTexto\" ValorCampo=\"NO SE ADMINISTRAN MEDICAMENTOS\"/>\n",
      "\t<row NombreCampo=\"ValoracionSignos\" NombreTabla=\"CamposTexto\" ValorCampo=\"\"/>\n",
      "\t<row NombreCampo=\"MedidasGeneralesHTML\" NombreTabla=\"CamposTexto\" ValorCampo=\"Fecha: 03/06/2015\n",
      "Indicaciones:\n",
      "-ALTA\n",
      "-CITA PRIORITARIA POR CONSULTA EXTERNA\n",
      "-FROTIS VAGINAL\n",
      "- REGRESAR A LA URGENCIA EN CASO DE SANGRADO, DOLOR PELVICO\n",
      "\n",
      "\n",
      "Fecha: 03/06/2015\n",
      "Indicaciones:\n",
      "OBSERVACION\n",
      "SS HEMOGRAMA, UROANALISIS, ECOGRAFIA OBSTETRICA\n",
      "REVALORAR CON RESULTADOS\n",
      "CONTROL DE SIGNOS VITALES\n",
      "AVISAR CAMBIOS\"/>\n",
      "\t<row NombreCampo=\"MedidasGenerales\" NombreTabla=\"CamposTexto\" ValorCampo=\"\n",
      "Fecha: 03/06/2015\n",
      "Indicaciones:\n",
      "-ALTA\n",
      "-CITA PRIORITARIA POR CONSULTA EXTERNA\n",
      "-FROTIS VAGINAL\n",
      "- REGRESAR A LA URGENCIA EN CASO DE SANGRADO, DOLOR PELVICO\n",
      "\n",
      "\n",
      "Fecha: 03/06/2015\n",
      "Indicaciones:\n",
      "OBSERVACION\n",
      "SS HEMOGRAMA, UROANALISIS, ECOGRAFIA OBSTETRICA\n",
      "REVALORAR CON RESULTADOS\n",
      "CONTROL DE SIGNOS VITALES\n",
      "AVISAR CAMBIOS\n",
      "\n",
      "\"/>\n",
      "</C>\n",
      "\n"
     ]
    }
   ],
   "source": [
    "r = registros.loc[393965]\n",
    "\n",
    "r = xml.dom.minidom.parseString(stringRegistro) #r.RegistroXML)\n",
    "print(r.toprettyxml())"
   ]
  },
  {
   "cell_type": "code",
   "execution_count": 88,
   "metadata": {
    "Collapsed": "false"
   },
   "outputs": [
    {
     "name": "stdout",
     "output_type": "stream",
     "text": [
      "<DOM Element: C at 0x12b45ca50>\n",
      "<DOM Element: row at 0x12b45c9b0> Antecedentes\n",
      "<DOM Element: row at 0x12b45c910> AntecedentesHTML\n",
      "<DOM Element: row at 0x12b45cd70> AplicaCuidadoEnfermeria\n",
      "<DOM Element: row at 0x12b45c690> AsuntoHistoriaPadre\n",
      "<DOM Element: row at 0x12b45ce10> Cama\n",
      "<DOM Element: row at 0x12b45caf0> CambiosDePosicion\n",
      "<DOM Element: row at 0x12b45ceb0> CodigoDiagnosticoPrincipal\n",
      "<DOM Element: row at 0x12b45cf50> CodigoDiagnosticoPrincipalSalida\n",
      "<DOM Element: row at 0x12b45c870> CodigoDiagnosticoRealcionado3\n",
      "<DOM Element: row at 0x12b17e050> CodigoDiagnosticoRelacionado1\n",
      "<DOM Element: row at 0x12b17e0f0> CodigoDiagnosticoRelacionado1Salida\n",
      "<DOM Element: row at 0x12b17e190> CodigoDiagnosticoRelacionado2\n",
      "<DOM Element: row at 0x12b17e230> CodigoDiagnosticoRelacionado2Salida\n",
      "<DOM Element: row at 0x12b17e2d0> CodigoDiagnosticoRelacionado3Salida\n",
      "<DOM Element: row at 0x12b17e370> CodigoHistoriaPadre\n",
      "<DOM Element: row at 0x12b17e410> CodigoPlanAdministradora\n",
      "<DOM Element: row at 0x12b17e4b0> Complicaciones\n",
      "<DOM Element: row at 0x12b17e550> CuracionDeHerida\n",
      "<DOM Element: row at 0x12b17e690> DiagnosticoPrincipal\n",
      "<DOM Element: row at 0x12b17e730> DiagnosticoPrincipalSalida\n",
      "<DOM Element: row at 0x12b17e7d0> DiagnosticoRealcionado3\n",
      "<DOM Element: row at 0x12b17e870> DiagnosticoRelacionado1\n",
      "<DOM Element: row at 0x12b17e9b0> DiagnosticoRelacionado1Salida\n",
      "<DOM Element: row at 0x12b17ea50> DiagnosticoRelacionado2\n",
      "<DOM Element: row at 0x12b17eaf0> DiagnosticoRelacionado2Salida\n",
      "<DOM Element: row at 0x12b17eb90> DiagnosticoRelacionado3Salida\n",
      "<DOM Element: row at 0x12b17ec30> Dieta\n",
      "<DOM Element: row at 0x12b17ecd0> EstadoSalida\n",
      "<DOM Element: row at 0x12b17ed70> Evoluciones\n",
      "<DOM Element: row at 0x12b17ee10> EvolucionesHTML\n",
      "<DOM Element: row at 0x12b17eeb0> FechaEgreso\n",
      "<DOM Element: row at 0x12b17ef50> FechaHCPadre\n",
      "<DOM Element: row at 0x12b185050> MedicamentosAdministrado\n",
      "<DOM Element: row at 0x12b1850f0> MedicamentosAdministradoHTML\n",
      "<DOM Element: row at 0x12b185190> MotivoConsulta\n",
      "<DOM Element: row at 0x12b185230> MotivoSalida\n",
      "<DOM Element: row at 0x12b1852d0> PatronEliminacion\n",
      "<DOM Element: row at 0x12b185370> PlanAdministradora\n",
      "<DOM Element: row at 0x12b185410> ProcedimientosAsociados\n",
      "<DOM Element: row at 0x12b1854b0> ProcedimientosAsociadosHTML\n",
      "<DOM Element: row at 0x12b185550> RecomendacionesDieta\n",
      "<DOM Element: row at 0x12b1855f0> RecomentacionesAdicionales\n",
      "<DOM Element: row at 0x12b185690> Servicio\n",
      "<DOM Element: row at 0x12b185730> ServicioTexto\n",
      "<DOM Element: row at 0x12b1857d0> SintesisEnfermedad\n",
      "<DOM Element: row at 0x12b185870> TerapiaResiratoria\n",
      "<DOM Element: row at 0x12b185910> TratamientoFamacologico\n",
      "<DOM Element: row at 0x12b1859b0> ValoracionSignos\n",
      "<DOM Element: row at 0x12b185a50> MedidasGeneralesHTML\n",
      "<DOM Element: row at 0x12b185af0> MedidasGenerales\n"
     ]
    }
   ],
   "source": [
    "for c in r.childNodes:\n",
    "    print(c)\n",
    "    for cc in c.childNodes:\n",
    "        print(cc, cc.attributes['NombreCampo'].value)"
   ]
  },
  {
   "cell_type": "code",
   "execution_count": null,
   "metadata": {
    "Collapsed": "false"
   },
   "outputs": [],
   "source": []
  },
  {
   "cell_type": "code",
   "execution_count": null,
   "metadata": {
    "Collapsed": "false"
   },
   "outputs": [],
   "source": [
    "def getDataFromPatient(p):\n",
    "    \"\"\"\n",
    "    Get the patient data\n",
    "    \"\"\"\n",
    "    r = {}\n",
    "    r['id'] = r.Identificacion\n",
    "    r['marital'] = p.EstadoCivil\n",
    "    r['etnia'] = p.Etnia #Map from id to string\n",
    "    r['estudios'] = p.Escolaridad #Map from id to string\n",
    "    r['nacimiento'] = p.FechaNac #Map from id to string"
   ]
  },
  {
   "cell_type": "code",
   "execution_count": 223,
   "metadata": {
    "Collapsed": "false"
   },
   "outputs": [],
   "source": [
    "rString = registros.RegistroXML[465351]\n",
    "register = ET.fromstring(rString)"
   ]
  },
  {
   "cell_type": "code",
   "execution_count": 236,
   "metadata": {
    "Collapsed": "false"
   },
   "outputs": [
    {
     "name": "stdout",
     "output_type": "stream",
     "text": [
      "<?xml version=\"1.0\" ?>\n",
      "<C Asunto=\"Evoluci&amp;#243;n\" Caso=\"AD129559\" CentroA=\"01\" CodigoDiagnosticoRelacionado1=\"Z370\" CodigoDiagnosticoRelacionado2=\"\" CodigoDiagnosticoRelacionado3=\"\" Diagnostico=\"O839\" IdPaciente=\"118111\" Modulo=\"01\" Padre=\"464998\" PlanAdm=\"100\" Prestador=\"9068204\" Raiz=\"94\" Registro=\"106\">\n",
      "\t<row NombreCampo=\"DescripcionNota\" NombreTabla=\"CamposMemo\" ValorCampo=\"&amp;lt;P&amp;gt;PACIENTE DE 20 A&amp;#209;OS CON IDX DE:&amp;lt;BR&amp;gt;1. PARTO VAGINAL ASISTIDO (18/11/15) 8:22 PM&amp;lt;BR&amp;gt;2. RNUV&amp;lt;BR&amp;gt;3. PUERPERIO INMEDIATO&amp;lt;BR&amp;gt;&amp;lt;BR&amp;gt;FC: 78 LPM FR: 17 RPM TA: 110/70 T: 36&amp;lt;BR&amp;gt;&amp;lt;/P&amp;gt;\n",
      "&amp;lt;P&amp;gt;PACIENTE CONSCIENTE, ALERTA Y ORIENTADA, ENREGULAR ESTADO GENERAL, PALIDEZ GENERALIZADA, PUPILAS ISOC&amp;#211;RICAS NORMOREACTIVAS A LA LUZ, MUCOSAS SECAS Y P&amp;#193;LIDAS, CUELLO SIM&amp;#201;TRICO M&amp;#211;VIL, SIN ADENOPATIAS NI INGURGITACI&amp;#211;N YUGULAR. T&amp;#211;RAX SIMETRICO, EXPANSIBLE, MURMULLO VESICULAR CONSERVADO EN AMBOS CAMPOS PULMONARES, CLAROS SIN AGREGADOS, RUIDOS CARDIACOS RITMICOS, BIEN TIMBRADOS, SIN SOPLOS, ABDOMEN ,PERISTALSIS PRESENTE, BLANDO DEPRESIBLE, CON LEVE DOLOR A LA PALPACION, BOLO DE SEGURIDAD DE PINARDNORMOTONICO,SIN SIGNOS DE IRRITACI&amp;#211;N PERITONEAL, GENITALES EXTERNOS NORMOCONFIGURADOS CON ESCASOS LOQUIOS HEMATICOS, EXTREMIDADES SIM&amp;#201;TRICAS EUTR&amp;#211;FICAS SIN EDEMA, LLENADO CAPILAR &amp;amp;lt; 2SEG, PULSOS DISTALES PERCEPTIBLES, SNC: SIN DEFICIT NEUROLOGICO APARENTE, GLASGOW 15, &amp;lt;/P&amp;gt;\n",
      "&amp;lt;P&amp;gt;&amp;lt;BR&amp;gt;ANALISIS: PACIENTE DE 20 A&amp;#209;OS CON DIAGNOSTICO DE POSTPARTO VAGINAL ASISTIDO + RNUV + PUERPERIO INMEDIATO, PACIENTE QUE SE ECNCUTRA HEMODINAMICAMENTE ESTABLE, CON CONSTANTES VITALES DENTRO DE RANGOS DE NORMALIDAD, SIN SIGNOS DE SIRS NI IRRITACION PERITONEAL, EN VALORACIN MEDICA SE DECIDE CONTINUAR HOSPITALIZADA HASTA COMPLETAR TIEMPO ESTIMADO PARA RECUPERACION INTRAHOSPITALARIADE POSTPARTO VAGINAL, CONTINUAR CON PLAN ACTUAL, CONTROL DE BOLO DE SEGURIDAD DE PINARD Y SANGRADO VAGINAL, CONTROL DE SIGNOS VITALES Y AVISAR CAMBIOS. SEGUIMOS ATENTOS A SU EVOLUCION&amp;lt;BR&amp;gt;&amp;lt;BR&amp;gt;PLAN:&amp;lt;BR&amp;gt;1.Hospitalizada &amp;lt;BR&amp;gt;2. Dieta normal.&amp;lt;BR&amp;gt;3. SSN 0,9% 500 cc + Oxitocina 10 UI. Pasar a razon de 125 cc/h durante 4 horas. &amp;lt;BR&amp;gt;5. Cefradina tab 500 mg. Dar 1 Tab VO cada 6 horas. &amp;lt;BR&amp;gt;6. Acetaminof&amp;#233;n tab 500 mg. Dar 1 tab VO cada 6 horas.&amp;lt;BR&amp;gt;7. Vigilar sangrado vaginal, bolo de seguridad de Pinard &amp;lt;BR&amp;gt;8. CSV y AC.&amp;lt;/P&amp;gt;\"/>\n",
      "\t<row NombreCampo=\"FechaNota\" NombreTabla=\"CamposFecha\" ValorCampo=\"19/11/2015 10:19\"/>\n",
      "\t<row NombreCampo=\"FechaEgreso\" NombreTabla=\"CamposFecha\" ValorCampo=\"\"/>\n",
      "\t<row NombreCampo=\"Autorizacion\" NombreTabla=\"CamposTexto\" ValorCampo=\"\"/>\n",
      "\t<row NombreCampo=\"CausaExterna\" NombreTabla=\"CamposTexto\" ValorCampo=\"\"/>\n",
      "\t<row NombreCampo=\"DiagnosticoPrincipal\" NombreTabla=\"CamposTexto\" ValorCampo=\"PARTO UNICO ASISTIDO, SIN OTRA ESPECIFICACION\"/>\n",
      "\t<row NombreCampo=\"DiagnosticoRelacionado1\" NombreTabla=\"CamposTexto\" ValorCampo=\"NACIDO VIVO, UNICO\"/>\n",
      "\t<row NombreCampo=\"DiagnosticoRealcionado2\" NombreTabla=\"CamposTexto\" ValorCampo=\"\"/>\n",
      "\t<row NombreCampo=\"DiagnosticoRealcionado3\" NombreTabla=\"CamposTexto\" ValorCampo=\"\"/>\n",
      "\t<row NombreCampo=\"CodigoCausaExterna\" NombreTabla=\"CamposTexto\" ValorCampo=\"\"/>\n",
      "\t<row NombreCampo=\"CodigoDiagnosticoPrincipal\" NombreTabla=\"CamposTexto\" ValorCampo=\"O839\"/>\n",
      "\t<row NombreCampo=\"CodigoDiagnosticoRelacionado1\" NombreTabla=\"CamposTexto\" ValorCampo=\"Z370\"/>\n",
      "\t<row NombreCampo=\"CodigoDiagnosticoRealcionado2\" NombreTabla=\"CamposTexto\" ValorCampo=\"\"/>\n",
      "\t<row NombreCampo=\"CodigoDiagnosticoRealcionado3\" NombreTabla=\"CamposTexto\" ValorCampo=\"\"/>\n",
      "\t<row NombreCampo=\"EstadoSalida\" NombreTabla=\"CamposTexto\" ValorCampo=\"\"/>\n",
      "\t<row NombreCampo=\"DestinoPaciente\" NombreTabla=\"CamposTexto\" ValorCampo=\"\"/>\n",
      "\t<row NombreCampo=\"SigueObservacion\" NombreTabla=\"CamposBoolean\" ValorCampo=\"true\"/>\n",
      "\t<row NombreCampo=\"CodigoEstadoSalida\" NombreTabla=\"CamposTexto\" ValorCampo=\"\"/>\n",
      "\t<row NombreCampo=\"CodigoDestinoPaciente\" NombreTabla=\"CamposTexto\" ValorCampo=\"\"/>\n",
      "\t<row NombreCampo=\"CodigoPlanAdministradora\" NombreTabla=\"CamposTexto\" ValorCampo=\"100|0001\"/>\n",
      "\t<row NombreCampo=\"PlanAdministradora\" NombreTabla=\"CamposTexto\" ValorCampo=\"DEPARTAMENTO ADMINISTRATIVO DISTRITAL DE SALUD (DADIS) / DADIS CARTAGENA SISBENIZADO\"/>\n",
      "\t<row NombreCampo=\"FechaIngreso\" NombreTabla=\"CamposFecha\" ValorCampo=\"\"/>\n",
      "\t<row NombreCampo=\"Observacion\" NombreTabla=\"CamposTexto\" ValorCampo=\"\"/>\n",
      "\t<row NombreCampo=\"CodigoMuerte\" NombreTabla=\"CamposTexto\" ValorCampo=\"\"/>\n",
      "\t<row NombreCampo=\"DescripcionMuerte\" NombreTabla=\"CamposTexto\" ValorCampo=\"\"/>\n",
      "\t<row NombreCampo=\"Historico\" NombreTabla=\"CamposMemo\" ValorCampo=\"\n",
      "\n",
      "-Fecha: 19/11/2015 10:19     Prestador:JORGE ELIECER RAMIREZ MERLANO\n",
      "Descripci&amp;#243;n: &amp;lt;P&amp;gt;PACIENTE DE 20 A&amp;#209;OS CON IDX DE:&amp;lt;BR&amp;gt;1. PARTO VAGINAL ASISTIDO (18/11/15) 8:22 PM&amp;lt;BR&amp;gt;2. RNUV&amp;lt;BR&amp;gt;3. PUERPERIO INMEDIATO&amp;lt;BR&amp;gt;&amp;lt;BR&amp;gt;FC: 78 LPM FR: 17 RPM TA: 110/70 T: 36&amp;lt;BR&amp;gt;&amp;lt;/P&amp;gt;\n",
      "&amp;lt;P&amp;gt;PACIENTE CONSCIENTE, ALERTA Y ORIENTADA, ENREGULAR ESTADO GENERAL, PALIDEZ GENERALIZADA, PUPILAS ISOC&amp;#211;RICAS NORMOREACTIVAS A LA LUZ, MUCOSAS SECAS Y P&amp;#193;LIDAS, CUELLO SIM&amp;#201;TRICO M&amp;#211;VIL, SIN ADENOPATIAS NI INGURGITACI&amp;#211;N YUGULAR. T&amp;#211;RAX SIMETRICO, EXPANSIBLE, MURMULLO VESICULAR CONSERVADO EN AMBOS CAMPOS PULMONARES, CLAROS SIN AGREGADOS, RUIDOS CARDIACOS RITMICOS, BIEN TIMBRADOS, SIN SOPLOS, ABDOMEN ,PERISTALSIS PRESENTE, BLANDO DEPRESIBLE, CON LEVE DOLOR A LA PALPACION, BOLO DE SEGURIDAD DE PINARDNORMOTONICO,SIN SIGNOS DE IRRITACI&amp;#211;N PERITONEAL, GENITALES EXTERNOS NORMOCONFIGURADOS CON ESCASOS LOQUIOS HEMATICOS, EXTREMIDADES SIM&amp;#201;TRICAS EUTR&amp;#211;FICAS SIN EDEMA, LLENADO CAPILAR &amp;amp;lt; 2SEG, PULSOS DISTALES PERCEPTIBLES, SNC: SIN DEFICIT NEUROLOGICO APARENTE, GLASGOW 15, &amp;lt;/P&amp;gt;\n",
      "&amp;lt;P&amp;gt;&amp;lt;BR&amp;gt;ANALISIS: PACIENTE DE 20 A&amp;#209;OS CON DIAGNOSTICO DE POSTPARTO VAGINAL ASISTIDO + RNUV + PUERPERIO INMEDIATO, PACIENTE QUE SE ECNCUTRA HEMODINAMICAMENTE ESTABLE, CON CONSTANTES VITALES DENTRO DE RANGOS DE NORMALIDAD, SIN SIGNOS DE SIRS NI IRRITACION PERITONEAL, EN VALORACIN MEDICA SE DECIDE CONTINUAR HOSPITALIZADA HASTA COMPLETAR TIEMPO ESTIMADO PARA RECUPERACION INTRAHOSPITALARIADE POSTPARTO VAGINAL, CONTINUAR CON PLAN ACTUAL, CONTROL DE BOLO DE SEGURIDAD DE PINARD Y SANGRADO VAGINAL, CONTROL DE SIGNOS VITALES Y AVISAR CAMBIOS. SEGUIMOS ATENTOS A SU EVOLUCION&amp;lt;BR&amp;gt;&amp;lt;BR&amp;gt;PLAN:&amp;lt;BR&amp;gt;1.Hospitalizada &amp;lt;BR&amp;gt;2. Dieta normal.&amp;lt;BR&amp;gt;3. SSN 0,9% 500 cc + Oxitocina 10 UI. Pasar a razon de 125 cc/h durante 4 horas. &amp;lt;BR&amp;gt;5. Cefradina tab 500 mg. Dar 1 Tab VO cada 6 horas. &amp;lt;BR&amp;gt;6. Acetaminof&amp;#233;n tab 500 mg. Dar 1 tab VO cada 6 horas.&amp;lt;BR&amp;gt;7. Vigilar sangrado vaginal, bolo de seguridad de Pinard &amp;lt;BR&amp;gt;8. CSV y AC.&amp;lt;/P&amp;gt;\n",
      "Diagn&amp;#243;stico Principal: O839:PARTO UNICO ASISTIDO, SIN OTRA ESPECIFICACION\n",
      "Diagn&amp;#243;stico Relacionado 1: Z370:NACIDO VIVO, UNICO\n",
      "\n",
      "\n",
      "\"/>\n",
      "\t<row NombreCampo=\"Bandera\" NombreTabla=\"CamposTexto\" ValorCampo=\"Primero\"/>\n",
      "\t<row NombreCampo=\"AltaMedica\" NombreTabla=\"CamposBoolean\" ValorCampo=\"0\"/>\n",
      "\t<row NombreCampo=\"SeguimientoCondicion\" NombreTabla=\"CamposBoolean\" ValorCampo=\"false\"/>\n",
      "\t<row NombreCampo=\"SeguimientoValorCondicion\" NombreTabla=\"CamposTexto\" ValorCampo=\"\"/>\n",
      "\t<row NombreCampo=\"IntensidadSintomatica\" NombreTabla=\"CamposBoolean\" ValorCampo=\"false\"/>\n",
      "\t<row NombreCampo=\"EscalaAnaloga\" NombreTabla=\"CamposTexto\" ValorCampo=\"\"/>\n",
      "\t<row NombreCampo=\"NivelDolor\" NombreTabla=\"CamposTexto\" ValorCampo=\"\"/>\n",
      "\t<row NombreCampo=\"NumCertificadoDefuncion\" NombreTabla=\"CamposTexto\" ValorCampo=\"\"/>\n",
      "</C>\n",
      "\n"
     ]
    }
   ],
   "source": [
    "r = xml.dom.minidom.parseString(rString)\n",
    "print(r.toprettyxml())"
   ]
  },
  {
   "cell_type": "code",
   "execution_count": 120,
   "metadata": {
    "Collapsed": "false"
   },
   "outputs": [
    {
     "name": "stdout",
     "output_type": "stream",
     "text": [
      "57 Analisis None\n",
      "\n"
     ]
    }
   ],
   "source": [
    "i = 57\n",
    "print(i, v[i].attributes['NombreCampo'].value,v[i].nodeValue)\n",
    "print (\" \".join(t.nodeValue for t in v[i].childNodes if t.nodeType == t.TEXT_NODE))"
   ]
  },
  {
   "cell_type": "code",
   "execution_count": 136,
   "metadata": {
    "Collapsed": "false"
   },
   "outputs": [
    {
     "name": "stderr",
     "output_type": "stream",
     "text": [
      "/Users/gbernardino/opt/miniconda3/lib/python3.7/site-packages/ipykernel_launcher.py:3: DeprecationWarning: The unescape method is deprecated and will be removed in 3.5, use html.unescape() instead.\n",
      "  This is separate from the ipykernel package so we can avoid doing imports until\n"
     ]
    },
    {
     "data": {
      "text/plain": [
       "'PACIENTE DE 27 AÑOS CON EMBARAZO DE 8 SEMANAS POR FUM + AMENAZA DE ABORTO VS  ABORTO INCOMPLETO, ACTUALMENTE HEMODINAMICAMENTE ESTABLE, AFEBRIL, CON SIGNOS VITALES DENTRO DE PARAMETROS NORMALES, SIN SIGNOS DE SIRS NI IRRITACION PERITONEAL, TOLERANDO OXIGENO AMBIENTE Y VIA ORAL. SE DECIDE INGRESAR A LA PACIENTE PARA REALIZACION DE PARACLINICOS QUE CONFIRMEN DIAGNOSTICO Y REVALORAR.'"
      ]
     },
     "execution_count": 136,
     "metadata": {},
     "output_type": "execute_result"
    }
   ],
   "source": [
    "from html.parser import HTMLParser\n",
    "pars =HTMLParser()\n",
    "pars.unescape(s)"
   ]
  },
  {
   "cell_type": "code",
   "execution_count": null,
   "metadata": {
    "Collapsed": "false"
   },
   "outputs": [],
   "source": []
  }
 ],
 "metadata": {
  "kernelspec": {
   "display_name": "Python 3",
   "language": "python",
   "name": "python3"
  },
  "language_info": {
   "codemirror_mode": {
    "name": "ipython",
    "version": 3
   },
   "file_extension": ".py",
   "mimetype": "text/x-python",
   "name": "python",
   "nbconvert_exporter": "python",
   "pygments_lexer": "ipython3",
   "version": "3.7.4"
  }
 },
 "nbformat": 4,
 "nbformat_minor": 4
}
