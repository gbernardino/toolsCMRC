{
 "cells": [
  {
   "cell_type": "code",
   "execution_count": null,
   "metadata": {},
   "outputs": [],
   "source": [
    "import pandas\n",
    "import re"
   ]
  },
  {
   "cell_type": "markdown",
   "metadata": {},
   "source": [
    "# Read data"
   ]
  },
  {
   "cell_type": "code",
   "execution_count": null,
   "metadata": {},
   "outputs": [],
   "source": [
    "def toInt(s, d = 1):\n",
    "    try:\n",
    "        s = str(int(s))\n",
    "        return addZeros(s, d)\n",
    "    except:\n",
    "        return \"X\"\n",
    "def addZeros(s, d):\n",
    "    s = str(s)\n",
    "    return '0' * (d - len(str(s))) + s \n",
    "\n",
    "def standardiseVenezuelan(s):\n",
    "    s = str(s)\n",
    "    s = s.lower().replace('ven', 'v')\n",
    "    s = s.replace('v', 'VEN')\n",
    "    return s\n",
    "\n",
    "def addID01(df):\n",
    "    placeId = '806001061-8'\n",
    "    placeId = addZeros(placeId, 20)\n",
    "    df['ID01'] = placeId + df['VAR_0019'].map(lambda s: addZeros(s,20))  \\\n",
    "                                              + df['VAR_0040'].map(lambda s: toInt(s, 2)) + \\\n",
    "                                            df['VAR_0286'].map(toInt)\n",
    "    "
   ]
  },
  {
   "cell_type": "code",
   "execution_count": null,
   "metadata": {},
   "outputs": [],
   "source": [
    "nivelN1 = pandas.read_csv('Data/nivelN1_manual.csv')\n",
    "nivelN1['VAR_0019'] = nivelN1['VAR_0019'].map(standardiseVenezuelan)\n",
    "addID01(nivelN1)\n",
    "nivelN1.index = nivelN1.ID01\n",
    "nivelN1 = nivelN1.loc[~nivelN1.index.duplicated(keep='first')]\n",
    "\n",
    "automatic = pandas.read_csv('Data/results.csv')\n",
    "automatic['VAR_0019'] = automatic['VAR_0019'].map(standardiseVenezuelan)\n",
    "addID01(automatic)\n",
    "def transformIDGP(s):\n",
    "    \"\"\"\n",
    "    Remove 1 to gestas previas\n",
    "    \"\"\"\n",
    "    s = re.match('(.*)([0-9][0-9])([0-9])', s)\n",
    "    return s.group(1) + '%02d' % (int(s.group(2)) -1) + s.group(3)\n",
    "automatic = automatic[automatic.ID01.map(lambda s: 'X' not in s)]\n",
    "automatic.ID01 = automatic.ID01.map(transformIDGP)\n",
    "automatic.index = automatic.ID01"
   ]
  },
  {
   "cell_type": "code",
   "execution_count": null,
   "metadata": {},
   "outputs": [],
   "source": [
    "len(set(nivelN1.columns))"
   ]
  },
  {
   "cell_type": "code",
   "execution_count": null,
   "metadata": {},
   "outputs": [],
   "source": [
    "pathFolder = 'Casos2019'\n",
    "casos = pandas.read_csv(pathFolder + '/casos.csv', index_col = 0)\n",
    "pacientes = pandas.read_csv(pathFolder + '/pacientes.csv', index_col = 0)\n",
    "pacientes.index = pacientes.index.map(str)\n",
    "\n",
    "registros = pandas.read_csv(pathFolder + '/registros.csv', index_col = 0)\n",
    "registros.index = registros.index.map(str)\n",
    "\n",
    "#diagnosis = pandas.read_csv('Venezolanas2/diagnosis.csv', index_col = 0)\n",
    "procedimientos = pandas.read_csv(pathFolder + '/procedimientos.csv', index_col = 0)\n",
    "procedimientos.index = procedimientos.index.map(str)\n",
    "registrosByCaso = registros.groupby('Caso')\n",
    "\n",
    "entriesInfirmery = pandas.read_csv(pathFolder + '/enfermeriaMedidas.csv', index_col = 0)\n",
    "entriesInfirmeryByCase = entriesInfirmery.groupby('IdAdmision')"
   ]
  },
  {
   "cell_type": "markdown",
   "metadata": {},
   "source": [
    "# Explore differences\n",
    "\n",
    "- Explore differences in the values, and which values I could not recover\n",
    "- Some of the registers are missing, but the matching can still be done (it is in database transformer). There are ~ 90 missing records that I could not find."
   ]
  },
  {
   "cell_type": "code",
   "execution_count": null,
   "metadata": {},
   "outputs": [],
   "source": [
    "import datetime\n",
    "nivelN1['dayOperation'] = nivelN1.VAR_0183.map(lambda s: datetime.datetime.strptime(s, '%m/%d/%y %H:%M:%S') if s== s else s)\n",
    "automatic['dayOperation'] = automatic.VAR_0183.map(lambda s: datetime.datetime.strptime(s.split()[0], '%Y-%m-%d') if s == s else s)\n",
    "automaticByDay = automatic.groupby('dayOperation')"
   ]
  },
  {
   "cell_type": "code",
   "execution_count": null,
   "metadata": {},
   "outputs": [],
   "source": [
    "c = 0\n",
    "errors = []\n",
    "automatic2manual = {}\n",
    "for k, i in nivelN1.iterrows():\n",
    "    if not isinstance(i.VAR_0183, str) or '/19 ' not in i.VAR_0183 :\n",
    "        continue\n",
    "        \n",
    "    if i.ID01 not in automatic.index:\n",
    "        c += 1\n",
    "        errors.append((i.ID01, i.VAR_0019, i.dayOperation))\n",
    "        j = i\n",
    "    else:\n",
    "        automatic2manual[i.ID01] = i.ID01\n",
    "print (len(errors), len(automatic2manual))"
   ]
  },
  {
   "cell_type": "code",
   "execution_count": null,
   "metadata": {},
   "outputs": [],
   "source": [
    "import pickle\n",
    "with open('Data/notFoundInAutomatic.pkl' , 'wb') as file:\n",
    "    pickle.dump(errors, file)"
   ]
  },
  {
   "cell_type": "markdown",
   "metadata": {},
   "source": [
    "# Check differences"
   ]
  },
  {
   "cell_type": "code",
   "execution_count": null,
   "metadata": {},
   "outputs": [],
   "source": [
    "dfNamesVars = pandas.read_excel('parsingData/variables_sip.xlsx')\n",
    "renameDict = {k : v for  k, v in zip(dfNamesVars['Unnamed: 2'].values, dfNamesVars['Unnamed: 3'].values)}\n",
    "renameDict['VAR_0189'] = 'Corticoides / semana de inicio'\n",
    "groupedBy = dfNamesVars.groupby('Unnamed: 2')\n",
    "def renameDatabaseSIP(df):\n",
    "    df.columns = df.columns.map(lambda s: s if s not in renameDict.values() else s + 'Self')\n",
    "    df.columns = df.columns.map(lambda s: s if s not in renameDict else renameDict[s])\n",
    "    for g in groupedBy.groups:\n",
    "        if len(groupedBy.get_group(g)) == 1 or renameDict[g] not in df:\n",
    "            continue\n",
    "        colname = renameDict[g]\n",
    "        for (_, r) in groupedBy.get_group(g)[['Unnamed: 4', 'Unnamed: 5']].iterrows():\n",
    "            option = r['Unnamed: 4']\n",
    "            value = r['Unnamed: 5']\n",
    "            df.loc[df[colname] == option, colname] = value\n",
    "renameDatabaseSIP(nivelN1)\n",
    "renameDatabaseSIP(automatic)"
   ]
  },
  {
   "cell_type": "code",
   "execution_count": null,
   "metadata": {},
   "outputs": [],
   "source": [
    "renameDict['VAR_0283']"
   ]
  },
  {
   "cell_type": "code",
   "execution_count": null,
   "metadata": {},
   "outputs": [],
   "source": [
    "commonCols = set(nivelN1.columns).intersection(automatic.columns)\n",
    "print('Common columns:', len(commonCols), len(nivelN1.columns))"
   ]
  },
  {
   "cell_type": "code",
   "execution_count": null,
   "metadata": {},
   "outputs": [],
   "source": [
    "nivelN1 = nivelN1.loc[~nivelN1.index.duplicated(keep='first')]"
   ]
  },
  {
   "cell_type": "code",
   "execution_count": null,
   "metadata": {},
   "outputs": [],
   "source": [
    "for i, k in enumerate(automatic2manual):\n",
    "    print()\n",
    "    print('Differences :', k)\n",
    "    for c in commonCols:\n",
    "        if automatic.loc[k, c] != nivelN1.loc[k, c]:\n",
    "            print('VAR %s : auto= %s  , manual= %s' % (c, automatic.loc[k, c], nivelN1.loc[k, c]))\n",
    "    if i == 3:\n",
    "        break"
   ]
  },
  {
   "cell_type": "code",
   "execution_count": null,
   "metadata": {},
   "outputs": [],
   "source": [
    "def hclin2pid(hClin):\n",
    "    return pacientes.loc[pacientes.Identificacion == hClin].index[0]"
   ]
  },
  {
   "cell_type": "code",
   "execution_count": null,
   "metadata": {},
   "outputs": [],
   "source": [
    "automatic[automatic.VAR_0019 == errors[25]]"
   ]
  },
  {
   "cell_type": "code",
   "execution_count": null,
   "metadata": {},
   "outputs": [],
   "source": [
    "id = hclin2pid(errors[30])\n",
    "registros.loc[registros.NumeroHistoria == int(id)]"
   ]
  },
  {
   "cell_type": "code",
   "execution_count": null,
   "metadata": {},
   "outputs": [],
   "source": [
    "casos.loc['AD326269']"
   ]
  },
  {
   "cell_type": "code",
   "execution_count": null,
   "metadata": {},
   "outputs": [],
   "source": [
    "id = hclin2pid('1050005797')\n",
    "casos.loc[casos.Paciente == id]"
   ]
  },
  {
   "cell_type": "code",
   "execution_count": null,
   "metadata": {},
   "outputs": [],
   "source": [
    "j.VAR_0183"
   ]
  },
  {
   "cell_type": "code",
   "execution_count": null,
   "metadata": {},
   "outputs": [],
   "source": [
    "for _, i in automatic.iterrows():\n",
    "    if '1050005797' in i.ID01:\n",
    "        print(i.ID01)"
   ]
  },
  {
   "cell_type": "code",
   "execution_count": null,
   "metadata": {},
   "outputs": [],
   "source": [
    "automatic.VAR_0183"
   ]
  },
  {
   "cell_type": "code",
   "execution_count": null,
   "metadata": {},
   "outputs": [],
   "source": []
  }
 ],
 "metadata": {
  "kernelspec": {
   "display_name": "Python 3",
   "language": "python",
   "name": "python3"
  },
  "language_info": {
   "codemirror_mode": {
    "name": "ipython",
    "version": 3
   },
   "file_extension": ".py",
   "mimetype": "text/x-python",
   "name": "python",
   "nbconvert_exporter": "python",
   "pygments_lexer": "ipython3",
   "version": "3.6.10"
  }
 },
 "nbformat": 4,
 "nbformat_minor": 4
}
