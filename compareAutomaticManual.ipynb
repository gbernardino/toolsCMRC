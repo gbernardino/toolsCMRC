{
 "cells": [
  {
   "cell_type": "code",
   "execution_count": null,
   "metadata": {},
   "outputs": [],
   "source": [
    "import pandas, re, datetime"
   ]
  },
  {
   "cell_type": "markdown",
   "metadata": {},
   "source": [
    "# Read data"
   ]
  },
  {
   "cell_type": "code",
   "execution_count": null,
   "metadata": {},
   "outputs": [],
   "source": [
    "def toInt(s, d = 1):\n",
    "    try:\n",
    "        s = str(int(s))\n",
    "        return addZeros(s, d)\n",
    "    except:\n",
    "        return \"X\"\n",
    "def addZeros(s, d):\n",
    "    s = str(s)\n",
    "    return '0' * (d - len(str(s))) + s \n",
    "\n",
    "def standardiseVenezuelan(s):\n",
    "    s = str(s)\n",
    "    s = s.strip()\n",
    "    s = s.lower().replace('ven', 'v')\n",
    "    s = s.replace('v', 'VEN')\n",
    "    return s\n",
    "\n",
    "def addID01(df):\n",
    "    placeId = '806001061-8'\n",
    "    placeId = addZeros(placeId, 20)\n",
    "    df['ID01'] = placeId + df['VAR_0019'].map(lambda s: addZeros(s,20))  \\\n",
    "                                              + df['VAR_0040'].map(lambda s: toInt(s, 2)) + \\\n",
    "                                            df['VAR_0286'].map(toInt)\n",
    "    "
   ]
  },
  {
   "cell_type": "code",
   "execution_count": null,
   "metadata": {},
   "outputs": [],
   "source": [
    "nivelN1 = pandas.read_csv('Data/nivelN1_manual.csv')\n",
    "nivelN8 = pandas.read_csv('Data/nivelN8_manual.csv')\n",
    "nivelN8.index = nivelN8.ID01\n",
    "nivelN1.index = nivelN1.ID01\n",
    "nivelN1 = nivelN1.loc[~nivelN1.index.duplicated(keep='first')]\n",
    "nivelN8 = nivelN8.loc[~nivelN8.index.duplicated(keep='first')]\n",
    "\n",
    "nivelN1 = nivelN1.join(nivelN8, rsuffix = 'r')\n",
    "\n",
    "nivelN1['VAR_0019'] = nivelN1['VAR_0019'].map(standardiseVenezuelan)\n",
    "addID01(nivelN1)\n",
    "nivelN1 = nivelN1.loc[~nivelN1.index.duplicated(keep='first')]\n",
    "nivelN1['VAR_0183'] = nivelN1.VAR_0183.map(lambda s: datetime.datetime.strptime(s , '%m/%d/%y %H:%M:%S') if s == s else datetime.datetime(1,1,1))\n",
    "\n",
    "automatic = pandas.read_csv('Data/results1.csv')\n",
    "automatic['VAR_0019'] = automatic['VAR_0019'].map(standardiseVenezuelan)\n",
    "addID01(automatic)\n",
    "automatic.index = automatic.ID01\n",
    "automatic['VAR_0183'] = automatic.VAR_0183.map(lambda s: datetime.datetime.strptime(s , '%Y-%m-%d %H:%M:%S'))"
   ]
  },
  {
   "cell_type": "code",
   "execution_count": null,
   "metadata": {},
   "outputs": [],
   "source": [
    "pathFolder = 'Casos2019'\n",
    "casos = pandas.read_csv(pathFolder + '/casos.csv', index_col = 0)\n",
    "pacientes = pandas.read_csv(pathFolder + '/pacientes.csv', index_col = 0)\n",
    "pacientes.index = pacientes.index.map(str)\n",
    "\n",
    "registros = pandas.read_csv(pathFolder + '/registros.csv', index_col = 0)\n",
    "registros.index = registros.index.map(str)\n",
    "\n",
    "#diagnosis = pandas.read_csv('Venezolanas2/diagnosis.csv', index_col = 0)\n",
    "procedimientos = pandas.read_csv(pathFolder + '/procedimientos.csv', index_col = 0)\n",
    "procedimientos.index = procedimientos.index.map(str)\n",
    "registrosByCaso = registros.groupby('Caso')\n",
    "\n",
    "entriesInfirmery = pandas.read_csv(pathFolder + '/enfermeriaMedidas.csv', index_col = 0)\n",
    "entriesInfirmeryByCase = entriesInfirmery.groupby('IdAdmision')"
   ]
  },
  {
   "cell_type": "markdown",
   "metadata": {},
   "source": [
    "# Explore differences\n",
    "\n",
    "- Explore differences in the values, and which values I could not recover\n",
    "- Some of the registers are missing, but the matching can still be done (it is in database transformer). There are ~ 90 missing records that I could not find."
   ]
  },
  {
   "cell_type": "code",
   "execution_count": null,
   "metadata": {},
   "outputs": [],
   "source": [
    "import datetime\n",
    "import caseTransformer\n"
   ]
  },
  {
   "cell_type": "code",
   "execution_count": null,
   "metadata": {},
   "outputs": [],
   "source": [
    "c = 0\n",
    "errors = []\n",
    "automatic2manual = {}\n",
    "for k, i in nivelN1.iterrows():\n",
    "    if '2019' not in str(i.VAR_0183):\n",
    "        continue\n",
    "    \n",
    "    if i.ID01 not in automatic.index:\n",
    "        c += 1\n",
    "        errors.append((k, i.VAR_0019, i.VAR_0183))\n",
    "        j = i\n",
    "    else:\n",
    "        automatic2manual[i.ID01] = k\n",
    "print (len(errors), len(automatic2manual))"
   ]
  },
  {
   "cell_type": "code",
   "execution_count": null,
   "metadata": {},
   "outputs": [],
   "source": [
    "import difflib\n",
    "def similarTexts(s1, s2, th = .8):\n",
    "    #s1 = s1.replace('VEN', '').strip()\n",
    "    #s2 = s2.replace('VEN', '').strip()\n",
    "\n",
    "    d =difflib.SequenceMatcher(a = s1, b = s2)\n",
    "    r = sum((i.size for i in d.get_matching_blocks())) / min(len(s1), len(s2))\n",
    "    return r > th\n",
    "\n",
    "def nearOperation(pId, dayOperation, automatic, pIDOut):\n",
    "    registriesNear = automatic.loc[((dayOperation - datetime.timedelta(days = 5)) < automatic.VAR_0183) & \n",
    "            ((dayOperation + datetime.timedelta(days = 5)) > automatic.VAR_0183)]\n",
    "    similar = registriesNear.VAR_0019.map(lambda s:  similarTexts(s, pId))\n",
    "    if sum(similar) == 1:\n",
    "        pIDOut['res'] = registriesNear[similar].ID01.iloc[0]\n",
    "        return True\n",
    "\n",
    "    else:\n",
    "        #print('Error')\n",
    "        return False\n",
    "\n",
    "\n",
    "# Check whether there exists a case with \n",
    "cF, cT = 0, 0 \n",
    "for i,(iD01, pId, dayOperation) in enumerate(errors):\n",
    "    pIDOut = {}\n",
    "    if pId in automatic.VAR_0019.values:\n",
    "        cT += 1\n",
    "        id01Automatic = automatic.loc[automatic.VAR_0019 == pId, 'ID01'].iloc[0]\n",
    "        automatic2manual[id01Automatic] = iD01\n",
    "    elif 'VEN' + pId in automatic.VAR_0019.values:\n",
    "        cT += 1\n",
    "        id01Automatic = automatic.loc[automatic.VAR_0019 == 'VEN' + pId, 'ID01'].iloc[0]\n",
    "        automatic2manual[id01Automatic] = iD01\n",
    "\n",
    "    elif nearOperation(pId, dayOperation, automatic, pIDOut):\n",
    "        automatic2manual[pIDOut['res']] = iD01\n",
    "       \n",
    "    #elif dayOperation <= datetime.datetime(2019, 1, 20):\n",
    "    #    pass\n",
    "    else:\n",
    "        print(pId)\n",
    "        cF += 1\n",
    "    \n",
    "print(cF, cT)"
   ]
  },
  {
   "cell_type": "code",
   "execution_count": null,
   "metadata": {},
   "outputs": [],
   "source": [
    "manualFiltered= nivelN1.loc[list(automatic2manual.values())]\n",
    "automaticFiltered = automatic.loc[list(automatic2manual.keys())]"
   ]
  },
  {
   "cell_type": "code",
   "execution_count": null,
   "metadata": {},
   "outputs": [],
   "source": [
    "#Normalize the  dates so that they can be compared\n",
    "import caseTransformer\n",
    "def parseDateManual(s):\n",
    "    if s != s or '-' in s:\n",
    "        return s\n",
    "    d = datetime.datetime.strptime(s, '%m/%d/%y %H:%M:%S')\n",
    "    return ('%d-%02d-%02d' % (d.year,d.month, d.day))\n",
    "\n",
    "for d in caseTransformer.dateVars:\n",
    "    manualFiltered[d] = manualFiltered[d].map(parseDateManual)"
   ]
  },
  {
   "cell_type": "code",
   "execution_count": null,
   "metadata": {},
   "outputs": [],
   "source": [
    "dfNamesVars = pandas.read_excel('parsingData/variables_sip.xlsx')\n",
    "renameDict = {k : (k + ' = ' + v) for  k, v in zip(dfNamesVars['Unnamed: 2'].values, dfNamesVars['Unnamed: 3'].values)}\n",
    "renameDict['VAR_0189'] = 'Corticoides / semana de inicio'\n",
    "groupedBy = dfNamesVars.groupby('Unnamed: 2')\n",
    "def renameDatabaseSIP(df):\n",
    "    df.columns = df.columns.map(lambda s: s if s not in renameDict.values() else s + 'Self')\n",
    "    df.columns = df.columns.map(lambda s: s if s not in renameDict else renameDict[s])\n",
    "    for g in groupedBy.groups:\n",
    "        if len(groupedBy.get_group(g)) == 1 or renameDict[g] not in df:\n",
    "            continue\n",
    "        colname = renameDict[g]\n",
    "        for (_, r) in groupedBy.get_group(g)[['Unnamed: 4', 'Unnamed: 5']].iterrows():\n",
    "            option = r['Unnamed: 4']\n",
    "            value = r['Unnamed: 5']\n",
    "            df.loc[df[colname] == option, colname] = value\n",
    "renameDatabaseSIP(manualFiltered)\n",
    "renameDatabaseSIP(automaticFiltered)"
   ]
  },
  {
   "cell_type": "code",
   "execution_count": null,
   "metadata": {},
   "outputs": [],
   "source": [
    "manualFiltered.columns"
   ]
  },
  {
   "cell_type": "code",
   "execution_count": null,
   "metadata": {},
   "outputs": [],
   "source": [
    "commonCols = set(manualFiltered.columns).intersection(automaticFiltered.columns)\n",
    "print('Common columns:', len(commonCols), len(manualIFiltered.columns))"
   ]
  },
  {
   "cell_type": "code",
   "execution_count": null,
   "metadata": {},
   "outputs": [],
   "source": [
    "import collections\n",
    "errorCount = collections.defaultdict(lambda : 0)"
   ]
  },
  {
   "cell_type": "code",
   "execution_count": null,
   "metadata": {},
   "outputs": [],
   "source": [
    "pacientes['Identificacion'].values"
   ]
  },
  {
   "cell_type": "code",
   "execution_count": null,
   "metadata": {},
   "outputs": [],
   "source": [
    "'V27180231' in pacientes['Identificacion'].values"
   ]
  },
  {
   "cell_type": "code",
   "execution_count": null,
   "metadata": {},
   "outputs": [],
   "source": [
    "for i, (kAuto, kManual) in enumerate(automatic2manual.items()):\n",
    "    print('Differences :', kAuto, kManual)\n",
    "    for c in commonCols:\n",
    "        if automaticFiltered.loc[kAuto, c] != manualFiltered.loc[kManual, c]:\n",
    "            print('VAR %s : auto= %s  , manual= %s' % (c, automaticFiltered.loc[kAuto, c], manualFiltered.loc[kManual, c]))\n",
    "            errorCount[c] +=1\n",
    "    #print('====\\n\\n')\n",
    "    #for c in filter(lambda c: c not in commonCols, manualFiltered.columns):\n",
    "    #    print('VAR %s : manual= %s' % (c,  manualFiltered.loc[kManual, c]))\n",
    "    #    \n",
    "    #print('====\\n\\n')\n",
    "    #for c in filter(lambda c: c not in commonCols and c.startswith('VAR'), automaticFiltered.columns):\n",
    "    #    print('VAR %s : manual= %s' % (c,  automaticFiltered.loc[kAuto, c]))\n"
   ]
  },
  {
   "cell_type": "code",
   "execution_count": null,
   "metadata": {},
   "outputs": [],
   "source": [
    "def hclin2pid(hClin):\n",
    "    return pacientes.loc[pacientes.Identificacion == hClin].index[0]"
   ]
  },
  {
   "cell_type": "code",
   "execution_count": null,
   "metadata": {},
   "outputs": [],
   "source": [
    "automatic[automatic.VAR_0019 == errors[25]]"
   ]
  },
  {
   "cell_type": "code",
   "execution_count": null,
   "metadata": {},
   "outputs": [],
   "source": [
    "id = hclin2pid(errors[30])\n",
    "registros.loc[registros.NumeroHistoria == int(id)]"
   ]
  },
  {
   "cell_type": "code",
   "execution_count": null,
   "metadata": {},
   "outputs": [],
   "source": [
    "casos.loc['AD326269']"
   ]
  },
  {
   "cell_type": "code",
   "execution_count": null,
   "metadata": {},
   "outputs": [],
   "source": [
    "id = hclin2pid('1050005797')\n",
    "casos.loc[casos.Paciente == id]"
   ]
  },
  {
   "cell_type": "code",
   "execution_count": null,
   "metadata": {},
   "outputs": [],
   "source": [
    "j.VAR_0183"
   ]
  },
  {
   "cell_type": "code",
   "execution_count": null,
   "metadata": {},
   "outputs": [],
   "source": [
    "for _, i in automatic.iterrows():\n",
    "    if '1050005797' in i.ID01:\n",
    "        print(i.ID01)"
   ]
  },
  {
   "cell_type": "code",
   "execution_count": null,
   "metadata": {},
   "outputs": [],
   "source": [
    "automatic.VAR_0183"
   ]
  },
  {
   "cell_type": "code",
   "execution_count": null,
   "metadata": {},
   "outputs": [],
   "source": []
  }
 ],
 "metadata": {
  "kernelspec": {
   "display_name": "Python 3",
   "language": "python",
   "name": "python3"
  },
  "language_info": {
   "codemirror_mode": {
    "name": "ipython",
    "version": 3
   },
   "file_extension": ".py",
   "mimetype": "text/x-python",
   "name": "python",
   "nbconvert_exporter": "python",
   "pygments_lexer": "ipython3",
   "version": "3.6.10"
  }
 },
 "nbformat": 4,
 "nbformat_minor": 4
}
